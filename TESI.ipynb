{
  "nbformat": 4,
  "nbformat_minor": 0,
  "metadata": {
    "colab": {
      "name": "tesi.ipynb",
      "provenance": [],
      "authorship_tag": "ABX9TyPFHyi9eOZgDgf/9dgeXzgu",
      "include_colab_link": true
    },
    "kernelspec": {
      "name": "python3",
      "display_name": "Python 3"
    },
    "language_info": {
      "name": "python"
    }
  },
  "cells": [
    {
      "cell_type": "markdown",
      "metadata": {
        "id": "view-in-github",
        "colab_type": "text"
      },
      "source": [
        "<a href=\"https://colab.research.google.com/github/paolofesta/prove/blob/master/TESI.ipynb\" target=\"_parent\"><img src=\"https://colab.research.google.com/assets/colab-badge.svg\" alt=\"Open In Colab\"/></a>"
      ]
    },
    {
      "cell_type": "markdown",
      "source": [
        "Lo scopo di questo lavoro, è creare uno script che permetta di raccogliere e analizzare tweets in merito ad uno specifico ambito. E'importante specificare che oltre ai risultati che si otteranno, anche la scrittura dello script è parte integrante della tesi, se non la parte più importante. L'argomento del progetto è legato a concetti ascoltati durante il mio percorso di studio. Ovvero l'indebolimento dei sindacati, avvenuto negli ultimi decenni anche per via di una crisi di rappresentatività. Ho raccolto tweets in cui le tre maggiori sigle sindacali erano menzionate(CGIL,CISL,UIL), eliminando quelli fatti da loro stesse. Ho ipotizzato che questo fosse il miglior modo per rappresentare la situazione ideale in cui il cittadino, che può essere iscritto al sindacato o meno, si rapporta ad esso. Tramite sentiment analysis e word clouds si possono ricavare informazioni in merito a questo rapporto. Sia in generale, sia nei confronti delle diverse sigle sindacali, osservando le differenze. Ad ora i tweets raccolti sono poco meno di 7000 ma si potrà aumentare successivamente il numero. "
      ],
      "metadata": {
        "id": "l5fSqX6NTzSK"
      }
    },
    {
      "cell_type": "code",
      "source": [
        "import numpy as np\n",
        "import pandas as pd\n",
        "import tweepy"
      ],
      "metadata": {
        "id": "KdgC5B-XT1lF"
      },
      "execution_count": null,
      "outputs": []
    },
    {
      "cell_type": "code",
      "source": [
        "# VARIABILI CREATE CON LE CREDENZIALI PER ACCEDERE ALLE API\n",
        "ACCESS_TOKEN = '1500753981525659655-2OYENj2RBJS753zwIZ9a9zQukiSHY5'\n",
        "ACCESS_SECRET = 'M1naDc08ZQuWYX7yZV4hRZ8IwH0J5uiraPXNzTe6Py2TL'\n",
        "CONSUMER_KEY = 'yOKa2wpMnubBCq6pV3XLD8lRL'\n",
        "CONSUMER_SECRET = 'pDyuUu4ssKWS4PHF4wN2lZ7RjdYQe1yLjBbK745o3vdOoxgtUN'"
      ],
      "metadata": {
        "id": "0B9hAsxJiUqo"
      },
      "execution_count": null,
      "outputs": []
    },
    {
      "cell_type": "code",
      "source": [
        "# SETUP ACCESSO API\n",
        "def connect_to_twitter_OAuth():\n",
        "    auth = tweepy.OAuthHandler(CONSUMER_KEY, CONSUMER_SECRET)\n",
        "    auth.set_access_token(ACCESS_TOKEN, ACCESS_SECRET)\n",
        "\n",
        "    api = tweepy.API(auth, wait_on_rate_limit=True ,wait_on_rate_limit_notify=True)\n",
        "    return api\n",
        "    \n",
        "api = connect_to_twitter_OAuth()"
      ],
      "metadata": {
        "id": "IQmA-VnWiVT2"
      },
      "execution_count": null,
      "outputs": []
    },
    {
      "cell_type": "code",
      "source": [
        "def limit_handled(cursor):\n",
        "  while True:\n",
        "    try:\n",
        "      yield cursor.next()\n",
        "    except StopIteration:\n",
        "      return\n",
        "    except tweepy.RateLimitError:\n",
        "        time.sleep(15*60)"
      ],
      "metadata": {
        "id": "6WwkVd7kicCQ"
      },
      "execution_count": null,
      "outputs": []
    },
    {
      "cell_type": "code",
      "source": [
        "pp1=limit_handled(tweepy.Cursor(api.search,q= '@CislNazionale',tweet_mode='extended').items(5000)) \n",
        "pp1"
      ],
      "metadata": {
        "id": "qmyVeQV-imPb"
      },
      "execution_count": null,
      "outputs": []
    },
    {
      "cell_type": "code",
      "source": [
        "\n",
        "def extract_tweet_attributes(tweet_object):\n",
        "    # create empty list\n",
        "    tweet_list =[]\n",
        "    # loop through tweet objects\n",
        "    for tweet in tweet_object:\n",
        "        tweet_id = tweet.id # unique integer identifier for tweet\n",
        "        language= tweet.lang \n",
        "        name= tweet.user.name     \n",
        "        location= tweet.user.location\n",
        "        \n",
        "        follower_count= tweet.user.followers_count\n",
        "        verified= tweet.user.verified\n",
        "        text = tweet.full_text # utf-8 text of tweet\n",
        "        favorite_count = tweet.favorite_count\n",
        "        retweet_count = tweet.retweet_count\n",
        "        created_at = tweet.created_at # utc time tweet created\n",
        "        source = tweet.source # utility used to post tweet\n",
        "       \n",
        "       \n",
        "        # append attributes to list\n",
        "        tweet_list.append({'tweet_id':tweet_id,\n",
        "                           'language':language,\n",
        "                          'text':text,\n",
        "                           'name':name,\n",
        "                           'location':location,\n",
        "                           \n",
        "                          'follower_count':follower_count,\n",
        "                           'verified': verified,\n",
        "                          'favorite_count':favorite_count,\n",
        "                          'retweet_count':retweet_count,\n",
        "                          'created_at':created_at, \n",
        "                          'source':source, \n",
        "                          })\n",
        "\n",
        "    # create dataframe   \n",
        "    df1 = pd.DataFrame(tweet_list, columns=['tweet_id',\n",
        "                                           'text',\n",
        "                                           'language',\n",
        "                                           'name',\n",
        "                                          \n",
        "                                           'follower_count',\n",
        "                                           'verified',\n",
        "                                           'location',    \n",
        "                                           'favorite_count',\n",
        "                                           'retweet_count',\n",
        "                                           'created_at',\n",
        "                                           'source',\n",
        "                                           ])\n",
        "    return df1\n",
        "\n",
        "\n",
        "df1 = extract_tweet_attributes(pp1)\n"
      ],
      "metadata": {
        "id": "ujBTSGucH__y"
      },
      "execution_count": null,
      "outputs": []
    },
    {
      "cell_type": "code",
      "source": [
        "df1['name']=df1.loc[df1['name']!='CISL Nazionale']"
      ],
      "metadata": {
        "id": "pwwsCoHdkDOy"
      },
      "execution_count": null,
      "outputs": []
    },
    {
      "cell_type": "code",
      "source": [
        "df1['sigla']='CISL'"
      ],
      "metadata": {
        "id": "KJ8Ej4ALlUhB"
      },
      "execution_count": null,
      "outputs": []
    },
    {
      "cell_type": "code",
      "source": [
        "df1.to_csv(r'cisl_data',index=False)"
      ],
      "metadata": {
        "id": "S4H-REbdmHp1"
      },
      "execution_count": null,
      "outputs": []
    },
    {
      "cell_type": "code",
      "source": [
        "#processo ripetuto anche per cgil e uil per ottenere:\n",
        "cisl_data=pd.read_csv(r'/content/cisl_data')\n",
        "cgil_data=pd.read_csv(r'/content/cgil_data')\n",
        "uil_data=pd.read_csv(r'/content/uil_data')\n"
      ],
      "metadata": {
        "id": "_MhEBfxCmXGv"
      },
      "execution_count": null,
      "outputs": []
    },
    {
      "cell_type": "code",
      "source": [
        "data=pd.concat(cisl_data,cgil_data,uil_data)"
      ],
      "metadata": {
        "id": "LjNFJIj4lBMA"
      },
      "execution_count": null,
      "outputs": []
    },
    {
      "cell_type": "code",
      "source": [
        "data=pd.read_csv(r'/content/data')\n"
      ],
      "metadata": {
        "id": "fFxV0grjl1uF"
      },
      "execution_count": null,
      "outputs": []
    },
    {
      "cell_type": "code",
      "source": [
        "import re\n",
        "import gensim\n",
        "from nltk.stem import WordNetLemmatizer\n",
        "\n",
        "punctuation = '!\"$%&\\'()*+,-./:;<=>?[\\\\]^_`{|}~•@'\n"
      ],
      "metadata": {
        "id": "Nvv0pU3aRJao"
      },
      "execution_count": null,
      "outputs": []
    },
    {
      "cell_type": "code",
      "source": [
        "def remove_links(tweet):\n",
        "    \"\"\"Takes a string and removes web links from it\"\"\"\n",
        "    tweet = re.sub(r'http\\S+', '', tweet)   # remove http links\n",
        "    tweet = re.sub(r'bit.ly/\\S+', '', tweet)  # remove bitly links\n",
        "    tweet = tweet.strip('[link]')   # remove [links]\n",
        "    tweet = re.sub(r'pic.twitter\\S+','', tweet)\n",
        "    return tweet"
      ],
      "metadata": {
        "id": "fu5H-5Qocvd_"
      },
      "execution_count": null,
      "outputs": []
    },
    {
      "cell_type": "code",
      "source": [
        "def remove_users(tweet):\n",
        "    \"\"\"Takes a string and removes retweet and @user information\"\"\"\n",
        "    tweet = re.sub('(RT\\s@[A-Za-z]+[A-Za-z0-9-_]+)', '', tweet)  # remove re-tweet\n",
        "    tweet = re.sub('(@[A-Za-z]+[A-Za-z0-9-_]+)', '', tweet)  # remove tweeted at\n",
        "    return tweet\n"
      ],
      "metadata": {
        "id": "mwJP6Wmicwi-"
      },
      "execution_count": null,
      "outputs": []
    },
    {
      "cell_type": "code",
      "source": [
        "def remove_hashtags(tweet):\n",
        "    \"\"\"Takes a string and removes any hash tags\"\"\"\n",
        "    tweet = re.sub('(#[A-Za-z]+[A-Za-z0-9-_]+)', '', tweet)  # remove hash tags\n",
        "    return tweet"
      ],
      "metadata": {
        "id": "6rgS0S-1c0AW"
      },
      "execution_count": null,
      "outputs": []
    },
    {
      "cell_type": "code",
      "source": [
        "def remove_av(tweet):\n",
        "    \"\"\"Takes a string and removes AUDIO/VIDEO tags or labels\"\"\"\n",
        "    tweet = re.sub('VIDEO:', '', tweet)  # remove 'VIDEO:' from start of tweet\n",
        "    tweet = re.sub('AUDIO:', '', tweet)  # remove 'AUDIO:' from start of tweet\n",
        "    return tweet"
      ],
      "metadata": {
        "id": "FAAR6-tEc7tJ"
      },
      "execution_count": null,
      "outputs": []
    },
    {
      "cell_type": "code",
      "source": [
        "regex_pattern = re.compile(pattern = \"[\"\n",
        "        u\"\\U0001F600-\\U0001F64F\"  # emoticons\n",
        "        u\"\\U0001F300-\\U0001F5FF\"  # symbols & pictographs\n",
        "        u\"\\U0001F680-\\U0001F6FF\"  # transport & map symbols\n",
        "        u\"\\U0001F1E0-\\U0001F1FF\"  # flags (iOS)\n",
        "                           \"]+\", flags = re.UNICODE)\n",
        "def remove_em(tweet):\n",
        "    tweet = re.sub(regex_pattern,'',tweet) #replaces pattern with ''\n",
        "    return tweet\n"
      ],
      "metadata": {
        "id": "veZhiUNGGR_s"
      },
      "execution_count": null,
      "outputs": []
    },
    {
      "cell_type": "code",
      "source": [
        "def basic_clean(tweet):\n",
        "    \"\"\"Main master function to clean tweets only without tokenization or removal of stopwords\"\"\"\n",
        "    tweet = remove_users(tweet)\n",
        "    tweet = remove_links(tweet)\n",
        "    tweet = remove_hashtags(tweet)\n",
        "    tweet = remove_av(tweet)\n",
        "    tweet = remove_em(tweet)\n",
        "    tweet = tweet.lower()  # lower case\n",
        "    tweet = re.sub('[' + punctuation + ']+', ' ', tweet)  # strip punctuation\n",
        "    tweet = re.sub('\\s+', ' ', tweet)  # remove double spacing\n",
        "    tweet = re.sub('([0-9]+)', '', tweet)  # remove numbers\n",
        "    tweet = re.sub('📝 …', '', tweet)\n",
        "    return tweet"
      ],
      "metadata": {
        "id": "i9c9GR2XVa93"
      },
      "execution_count": null,
      "outputs": []
    },
    {
      "cell_type": "code",
      "source": [
        "df1=pd.read_csv('/content/data',usecols=['text']) \n",
        "df1['tweet']=df1['text']\n",
        "df2=df1.drop('text',axis=1)\n",
        "df2"
      ],
      "metadata": {
        "colab": {
          "base_uri": "https://localhost:8080/",
          "height": 424
        },
        "id": "7OsXHx3CetTA",
        "outputId": "c51646c6-faa1-4e44-b073-c831afaedf06"
      },
      "execution_count": null,
      "outputs": [
        {
          "output_type": "execute_result",
          "data": {
            "text/plain": [
              "                                                  tweet\n",
              "0     RT @kastatrof: Imaginez.. à qq heures de route...\n",
              "1     @cgilnazionale Sembra una supercazzola... prem...\n",
              "2     RT @kastatrof: Imaginez.. à qq heures de route...\n",
              "3     🟥SOLO LA PACE\\n@cgilnazionale partecipa all'ac...\n",
              "4     @fpcgil_internaz @fbunational @FpCgilVVF @EPSU...\n",
              "...                                                 ...\n",
              "6854  Vomito. Siete tutti, indistintamente patetici....\n",
              "6855  RT @UILofficial: Soddisfatti per l’istituzione...\n",
              "6856  RT @UILofficial: Soddisfatti per l’istituzione...\n",
              "6857  @ToniSerafini @UILofficial Siamo messi meglio ...\n",
              "6858  Fate vomitare! Vi dovreste vergognare! Ma arri...\n",
              "\n",
              "[6859 rows x 1 columns]"
            ],
            "text/html": [
              "\n",
              "  <div id=\"df-35f24c0f-b10b-4643-97e8-7d24c804d215\">\n",
              "    <div class=\"colab-df-container\">\n",
              "      <div>\n",
              "<style scoped>\n",
              "    .dataframe tbody tr th:only-of-type {\n",
              "        vertical-align: middle;\n",
              "    }\n",
              "\n",
              "    .dataframe tbody tr th {\n",
              "        vertical-align: top;\n",
              "    }\n",
              "\n",
              "    .dataframe thead th {\n",
              "        text-align: right;\n",
              "    }\n",
              "</style>\n",
              "<table border=\"1\" class=\"dataframe\">\n",
              "  <thead>\n",
              "    <tr style=\"text-align: right;\">\n",
              "      <th></th>\n",
              "      <th>tweet</th>\n",
              "    </tr>\n",
              "  </thead>\n",
              "  <tbody>\n",
              "    <tr>\n",
              "      <th>0</th>\n",
              "      <td>RT @kastatrof: Imaginez.. à qq heures de route...</td>\n",
              "    </tr>\n",
              "    <tr>\n",
              "      <th>1</th>\n",
              "      <td>@cgilnazionale Sembra una supercazzola... prem...</td>\n",
              "    </tr>\n",
              "    <tr>\n",
              "      <th>2</th>\n",
              "      <td>RT @kastatrof: Imaginez.. à qq heures de route...</td>\n",
              "    </tr>\n",
              "    <tr>\n",
              "      <th>3</th>\n",
              "      <td>🟥SOLO LA PACE\\n@cgilnazionale partecipa all'ac...</td>\n",
              "    </tr>\n",
              "    <tr>\n",
              "      <th>4</th>\n",
              "      <td>@fpcgil_internaz @fbunational @FpCgilVVF @EPSU...</td>\n",
              "    </tr>\n",
              "    <tr>\n",
              "      <th>...</th>\n",
              "      <td>...</td>\n",
              "    </tr>\n",
              "    <tr>\n",
              "      <th>6854</th>\n",
              "      <td>Vomito. Siete tutti, indistintamente patetici....</td>\n",
              "    </tr>\n",
              "    <tr>\n",
              "      <th>6855</th>\n",
              "      <td>RT @UILofficial: Soddisfatti per l’istituzione...</td>\n",
              "    </tr>\n",
              "    <tr>\n",
              "      <th>6856</th>\n",
              "      <td>RT @UILofficial: Soddisfatti per l’istituzione...</td>\n",
              "    </tr>\n",
              "    <tr>\n",
              "      <th>6857</th>\n",
              "      <td>@ToniSerafini @UILofficial Siamo messi meglio ...</td>\n",
              "    </tr>\n",
              "    <tr>\n",
              "      <th>6858</th>\n",
              "      <td>Fate vomitare! Vi dovreste vergognare! Ma arri...</td>\n",
              "    </tr>\n",
              "  </tbody>\n",
              "</table>\n",
              "<p>6859 rows × 1 columns</p>\n",
              "</div>\n",
              "      <button class=\"colab-df-convert\" onclick=\"convertToInteractive('df-35f24c0f-b10b-4643-97e8-7d24c804d215')\"\n",
              "              title=\"Convert this dataframe to an interactive table.\"\n",
              "              style=\"display:none;\">\n",
              "        \n",
              "  <svg xmlns=\"http://www.w3.org/2000/svg\" height=\"24px\"viewBox=\"0 0 24 24\"\n",
              "       width=\"24px\">\n",
              "    <path d=\"M0 0h24v24H0V0z\" fill=\"none\"/>\n",
              "    <path d=\"M18.56 5.44l.94 2.06.94-2.06 2.06-.94-2.06-.94-.94-2.06-.94 2.06-2.06.94zm-11 1L8.5 8.5l.94-2.06 2.06-.94-2.06-.94L8.5 2.5l-.94 2.06-2.06.94zm10 10l.94 2.06.94-2.06 2.06-.94-2.06-.94-.94-2.06-.94 2.06-2.06.94z\"/><path d=\"M17.41 7.96l-1.37-1.37c-.4-.4-.92-.59-1.43-.59-.52 0-1.04.2-1.43.59L10.3 9.45l-7.72 7.72c-.78.78-.78 2.05 0 2.83L4 21.41c.39.39.9.59 1.41.59.51 0 1.02-.2 1.41-.59l7.78-7.78 2.81-2.81c.8-.78.8-2.07 0-2.86zM5.41 20L4 18.59l7.72-7.72 1.47 1.35L5.41 20z\"/>\n",
              "  </svg>\n",
              "      </button>\n",
              "      \n",
              "  <style>\n",
              "    .colab-df-container {\n",
              "      display:flex;\n",
              "      flex-wrap:wrap;\n",
              "      gap: 12px;\n",
              "    }\n",
              "\n",
              "    .colab-df-convert {\n",
              "      background-color: #E8F0FE;\n",
              "      border: none;\n",
              "      border-radius: 50%;\n",
              "      cursor: pointer;\n",
              "      display: none;\n",
              "      fill: #1967D2;\n",
              "      height: 32px;\n",
              "      padding: 0 0 0 0;\n",
              "      width: 32px;\n",
              "    }\n",
              "\n",
              "    .colab-df-convert:hover {\n",
              "      background-color: #E2EBFA;\n",
              "      box-shadow: 0px 1px 2px rgba(60, 64, 67, 0.3), 0px 1px 3px 1px rgba(60, 64, 67, 0.15);\n",
              "      fill: #174EA6;\n",
              "    }\n",
              "\n",
              "    [theme=dark] .colab-df-convert {\n",
              "      background-color: #3B4455;\n",
              "      fill: #D2E3FC;\n",
              "    }\n",
              "\n",
              "    [theme=dark] .colab-df-convert:hover {\n",
              "      background-color: #434B5C;\n",
              "      box-shadow: 0px 1px 3px 1px rgba(0, 0, 0, 0.15);\n",
              "      filter: drop-shadow(0px 1px 2px rgba(0, 0, 0, 0.3));\n",
              "      fill: #FFFFFF;\n",
              "    }\n",
              "  </style>\n",
              "\n",
              "      <script>\n",
              "        const buttonEl =\n",
              "          document.querySelector('#df-35f24c0f-b10b-4643-97e8-7d24c804d215 button.colab-df-convert');\n",
              "        buttonEl.style.display =\n",
              "          google.colab.kernel.accessAllowed ? 'block' : 'none';\n",
              "\n",
              "        async function convertToInteractive(key) {\n",
              "          const element = document.querySelector('#df-35f24c0f-b10b-4643-97e8-7d24c804d215');\n",
              "          const dataTable =\n",
              "            await google.colab.kernel.invokeFunction('convertToInteractive',\n",
              "                                                     [key], {});\n",
              "          if (!dataTable) return;\n",
              "\n",
              "          const docLinkHtml = 'Like what you see? Visit the ' +\n",
              "            '<a target=\"_blank\" href=https://colab.research.google.com/notebooks/data_table.ipynb>data table notebook</a>'\n",
              "            + ' to learn more about interactive tables.';\n",
              "          element.innerHTML = '';\n",
              "          dataTable['output_type'] = 'display_data';\n",
              "          await google.colab.output.renderOutput(dataTable, element);\n",
              "          const docLink = document.createElement('div');\n",
              "          docLink.innerHTML = docLinkHtml;\n",
              "          element.appendChild(docLink);\n",
              "        }\n",
              "      </script>\n",
              "    </div>\n",
              "  </div>\n",
              "  "
            ]
          },
          "metadata": {},
          "execution_count": 49
        }
      ]
    },
    {
      "cell_type": "code",
      "source": [
        "def clean_tweets(df):\n",
        "    \"\"\"Main function to read in and return cleaned and preprocessed dataframe.\n",
        "    This can be used in Jupyter notebooks by importing this module and calling the tokenize_tweets() function\n",
        "    Args:\n",
        "        df = data frame object to apply cleaning to\n",
        "    Returns:\n",
        "        pandas data frame with cleaned tokens\n",
        "    \"\"\"\n",
        "\n",
        "    df['cleaned'] = df.tweet.apply(basic_clean)\n",
        "    num_tweets = len(df)\n",
        "    print('Complete. Number of Tweets that have been cleaned and tokenized : {}'.format(num_tweets))\n",
        "    return df"
      ],
      "metadata": {
        "id": "lH71iAxZaOZd"
      },
      "execution_count": null,
      "outputs": []
    },
    {
      "cell_type": "code",
      "source": [
        "df3=clean_tweets(df2)\n",
        "df3 #non faccio tokenizzazione e lemmatizzazione perchè FEEL-IT funziona con le frasi di senso compiuto"
      ],
      "metadata": {
        "colab": {
          "base_uri": "https://localhost:8080/",
          "height": 442
        },
        "id": "KeaK22qheiHo",
        "outputId": "3caa4efd-c0fd-47fc-a251-84cbe4efdc1b"
      },
      "execution_count": null,
      "outputs": [
        {
          "output_type": "stream",
          "name": "stdout",
          "text": [
            "Complete. Number of Tweets that have been cleaned and tokenized : 6859\n"
          ]
        },
        {
          "output_type": "execute_result",
          "data": {
            "text/plain": [
              "                                                  tweet  \\\n",
              "0     RT @kastatrof: Imaginez.. à qq heures de route...   \n",
              "1     @cgilnazionale Sembra una supercazzola... prem...   \n",
              "2     RT @kastatrof: Imaginez.. à qq heures de route...   \n",
              "3     🟥SOLO LA PACE\\n@cgilnazionale partecipa all'ac...   \n",
              "4     @fpcgil_internaz @fbunational @FpCgilVVF @EPSU...   \n",
              "...                                                 ...   \n",
              "6854  Vomito. Siete tutti, indistintamente patetici....   \n",
              "6855  RT @UILofficial: Soddisfatti per l’istituzione...   \n",
              "6856  RT @UILofficial: Soddisfatti per l’istituzione...   \n",
              "6857  @ToniSerafini @UILofficial Siamo messi meglio ...   \n",
              "6858  Fate vomitare! Vi dovreste vergognare! Ma arri...   \n",
              "\n",
              "                                                cleaned  \n",
              "0      imaginez à qq heures de route un univers para...  \n",
              "1      sembra una supercazzola prematurata con scapp...  \n",
              "2      imaginez à qq heures de route un univers para...  \n",
              "3     🟥solo la pace partecipa all accoglienza di  or...  \n",
              "4                                                        \n",
              "...                                                 ...  \n",
              "6854       vomito siete tutti indistintamente patetici   \n",
              "6855   soddisfatti per l’istituzione dell’osservator...  \n",
              "6856   soddisfatti per l’istituzione dell’osservator...  \n",
              "6857   siamo messi meglio solo di loro che a lei pia...  \n",
              "6858  fate vomitare vi dovreste vergognare ma arrive...  \n",
              "\n",
              "[6859 rows x 2 columns]"
            ],
            "text/html": [
              "\n",
              "  <div id=\"df-717ee2e6-6b90-41af-8701-e3d89cf7c788\">\n",
              "    <div class=\"colab-df-container\">\n",
              "      <div>\n",
              "<style scoped>\n",
              "    .dataframe tbody tr th:only-of-type {\n",
              "        vertical-align: middle;\n",
              "    }\n",
              "\n",
              "    .dataframe tbody tr th {\n",
              "        vertical-align: top;\n",
              "    }\n",
              "\n",
              "    .dataframe thead th {\n",
              "        text-align: right;\n",
              "    }\n",
              "</style>\n",
              "<table border=\"1\" class=\"dataframe\">\n",
              "  <thead>\n",
              "    <tr style=\"text-align: right;\">\n",
              "      <th></th>\n",
              "      <th>tweet</th>\n",
              "      <th>cleaned</th>\n",
              "    </tr>\n",
              "  </thead>\n",
              "  <tbody>\n",
              "    <tr>\n",
              "      <th>0</th>\n",
              "      <td>RT @kastatrof: Imaginez.. à qq heures de route...</td>\n",
              "      <td>imaginez à qq heures de route un univers para...</td>\n",
              "    </tr>\n",
              "    <tr>\n",
              "      <th>1</th>\n",
              "      <td>@cgilnazionale Sembra una supercazzola... prem...</td>\n",
              "      <td>sembra una supercazzola prematurata con scapp...</td>\n",
              "    </tr>\n",
              "    <tr>\n",
              "      <th>2</th>\n",
              "      <td>RT @kastatrof: Imaginez.. à qq heures de route...</td>\n",
              "      <td>imaginez à qq heures de route un univers para...</td>\n",
              "    </tr>\n",
              "    <tr>\n",
              "      <th>3</th>\n",
              "      <td>🟥SOLO LA PACE\\n@cgilnazionale partecipa all'ac...</td>\n",
              "      <td>🟥solo la pace partecipa all accoglienza di  or...</td>\n",
              "    </tr>\n",
              "    <tr>\n",
              "      <th>4</th>\n",
              "      <td>@fpcgil_internaz @fbunational @FpCgilVVF @EPSU...</td>\n",
              "      <td></td>\n",
              "    </tr>\n",
              "    <tr>\n",
              "      <th>...</th>\n",
              "      <td>...</td>\n",
              "      <td>...</td>\n",
              "    </tr>\n",
              "    <tr>\n",
              "      <th>6854</th>\n",
              "      <td>Vomito. Siete tutti, indistintamente patetici....</td>\n",
              "      <td>vomito siete tutti indistintamente patetici</td>\n",
              "    </tr>\n",
              "    <tr>\n",
              "      <th>6855</th>\n",
              "      <td>RT @UILofficial: Soddisfatti per l’istituzione...</td>\n",
              "      <td>soddisfatti per l’istituzione dell’osservator...</td>\n",
              "    </tr>\n",
              "    <tr>\n",
              "      <th>6856</th>\n",
              "      <td>RT @UILofficial: Soddisfatti per l’istituzione...</td>\n",
              "      <td>soddisfatti per l’istituzione dell’osservator...</td>\n",
              "    </tr>\n",
              "    <tr>\n",
              "      <th>6857</th>\n",
              "      <td>@ToniSerafini @UILofficial Siamo messi meglio ...</td>\n",
              "      <td>siamo messi meglio solo di loro che a lei pia...</td>\n",
              "    </tr>\n",
              "    <tr>\n",
              "      <th>6858</th>\n",
              "      <td>Fate vomitare! Vi dovreste vergognare! Ma arri...</td>\n",
              "      <td>fate vomitare vi dovreste vergognare ma arrive...</td>\n",
              "    </tr>\n",
              "  </tbody>\n",
              "</table>\n",
              "<p>6859 rows × 2 columns</p>\n",
              "</div>\n",
              "      <button class=\"colab-df-convert\" onclick=\"convertToInteractive('df-717ee2e6-6b90-41af-8701-e3d89cf7c788')\"\n",
              "              title=\"Convert this dataframe to an interactive table.\"\n",
              "              style=\"display:none;\">\n",
              "        \n",
              "  <svg xmlns=\"http://www.w3.org/2000/svg\" height=\"24px\"viewBox=\"0 0 24 24\"\n",
              "       width=\"24px\">\n",
              "    <path d=\"M0 0h24v24H0V0z\" fill=\"none\"/>\n",
              "    <path d=\"M18.56 5.44l.94 2.06.94-2.06 2.06-.94-2.06-.94-.94-2.06-.94 2.06-2.06.94zm-11 1L8.5 8.5l.94-2.06 2.06-.94-2.06-.94L8.5 2.5l-.94 2.06-2.06.94zm10 10l.94 2.06.94-2.06 2.06-.94-2.06-.94-.94-2.06-.94 2.06-2.06.94z\"/><path d=\"M17.41 7.96l-1.37-1.37c-.4-.4-.92-.59-1.43-.59-.52 0-1.04.2-1.43.59L10.3 9.45l-7.72 7.72c-.78.78-.78 2.05 0 2.83L4 21.41c.39.39.9.59 1.41.59.51 0 1.02-.2 1.41-.59l7.78-7.78 2.81-2.81c.8-.78.8-2.07 0-2.86zM5.41 20L4 18.59l7.72-7.72 1.47 1.35L5.41 20z\"/>\n",
              "  </svg>\n",
              "      </button>\n",
              "      \n",
              "  <style>\n",
              "    .colab-df-container {\n",
              "      display:flex;\n",
              "      flex-wrap:wrap;\n",
              "      gap: 12px;\n",
              "    }\n",
              "\n",
              "    .colab-df-convert {\n",
              "      background-color: #E8F0FE;\n",
              "      border: none;\n",
              "      border-radius: 50%;\n",
              "      cursor: pointer;\n",
              "      display: none;\n",
              "      fill: #1967D2;\n",
              "      height: 32px;\n",
              "      padding: 0 0 0 0;\n",
              "      width: 32px;\n",
              "    }\n",
              "\n",
              "    .colab-df-convert:hover {\n",
              "      background-color: #E2EBFA;\n",
              "      box-shadow: 0px 1px 2px rgba(60, 64, 67, 0.3), 0px 1px 3px 1px rgba(60, 64, 67, 0.15);\n",
              "      fill: #174EA6;\n",
              "    }\n",
              "\n",
              "    [theme=dark] .colab-df-convert {\n",
              "      background-color: #3B4455;\n",
              "      fill: #D2E3FC;\n",
              "    }\n",
              "\n",
              "    [theme=dark] .colab-df-convert:hover {\n",
              "      background-color: #434B5C;\n",
              "      box-shadow: 0px 1px 3px 1px rgba(0, 0, 0, 0.15);\n",
              "      filter: drop-shadow(0px 1px 2px rgba(0, 0, 0, 0.3));\n",
              "      fill: #FFFFFF;\n",
              "    }\n",
              "  </style>\n",
              "\n",
              "      <script>\n",
              "        const buttonEl =\n",
              "          document.querySelector('#df-717ee2e6-6b90-41af-8701-e3d89cf7c788 button.colab-df-convert');\n",
              "        buttonEl.style.display =\n",
              "          google.colab.kernel.accessAllowed ? 'block' : 'none';\n",
              "\n",
              "        async function convertToInteractive(key) {\n",
              "          const element = document.querySelector('#df-717ee2e6-6b90-41af-8701-e3d89cf7c788');\n",
              "          const dataTable =\n",
              "            await google.colab.kernel.invokeFunction('convertToInteractive',\n",
              "                                                     [key], {});\n",
              "          if (!dataTable) return;\n",
              "\n",
              "          const docLinkHtml = 'Like what you see? Visit the ' +\n",
              "            '<a target=\"_blank\" href=https://colab.research.google.com/notebooks/data_table.ipynb>data table notebook</a>'\n",
              "            + ' to learn more about interactive tables.';\n",
              "          element.innerHTML = '';\n",
              "          dataTable['output_type'] = 'display_data';\n",
              "          await google.colab.output.renderOutput(dataTable, element);\n",
              "          const docLink = document.createElement('div');\n",
              "          docLink.innerHTML = docLinkHtml;\n",
              "          element.appendChild(docLink);\n",
              "        }\n",
              "      </script>\n",
              "    </div>\n",
              "  </div>\n",
              "  "
            ]
          },
          "metadata": {},
          "execution_count": 50
        }
      ]
    },
    {
      "cell_type": "markdown",
      "metadata": {
        "id": "3NBrZAgk8jVO"
      },
      "source": [
        "## Citation\n",
        "\n",
        "Please use the following bibtex entry if you use this model in your project:\n",
        "\n",
        "```\n",
        "@inproceedings{bianchi2021feel,\n",
        "    title = {{\"FEEL-IT: Emotion and Sentiment Classification for the Italian Language\"}},\n",
        "    author = \"Bianchi, Federico and Nozza, Debora and Hovy, Dirk\",\n",
        "    booktitle = \"Proceedings of the 11th Workshop on Computational Approaches to Subjectivity, Sentiment and Social Media Analysis\",\n",
        "    year = \"2021\",\n",
        "    publisher = \"Association for Computational Linguistics\",\n",
        "}\n",
        "```"
      ]
    },
    {
      "cell_type": "code",
      "source": [
        "pip install feel-it"
      ],
      "metadata": {
        "id": "DFLeoCl-Qlvj"
      },
      "execution_count": null,
      "outputs": []
    },
    {
      "cell_type": "code",
      "source": [
        "from feel_it import EmotionClassifier\n",
        "emotion_classifier = EmotionClassifier()"
      ],
      "metadata": {
        "id": "2kRtVJHch-HN"
      },
      "execution_count": null,
      "outputs": []
    },
    {
      "cell_type": "code",
      "source": [
        "dfcleaned=df3.drop('tweet',axis=1).astype('str')\n"
      ],
      "metadata": {
        "id": "1-RDo7QBifNW"
      },
      "execution_count": null,
      "outputs": []
    },
    {
      "cell_type": "code",
      "source": [
        "cleanedstring=pd.Series(dfcleaned['cleaned'].astype('string'))\n",
        "cleanedstring.dtype"
      ],
      "metadata": {
        "colab": {
          "base_uri": "https://localhost:8080/"
        },
        "id": "ucq369n0jikk",
        "outputId": "0bd441b6-a07d-421a-8ee4-fc63e13847db"
      },
      "execution_count": null,
      "outputs": [
        {
          "output_type": "execute_result",
          "data": {
            "text/plain": [
              "string[python]"
            ]
          },
          "metadata": {},
          "execution_count": 53
        }
      ]
    },
    {
      "cell_type": "code",
      "source": [
        "def stringToList(string):\n",
        "  listRes = list(string.split(\"\"))\n",
        "  return listRes"
      ],
      "metadata": {
        "id": "dCP-fPhjoDbW"
      },
      "execution_count": null,
      "outputs": []
    },
    {
      "cell_type": "code",
      "source": [
        "cleanedlist=cleanedstring.tolist()\n",
        "cleanedlist"
      ],
      "metadata": {
        "id": "mj7rdIaiorXw"
      },
      "execution_count": null,
      "outputs": []
    },
    {
      "cell_type": "code",
      "source": [
        "from feel_it import EmotionClassifier\n",
        "emotion_classifier = EmotionClassifier()\n",
        "from feel_it import SentimentClassifier\n",
        "sentiment_classifier = SentimentClassifier()"
      ],
      "metadata": {
        "id": "FRQD8Rifksod"
      },
      "execution_count": null,
      "outputs": []
    },
    {
      "cell_type": "code",
      "source": [
        "sentimenti=sentiment_classifier.predict(cleanedlist)"
      ],
      "metadata": {
        "id": "OECXvpZE_AGv"
      },
      "execution_count": null,
      "outputs": []
    },
    {
      "cell_type": "code",
      "source": [
        "emozioni=emotion_classifier.predict(cleanedlist)"
      ],
      "metadata": {
        "id": "E12M-6cblR0r"
      },
      "execution_count": null,
      "outputs": []
    },
    {
      "cell_type": "code",
      "source": [
        "data['sentiment']=sentimenti\n",
        "data['emotion']=emozioni\n",
        "data['cleaned_text']=cleanedlist"
      ],
      "metadata": {
        "id": "aSgAhCgUGwac"
      },
      "execution_count": null,
      "outputs": []
    },
    {
      "cell_type": "code",
      "source": [
        "data=data.loc[data['language']=='it'].drop('text',axis=1)\n",
        "data"
      ],
      "metadata": {
        "colab": {
          "base_uri": "https://localhost:8080/",
          "height": 939
        },
        "id": "FSO46axPH2yl",
        "outputId": "2d51a3a9-e2b4-4600-b367-1ae113e5a63c"
      },
      "execution_count": null,
      "outputs": [
        {
          "output_type": "execute_result",
          "data": {
            "text/plain": [
              "      Unnamed: 0             tweet_id language                 name  \\\n",
              "1              1  1524824670125625345       it             Patsy 🇮🇹   \n",
              "3              3  1524804096439492612       it  FLC CGIL Roma Lazio   \n",
              "5              5  1524798008390475776       it    Piero Passalacqua   \n",
              "7              7  1524795129533538311       it       Daniele Calosi   \n",
              "8              8  1524793135800504321       it                Vilma   \n",
              "...          ...                  ...      ...                  ...   \n",
              "6854        6854  1521880388322349056       it   Davide Mazzoni 🧱🧊🍊   \n",
              "6855        6855  1521880348472324103       it           Uil Marche   \n",
              "6856        6856  1521872405114802176       it          Uil Trapani   \n",
              "6857        6857  1521868855324385283       it               Mancio   \n",
              "6858        6858  1521857392136400896       it    What is the true?   \n",
              "\n",
              "      follower_count  verified                 location  favorite_count  \\\n",
              "1                 36     False                      NaN               1   \n",
              "3               1238     False  Roma, Via Buonarroti 12               0   \n",
              "5                  3     False                      NaN               0   \n",
              "7               1147     False                      NaN               0   \n",
              "8                604     False                   Torino               0   \n",
              "...              ...       ...                      ...             ...   \n",
              "6854             164     False                    Prato               0   \n",
              "6855              37     False                   Ancona               0   \n",
              "6856            1645     False                  Trapani               0   \n",
              "6857               0     False  Venaria Reale, Piemonte               0   \n",
              "6858               1     False                      NaN               0   \n",
              "\n",
              "      retweet_count           created_at               source sigla sentiment  \\\n",
              "1                 0  2022-05-12 18:51:45  Twitter for Android  CGIL  negative   \n",
              "3                 0  2022-05-12 17:30:00      Twitter Web App  CGIL  negative   \n",
              "5                14  2022-05-12 17:05:49  Twitter for Android  CGIL  positive   \n",
              "7                30  2022-05-12 16:54:22   Twitter for iPhone  CGIL  positive   \n",
              "8                 8  2022-05-12 16:46:27  Twitter for Android  CGIL  positive   \n",
              "...             ...                  ...                  ...   ...       ...   \n",
              "6854              0  2022-05-04 15:52:14      Twitter Web App   UIL  negative   \n",
              "6855              4  2022-05-04 15:52:04           Integromat   UIL  negative   \n",
              "6856              4  2022-05-04 15:20:31  Twitter for Android   UIL  negative   \n",
              "6857              0  2022-05-04 15:06:24  Twitter for Android   UIL  negative   \n",
              "6858              0  2022-05-04 14:20:51   Twitter for iPhone   UIL  negative   \n",
              "\n",
              "      emotion                                       cleaned_text  \n",
              "1       anger   sembra una supercazzola prematurata con scapp...  \n",
              "3     sadness  🟥solo la pace partecipa all accoglienza di  or...  \n",
              "5         joy   al via il da oggi fino al  maggio a matera il...  \n",
              "7         joy   “il ripristino della clausola sociale negli è...  \n",
              "8         joy   ll ripristino della negli è un grande risulta...  \n",
              "...       ...                                                ...  \n",
              "6854    anger       vomito siete tutti indistintamente patetici   \n",
              "6855     fear   soddisfatti per l’istituzione dell’osservator...  \n",
              "6856     fear   soddisfatti per l’istituzione dell’osservator...  \n",
              "6857    anger   siamo messi meglio solo di loro che a lei pia...  \n",
              "6858    anger  fate vomitare vi dovreste vergognare ma arrive...  \n",
              "\n",
              "[6443 rows x 15 columns]"
            ],
            "text/html": [
              "\n",
              "  <div id=\"df-2180917b-b406-41e7-b466-ba48fcd59f1d\">\n",
              "    <div class=\"colab-df-container\">\n",
              "      <div>\n",
              "<style scoped>\n",
              "    .dataframe tbody tr th:only-of-type {\n",
              "        vertical-align: middle;\n",
              "    }\n",
              "\n",
              "    .dataframe tbody tr th {\n",
              "        vertical-align: top;\n",
              "    }\n",
              "\n",
              "    .dataframe thead th {\n",
              "        text-align: right;\n",
              "    }\n",
              "</style>\n",
              "<table border=\"1\" class=\"dataframe\">\n",
              "  <thead>\n",
              "    <tr style=\"text-align: right;\">\n",
              "      <th></th>\n",
              "      <th>Unnamed: 0</th>\n",
              "      <th>tweet_id</th>\n",
              "      <th>language</th>\n",
              "      <th>name</th>\n",
              "      <th>follower_count</th>\n",
              "      <th>verified</th>\n",
              "      <th>location</th>\n",
              "      <th>favorite_count</th>\n",
              "      <th>retweet_count</th>\n",
              "      <th>created_at</th>\n",
              "      <th>source</th>\n",
              "      <th>sigla</th>\n",
              "      <th>sentiment</th>\n",
              "      <th>emotion</th>\n",
              "      <th>cleaned_text</th>\n",
              "    </tr>\n",
              "  </thead>\n",
              "  <tbody>\n",
              "    <tr>\n",
              "      <th>1</th>\n",
              "      <td>1</td>\n",
              "      <td>1524824670125625345</td>\n",
              "      <td>it</td>\n",
              "      <td>Patsy 🇮🇹</td>\n",
              "      <td>36</td>\n",
              "      <td>False</td>\n",
              "      <td>NaN</td>\n",
              "      <td>1</td>\n",
              "      <td>0</td>\n",
              "      <td>2022-05-12 18:51:45</td>\n",
              "      <td>Twitter for Android</td>\n",
              "      <td>CGIL</td>\n",
              "      <td>negative</td>\n",
              "      <td>anger</td>\n",
              "      <td>sembra una supercazzola prematurata con scapp...</td>\n",
              "    </tr>\n",
              "    <tr>\n",
              "      <th>3</th>\n",
              "      <td>3</td>\n",
              "      <td>1524804096439492612</td>\n",
              "      <td>it</td>\n",
              "      <td>FLC CGIL Roma Lazio</td>\n",
              "      <td>1238</td>\n",
              "      <td>False</td>\n",
              "      <td>Roma, Via Buonarroti 12</td>\n",
              "      <td>0</td>\n",
              "      <td>0</td>\n",
              "      <td>2022-05-12 17:30:00</td>\n",
              "      <td>Twitter Web App</td>\n",
              "      <td>CGIL</td>\n",
              "      <td>negative</td>\n",
              "      <td>sadness</td>\n",
              "      <td>🟥solo la pace partecipa all accoglienza di  or...</td>\n",
              "    </tr>\n",
              "    <tr>\n",
              "      <th>5</th>\n",
              "      <td>5</td>\n",
              "      <td>1524798008390475776</td>\n",
              "      <td>it</td>\n",
              "      <td>Piero Passalacqua</td>\n",
              "      <td>3</td>\n",
              "      <td>False</td>\n",
              "      <td>NaN</td>\n",
              "      <td>0</td>\n",
              "      <td>14</td>\n",
              "      <td>2022-05-12 17:05:49</td>\n",
              "      <td>Twitter for Android</td>\n",
              "      <td>CGIL</td>\n",
              "      <td>positive</td>\n",
              "      <td>joy</td>\n",
              "      <td>al via il da oggi fino al  maggio a matera il...</td>\n",
              "    </tr>\n",
              "    <tr>\n",
              "      <th>7</th>\n",
              "      <td>7</td>\n",
              "      <td>1524795129533538311</td>\n",
              "      <td>it</td>\n",
              "      <td>Daniele Calosi</td>\n",
              "      <td>1147</td>\n",
              "      <td>False</td>\n",
              "      <td>NaN</td>\n",
              "      <td>0</td>\n",
              "      <td>30</td>\n",
              "      <td>2022-05-12 16:54:22</td>\n",
              "      <td>Twitter for iPhone</td>\n",
              "      <td>CGIL</td>\n",
              "      <td>positive</td>\n",
              "      <td>joy</td>\n",
              "      <td>“il ripristino della clausola sociale negli è...</td>\n",
              "    </tr>\n",
              "    <tr>\n",
              "      <th>8</th>\n",
              "      <td>8</td>\n",
              "      <td>1524793135800504321</td>\n",
              "      <td>it</td>\n",
              "      <td>Vilma</td>\n",
              "      <td>604</td>\n",
              "      <td>False</td>\n",
              "      <td>Torino</td>\n",
              "      <td>0</td>\n",
              "      <td>8</td>\n",
              "      <td>2022-05-12 16:46:27</td>\n",
              "      <td>Twitter for Android</td>\n",
              "      <td>CGIL</td>\n",
              "      <td>positive</td>\n",
              "      <td>joy</td>\n",
              "      <td>ll ripristino della negli è un grande risulta...</td>\n",
              "    </tr>\n",
              "    <tr>\n",
              "      <th>...</th>\n",
              "      <td>...</td>\n",
              "      <td>...</td>\n",
              "      <td>...</td>\n",
              "      <td>...</td>\n",
              "      <td>...</td>\n",
              "      <td>...</td>\n",
              "      <td>...</td>\n",
              "      <td>...</td>\n",
              "      <td>...</td>\n",
              "      <td>...</td>\n",
              "      <td>...</td>\n",
              "      <td>...</td>\n",
              "      <td>...</td>\n",
              "      <td>...</td>\n",
              "      <td>...</td>\n",
              "    </tr>\n",
              "    <tr>\n",
              "      <th>6854</th>\n",
              "      <td>6854</td>\n",
              "      <td>1521880388322349056</td>\n",
              "      <td>it</td>\n",
              "      <td>Davide Mazzoni 🧱🧊🍊</td>\n",
              "      <td>164</td>\n",
              "      <td>False</td>\n",
              "      <td>Prato</td>\n",
              "      <td>0</td>\n",
              "      <td>0</td>\n",
              "      <td>2022-05-04 15:52:14</td>\n",
              "      <td>Twitter Web App</td>\n",
              "      <td>UIL</td>\n",
              "      <td>negative</td>\n",
              "      <td>anger</td>\n",
              "      <td>vomito siete tutti indistintamente patetici</td>\n",
              "    </tr>\n",
              "    <tr>\n",
              "      <th>6855</th>\n",
              "      <td>6855</td>\n",
              "      <td>1521880348472324103</td>\n",
              "      <td>it</td>\n",
              "      <td>Uil Marche</td>\n",
              "      <td>37</td>\n",
              "      <td>False</td>\n",
              "      <td>Ancona</td>\n",
              "      <td>0</td>\n",
              "      <td>4</td>\n",
              "      <td>2022-05-04 15:52:04</td>\n",
              "      <td>Integromat</td>\n",
              "      <td>UIL</td>\n",
              "      <td>negative</td>\n",
              "      <td>fear</td>\n",
              "      <td>soddisfatti per l’istituzione dell’osservator...</td>\n",
              "    </tr>\n",
              "    <tr>\n",
              "      <th>6856</th>\n",
              "      <td>6856</td>\n",
              "      <td>1521872405114802176</td>\n",
              "      <td>it</td>\n",
              "      <td>Uil Trapani</td>\n",
              "      <td>1645</td>\n",
              "      <td>False</td>\n",
              "      <td>Trapani</td>\n",
              "      <td>0</td>\n",
              "      <td>4</td>\n",
              "      <td>2022-05-04 15:20:31</td>\n",
              "      <td>Twitter for Android</td>\n",
              "      <td>UIL</td>\n",
              "      <td>negative</td>\n",
              "      <td>fear</td>\n",
              "      <td>soddisfatti per l’istituzione dell’osservator...</td>\n",
              "    </tr>\n",
              "    <tr>\n",
              "      <th>6857</th>\n",
              "      <td>6857</td>\n",
              "      <td>1521868855324385283</td>\n",
              "      <td>it</td>\n",
              "      <td>Mancio</td>\n",
              "      <td>0</td>\n",
              "      <td>False</td>\n",
              "      <td>Venaria Reale, Piemonte</td>\n",
              "      <td>0</td>\n",
              "      <td>0</td>\n",
              "      <td>2022-05-04 15:06:24</td>\n",
              "      <td>Twitter for Android</td>\n",
              "      <td>UIL</td>\n",
              "      <td>negative</td>\n",
              "      <td>anger</td>\n",
              "      <td>siamo messi meglio solo di loro che a lei pia...</td>\n",
              "    </tr>\n",
              "    <tr>\n",
              "      <th>6858</th>\n",
              "      <td>6858</td>\n",
              "      <td>1521857392136400896</td>\n",
              "      <td>it</td>\n",
              "      <td>What is the true?</td>\n",
              "      <td>1</td>\n",
              "      <td>False</td>\n",
              "      <td>NaN</td>\n",
              "      <td>0</td>\n",
              "      <td>0</td>\n",
              "      <td>2022-05-04 14:20:51</td>\n",
              "      <td>Twitter for iPhone</td>\n",
              "      <td>UIL</td>\n",
              "      <td>negative</td>\n",
              "      <td>anger</td>\n",
              "      <td>fate vomitare vi dovreste vergognare ma arrive...</td>\n",
              "    </tr>\n",
              "  </tbody>\n",
              "</table>\n",
              "<p>6443 rows × 15 columns</p>\n",
              "</div>\n",
              "      <button class=\"colab-df-convert\" onclick=\"convertToInteractive('df-2180917b-b406-41e7-b466-ba48fcd59f1d')\"\n",
              "              title=\"Convert this dataframe to an interactive table.\"\n",
              "              style=\"display:none;\">\n",
              "        \n",
              "  <svg xmlns=\"http://www.w3.org/2000/svg\" height=\"24px\"viewBox=\"0 0 24 24\"\n",
              "       width=\"24px\">\n",
              "    <path d=\"M0 0h24v24H0V0z\" fill=\"none\"/>\n",
              "    <path d=\"M18.56 5.44l.94 2.06.94-2.06 2.06-.94-2.06-.94-.94-2.06-.94 2.06-2.06.94zm-11 1L8.5 8.5l.94-2.06 2.06-.94-2.06-.94L8.5 2.5l-.94 2.06-2.06.94zm10 10l.94 2.06.94-2.06 2.06-.94-2.06-.94-.94-2.06-.94 2.06-2.06.94z\"/><path d=\"M17.41 7.96l-1.37-1.37c-.4-.4-.92-.59-1.43-.59-.52 0-1.04.2-1.43.59L10.3 9.45l-7.72 7.72c-.78.78-.78 2.05 0 2.83L4 21.41c.39.39.9.59 1.41.59.51 0 1.02-.2 1.41-.59l7.78-7.78 2.81-2.81c.8-.78.8-2.07 0-2.86zM5.41 20L4 18.59l7.72-7.72 1.47 1.35L5.41 20z\"/>\n",
              "  </svg>\n",
              "      </button>\n",
              "      \n",
              "  <style>\n",
              "    .colab-df-container {\n",
              "      display:flex;\n",
              "      flex-wrap:wrap;\n",
              "      gap: 12px;\n",
              "    }\n",
              "\n",
              "    .colab-df-convert {\n",
              "      background-color: #E8F0FE;\n",
              "      border: none;\n",
              "      border-radius: 50%;\n",
              "      cursor: pointer;\n",
              "      display: none;\n",
              "      fill: #1967D2;\n",
              "      height: 32px;\n",
              "      padding: 0 0 0 0;\n",
              "      width: 32px;\n",
              "    }\n",
              "\n",
              "    .colab-df-convert:hover {\n",
              "      background-color: #E2EBFA;\n",
              "      box-shadow: 0px 1px 2px rgba(60, 64, 67, 0.3), 0px 1px 3px 1px rgba(60, 64, 67, 0.15);\n",
              "      fill: #174EA6;\n",
              "    }\n",
              "\n",
              "    [theme=dark] .colab-df-convert {\n",
              "      background-color: #3B4455;\n",
              "      fill: #D2E3FC;\n",
              "    }\n",
              "\n",
              "    [theme=dark] .colab-df-convert:hover {\n",
              "      background-color: #434B5C;\n",
              "      box-shadow: 0px 1px 3px 1px rgba(0, 0, 0, 0.15);\n",
              "      filter: drop-shadow(0px 1px 2px rgba(0, 0, 0, 0.3));\n",
              "      fill: #FFFFFF;\n",
              "    }\n",
              "  </style>\n",
              "\n",
              "      <script>\n",
              "        const buttonEl =\n",
              "          document.querySelector('#df-2180917b-b406-41e7-b466-ba48fcd59f1d button.colab-df-convert');\n",
              "        buttonEl.style.display =\n",
              "          google.colab.kernel.accessAllowed ? 'block' : 'none';\n",
              "\n",
              "        async function convertToInteractive(key) {\n",
              "          const element = document.querySelector('#df-2180917b-b406-41e7-b466-ba48fcd59f1d');\n",
              "          const dataTable =\n",
              "            await google.colab.kernel.invokeFunction('convertToInteractive',\n",
              "                                                     [key], {});\n",
              "          if (!dataTable) return;\n",
              "\n",
              "          const docLinkHtml = 'Like what you see? Visit the ' +\n",
              "            '<a target=\"_blank\" href=https://colab.research.google.com/notebooks/data_table.ipynb>data table notebook</a>'\n",
              "            + ' to learn more about interactive tables.';\n",
              "          element.innerHTML = '';\n",
              "          dataTable['output_type'] = 'display_data';\n",
              "          await google.colab.output.renderOutput(dataTable, element);\n",
              "          const docLink = document.createElement('div');\n",
              "          docLink.innerHTML = docLinkHtml;\n",
              "          element.appendChild(docLink);\n",
              "        }\n",
              "      </script>\n",
              "    </div>\n",
              "  </div>\n",
              "  "
            ]
          },
          "metadata": {},
          "execution_count": 185
        }
      ]
    },
    {
      "cell_type": "code",
      "source": [
        "datasent=data\n",
        "datasent.to_csv(r'datasent',index=False)"
      ],
      "metadata": {
        "id": "RxJft4S6KstO"
      },
      "execution_count": null,
      "outputs": []
    },
    {
      "cell_type": "code",
      "source": [
        "datasentcisl=datasent.loc[datasent['sigla']=='CISL']\n",
        "datasentcisl.to_csv(r'datasentcisl',index=False)"
      ],
      "metadata": {
        "id": "5E7BBNRePJ6e"
      },
      "execution_count": null,
      "outputs": []
    },
    {
      "cell_type": "code",
      "source": [
        "datasentcgil=datasent.loc[datasent['sigla']=='CGIL']\n",
        "datasentcgil.to_csv(r'datasentcgil',index=False)"
      ],
      "metadata": {
        "id": "RIRGtBGrPY5x"
      },
      "execution_count": null,
      "outputs": []
    },
    {
      "cell_type": "code",
      "source": [
        "datasentuil=datasent.loc[datasent['sigla']=='UIL']\n",
        "datasentuil.to_csv(r'datasentuil',index=False)"
      ],
      "metadata": {
        "id": "6ajP3G3jPfkp"
      },
      "execution_count": null,
      "outputs": []
    },
    {
      "cell_type": "code",
      "source": [
        "datasent=pd.read_csv('/content/datasent')"
      ],
      "metadata": {
        "id": "ucp1ApzpoEE_"
      },
      "execution_count": null,
      "outputs": []
    },
    {
      "cell_type": "code",
      "source": [
        "dataword=datasent\n"
      ],
      "metadata": {
        "id": "vSwTNLjcXXcU"
      },
      "execution_count": null,
      "outputs": []
    },
    {
      "cell_type": "code",
      "source": [
        "dneg=dataword.loc[dataword['sentiment']=='negative']\n",
        "dpos=dataword.loc[dataword['sentiment']=='positive']\n",
        "\n"
      ],
      "metadata": {
        "id": "hOdyS4Qfg4rF"
      },
      "execution_count": null,
      "outputs": []
    },
    {
      "cell_type": "code",
      "source": [
        "words=pd.Series(dneg['cleaned_text']).astype('string').str.cat(sep=' ')"
      ],
      "metadata": {
        "id": "zav5Vs_nhjps"
      },
      "execution_count": null,
      "outputs": []
    },
    {
      "cell_type": "code",
      "source": [
        "from wordcloud import WordCloud, STOPWORDS\n",
        "import matplotlib.pyplot as plt\n",
        "stopwords = set(STOPWORDS)\n",
        "stopwords.update(['il','la','di','con','su','per','tra','fra','una','nel','dopo','alla','della','sono','dalla','al','un','non','più','dell','ma','dei','gli','lo','sul','da','ha','si','nei','le','delle','ai','solo','ad','siete','abbiamo','ora','oggi','che','maggio','nella','ed','come','del','questo','fa','anche','anni','alle','degli','dare','xix','tutto','poteva','notizia','se','serve','nuovo','questa','altre']) #adding our own stopwords"
      ],
      "metadata": {
        "id": "1jzIdwmta0hv"
      },
      "execution_count": null,
      "outputs": []
    },
    {
      "cell_type": "code",
      "source": [
        "#prima bozza PAROLE TWEET NEGATIVI\n",
        "wordcloud = WordCloud(width=1600, stopwords=stopwords,height=800,max_font_size=100,max_words=20,collocations=False, background_color='white').generate(words)\n",
        "plt.figure(figsize=(10,10))\n",
        "plt.imshow(wordcloud, interpolation=\"bilinear\")\n",
        "plt.axis(\"off\")\n",
        "plt.show()  "
      ],
      "metadata": {
        "colab": {
          "base_uri": "https://localhost:8080/",
          "height": 310
        },
        "id": "VOfAK2i-a-sr",
        "outputId": "e9307def-2f83-4216-93d2-be85593f1a2a"
      },
      "execution_count": null,
      "outputs": [
        {
          "output_type": "display_data",
          "data": {
            "text/plain": [
              "<Figure size 720x720 with 1 Axes>"
            ],
            "image/png": "[encoded data removed]"
          },
          "metadata": {
            "needs_background": "light"
          }
        }
      ]
    },
    {
      "cell_type": "code",
      "source": [
        "words1=pd.Series(dpos['cleaned_text']).astype('string').str.cat(sep=' ')"
      ],
      "metadata": {
        "id": "KnHUyFw7h0BS"
      },
      "execution_count": null,
      "outputs": []
    },
    {
      "cell_type": "code",
      "source": [
        "#prima bozza PAROLE TWEET POSITIVI\n",
        "wordcloud = WordCloud(width=1600, stopwords=stopwords,height=800,max_font_size=100,max_words=20,collocations=False, background_color='white').generate(words1)\n",
        "plt.figure(figsize=(10,10))\n",
        "plt.imshow(wordcloud, interpolation=\"bilinear\")\n",
        "plt.axis(\"off\")\n",
        "plt.show()  "
      ],
      "metadata": {
        "colab": {
          "base_uri": "https://localhost:8080/",
          "height": 310
        },
        "outputId": "2cd2f8fa-0424-44c1-cf96-62db22547d00",
        "id": "qgEgYWyxh-0a"
      },
      "execution_count": null,
      "outputs": [
        {
          "output_type": "display_data",
          "data": {
            "text/plain": [
              "<Figure size 720x720 with 1 Axes>"
            ],
            "image/png": "[encoded data removed]"
          },
          "metadata": {
            "needs_background": "light"
          }
        }
      ]
    },
    {
      "cell_type": "code",
      "source": [
        "import matplotlib.pyplot as plt\n",
        "import seaborn as sns\n",
        "from  matplotlib.ticker import PercentFormatter"
      ],
      "metadata": {
        "id": "hGgDgTBXql2R"
      },
      "execution_count": null,
      "outputs": []
    },
    {
      "cell_type": "code",
      "source": [
        "#datasent.count()#=6443\n",
        "#datasent.loc[datasent['sentiment']=='negative'].count()#=4010\n",
        "#datasent.loc[datasent['sentiment']=='positive'].count()#=2429"
      ],
      "metadata": {
        "id": "MF2DEkyXji9x"
      },
      "execution_count": null,
      "outputs": []
    },
    {
      "cell_type": "code",
      "source": [
        "c={'percent':[(4010/6443)*100,(2429/6443)*100],'sentiment':['negative','positive']}\n",
        "df=pd.DataFrame(c)\n",
        "df['percent']=df['percent'].astype('int')"
      ],
      "metadata": {
        "id": "mmsG5QKGj96O"
      },
      "execution_count": null,
      "outputs": []
    },
    {
      "cell_type": "code",
      "source": [
        "sns.set_style(\"whitegrid\")\n",
        "sns.barplot(data=df,x='sentiment',y='percent',palette=['r','g'])"
      ],
      "metadata": {
        "outputId": "36b9e2ea-9e8a-40b5-edbf-b6e88ef6daa6",
        "colab": {
          "base_uri": "https://localhost:8080/",
          "height": 297
        },
        "id": "snth9xHIqpji"
      },
      "execution_count": null,
      "outputs": [
        {
          "output_type": "execute_result",
          "data": {
            "text/plain": [
              "<matplotlib.axes._subplots.AxesSubplot at 0x7f42f1377f50>"
            ]
          },
          "metadata": {},
          "execution_count": 44
        },
        {
          "output_type": "display_data",
          "data": {
            "text/plain": [
              "<Figure size 432x288 with 1 Axes>"
            ],
            "image/png": "[encoded data removed]"
          },
          "metadata": {}
        }
      ]
    },
    {
      "cell_type": "code",
      "source": [
        "#datasent.loc[(datasent['sigla']=='CISL')].count()#=4492\n",
        "#datasent.loc[(datasent['sigla']=='CISL') & (datasent['sentiment']=='negative')].count()#=2470\n",
        "#datasent.loc[(datasent['sigla']=='CISL') & (datasent['sentiment']=='positive')].count()#=2022\n",
        "#datasent.loc[(datasent['sigla']=='CGIL')].count()#=1438\n",
        "#datasent.loc[(datasent['sigla']=='CGIL') & (datasent['sentiment']=='negative')].count()#=1146\n",
        "#datasent.loc[(datasent['sigla']=='CGIL') & (datasent['sentiment']=='positive')].count()#=292\n",
        "#datasent.loc[(datasent['sigla']=='UIL')].count()#=513\n",
        "#datasent.loc[(datasent['sigla']=='UIL') & (datasent['sentiment']=='negative')].count()#=398\n",
        "#datasent.loc[(datasent['sigla']=='UIL') & (datasent['sentiment']=='positive')].count()#=115"
      ],
      "metadata": {
        "id": "aSKru2NCaFob"
      },
      "execution_count": null,
      "outputs": []
    },
    {
      "cell_type": "code",
      "source": [
        "d={'percent':[(2470/4492)*100,(2022/4492)*100,(1146/1438)*100,(292/1438)*100,(398/513)*100,(115/513)*100],'sentiment':['negative','positive','negative','positive','negative','positive'],'sigla':['CISL','CISL','CGIL','CGIL','UIL','UIL']}\n",
        "df1=pd.DataFrame(data=d)\n",
        "df1['percent']=df1['percent'].astype('int')\n",
        "\n"
      ],
      "metadata": {
        "id": "f-vNmyiSYWf9"
      },
      "execution_count": null,
      "outputs": []
    },
    {
      "cell_type": "code",
      "source": [
        "sns.barplot(data=df1,x='sigla',y='percent',hue='sentiment',palette=['r','g'])\n"
      ],
      "metadata": {
        "id": "lHcZGneLg0cf",
        "outputId": "97e4fb78-3202-4977-f115-f24c7a5fade1",
        "colab": {
          "base_uri": "https://localhost:8080/",
          "height": 297
        }
      },
      "execution_count": null,
      "outputs": [
        {
          "output_type": "execute_result",
          "data": {
            "text/plain": [
              "<matplotlib.axes._subplots.AxesSubplot at 0x7f42f0e8cf10>"
            ]
          },
          "metadata": {},
          "execution_count": 61
        },
        {
          "output_type": "display_data",
          "data": {
            "text/plain": [
              "<Figure size 432x288 with 1 Axes>"
            ],
            "image/png": "[encoded data removed]"
          },
          "metadata": {}
        }
      ]
    },
    {
      "cell_type": "code",
      "source": [
        "sns.histplot(datasent,y='emotion',stat='percent',hue='emotion')"
      ],
      "metadata": {
        "id": "kUDm0F427ddc",
        "outputId": "38d018a6-7e8c-4f5c-a52e-b0d90025c355",
        "colab": {
          "base_uri": "https://localhost:8080/",
          "height": 297
        }
      },
      "execution_count": null,
      "outputs": [
        {
          "output_type": "execute_result",
          "data": {
            "text/plain": [
              "<matplotlib.axes._subplots.AxesSubplot at 0x7f42f11a40d0>"
            ]
          },
          "metadata": {},
          "execution_count": 64
        },
        {
          "output_type": "display_data",
          "data": {
            "text/plain": [
              "<Figure size 432x288 with 1 Axes>"
            ],
            "image/png": "[encoded data removed]"
          },
          "metadata": {}
        }
      ]
    },
    {
      "cell_type": "markdown",
      "source": [
        "QUESTE SONO LE OPINIONI GENERALI, MA CHI LE ESPRIME?\\\n",
        "come cambiano tra sezioni regionali/provinciali dei sindacati e altri utenti?\\\n",
        "quanti follower ha chi scrive? quale distribuzione di utenti in base al numero di follower? come cambiano le opinioni tra grandi e piccoli utenti?\\\n",
        "come cambiano le opinioni in base a età,posizione politica,posizione nel mdl, zona geografica mediante l'osservazione 'manuale' di un campione di utenti?"
      ],
      "metadata": {
        "id": "jr3NRVE6l8c9"
      }
    }
  ]
}