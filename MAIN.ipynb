{
  "nbformat": 4,
  "nbformat_minor": 0,
  "metadata": {
    "colab": {
      "name": "MAIN.ipynb",
      "provenance": [],
      "authorship_tag": "ABX9TyMtHquYL7NnH3BeSyFtAAJB",
      "include_colab_link": true
    },
    "kernelspec": {
      "name": "python3",
      "display_name": "Python 3"
    },
    "language_info": {
      "name": "python"
    }
  },
  "cells": [
    {
      "cell_type": "markdown",
      "metadata": {
        "id": "view-in-github",
        "colab_type": "text"
      },
      "source": [
        "<a href=\"https://colab.research.google.com/github/paolofesta/prove/blob/master/MAIN.ipynb\" target=\"_parent\"><img src=\"https://colab.research.google.com/assets/colab-badge.svg\" alt=\"Open In Colab\"/></a>"
      ]
    },
    {
      "cell_type": "code",
      "source": [
        "import tweepy"
      ],
      "metadata": {
        "id": "jWBpUjNXR3JL"
      },
      "execution_count": 1,
      "outputs": []
    },
    {
      "cell_type": "code",
      "source": [
        "# VARIABILI CREATE CON LE CREDENZIALI PER ACCEDERE ALLE API\n",
        "ACCESS_TOKEN = '1500753981525659655-2OYENj2RBJS753zwIZ9a9zQukiSHY5'\n",
        "ACCESS_SECRET = 'M1naDc08ZQuWYX7yZV4hRZ8IwH0J5uiraPXNzTe6Py2TL'\n",
        "CONSUMER_KEY = 'yOKa2wpMnubBCq6pV3XLD8lRL'\n",
        "CONSUMER_SECRET = 'pDyuUu4ssKWS4PHF4wN2lZ7RjdYQe1yLjBbK745o3vdOoxgtUN'\n"
      ],
      "metadata": {
        "id": "TzWrdFh9R5r3"
      },
      "execution_count": 2,
      "outputs": []
    },
    {
      "cell_type": "code",
      "source": [
        "# SETUP ACCESSO API\n",
        "def connect_to_twitter_OAuth():\n",
        "    auth = tweepy.OAuthHandler(CONSUMER_KEY, CONSUMER_SECRET)\n",
        "    auth.set_access_token(ACCESS_TOKEN, ACCESS_SECRET)\n",
        "\n",
        "    api = tweepy.API(auth, wait_on_rate_limit=True ,wait_on_rate_limit_notify=True)\n",
        "    return api\n",
        "    \n",
        "api = connect_to_twitter_OAuth()"
      ],
      "metadata": {
        "id": "a-HhLANUSn1o"
      },
      "execution_count": 27,
      "outputs": []
    },
    {
      "cell_type": "code",
      "source": [
        "def limit_handled(cursor):\n",
        "  while True:\n",
        "    try:\n",
        "      yield cursor.next()\n",
        "    except tweepy.RateLimitError:\n",
        "        time.sleep(15*60)\n",
        "\n",
        "        "
      ],
      "metadata": {
        "id": "_GlyVbR8R5xx"
      },
      "execution_count": 15,
      "outputs": []
    },
    {
      "cell_type": "code",
      "source": [
        "pp1=limit_handled(tweepy.Cursor(api.search,q=\"gig economy\",tweet_mode='extended').items(10000)) #prove per il cap\n",
        "pp1"
      ],
      "metadata": {
        "id": "fTwr8Tza_TlT",
        "outputId": "672f3755-6ab8-4e53-af46-8e221528440f",
        "colab": {
          "base_uri": "https://localhost:8080/"
        }
      },
      "execution_count": 24,
      "outputs": [
        {
          "output_type": "execute_result",
          "data": {
            "text/plain": [
              "<generator object limit_handled at 0x7f857fce7e50>"
            ]
          },
          "metadata": {},
          "execution_count": 24
        }
      ]
    },
    {
      "cell_type": "code",
      "source": [
        "import numpy as np\n",
        "import pandas as pd"
      ],
      "metadata": {
        "id": "mGXst7SDLBVr"
      },
      "execution_count": 5,
      "outputs": []
    },
    {
      "cell_type": "code",
      "source": [
        "\n",
        "def extract_tweet_attributes(tweet_object):\n",
        "    # create empty list\n",
        "    tweet_list =[]\n",
        "    # loop through tweet objects\n",
        "    for tweet in tweet_object:\n",
        "        tweet_id = tweet.id # unique integer identifier for tweet\n",
        "        language= tweet.lang \n",
        "        name= tweet.user.name     \n",
        "        location= tweet.user.location\n",
        "        \n",
        "        follower_count= tweet.user.followers_count\n",
        "        verified= tweet.user.verified\n",
        "        text = tweet.full_text # utf-8 text of tweet\n",
        "        favorite_count = tweet.favorite_count\n",
        "        retweet_count = tweet.retweet_count\n",
        "        created_at = tweet.created_at # utc time tweet created\n",
        "        source = tweet.source # utility used to post tweet\n",
        "       \n",
        "       \n",
        "        # append attributes to list\n",
        "        tweet_list.append({'tweet_id':tweet_id,\n",
        "                           'language':language,\n",
        "                          'text':text,\n",
        "                           'name':name,\n",
        "                           'location':location,\n",
        "                           \n",
        "                          'follower_count':follower_count,\n",
        "                           'verified': verified,\n",
        "                          'favorite_count':favorite_count,\n",
        "                          'retweet_count':retweet_count,\n",
        "                          'created_at':created_at, \n",
        "                          'source':source, \n",
        "                          })\n",
        "\n",
        "    # create dataframe   \n",
        "    df1 = pd.DataFrame(tweet_list, columns=['tweet_id',\n",
        "                                           'text',\n",
        "                                           'language',\n",
        "                                           'name',\n",
        "                                          \n",
        "                                           'follower_count',\n",
        "                                           'verified',\n",
        "                                           'location',    \n",
        "                                           'favorite_count',\n",
        "                                           'retweet_count',\n",
        "                                           'created_at',\n",
        "                                           'source',\n",
        "                                           ])\n",
        "    return df1\n",
        "\n",
        "\n",
        "df1 = extract_tweet_attributes(pp1)\n",
        "df1"
      ],
      "metadata": {
        "colab": {
          "base_uri": "https://localhost:8080/",
          "height": 50
        },
        "outputId": "2ee877c3-7a82-4f45-8bd2-73c0d858c69d",
        "id": "ujBTSGucH__y"
      },
      "execution_count": 28,
      "outputs": [
        {
          "output_type": "execute_result",
          "data": {
            "text/plain": [
              "Empty DataFrame\n",
              "Columns: [tweet_id, text, language, name, follower_count, verified, location, favorite_count, retweet_count, created_at, source]\n",
              "Index: []"
            ],
            "text/html": [
              "\n",
              "  <div id=\"df-3add2bf2-1d97-4390-b509-cf0ec65d0778\">\n",
              "    <div class=\"colab-df-container\">\n",
              "      <div>\n",
              "<style scoped>\n",
              "    .dataframe tbody tr th:only-of-type {\n",
              "        vertical-align: middle;\n",
              "    }\n",
              "\n",
              "    .dataframe tbody tr th {\n",
              "        vertical-align: top;\n",
              "    }\n",
              "\n",
              "    .dataframe thead th {\n",
              "        text-align: right;\n",
              "    }\n",
              "</style>\n",
              "<table border=\"1\" class=\"dataframe\">\n",
              "  <thead>\n",
              "    <tr style=\"text-align: right;\">\n",
              "      <th></th>\n",
              "      <th>tweet_id</th>\n",
              "      <th>text</th>\n",
              "      <th>language</th>\n",
              "      <th>name</th>\n",
              "      <th>follower_count</th>\n",
              "      <th>verified</th>\n",
              "      <th>location</th>\n",
              "      <th>favorite_count</th>\n",
              "      <th>retweet_count</th>\n",
              "      <th>created_at</th>\n",
              "      <th>source</th>\n",
              "    </tr>\n",
              "  </thead>\n",
              "  <tbody>\n",
              "  </tbody>\n",
              "</table>\n",
              "</div>\n",
              "      <button class=\"colab-df-convert\" onclick=\"convertToInteractive('df-3add2bf2-1d97-4390-b509-cf0ec65d0778')\"\n",
              "              title=\"Convert this dataframe to an interactive table.\"\n",
              "              style=\"display:none;\">\n",
              "        \n",
              "  <svg xmlns=\"http://www.w3.org/2000/svg\" height=\"24px\"viewBox=\"0 0 24 24\"\n",
              "       width=\"24px\">\n",
              "    <path d=\"M0 0h24v24H0V0z\" fill=\"none\"/>\n",
              "    <path d=\"M18.56 5.44l.94 2.06.94-2.06 2.06-.94-2.06-.94-.94-2.06-.94 2.06-2.06.94zm-11 1L8.5 8.5l.94-2.06 2.06-.94-2.06-.94L8.5 2.5l-.94 2.06-2.06.94zm10 10l.94 2.06.94-2.06 2.06-.94-2.06-.94-.94-2.06-.94 2.06-2.06.94z\"/><path d=\"M17.41 7.96l-1.37-1.37c-.4-.4-.92-.59-1.43-.59-.52 0-1.04.2-1.43.59L10.3 9.45l-7.72 7.72c-.78.78-.78 2.05 0 2.83L4 21.41c.39.39.9.59 1.41.59.51 0 1.02-.2 1.41-.59l7.78-7.78 2.81-2.81c.8-.78.8-2.07 0-2.86zM5.41 20L4 18.59l7.72-7.72 1.47 1.35L5.41 20z\"/>\n",
              "  </svg>\n",
              "      </button>\n",
              "      \n",
              "  <style>\n",
              "    .colab-df-container {\n",
              "      display:flex;\n",
              "      flex-wrap:wrap;\n",
              "      gap: 12px;\n",
              "    }\n",
              "\n",
              "    .colab-df-convert {\n",
              "      background-color: #E8F0FE;\n",
              "      border: none;\n",
              "      border-radius: 50%;\n",
              "      cursor: pointer;\n",
              "      display: none;\n",
              "      fill: #1967D2;\n",
              "      height: 32px;\n",
              "      padding: 0 0 0 0;\n",
              "      width: 32px;\n",
              "    }\n",
              "\n",
              "    .colab-df-convert:hover {\n",
              "      background-color: #E2EBFA;\n",
              "      box-shadow: 0px 1px 2px rgba(60, 64, 67, 0.3), 0px 1px 3px 1px rgba(60, 64, 67, 0.15);\n",
              "      fill: #174EA6;\n",
              "    }\n",
              "\n",
              "    [theme=dark] .colab-df-convert {\n",
              "      background-color: #3B4455;\n",
              "      fill: #D2E3FC;\n",
              "    }\n",
              "\n",
              "    [theme=dark] .colab-df-convert:hover {\n",
              "      background-color: #434B5C;\n",
              "      box-shadow: 0px 1px 3px 1px rgba(0, 0, 0, 0.15);\n",
              "      filter: drop-shadow(0px 1px 2px rgba(0, 0, 0, 0.3));\n",
              "      fill: #FFFFFF;\n",
              "    }\n",
              "  </style>\n",
              "\n",
              "      <script>\n",
              "        const buttonEl =\n",
              "          document.querySelector('#df-3add2bf2-1d97-4390-b509-cf0ec65d0778 button.colab-df-convert');\n",
              "        buttonEl.style.display =\n",
              "          google.colab.kernel.accessAllowed ? 'block' : 'none';\n",
              "\n",
              "        async function convertToInteractive(key) {\n",
              "          const element = document.querySelector('#df-3add2bf2-1d97-4390-b509-cf0ec65d0778');\n",
              "          const dataTable =\n",
              "            await google.colab.kernel.invokeFunction('convertToInteractive',\n",
              "                                                     [key], {});\n",
              "          if (!dataTable) return;\n",
              "\n",
              "          const docLinkHtml = 'Like what you see? Visit the ' +\n",
              "            '<a target=\"_blank\" href=https://colab.research.google.com/notebooks/data_table.ipynb>data table notebook</a>'\n",
              "            + ' to learn more about interactive tables.';\n",
              "          element.innerHTML = '';\n",
              "          dataTable['output_type'] = 'display_data';\n",
              "          await google.colab.output.renderOutput(dataTable, element);\n",
              "          const docLink = document.createElement('div');\n",
              "          docLink.innerHTML = docLinkHtml;\n",
              "          element.appendChild(docLink);\n",
              "        }\n",
              "      </script>\n",
              "    </div>\n",
              "  </div>\n",
              "  "
            ]
          },
          "metadata": {},
          "execution_count": 28
        }
      ]
    }
  ]
}