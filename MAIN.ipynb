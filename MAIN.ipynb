{
  "nbformat": 4,
  "nbformat_minor": 0,
  "metadata": {
    "colab": {
      "name": "MAIN.ipynb",
      "provenance": [],
      "authorship_tag": "ABX9TyPngRY/hcYqbSsQ10jyAhQk",
      "include_colab_link": true
    },
    "kernelspec": {
      "name": "python3",
      "display_name": "Python 3"
    },
    "language_info": {
      "name": "python"
    }
  },
  "cells": [
    {
      "cell_type": "markdown",
      "metadata": {
        "id": "view-in-github",
        "colab_type": "text"
      },
      "source": [
        "<a href=\"https://colab.research.google.com/github/paolofesta/prove/blob/master/MAIN.ipynb\" target=\"_parent\"><img src=\"https://colab.research.google.com/assets/colab-badge.svg\" alt=\"Open In Colab\"/></a>"
      ]
    },
    {
      "cell_type": "code",
      "source": [
        "import tweepy"
      ],
      "metadata": {
        "id": "jWBpUjNXR3JL"
      },
      "execution_count": 2,
      "outputs": []
    },
    {
      "cell_type": "code",
      "source": [
        "# VARIABILI CREATE CON LE CREDENZIALI PER ACCEDERE ALLE API\n",
        "ACCESS_TOKEN = '1500753981525659655-2OYENj2RBJS753zwIZ9a9zQukiSHY5'\n",
        "ACCESS_SECRET = 'M1naDc08ZQuWYX7yZV4hRZ8IwH0J5uiraPXNzTe6Py2TL'\n",
        "CONSUMER_KEY = 'yOKa2wpMnubBCq6pV3XLD8lRL'\n",
        "CONSUMER_SECRET = 'pDyuUu4ssKWS4PHF4wN2lZ7RjdYQe1yLjBbK745o3vdOoxgtUN'\n"
      ],
      "metadata": {
        "id": "TzWrdFh9R5r3"
      },
      "execution_count": 3,
      "outputs": []
    },
    {
      "cell_type": "code",
      "source": [
        "# SETUP ACCESSO API\n",
        "def connect_to_twitter_OAuth():\n",
        "    auth = tweepy.OAuthHandler(CONSUMER_KEY, CONSUMER_SECRET)\n",
        "    auth.set_access_token(ACCESS_TOKEN, ACCESS_SECRET)\n",
        "\n",
        "    api = tweepy.API(auth, wait_on_rate_limit=True ,wait_on_rate_limit_notify=True)\n",
        "    return api\n",
        "    \n",
        "api = connect_to_twitter_OAuth()"
      ],
      "metadata": {
        "id": "a-HhLANUSn1o"
      },
      "execution_count": 4,
      "outputs": []
    },
    {
      "cell_type": "code",
      "source": [
        "def limit_handled(cursor):\n",
        "  while True:\n",
        "    try:\n",
        "      yield cursor.next()\n",
        "    except StopIteration:\n",
        "      return\n",
        "    except tweepy.RateLimitError:\n",
        "        time.sleep(15*60)\n",
        "\n",
        "        "
      ],
      "metadata": {
        "id": "_GlyVbR8R5xx"
      },
      "execution_count": 5,
      "outputs": []
    },
    {
      "cell_type": "code",
      "source": [
        "pp1=limit_handled(tweepy.Cursor(api.search,q=(\"food delivery\"),tweet_mode='extended').items(5000)) \n",
        "pp1"
      ],
      "metadata": {
        "id": "fTwr8Tza_TlT",
        "outputId": "50f10bca-830d-4875-f63d-6332090b9085",
        "colab": {
          "base_uri": "https://localhost:8080/"
        }
      },
      "execution_count": 6,
      "outputs": [
        {
          "output_type": "execute_result",
          "data": {
            "text/plain": [
              "<generator object limit_handled at 0x7f45d7023950>"
            ]
          },
          "metadata": {},
          "execution_count": 6
        }
      ]
    },
    {
      "cell_type": "code",
      "source": [
        "import numpy as np\n",
        "import pandas as pd"
      ],
      "metadata": {
        "id": "mGXst7SDLBVr"
      },
      "execution_count": 6,
      "outputs": []
    },
    {
      "cell_type": "code",
      "source": [
        "\n",
        "def extract_tweet_attributes(tweet_object):\n",
        "    # create empty list\n",
        "    tweet_list =[]\n",
        "    # loop through tweet objects\n",
        "    for tweet in tweet_object:\n",
        "        tweet_id = tweet.id # unique integer identifier for tweet\n",
        "        language= tweet.lang \n",
        "        name= tweet.user.name     \n",
        "        location= tweet.user.location\n",
        "        \n",
        "        follower_count= tweet.user.followers_count\n",
        "        verified= tweet.user.verified\n",
        "        text = tweet.full_text # utf-8 text of tweet\n",
        "        favorite_count = tweet.favorite_count\n",
        "        retweet_count = tweet.retweet_count\n",
        "        created_at = tweet.created_at # utc time tweet created\n",
        "        source = tweet.source # utility used to post tweet\n",
        "       \n",
        "       \n",
        "        # append attributes to list\n",
        "        tweet_list.append({'tweet_id':tweet_id,\n",
        "                           'language':language,\n",
        "                          'text':text,\n",
        "                           'name':name,\n",
        "                           'location':location,\n",
        "                           \n",
        "                          'follower_count':follower_count,\n",
        "                           'verified': verified,\n",
        "                          'favorite_count':favorite_count,\n",
        "                          'retweet_count':retweet_count,\n",
        "                          'created_at':created_at, \n",
        "                          'source':source, \n",
        "                          })\n",
        "\n",
        "    # create dataframe   \n",
        "    df1 = pd.DataFrame(tweet_list, columns=['tweet_id',\n",
        "                                           'text',\n",
        "                                           'language',\n",
        "                                           'name',\n",
        "                                          \n",
        "                                           'follower_count',\n",
        "                                           'verified',\n",
        "                                           'location',    \n",
        "                                           'favorite_count',\n",
        "                                           'retweet_count',\n",
        "                                           'created_at',\n",
        "                                           'source',\n",
        "                                           ])\n",
        "    return df1\n",
        "\n",
        "\n",
        "df1 = extract_tweet_attributes(pp1)\n",
        "df1"
      ],
      "metadata": {
        "colab": {
          "base_uri": "https://localhost:8080/",
          "height": 225
        },
        "outputId": "a9e1515a-ca41-4ec4-9454-d2d039063b67",
        "id": "ujBTSGucH__y"
      },
      "execution_count": 1,
      "outputs": [
        {
          "output_type": "error",
          "ename": "NameError",
          "evalue": "ignored",
          "traceback": [
            "\u001b[0;31m---------------------------------------------------------------------------\u001b[0m",
            "\u001b[0;31mNameError\u001b[0m                                 Traceback (most recent call last)",
            "\u001b[0;32m<ipython-input-1-570ecf51af2a>\u001b[0m in \u001b[0;36m<module>\u001b[0;34m()\u001b[0m\n\u001b[1;32m     51\u001b[0m \u001b[0;34m\u001b[0m\u001b[0m\n\u001b[1;32m     52\u001b[0m \u001b[0;34m\u001b[0m\u001b[0m\n\u001b[0;32m---> 53\u001b[0;31m \u001b[0mdf1\u001b[0m \u001b[0;34m=\u001b[0m \u001b[0mextract_tweet_attributes\u001b[0m\u001b[0;34m(\u001b[0m\u001b[0mpp1\u001b[0m\u001b[0;34m)\u001b[0m\u001b[0;34m\u001b[0m\u001b[0;34m\u001b[0m\u001b[0m\n\u001b[0m\u001b[1;32m     54\u001b[0m \u001b[0mdf1\u001b[0m\u001b[0;34m\u001b[0m\u001b[0;34m\u001b[0m\u001b[0m\n",
            "\u001b[0;31mNameError\u001b[0m: name 'pp1' is not defined"
          ]
        }
      ]
    },
    {
      "cell_type": "code",
      "source": [
        "df1.to_csv(r'gig_data',index=False)"
      ],
      "metadata": {
        "id": "S4H-REbdmHp1"
      },
      "execution_count": null,
      "outputs": []
    }
  ]
}