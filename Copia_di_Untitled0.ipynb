{
  "nbformat": 4,
  "nbformat_minor": 0,
  "metadata": {
    "colab": {
      "name": "Copia di Untitled0.ipynb",
      "provenance": [],
      "authorship_tag": "ABX9TyOt8zCbA/MGrVXVz9XYJKiv",
      "include_colab_link": true
    },
    "kernelspec": {
      "name": "python3",
      "display_name": "Python 3"
    }
  },
  "cells": [
    {
      "cell_type": "markdown",
      "metadata": {
        "id": "view-in-github",
        "colab_type": "text"
      },
      "source": [
        "<a href=\"https://colab.research.google.com/github/paolofesta/prove-Comp-Soc/blob/master/Copia_di_Untitled0.ipynb\" target=\"_parent\"><img src=\"https://colab.research.google.com/assets/colab-badge.svg\" alt=\"Open In Colab\"/></a>"
      ]
    },
    {
      "cell_type": "code",
      "metadata": {
        "id": "OgdnJ44Jtg3N"
      },
      "source": [
        "import numpy as np"
      ],
      "execution_count": 1,
      "outputs": []
    },
    {
      "cell_type": "code",
      "metadata": {
        "id": "oHKd5g8dtnlh"
      },
      "source": [
        "import pandas as pd"
      ],
      "execution_count": 2,
      "outputs": []
    },
    {
      "cell_type": "code",
      "metadata": {
        "id": "i_r1tnR6tq4I",
        "outputId": "45c69e0e-7e05-4dcf-b15a-939b778ffdd7",
        "colab": {
          "base_uri": "https://localhost:8080/",
          "height": 586
        }
      },
      "source": [
        "\n",
        "data=pd.read_csv('/content/csv1')\n",
        "data"
      ],
      "execution_count": 6,
      "outputs": [
        {
          "output_type": "execute_result",
          "data": {
            "text/html": [
              "<div>\n",
              "<style scoped>\n",
              "    .dataframe tbody tr th:only-of-type {\n",
              "        vertical-align: middle;\n",
              "    }\n",
              "\n",
              "    .dataframe tbody tr th {\n",
              "        vertical-align: top;\n",
              "    }\n",
              "\n",
              "    .dataframe thead th {\n",
              "        text-align: right;\n",
              "    }\n",
              "</style>\n",
              "<table border=\"1\" class=\"dataframe\">\n",
              "  <thead>\n",
              "    <tr style=\"text-align: right;\">\n",
              "      <th></th>\n",
              "      <th>ITTER107</th>\n",
              "      <th>Territorio</th>\n",
              "      <th>TIPO_DATO_CENERG</th>\n",
              "      <th>Tipo dato</th>\n",
              "      <th>DOTAZIONI_A</th>\n",
              "      <th>Fonte alimentazione</th>\n",
              "      <th>TIME</th>\n",
              "      <th>Seleziona periodo</th>\n",
              "      <th>Value</th>\n",
              "      <th>Flag Codes</th>\n",
              "      <th>Flags</th>\n",
              "    </tr>\n",
              "  </thead>\n",
              "  <tbody>\n",
              "    <tr>\n",
              "      <th>0</th>\n",
              "      <td>IT</td>\n",
              "      <td>Italia</td>\n",
              "      <td>ENER_SOUR_EXP</td>\n",
              "      <td>spese delle famiglie per consumi energetici pe...</td>\n",
              "      <td>ALL</td>\n",
              "      <td>tutte le voci</td>\n",
              "      <td>2013</td>\n",
              "      <td>2013</td>\n",
              "      <td>42302968.0</td>\n",
              "      <td>NaN</td>\n",
              "      <td>NaN</td>\n",
              "    </tr>\n",
              "    <tr>\n",
              "      <th>1</th>\n",
              "      <td>IT</td>\n",
              "      <td>Italia</td>\n",
              "      <td>ENER_SOUR_EXP</td>\n",
              "      <td>spese delle famiglie per consumi energetici pe...</td>\n",
              "      <td>H_OIL</td>\n",
              "      <td>gasolio</td>\n",
              "      <td>2013</td>\n",
              "      <td>2013</td>\n",
              "      <td>1694455.0</td>\n",
              "      <td>NaN</td>\n",
              "      <td>NaN</td>\n",
              "    </tr>\n",
              "    <tr>\n",
              "      <th>2</th>\n",
              "      <td>IT</td>\n",
              "      <td>Italia</td>\n",
              "      <td>ENER_SOUR_EXP</td>\n",
              "      <td>spese delle famiglie per consumi energetici pe...</td>\n",
              "      <td>LPG</td>\n",
              "      <td>Gpl (Gas Petrolio Liquefatto)</td>\n",
              "      <td>2013</td>\n",
              "      <td>2013</td>\n",
              "      <td>2437978.0</td>\n",
              "      <td>NaN</td>\n",
              "      <td>NaN</td>\n",
              "    </tr>\n",
              "    <tr>\n",
              "      <th>3</th>\n",
              "      <td>IT</td>\n",
              "      <td>Italia</td>\n",
              "      <td>ENER_SOUR_EXP</td>\n",
              "      <td>spese delle famiglie per consumi energetici pe...</td>\n",
              "      <td>ELECTR</td>\n",
              "      <td>energia elettrica</td>\n",
              "      <td>2013</td>\n",
              "      <td>2013</td>\n",
              "      <td>15035032.0</td>\n",
              "      <td>NaN</td>\n",
              "      <td>NaN</td>\n",
              "    </tr>\n",
              "    <tr>\n",
              "      <th>4</th>\n",
              "      <td>IT</td>\n",
              "      <td>Italia</td>\n",
              "      <td>ENER_SOUR_EXP</td>\n",
              "      <td>spese delle famiglie per consumi energetici pe...</td>\n",
              "      <td>METAN</td>\n",
              "      <td>metano</td>\n",
              "      <td>2013</td>\n",
              "      <td>2013</td>\n",
              "      <td>21080936.0</td>\n",
              "      <td>NaN</td>\n",
              "      <td>NaN</td>\n",
              "    </tr>\n",
              "    <tr>\n",
              "      <th>...</th>\n",
              "      <td>...</td>\n",
              "      <td>...</td>\n",
              "      <td>...</td>\n",
              "      <td>...</td>\n",
              "      <td>...</td>\n",
              "      <td>...</td>\n",
              "      <td>...</td>\n",
              "      <td>...</td>\n",
              "      <td>...</td>\n",
              "      <td>...</td>\n",
              "      <td>...</td>\n",
              "    </tr>\n",
              "    <tr>\n",
              "      <th>252</th>\n",
              "      <td>ITG2</td>\n",
              "      <td>Sardegna</td>\n",
              "      <td>ENER_SOUR_EXP_AV</td>\n",
              "      <td>spesa media effettiva delle famiglie per consu...</td>\n",
              "      <td>H_OIL</td>\n",
              "      <td>gasolio</td>\n",
              "      <td>2013</td>\n",
              "      <td>2013</td>\n",
              "      <td>1137.0</td>\n",
              "      <td>NaN</td>\n",
              "      <td>NaN</td>\n",
              "    </tr>\n",
              "    <tr>\n",
              "      <th>253</th>\n",
              "      <td>ITG2</td>\n",
              "      <td>Sardegna</td>\n",
              "      <td>ENER_SOUR_EXP_AV</td>\n",
              "      <td>spesa media effettiva delle famiglie per consu...</td>\n",
              "      <td>LPG</td>\n",
              "      <td>Gpl (Gas Petrolio Liquefatto)</td>\n",
              "      <td>2013</td>\n",
              "      <td>2013</td>\n",
              "      <td>382.0</td>\n",
              "      <td>NaN</td>\n",
              "      <td>NaN</td>\n",
              "    </tr>\n",
              "    <tr>\n",
              "      <th>254</th>\n",
              "      <td>ITG2</td>\n",
              "      <td>Sardegna</td>\n",
              "      <td>ENER_SOUR_EXP_AV</td>\n",
              "      <td>spesa media effettiva delle famiglie per consu...</td>\n",
              "      <td>ELECTR</td>\n",
              "      <td>energia elettrica</td>\n",
              "      <td>2013</td>\n",
              "      <td>2013</td>\n",
              "      <td>753.0</td>\n",
              "      <td>NaN</td>\n",
              "      <td>NaN</td>\n",
              "    </tr>\n",
              "    <tr>\n",
              "      <th>255</th>\n",
              "      <td>ITG2</td>\n",
              "      <td>Sardegna</td>\n",
              "      <td>ENER_SOUR_EXP_AV</td>\n",
              "      <td>spesa media effettiva delle famiglie per consu...</td>\n",
              "      <td>FIREWOOD</td>\n",
              "      <td>legna</td>\n",
              "      <td>2013</td>\n",
              "      <td>2013</td>\n",
              "      <td>470.0</td>\n",
              "      <td>NaN</td>\n",
              "      <td>NaN</td>\n",
              "    </tr>\n",
              "    <tr>\n",
              "      <th>256</th>\n",
              "      <td>ITG2</td>\n",
              "      <td>Sardegna</td>\n",
              "      <td>ENER_SOUR_EXP_AV</td>\n",
              "      <td>spesa media effettiva delle famiglie per consu...</td>\n",
              "      <td>PELLETS</td>\n",
              "      <td>pellets</td>\n",
              "      <td>2013</td>\n",
              "      <td>2013</td>\n",
              "      <td>418.0</td>\n",
              "      <td>NaN</td>\n",
              "      <td>NaN</td>\n",
              "    </tr>\n",
              "  </tbody>\n",
              "</table>\n",
              "<p>257 rows × 11 columns</p>\n",
              "</div>"
            ],
            "text/plain": [
              "    ITTER107 Territorio  TIPO_DATO_CENERG  ...       Value Flag Codes Flags\n",
              "0         IT     Italia     ENER_SOUR_EXP  ...  42302968.0        NaN   NaN\n",
              "1         IT     Italia     ENER_SOUR_EXP  ...   1694455.0        NaN   NaN\n",
              "2         IT     Italia     ENER_SOUR_EXP  ...   2437978.0        NaN   NaN\n",
              "3         IT     Italia     ENER_SOUR_EXP  ...  15035032.0        NaN   NaN\n",
              "4         IT     Italia     ENER_SOUR_EXP  ...  21080936.0        NaN   NaN\n",
              "..       ...        ...               ...  ...         ...        ...   ...\n",
              "252     ITG2   Sardegna  ENER_SOUR_EXP_AV  ...      1137.0        NaN   NaN\n",
              "253     ITG2   Sardegna  ENER_SOUR_EXP_AV  ...       382.0        NaN   NaN\n",
              "254     ITG2   Sardegna  ENER_SOUR_EXP_AV  ...       753.0        NaN   NaN\n",
              "255     ITG2   Sardegna  ENER_SOUR_EXP_AV  ...       470.0        NaN   NaN\n",
              "256     ITG2   Sardegna  ENER_SOUR_EXP_AV  ...       418.0        NaN   NaN\n",
              "\n",
              "[257 rows x 11 columns]"
            ]
          },
          "metadata": {
            "tags": []
          },
          "execution_count": 6
        }
      ]
    },
    {
      "cell_type": "markdown",
      "metadata": {
        "id": "c3PKzjIHzdGX"
      },
      "source": [
        "**l'obbiettivo è quello di misurare l'uso delle varie fonti energetiche nelle regioni italiane e osservarne la variazione negli ultimi anni**\\\n",
        "*fonte: dati Istat*"
      ]
    },
    {
      "cell_type": "code",
      "metadata": {
        "id": "cuJW4Z_p0lvP",
        "outputId": "683d221e-414f-42ae-ce2d-b80f95a2902c",
        "colab": {
          "base_uri": "https://localhost:8080/"
        }
      },
      "source": [
        "data.columns"
      ],
      "execution_count": 7,
      "outputs": [
        {
          "output_type": "execute_result",
          "data": {
            "text/plain": [
              "Index(['ITTER107', 'Territorio', 'TIPO_DATO_CENERG', 'Tipo dato',\n",
              "       'DOTAZIONI_A', 'Fonte alimentazione', 'TIME', 'Seleziona periodo',\n",
              "       'Value', 'Flag Codes', 'Flags'],\n",
              "      dtype='object')"
            ]
          },
          "metadata": {
            "tags": []
          },
          "execution_count": 7
        }
      ]
    },
    {
      "cell_type": "markdown",
      "metadata": {
        "id": "jU45SGfk1HbQ"
      },
      "source": [
        "'territorio': **indica la regione**\\\n",
        " 'DOTAZIONI_A': **indica la fonte energetica**\\\n",
        "'TIME': **indica il periodo, ovvero l'anno 2013(unico disponibile nell'archivio Istat)**\\\n",
        "'value':**indica spese delle famiglie per consumo di energia in migliaia di euro**\n"
      ]
    },
    {
      "cell_type": "code",
      "metadata": {
        "id": "_Ghjq9Je-1O2",
        "outputId": "4ce341da-45a8-461b-83c5-377b83e17063",
        "colab": {
          "base_uri": "https://localhost:8080/",
          "height": 402
        }
      },
      "source": [
        "data1=pd.DataFrame(data,columns=[\"Territorio\",\"DOTAZIONI_A\",\"TIME\",\"Value\"])\n",
        "data1"
      ],
      "execution_count": 8,
      "outputs": [
        {
          "output_type": "execute_result",
          "data": {
            "text/html": [
              "<div>\n",
              "<style scoped>\n",
              "    .dataframe tbody tr th:only-of-type {\n",
              "        vertical-align: middle;\n",
              "    }\n",
              "\n",
              "    .dataframe tbody tr th {\n",
              "        vertical-align: top;\n",
              "    }\n",
              "\n",
              "    .dataframe thead th {\n",
              "        text-align: right;\n",
              "    }\n",
              "</style>\n",
              "<table border=\"1\" class=\"dataframe\">\n",
              "  <thead>\n",
              "    <tr style=\"text-align: right;\">\n",
              "      <th></th>\n",
              "      <th>Territorio</th>\n",
              "      <th>DOTAZIONI_A</th>\n",
              "      <th>TIME</th>\n",
              "      <th>Value</th>\n",
              "    </tr>\n",
              "  </thead>\n",
              "  <tbody>\n",
              "    <tr>\n",
              "      <th>0</th>\n",
              "      <td>Italia</td>\n",
              "      <td>ALL</td>\n",
              "      <td>2013</td>\n",
              "      <td>42302968.0</td>\n",
              "    </tr>\n",
              "    <tr>\n",
              "      <th>1</th>\n",
              "      <td>Italia</td>\n",
              "      <td>H_OIL</td>\n",
              "      <td>2013</td>\n",
              "      <td>1694455.0</td>\n",
              "    </tr>\n",
              "    <tr>\n",
              "      <th>2</th>\n",
              "      <td>Italia</td>\n",
              "      <td>LPG</td>\n",
              "      <td>2013</td>\n",
              "      <td>2437978.0</td>\n",
              "    </tr>\n",
              "    <tr>\n",
              "      <th>3</th>\n",
              "      <td>Italia</td>\n",
              "      <td>ELECTR</td>\n",
              "      <td>2013</td>\n",
              "      <td>15035032.0</td>\n",
              "    </tr>\n",
              "    <tr>\n",
              "      <th>4</th>\n",
              "      <td>Italia</td>\n",
              "      <td>METAN</td>\n",
              "      <td>2013</td>\n",
              "      <td>21080936.0</td>\n",
              "    </tr>\n",
              "    <tr>\n",
              "      <th>...</th>\n",
              "      <td>...</td>\n",
              "      <td>...</td>\n",
              "      <td>...</td>\n",
              "      <td>...</td>\n",
              "    </tr>\n",
              "    <tr>\n",
              "      <th>252</th>\n",
              "      <td>Sardegna</td>\n",
              "      <td>H_OIL</td>\n",
              "      <td>2013</td>\n",
              "      <td>1137.0</td>\n",
              "    </tr>\n",
              "    <tr>\n",
              "      <th>253</th>\n",
              "      <td>Sardegna</td>\n",
              "      <td>LPG</td>\n",
              "      <td>2013</td>\n",
              "      <td>382.0</td>\n",
              "    </tr>\n",
              "    <tr>\n",
              "      <th>254</th>\n",
              "      <td>Sardegna</td>\n",
              "      <td>ELECTR</td>\n",
              "      <td>2013</td>\n",
              "      <td>753.0</td>\n",
              "    </tr>\n",
              "    <tr>\n",
              "      <th>255</th>\n",
              "      <td>Sardegna</td>\n",
              "      <td>FIREWOOD</td>\n",
              "      <td>2013</td>\n",
              "      <td>470.0</td>\n",
              "    </tr>\n",
              "    <tr>\n",
              "      <th>256</th>\n",
              "      <td>Sardegna</td>\n",
              "      <td>PELLETS</td>\n",
              "      <td>2013</td>\n",
              "      <td>418.0</td>\n",
              "    </tr>\n",
              "  </tbody>\n",
              "</table>\n",
              "<p>257 rows × 4 columns</p>\n",
              "</div>"
            ],
            "text/plain": [
              "    Territorio DOTAZIONI_A  TIME       Value\n",
              "0       Italia         ALL  2013  42302968.0\n",
              "1       Italia       H_OIL  2013   1694455.0\n",
              "2       Italia         LPG  2013   2437978.0\n",
              "3       Italia      ELECTR  2013  15035032.0\n",
              "4       Italia       METAN  2013  21080936.0\n",
              "..         ...         ...   ...         ...\n",
              "252   Sardegna       H_OIL  2013      1137.0\n",
              "253   Sardegna         LPG  2013       382.0\n",
              "254   Sardegna      ELECTR  2013       753.0\n",
              "255   Sardegna    FIREWOOD  2013       470.0\n",
              "256   Sardegna     PELLETS  2013       418.0\n",
              "\n",
              "[257 rows x 4 columns]"
            ]
          },
          "metadata": {
            "tags": []
          },
          "execution_count": 8
        }
      ]
    },
    {
      "cell_type": "markdown",
      "metadata": {
        "id": "ZON1E6XSYvpS"
      },
      "source": [
        "**Queste sono le colonne che ci servono per ora.\n",
        "ci sono dati mancanti?**\n"
      ]
    },
    {
      "cell_type": "code",
      "metadata": {
        "id": "06tq0wnxlbN9",
        "outputId": "bbde70a1-12bc-46b9-f14a-82f7d2c00638",
        "colab": {
          "base_uri": "https://localhost:8080/",
          "height": 402
        }
      },
      "source": [
        "pd.isnull(data1)"
      ],
      "execution_count": 9,
      "outputs": [
        {
          "output_type": "execute_result",
          "data": {
            "text/html": [
              "<div>\n",
              "<style scoped>\n",
              "    .dataframe tbody tr th:only-of-type {\n",
              "        vertical-align: middle;\n",
              "    }\n",
              "\n",
              "    .dataframe tbody tr th {\n",
              "        vertical-align: top;\n",
              "    }\n",
              "\n",
              "    .dataframe thead th {\n",
              "        text-align: right;\n",
              "    }\n",
              "</style>\n",
              "<table border=\"1\" class=\"dataframe\">\n",
              "  <thead>\n",
              "    <tr style=\"text-align: right;\">\n",
              "      <th></th>\n",
              "      <th>Territorio</th>\n",
              "      <th>DOTAZIONI_A</th>\n",
              "      <th>TIME</th>\n",
              "      <th>Value</th>\n",
              "    </tr>\n",
              "  </thead>\n",
              "  <tbody>\n",
              "    <tr>\n",
              "      <th>0</th>\n",
              "      <td>False</td>\n",
              "      <td>False</td>\n",
              "      <td>False</td>\n",
              "      <td>False</td>\n",
              "    </tr>\n",
              "    <tr>\n",
              "      <th>1</th>\n",
              "      <td>False</td>\n",
              "      <td>False</td>\n",
              "      <td>False</td>\n",
              "      <td>False</td>\n",
              "    </tr>\n",
              "    <tr>\n",
              "      <th>2</th>\n",
              "      <td>False</td>\n",
              "      <td>False</td>\n",
              "      <td>False</td>\n",
              "      <td>False</td>\n",
              "    </tr>\n",
              "    <tr>\n",
              "      <th>3</th>\n",
              "      <td>False</td>\n",
              "      <td>False</td>\n",
              "      <td>False</td>\n",
              "      <td>False</td>\n",
              "    </tr>\n",
              "    <tr>\n",
              "      <th>4</th>\n",
              "      <td>False</td>\n",
              "      <td>False</td>\n",
              "      <td>False</td>\n",
              "      <td>False</td>\n",
              "    </tr>\n",
              "    <tr>\n",
              "      <th>...</th>\n",
              "      <td>...</td>\n",
              "      <td>...</td>\n",
              "      <td>...</td>\n",
              "      <td>...</td>\n",
              "    </tr>\n",
              "    <tr>\n",
              "      <th>252</th>\n",
              "      <td>False</td>\n",
              "      <td>False</td>\n",
              "      <td>False</td>\n",
              "      <td>False</td>\n",
              "    </tr>\n",
              "    <tr>\n",
              "      <th>253</th>\n",
              "      <td>False</td>\n",
              "      <td>False</td>\n",
              "      <td>False</td>\n",
              "      <td>False</td>\n",
              "    </tr>\n",
              "    <tr>\n",
              "      <th>254</th>\n",
              "      <td>False</td>\n",
              "      <td>False</td>\n",
              "      <td>False</td>\n",
              "      <td>False</td>\n",
              "    </tr>\n",
              "    <tr>\n",
              "      <th>255</th>\n",
              "      <td>False</td>\n",
              "      <td>False</td>\n",
              "      <td>False</td>\n",
              "      <td>False</td>\n",
              "    </tr>\n",
              "    <tr>\n",
              "      <th>256</th>\n",
              "      <td>False</td>\n",
              "      <td>False</td>\n",
              "      <td>False</td>\n",
              "      <td>False</td>\n",
              "    </tr>\n",
              "  </tbody>\n",
              "</table>\n",
              "<p>257 rows × 4 columns</p>\n",
              "</div>"
            ],
            "text/plain": [
              "     Territorio  DOTAZIONI_A   TIME  Value\n",
              "0         False        False  False  False\n",
              "1         False        False  False  False\n",
              "2         False        False  False  False\n",
              "3         False        False  False  False\n",
              "4         False        False  False  False\n",
              "..          ...          ...    ...    ...\n",
              "252       False        False  False  False\n",
              "253       False        False  False  False\n",
              "254       False        False  False  False\n",
              "255       False        False  False  False\n",
              "256       False        False  False  False\n",
              "\n",
              "[257 rows x 4 columns]"
            ]
          },
          "metadata": {
            "tags": []
          },
          "execution_count": 9
        }
      ]
    },
    {
      "cell_type": "code",
      "metadata": {
        "id": "oaot8sHUErXs",
        "outputId": "1652de92-7c18-4828-a788-e8fa6b49bcd8",
        "colab": {
          "base_uri": "https://localhost:8080/",
          "height": 745
        }
      },
      "source": [
        "print(\"regioni in ordine di spesa per consumi energetici\")\n",
        "datab=data1.loc[data1['DOTAZIONI_A'].str.contains('ALL')]\n",
        "data2=datab.sort_values(\"Value\",ascending=False)\n",
        "data2\n",
        "\n"
      ],
      "execution_count": 10,
      "outputs": [
        {
          "output_type": "stream",
          "text": [
            "regioni in ordine di spesa per consumi energetici\n"
          ],
          "name": "stdout"
        },
        {
          "output_type": "execute_result",
          "data": {
            "text/html": [
              "<div>\n",
              "<style scoped>\n",
              "    .dataframe tbody tr th:only-of-type {\n",
              "        vertical-align: middle;\n",
              "    }\n",
              "\n",
              "    .dataframe tbody tr th {\n",
              "        vertical-align: top;\n",
              "    }\n",
              "\n",
              "    .dataframe thead th {\n",
              "        text-align: right;\n",
              "    }\n",
              "</style>\n",
              "<table border=\"1\" class=\"dataframe\">\n",
              "  <thead>\n",
              "    <tr style=\"text-align: right;\">\n",
              "      <th></th>\n",
              "      <th>Territorio</th>\n",
              "      <th>DOTAZIONI_A</th>\n",
              "      <th>TIME</th>\n",
              "      <th>Value</th>\n",
              "    </tr>\n",
              "  </thead>\n",
              "  <tbody>\n",
              "    <tr>\n",
              "      <th>0</th>\n",
              "      <td>Italia</td>\n",
              "      <td>ALL</td>\n",
              "      <td>2013</td>\n",
              "      <td>42302968.0</td>\n",
              "    </tr>\n",
              "    <tr>\n",
              "      <th>50</th>\n",
              "      <td>Lombardia</td>\n",
              "      <td>ALL</td>\n",
              "      <td>2013</td>\n",
              "      <td>8107385.0</td>\n",
              "    </tr>\n",
              "    <tr>\n",
              "      <th>94</th>\n",
              "      <td>Veneto</td>\n",
              "      <td>ALL</td>\n",
              "      <td>2013</td>\n",
              "      <td>3954097.0</td>\n",
              "    </tr>\n",
              "    <tr>\n",
              "      <th>116</th>\n",
              "      <td>Emilia-Romagna</td>\n",
              "      <td>ALL</td>\n",
              "      <td>2013</td>\n",
              "      <td>3834384.0</td>\n",
              "    </tr>\n",
              "    <tr>\n",
              "      <th>17</th>\n",
              "      <td>Piemonte</td>\n",
              "      <td>ALL</td>\n",
              "      <td>2013</td>\n",
              "      <td>3724781.0</td>\n",
              "    </tr>\n",
              "    <tr>\n",
              "      <th>160</th>\n",
              "      <td>Lazio</td>\n",
              "      <td>ALL</td>\n",
              "      <td>2013</td>\n",
              "      <td>3693710.0</td>\n",
              "    </tr>\n",
              "    <tr>\n",
              "      <th>193</th>\n",
              "      <td>Campania</td>\n",
              "      <td>ALL</td>\n",
              "      <td>2013</td>\n",
              "      <td>2922781.0</td>\n",
              "    </tr>\n",
              "    <tr>\n",
              "      <th>127</th>\n",
              "      <td>Toscana</td>\n",
              "      <td>ALL</td>\n",
              "      <td>2013</td>\n",
              "      <td>2768507.0</td>\n",
              "    </tr>\n",
              "    <tr>\n",
              "      <th>237</th>\n",
              "      <td>Sicilia</td>\n",
              "      <td>ALL</td>\n",
              "      <td>2013</td>\n",
              "      <td>2564383.0</td>\n",
              "    </tr>\n",
              "    <tr>\n",
              "      <th>204</th>\n",
              "      <td>Puglia</td>\n",
              "      <td>ALL</td>\n",
              "      <td>2013</td>\n",
              "      <td>2212700.0</td>\n",
              "    </tr>\n",
              "    <tr>\n",
              "      <th>39</th>\n",
              "      <td>Liguria</td>\n",
              "      <td>ALL</td>\n",
              "      <td>2013</td>\n",
              "      <td>1200124.0</td>\n",
              "    </tr>\n",
              "    <tr>\n",
              "      <th>226</th>\n",
              "      <td>Calabria</td>\n",
              "      <td>ALL</td>\n",
              "      <td>2013</td>\n",
              "      <td>1161997.0</td>\n",
              "    </tr>\n",
              "    <tr>\n",
              "      <th>248</th>\n",
              "      <td>Sardegna</td>\n",
              "      <td>ALL</td>\n",
              "      <td>2013</td>\n",
              "      <td>1085349.0</td>\n",
              "    </tr>\n",
              "    <tr>\n",
              "      <th>149</th>\n",
              "      <td>Marche</td>\n",
              "      <td>ALL</td>\n",
              "      <td>2013</td>\n",
              "      <td>1059778.0</td>\n",
              "    </tr>\n",
              "    <tr>\n",
              "      <th>105</th>\n",
              "      <td>Friuli-Venezia Giulia</td>\n",
              "      <td>ALL</td>\n",
              "      <td>2013</td>\n",
              "      <td>1010154.0</td>\n",
              "    </tr>\n",
              "    <tr>\n",
              "      <th>171</th>\n",
              "      <td>Abruzzo</td>\n",
              "      <td>ALL</td>\n",
              "      <td>2013</td>\n",
              "      <td>899437.0</td>\n",
              "    </tr>\n",
              "    <tr>\n",
              "      <th>61</th>\n",
              "      <td>Trentino Alto Adige / Südtirol</td>\n",
              "      <td>ALL</td>\n",
              "      <td>2013</td>\n",
              "      <td>762760.0</td>\n",
              "    </tr>\n",
              "    <tr>\n",
              "      <th>138</th>\n",
              "      <td>Umbria</td>\n",
              "      <td>ALL</td>\n",
              "      <td>2013</td>\n",
              "      <td>651324.0</td>\n",
              "    </tr>\n",
              "    <tr>\n",
              "      <th>83</th>\n",
              "      <td>Provincia Autonoma Trento</td>\n",
              "      <td>ALL</td>\n",
              "      <td>2013</td>\n",
              "      <td>416007.0</td>\n",
              "    </tr>\n",
              "    <tr>\n",
              "      <th>72</th>\n",
              "      <td>Provincia Autonoma Bolzano / Bozen</td>\n",
              "      <td>ALL</td>\n",
              "      <td>2013</td>\n",
              "      <td>346754.0</td>\n",
              "    </tr>\n",
              "    <tr>\n",
              "      <th>215</th>\n",
              "      <td>Basilicata</td>\n",
              "      <td>ALL</td>\n",
              "      <td>2013</td>\n",
              "      <td>346481.0</td>\n",
              "    </tr>\n",
              "    <tr>\n",
              "      <th>182</th>\n",
              "      <td>Molise</td>\n",
              "      <td>ALL</td>\n",
              "      <td>2013</td>\n",
              "      <td>204048.0</td>\n",
              "    </tr>\n",
              "    <tr>\n",
              "      <th>28</th>\n",
              "      <td>Valle d'Aosta / Vallée d'Aoste</td>\n",
              "      <td>ALL</td>\n",
              "      <td>2013</td>\n",
              "      <td>127899.0</td>\n",
              "    </tr>\n",
              "  </tbody>\n",
              "</table>\n",
              "</div>"
            ],
            "text/plain": [
              "                             Territorio DOTAZIONI_A  TIME       Value\n",
              "0                                Italia         ALL  2013  42302968.0\n",
              "50                            Lombardia         ALL  2013   8107385.0\n",
              "94                               Veneto         ALL  2013   3954097.0\n",
              "116                      Emilia-Romagna         ALL  2013   3834384.0\n",
              "17                             Piemonte         ALL  2013   3724781.0\n",
              "160                               Lazio         ALL  2013   3693710.0\n",
              "193                            Campania         ALL  2013   2922781.0\n",
              "127                             Toscana         ALL  2013   2768507.0\n",
              "237                             Sicilia         ALL  2013   2564383.0\n",
              "204                              Puglia         ALL  2013   2212700.0\n",
              "39                              Liguria         ALL  2013   1200124.0\n",
              "226                            Calabria         ALL  2013   1161997.0\n",
              "248                            Sardegna         ALL  2013   1085349.0\n",
              "149                              Marche         ALL  2013   1059778.0\n",
              "105               Friuli-Venezia Giulia         ALL  2013   1010154.0\n",
              "171                             Abruzzo         ALL  2013    899437.0\n",
              "61       Trentino Alto Adige / Südtirol         ALL  2013    762760.0\n",
              "138                              Umbria         ALL  2013    651324.0\n",
              "83            Provincia Autonoma Trento         ALL  2013    416007.0\n",
              "72   Provincia Autonoma Bolzano / Bozen         ALL  2013    346754.0\n",
              "215                          Basilicata         ALL  2013    346481.0\n",
              "182                              Molise         ALL  2013    204048.0\n",
              "28       Valle d'Aosta / Vallée d'Aoste         ALL  2013    127899.0"
            ]
          },
          "metadata": {
            "tags": []
          },
          "execution_count": 10
        }
      ]
    },
    {
      "cell_type": "code",
      "metadata": {
        "id": "ThZHIm3egscN"
      },
      "source": [
        "import matplotlib.pyplot as plt\n",
        "import seaborn as sns"
      ],
      "execution_count": 45,
      "outputs": []
    },
    {
      "cell_type": "code",
      "metadata": {
        "id": "2NnLZtFwgwvK",
        "outputId": "79489ca6-f9db-4879-ca21-f9a6e75bb4ea",
        "colab": {
          "base_uri": "https://localhost:8080/",
          "height": 387
        }
      },
      "source": [
        "sns.catplot(data=data2,y='Territorio',x=\"Value\")"
      ],
      "execution_count": 12,
      "outputs": [
        {
          "output_type": "execute_result",
          "data": {
            "text/plain": [
              "<seaborn.axisgrid.FacetGrid at 0x7f366de2c320>"
            ]
          },
          "metadata": {
            "tags": []
          },
          "execution_count": 12
        },
        {
          "output_type": "display_data",
          "data": {
            "image/png": "[encoded data removed]",
            "text/plain": [
              "<Figure size 360x360 with 1 Axes>"
            ]
          },
          "metadata": {
            "tags": [],
            "needs_background": "light"
          }
        }
      ]
    },
    {
      "cell_type": "markdown",
      "metadata": {
        "id": "22iQVXGDL9t6"
      },
      "source": [
        ""
      ]
    },
    {
      "cell_type": "markdown",
      "metadata": {
        "id": "KWT9j7FYcvbN"
      },
      "source": [
        "**Lombardia\\\n",
        "Veneto\\\n",
        "Emilia-Romagna\\\n",
        "sono le regioni con maggiore spesa in consumi energetici**\n"
      ]
    },
    {
      "cell_type": "code",
      "metadata": {
        "id": "InZuxpgadaWJ",
        "outputId": "d20179c6-1f87-490e-e45b-6971736a7153",
        "colab": {
          "base_uri": "https://localhost:8080/",
          "height": 225
        }
      },
      "source": [
        "data4=pd.DataFrame(data,columns=['DOTAZIONI_A'])\n",
        "data5=data4[5:11]\n",
        "data5\n",
        "#le diverse fonti energetiche#"
      ],
      "execution_count": 13,
      "outputs": [
        {
          "output_type": "execute_result",
          "data": {
            "text/html": [
              "<div>\n",
              "<style scoped>\n",
              "    .dataframe tbody tr th:only-of-type {\n",
              "        vertical-align: middle;\n",
              "    }\n",
              "\n",
              "    .dataframe tbody tr th {\n",
              "        vertical-align: top;\n",
              "    }\n",
              "\n",
              "    .dataframe thead th {\n",
              "        text-align: right;\n",
              "    }\n",
              "</style>\n",
              "<table border=\"1\" class=\"dataframe\">\n",
              "  <thead>\n",
              "    <tr style=\"text-align: right;\">\n",
              "      <th></th>\n",
              "      <th>DOTAZIONI_A</th>\n",
              "    </tr>\n",
              "  </thead>\n",
              "  <tbody>\n",
              "    <tr>\n",
              "      <th>5</th>\n",
              "      <td>H_OIL</td>\n",
              "    </tr>\n",
              "    <tr>\n",
              "      <th>6</th>\n",
              "      <td>LPG</td>\n",
              "    </tr>\n",
              "    <tr>\n",
              "      <th>7</th>\n",
              "      <td>ELECTR</td>\n",
              "    </tr>\n",
              "    <tr>\n",
              "      <th>8</th>\n",
              "      <td>METAN</td>\n",
              "    </tr>\n",
              "    <tr>\n",
              "      <th>9</th>\n",
              "      <td>FIREWOOD</td>\n",
              "    </tr>\n",
              "    <tr>\n",
              "      <th>10</th>\n",
              "      <td>PELLETS</td>\n",
              "    </tr>\n",
              "  </tbody>\n",
              "</table>\n",
              "</div>"
            ],
            "text/plain": [
              "   DOTAZIONI_A\n",
              "5        H_OIL\n",
              "6          LPG\n",
              "7       ELECTR\n",
              "8        METAN\n",
              "9     FIREWOOD\n",
              "10     PELLETS"
            ]
          },
          "metadata": {
            "tags": []
          },
          "execution_count": 13
        }
      ]
    },
    {
      "cell_type": "markdown",
      "metadata": {
        "id": "pom1_usaiI_w"
      },
      "source": [
        "**GASOLIO(h_oil):**"
      ]
    },
    {
      "cell_type": "code",
      "metadata": {
        "id": "PJMrPVWAjzEa",
        "outputId": "976b2789-ba17-4e3e-9a13-1e6de1aacf30",
        "colab": {
          "base_uri": "https://localhost:8080/",
          "height": 728
        }
      },
      "source": [
        "dataz=data.loc[~data['Tipo dato'].str.contains('media')]\n",
        "datag=dataz.loc[dataz['DOTAZIONI_A'].str.contains('H_OIL')]\n",
        "\n",
        "data6=datag.sort_values('Value',ascending=False)\n",
        "data7=pd.DataFrame(data6,columns=[\"Territorio\",\"DOTAZIONI_A\",\"TIME\",\"Value\"])\n",
        "data7\n"
      ],
      "execution_count": 14,
      "outputs": [
        {
          "output_type": "execute_result",
          "data": {
            "text/html": [
              "<div>\n",
              "<style scoped>\n",
              "    .dataframe tbody tr th:only-of-type {\n",
              "        vertical-align: middle;\n",
              "    }\n",
              "\n",
              "    .dataframe tbody tr th {\n",
              "        vertical-align: top;\n",
              "    }\n",
              "\n",
              "    .dataframe thead th {\n",
              "        text-align: right;\n",
              "    }\n",
              "</style>\n",
              "<table border=\"1\" class=\"dataframe\">\n",
              "  <thead>\n",
              "    <tr style=\"text-align: right;\">\n",
              "      <th></th>\n",
              "      <th>Territorio</th>\n",
              "      <th>DOTAZIONI_A</th>\n",
              "      <th>TIME</th>\n",
              "      <th>Value</th>\n",
              "    </tr>\n",
              "  </thead>\n",
              "  <tbody>\n",
              "    <tr>\n",
              "      <th>1</th>\n",
              "      <td>Italia</td>\n",
              "      <td>H_OIL</td>\n",
              "      <td>2013</td>\n",
              "      <td>1694455.0</td>\n",
              "    </tr>\n",
              "    <tr>\n",
              "      <th>51</th>\n",
              "      <td>Lombardia</td>\n",
              "      <td>H_OIL</td>\n",
              "      <td>2013</td>\n",
              "      <td>306923.0</td>\n",
              "    </tr>\n",
              "    <tr>\n",
              "      <th>95</th>\n",
              "      <td>Veneto</td>\n",
              "      <td>H_OIL</td>\n",
              "      <td>2013</td>\n",
              "      <td>250645.0</td>\n",
              "    </tr>\n",
              "    <tr>\n",
              "      <th>18</th>\n",
              "      <td>Piemonte</td>\n",
              "      <td>H_OIL</td>\n",
              "      <td>2013</td>\n",
              "      <td>202441.0</td>\n",
              "    </tr>\n",
              "    <tr>\n",
              "      <th>249</th>\n",
              "      <td>Sardegna</td>\n",
              "      <td>H_OIL</td>\n",
              "      <td>2013</td>\n",
              "      <td>167498.0</td>\n",
              "    </tr>\n",
              "    <tr>\n",
              "      <th>62</th>\n",
              "      <td>Trentino Alto Adige / Südtirol</td>\n",
              "      <td>H_OIL</td>\n",
              "      <td>2013</td>\n",
              "      <td>141308.0</td>\n",
              "    </tr>\n",
              "    <tr>\n",
              "      <th>128</th>\n",
              "      <td>Toscana</td>\n",
              "      <td>H_OIL</td>\n",
              "      <td>2013</td>\n",
              "      <td>127180.0</td>\n",
              "    </tr>\n",
              "    <tr>\n",
              "      <th>161</th>\n",
              "      <td>Lazio</td>\n",
              "      <td>H_OIL</td>\n",
              "      <td>2013</td>\n",
              "      <td>98630.0</td>\n",
              "    </tr>\n",
              "    <tr>\n",
              "      <th>106</th>\n",
              "      <td>Friuli-Venezia Giulia</td>\n",
              "      <td>H_OIL</td>\n",
              "      <td>2013</td>\n",
              "      <td>78649.0</td>\n",
              "    </tr>\n",
              "    <tr>\n",
              "      <th>73</th>\n",
              "      <td>Provincia Autonoma Bolzano / Bozen</td>\n",
              "      <td>H_OIL</td>\n",
              "      <td>2013</td>\n",
              "      <td>72564.0</td>\n",
              "    </tr>\n",
              "    <tr>\n",
              "      <th>84</th>\n",
              "      <td>Provincia Autonoma Trento</td>\n",
              "      <td>H_OIL</td>\n",
              "      <td>2013</td>\n",
              "      <td>68744.0</td>\n",
              "    </tr>\n",
              "    <tr>\n",
              "      <th>40</th>\n",
              "      <td>Liguria</td>\n",
              "      <td>H_OIL</td>\n",
              "      <td>2013</td>\n",
              "      <td>55576.0</td>\n",
              "    </tr>\n",
              "    <tr>\n",
              "      <th>205</th>\n",
              "      <td>Puglia</td>\n",
              "      <td>H_OIL</td>\n",
              "      <td>2013</td>\n",
              "      <td>52912.0</td>\n",
              "    </tr>\n",
              "    <tr>\n",
              "      <th>117</th>\n",
              "      <td>Emilia-Romagna</td>\n",
              "      <td>H_OIL</td>\n",
              "      <td>2013</td>\n",
              "      <td>49314.0</td>\n",
              "    </tr>\n",
              "    <tr>\n",
              "      <th>194</th>\n",
              "      <td>Campania</td>\n",
              "      <td>H_OIL</td>\n",
              "      <td>2013</td>\n",
              "      <td>39411.0</td>\n",
              "    </tr>\n",
              "    <tr>\n",
              "      <th>29</th>\n",
              "      <td>Valle d'Aosta / Vallée d'Aoste</td>\n",
              "      <td>H_OIL</td>\n",
              "      <td>2013</td>\n",
              "      <td>37226.0</td>\n",
              "    </tr>\n",
              "    <tr>\n",
              "      <th>139</th>\n",
              "      <td>Umbria</td>\n",
              "      <td>H_OIL</td>\n",
              "      <td>2013</td>\n",
              "      <td>23699.0</td>\n",
              "    </tr>\n",
              "    <tr>\n",
              "      <th>238</th>\n",
              "      <td>Sicilia</td>\n",
              "      <td>H_OIL</td>\n",
              "      <td>2013</td>\n",
              "      <td>21567.0</td>\n",
              "    </tr>\n",
              "    <tr>\n",
              "      <th>150</th>\n",
              "      <td>Marche</td>\n",
              "      <td>H_OIL</td>\n",
              "      <td>2013</td>\n",
              "      <td>20561.0</td>\n",
              "    </tr>\n",
              "    <tr>\n",
              "      <th>227</th>\n",
              "      <td>Calabria</td>\n",
              "      <td>H_OIL</td>\n",
              "      <td>2013</td>\n",
              "      <td>10027.0</td>\n",
              "    </tr>\n",
              "    <tr>\n",
              "      <th>172</th>\n",
              "      <td>Abruzzo</td>\n",
              "      <td>H_OIL</td>\n",
              "      <td>2013</td>\n",
              "      <td>NaN</td>\n",
              "    </tr>\n",
              "    <tr>\n",
              "      <th>183</th>\n",
              "      <td>Molise</td>\n",
              "      <td>H_OIL</td>\n",
              "      <td>2013</td>\n",
              "      <td>NaN</td>\n",
              "    </tr>\n",
              "    <tr>\n",
              "      <th>216</th>\n",
              "      <td>Basilicata</td>\n",
              "      <td>H_OIL</td>\n",
              "      <td>2013</td>\n",
              "      <td>NaN</td>\n",
              "    </tr>\n",
              "  </tbody>\n",
              "</table>\n",
              "</div>"
            ],
            "text/plain": [
              "                             Territorio DOTAZIONI_A  TIME      Value\n",
              "1                                Italia       H_OIL  2013  1694455.0\n",
              "51                            Lombardia       H_OIL  2013   306923.0\n",
              "95                               Veneto       H_OIL  2013   250645.0\n",
              "18                             Piemonte       H_OIL  2013   202441.0\n",
              "249                            Sardegna       H_OIL  2013   167498.0\n",
              "62       Trentino Alto Adige / Südtirol       H_OIL  2013   141308.0\n",
              "128                             Toscana       H_OIL  2013   127180.0\n",
              "161                               Lazio       H_OIL  2013    98630.0\n",
              "106               Friuli-Venezia Giulia       H_OIL  2013    78649.0\n",
              "73   Provincia Autonoma Bolzano / Bozen       H_OIL  2013    72564.0\n",
              "84            Provincia Autonoma Trento       H_OIL  2013    68744.0\n",
              "40                              Liguria       H_OIL  2013    55576.0\n",
              "205                              Puglia       H_OIL  2013    52912.0\n",
              "117                      Emilia-Romagna       H_OIL  2013    49314.0\n",
              "194                            Campania       H_OIL  2013    39411.0\n",
              "29       Valle d'Aosta / Vallée d'Aoste       H_OIL  2013    37226.0\n",
              "139                              Umbria       H_OIL  2013    23699.0\n",
              "238                             Sicilia       H_OIL  2013    21567.0\n",
              "150                              Marche       H_OIL  2013    20561.0\n",
              "227                            Calabria       H_OIL  2013    10027.0\n",
              "172                             Abruzzo       H_OIL  2013        NaN\n",
              "183                              Molise       H_OIL  2013        NaN\n",
              "216                          Basilicata       H_OIL  2013        NaN"
            ]
          },
          "metadata": {
            "tags": []
          },
          "execution_count": 14
        }
      ]
    },
    {
      "cell_type": "code",
      "metadata": {
        "id": "Qu52zO7xltDH",
        "outputId": "c6d4af6c-1275-4907-e657-ea03e9eca841",
        "colab": {
          "base_uri": "https://localhost:8080/",
          "height": 387
        }
      },
      "source": [
        "sns.catplot(data=data7,y='Territorio',x=\"Value\")"
      ],
      "execution_count": 15,
      "outputs": [
        {
          "output_type": "execute_result",
          "data": {
            "text/plain": [
              "<seaborn.axisgrid.FacetGrid at 0x7f366dbcecc0>"
            ]
          },
          "metadata": {
            "tags": []
          },
          "execution_count": 15
        },
        {
          "output_type": "display_data",
          "data": {
            "image/png": "[encoded data removed]",
            "text/plain": [
              "<Figure size 360x360 with 1 Axes>"
            ]
          },
          "metadata": {
            "tags": [],
            "needs_background": "light"
          }
        }
      ]
    },
    {
      "cell_type": "markdown",
      "metadata": {
        "id": "qN9FgRJJpEtk"
      },
      "source": [
        "**Lombardia\\\n",
        "Veneto\\\n",
        "Piemonte\\\n",
        "sono le regioni con la maggior spesa in consumi di gasolio**"
      ]
    },
    {
      "cell_type": "markdown",
      "metadata": {
        "id": "t1GMY1kpn5kK"
      },
      "source": [
        "**GAS LPG**"
      ]
    },
    {
      "cell_type": "code",
      "metadata": {
        "id": "kefknMKMnr1O",
        "outputId": "b9753e39-928c-4ed8-c753-4248b48aec61",
        "colab": {
          "base_uri": "https://localhost:8080/",
          "height": 728
        }
      },
      "source": [
        "datap=dataz.loc[dataz['DOTAZIONI_A'].str.contains('LPG')]\n",
        "\n",
        "data8=datap.sort_values('Value',ascending=False)\n",
        "data9=pd.DataFrame(data8,columns=[\"Territorio\",\"DOTAZIONI_A\",\"TIME\",\"Value\"])\n",
        "data9\n"
      ],
      "execution_count": 16,
      "outputs": [
        {
          "output_type": "execute_result",
          "data": {
            "text/html": [
              "<div>\n",
              "<style scoped>\n",
              "    .dataframe tbody tr th:only-of-type {\n",
              "        vertical-align: middle;\n",
              "    }\n",
              "\n",
              "    .dataframe tbody tr th {\n",
              "        vertical-align: top;\n",
              "    }\n",
              "\n",
              "    .dataframe thead th {\n",
              "        text-align: right;\n",
              "    }\n",
              "</style>\n",
              "<table border=\"1\" class=\"dataframe\">\n",
              "  <thead>\n",
              "    <tr style=\"text-align: right;\">\n",
              "      <th></th>\n",
              "      <th>Territorio</th>\n",
              "      <th>DOTAZIONI_A</th>\n",
              "      <th>TIME</th>\n",
              "      <th>Value</th>\n",
              "    </tr>\n",
              "  </thead>\n",
              "  <tbody>\n",
              "    <tr>\n",
              "      <th>2</th>\n",
              "      <td>Italia</td>\n",
              "      <td>LPG</td>\n",
              "      <td>2013</td>\n",
              "      <td>2437978.0</td>\n",
              "    </tr>\n",
              "    <tr>\n",
              "      <th>195</th>\n",
              "      <td>Campania</td>\n",
              "      <td>LPG</td>\n",
              "      <td>2013</td>\n",
              "      <td>322051.0</td>\n",
              "    </tr>\n",
              "    <tr>\n",
              "      <th>250</th>\n",
              "      <td>Sardegna</td>\n",
              "      <td>LPG</td>\n",
              "      <td>2013</td>\n",
              "      <td>265907.0</td>\n",
              "    </tr>\n",
              "    <tr>\n",
              "      <th>162</th>\n",
              "      <td>Lazio</td>\n",
              "      <td>LPG</td>\n",
              "      <td>2013</td>\n",
              "      <td>219912.0</td>\n",
              "    </tr>\n",
              "    <tr>\n",
              "      <th>239</th>\n",
              "      <td>Sicilia</td>\n",
              "      <td>LPG</td>\n",
              "      <td>2013</td>\n",
              "      <td>216050.0</td>\n",
              "    </tr>\n",
              "    <tr>\n",
              "      <th>96</th>\n",
              "      <td>Veneto</td>\n",
              "      <td>LPG</td>\n",
              "      <td>2013</td>\n",
              "      <td>215412.0</td>\n",
              "    </tr>\n",
              "    <tr>\n",
              "      <th>19</th>\n",
              "      <td>Piemonte</td>\n",
              "      <td>LPG</td>\n",
              "      <td>2013</td>\n",
              "      <td>193864.0</td>\n",
              "    </tr>\n",
              "    <tr>\n",
              "      <th>118</th>\n",
              "      <td>Emilia-Romagna</td>\n",
              "      <td>LPG</td>\n",
              "      <td>2013</td>\n",
              "      <td>152649.0</td>\n",
              "    </tr>\n",
              "    <tr>\n",
              "      <th>129</th>\n",
              "      <td>Toscana</td>\n",
              "      <td>LPG</td>\n",
              "      <td>2013</td>\n",
              "      <td>135410.0</td>\n",
              "    </tr>\n",
              "    <tr>\n",
              "      <th>228</th>\n",
              "      <td>Calabria</td>\n",
              "      <td>LPG</td>\n",
              "      <td>2013</td>\n",
              "      <td>126783.0</td>\n",
              "    </tr>\n",
              "    <tr>\n",
              "      <th>52</th>\n",
              "      <td>Lombardia</td>\n",
              "      <td>LPG</td>\n",
              "      <td>2013</td>\n",
              "      <td>119751.0</td>\n",
              "    </tr>\n",
              "    <tr>\n",
              "      <th>206</th>\n",
              "      <td>Puglia</td>\n",
              "      <td>LPG</td>\n",
              "      <td>2013</td>\n",
              "      <td>98547.0</td>\n",
              "    </tr>\n",
              "    <tr>\n",
              "      <th>151</th>\n",
              "      <td>Marche</td>\n",
              "      <td>LPG</td>\n",
              "      <td>2013</td>\n",
              "      <td>74256.0</td>\n",
              "    </tr>\n",
              "    <tr>\n",
              "      <th>41</th>\n",
              "      <td>Liguria</td>\n",
              "      <td>LPG</td>\n",
              "      <td>2013</td>\n",
              "      <td>58680.0</td>\n",
              "    </tr>\n",
              "    <tr>\n",
              "      <th>107</th>\n",
              "      <td>Friuli-Venezia Giulia</td>\n",
              "      <td>LPG</td>\n",
              "      <td>2013</td>\n",
              "      <td>56579.0</td>\n",
              "    </tr>\n",
              "    <tr>\n",
              "      <th>140</th>\n",
              "      <td>Umbria</td>\n",
              "      <td>LPG</td>\n",
              "      <td>2013</td>\n",
              "      <td>54821.0</td>\n",
              "    </tr>\n",
              "    <tr>\n",
              "      <th>173</th>\n",
              "      <td>Abruzzo</td>\n",
              "      <td>LPG</td>\n",
              "      <td>2013</td>\n",
              "      <td>42889.0</td>\n",
              "    </tr>\n",
              "    <tr>\n",
              "      <th>63</th>\n",
              "      <td>Trentino Alto Adige / Südtirol</td>\n",
              "      <td>LPG</td>\n",
              "      <td>2013</td>\n",
              "      <td>37679.0</td>\n",
              "    </tr>\n",
              "    <tr>\n",
              "      <th>85</th>\n",
              "      <td>Provincia Autonoma Trento</td>\n",
              "      <td>LPG</td>\n",
              "      <td>2013</td>\n",
              "      <td>26443.0</td>\n",
              "    </tr>\n",
              "    <tr>\n",
              "      <th>217</th>\n",
              "      <td>Basilicata</td>\n",
              "      <td>LPG</td>\n",
              "      <td>2013</td>\n",
              "      <td>20432.0</td>\n",
              "    </tr>\n",
              "    <tr>\n",
              "      <th>30</th>\n",
              "      <td>Valle d'Aosta / Vallée d'Aoste</td>\n",
              "      <td>LPG</td>\n",
              "      <td>2013</td>\n",
              "      <td>20345.0</td>\n",
              "    </tr>\n",
              "    <tr>\n",
              "      <th>74</th>\n",
              "      <td>Provincia Autonoma Bolzano / Bozen</td>\n",
              "      <td>LPG</td>\n",
              "      <td>2013</td>\n",
              "      <td>11236.0</td>\n",
              "    </tr>\n",
              "    <tr>\n",
              "      <th>184</th>\n",
              "      <td>Molise</td>\n",
              "      <td>LPG</td>\n",
              "      <td>2013</td>\n",
              "      <td>5962.0</td>\n",
              "    </tr>\n",
              "  </tbody>\n",
              "</table>\n",
              "</div>"
            ],
            "text/plain": [
              "                             Territorio DOTAZIONI_A  TIME      Value\n",
              "2                                Italia         LPG  2013  2437978.0\n",
              "195                            Campania         LPG  2013   322051.0\n",
              "250                            Sardegna         LPG  2013   265907.0\n",
              "162                               Lazio         LPG  2013   219912.0\n",
              "239                             Sicilia         LPG  2013   216050.0\n",
              "96                               Veneto         LPG  2013   215412.0\n",
              "19                             Piemonte         LPG  2013   193864.0\n",
              "118                      Emilia-Romagna         LPG  2013   152649.0\n",
              "129                             Toscana         LPG  2013   135410.0\n",
              "228                            Calabria         LPG  2013   126783.0\n",
              "52                            Lombardia         LPG  2013   119751.0\n",
              "206                              Puglia         LPG  2013    98547.0\n",
              "151                              Marche         LPG  2013    74256.0\n",
              "41                              Liguria         LPG  2013    58680.0\n",
              "107               Friuli-Venezia Giulia         LPG  2013    56579.0\n",
              "140                              Umbria         LPG  2013    54821.0\n",
              "173                             Abruzzo         LPG  2013    42889.0\n",
              "63       Trentino Alto Adige / Südtirol         LPG  2013    37679.0\n",
              "85            Provincia Autonoma Trento         LPG  2013    26443.0\n",
              "217                          Basilicata         LPG  2013    20432.0\n",
              "30       Valle d'Aosta / Vallée d'Aoste         LPG  2013    20345.0\n",
              "74   Provincia Autonoma Bolzano / Bozen         LPG  2013    11236.0\n",
              "184                              Molise         LPG  2013     5962.0"
            ]
          },
          "metadata": {
            "tags": []
          },
          "execution_count": 16
        }
      ]
    },
    {
      "cell_type": "code",
      "metadata": {
        "id": "MDi3ovUPoIoN",
        "outputId": "1fe0899b-817b-4a54-b1e4-bdb210890fe1",
        "colab": {
          "base_uri": "https://localhost:8080/",
          "height": 387
        }
      },
      "source": [
        "sns.catplot(data=data9,y='Territorio',x=\"Value\")"
      ],
      "execution_count": 17,
      "outputs": [
        {
          "output_type": "execute_result",
          "data": {
            "text/plain": [
              "<seaborn.axisgrid.FacetGrid at 0x7f366add1940>"
            ]
          },
          "metadata": {
            "tags": []
          },
          "execution_count": 17
        },
        {
          "output_type": "display_data",
          "data": {
            "image/png": "[encoded data removed]",
            "text/plain": [
              "<Figure size 360x360 with 1 Axes>"
            ]
          },
          "metadata": {
            "tags": [],
            "needs_background": "light"
          }
        }
      ]
    },
    {
      "cell_type": "markdown",
      "metadata": {
        "id": "cZnkY7MMpl7A"
      },
      "source": [
        "**Campania\\\n",
        "Sardegna\\\n",
        "Lazio\\\n",
        "sono le regioni in cui si spende di più nel consumo di LPG**"
      ]
    },
    {
      "cell_type": "markdown",
      "metadata": {
        "id": "5JQnJII-qdQ_"
      },
      "source": [
        "**ENERGIA ELETTRICA**"
      ]
    },
    {
      "cell_type": "code",
      "metadata": {
        "id": "8cWEyESXp3XI",
        "outputId": "28a8b27e-4b75-4267-bae3-2ce4152b1e89",
        "colab": {
          "base_uri": "https://localhost:8080/",
          "height": 728
        }
      },
      "source": [
        "datau=dataz.loc[dataz['DOTAZIONI_A'].str.contains('ELECTR')]\n",
        "\n",
        "data10=datau.sort_values('Value',ascending=False)\n",
        "data11=pd.DataFrame(data10,columns=[\"Territorio\",\"DOTAZIONI_A\",\"TIME\",\"Value\"])\n",
        "data11"
      ],
      "execution_count": 19,
      "outputs": [
        {
          "output_type": "execute_result",
          "data": {
            "text/html": [
              "<div>\n",
              "<style scoped>\n",
              "    .dataframe tbody tr th:only-of-type {\n",
              "        vertical-align: middle;\n",
              "    }\n",
              "\n",
              "    .dataframe tbody tr th {\n",
              "        vertical-align: top;\n",
              "    }\n",
              "\n",
              "    .dataframe thead th {\n",
              "        text-align: right;\n",
              "    }\n",
              "</style>\n",
              "<table border=\"1\" class=\"dataframe\">\n",
              "  <thead>\n",
              "    <tr style=\"text-align: right;\">\n",
              "      <th></th>\n",
              "      <th>Territorio</th>\n",
              "      <th>DOTAZIONI_A</th>\n",
              "      <th>TIME</th>\n",
              "      <th>Value</th>\n",
              "    </tr>\n",
              "  </thead>\n",
              "  <tbody>\n",
              "    <tr>\n",
              "      <th>3</th>\n",
              "      <td>Italia</td>\n",
              "      <td>ELECTR</td>\n",
              "      <td>2013</td>\n",
              "      <td>15035032.0</td>\n",
              "    </tr>\n",
              "    <tr>\n",
              "      <th>53</th>\n",
              "      <td>Lombardia</td>\n",
              "      <td>ELECTR</td>\n",
              "      <td>2013</td>\n",
              "      <td>2398897.0</td>\n",
              "    </tr>\n",
              "    <tr>\n",
              "      <th>163</th>\n",
              "      <td>Lazio</td>\n",
              "      <td>ELECTR</td>\n",
              "      <td>2013</td>\n",
              "      <td>1470901.0</td>\n",
              "    </tr>\n",
              "    <tr>\n",
              "      <th>240</th>\n",
              "      <td>Sicilia</td>\n",
              "      <td>ELECTR</td>\n",
              "      <td>2013</td>\n",
              "      <td>1364016.0</td>\n",
              "    </tr>\n",
              "    <tr>\n",
              "      <th>196</th>\n",
              "      <td>Campania</td>\n",
              "      <td>ELECTR</td>\n",
              "      <td>2013</td>\n",
              "      <td>1341000.0</td>\n",
              "    </tr>\n",
              "    <tr>\n",
              "      <th>97</th>\n",
              "      <td>Veneto</td>\n",
              "      <td>ELECTR</td>\n",
              "      <td>2013</td>\n",
              "      <td>1284108.0</td>\n",
              "    </tr>\n",
              "    <tr>\n",
              "      <th>119</th>\n",
              "      <td>Emilia-Romagna</td>\n",
              "      <td>ELECTR</td>\n",
              "      <td>2013</td>\n",
              "      <td>1185561.0</td>\n",
              "    </tr>\n",
              "    <tr>\n",
              "      <th>20</th>\n",
              "      <td>Piemonte</td>\n",
              "      <td>ELECTR</td>\n",
              "      <td>2013</td>\n",
              "      <td>1037748.0</td>\n",
              "    </tr>\n",
              "    <tr>\n",
              "      <th>130</th>\n",
              "      <td>Toscana</td>\n",
              "      <td>ELECTR</td>\n",
              "      <td>2013</td>\n",
              "      <td>954410.0</td>\n",
              "    </tr>\n",
              "    <tr>\n",
              "      <th>207</th>\n",
              "      <td>Puglia</td>\n",
              "      <td>ELECTR</td>\n",
              "      <td>2013</td>\n",
              "      <td>933421.0</td>\n",
              "    </tr>\n",
              "    <tr>\n",
              "      <th>251</th>\n",
              "      <td>Sardegna</td>\n",
              "      <td>ELECTR</td>\n",
              "      <td>2013</td>\n",
              "      <td>535117.0</td>\n",
              "    </tr>\n",
              "    <tr>\n",
              "      <th>229</th>\n",
              "      <td>Calabria</td>\n",
              "      <td>ELECTR</td>\n",
              "      <td>2013</td>\n",
              "      <td>509778.0</td>\n",
              "    </tr>\n",
              "    <tr>\n",
              "      <th>42</th>\n",
              "      <td>Liguria</td>\n",
              "      <td>ELECTR</td>\n",
              "      <td>2013</td>\n",
              "      <td>364063.0</td>\n",
              "    </tr>\n",
              "    <tr>\n",
              "      <th>152</th>\n",
              "      <td>Marche</td>\n",
              "      <td>ELECTR</td>\n",
              "      <td>2013</td>\n",
              "      <td>358593.0</td>\n",
              "    </tr>\n",
              "    <tr>\n",
              "      <th>174</th>\n",
              "      <td>Abruzzo</td>\n",
              "      <td>ELECTR</td>\n",
              "      <td>2013</td>\n",
              "      <td>310286.0</td>\n",
              "    </tr>\n",
              "    <tr>\n",
              "      <th>108</th>\n",
              "      <td>Friuli-Venezia Giulia</td>\n",
              "      <td>ELECTR</td>\n",
              "      <td>2013</td>\n",
              "      <td>297576.0</td>\n",
              "    </tr>\n",
              "    <tr>\n",
              "      <th>64</th>\n",
              "      <td>Trentino Alto Adige / Südtirol</td>\n",
              "      <td>ELECTR</td>\n",
              "      <td>2013</td>\n",
              "      <td>235349.0</td>\n",
              "    </tr>\n",
              "    <tr>\n",
              "      <th>141</th>\n",
              "      <td>Umbria</td>\n",
              "      <td>ELECTR</td>\n",
              "      <td>2013</td>\n",
              "      <td>226816.0</td>\n",
              "    </tr>\n",
              "    <tr>\n",
              "      <th>218</th>\n",
              "      <td>Basilicata</td>\n",
              "      <td>ELECTR</td>\n",
              "      <td>2013</td>\n",
              "      <td>121253.0</td>\n",
              "    </tr>\n",
              "    <tr>\n",
              "      <th>86</th>\n",
              "      <td>Provincia Autonoma Trento</td>\n",
              "      <td>ELECTR</td>\n",
              "      <td>2013</td>\n",
              "      <td>117806.0</td>\n",
              "    </tr>\n",
              "    <tr>\n",
              "      <th>75</th>\n",
              "      <td>Provincia Autonoma Bolzano / Bozen</td>\n",
              "      <td>ELECTR</td>\n",
              "      <td>2013</td>\n",
              "      <td>117543.0</td>\n",
              "    </tr>\n",
              "    <tr>\n",
              "      <th>185</th>\n",
              "      <td>Molise</td>\n",
              "      <td>ELECTR</td>\n",
              "      <td>2013</td>\n",
              "      <td>72710.0</td>\n",
              "    </tr>\n",
              "    <tr>\n",
              "      <th>31</th>\n",
              "      <td>Valle d'Aosta / Vallée d'Aoste</td>\n",
              "      <td>ELECTR</td>\n",
              "      <td>2013</td>\n",
              "      <td>33427.0</td>\n",
              "    </tr>\n",
              "  </tbody>\n",
              "</table>\n",
              "</div>"
            ],
            "text/plain": [
              "                             Territorio DOTAZIONI_A  TIME       Value\n",
              "3                                Italia      ELECTR  2013  15035032.0\n",
              "53                            Lombardia      ELECTR  2013   2398897.0\n",
              "163                               Lazio      ELECTR  2013   1470901.0\n",
              "240                             Sicilia      ELECTR  2013   1364016.0\n",
              "196                            Campania      ELECTR  2013   1341000.0\n",
              "97                               Veneto      ELECTR  2013   1284108.0\n",
              "119                      Emilia-Romagna      ELECTR  2013   1185561.0\n",
              "20                             Piemonte      ELECTR  2013   1037748.0\n",
              "130                             Toscana      ELECTR  2013    954410.0\n",
              "207                              Puglia      ELECTR  2013    933421.0\n",
              "251                            Sardegna      ELECTR  2013    535117.0\n",
              "229                            Calabria      ELECTR  2013    509778.0\n",
              "42                              Liguria      ELECTR  2013    364063.0\n",
              "152                              Marche      ELECTR  2013    358593.0\n",
              "174                             Abruzzo      ELECTR  2013    310286.0\n",
              "108               Friuli-Venezia Giulia      ELECTR  2013    297576.0\n",
              "64       Trentino Alto Adige / Südtirol      ELECTR  2013    235349.0\n",
              "141                              Umbria      ELECTR  2013    226816.0\n",
              "218                          Basilicata      ELECTR  2013    121253.0\n",
              "86            Provincia Autonoma Trento      ELECTR  2013    117806.0\n",
              "75   Provincia Autonoma Bolzano / Bozen      ELECTR  2013    117543.0\n",
              "185                              Molise      ELECTR  2013     72710.0\n",
              "31       Valle d'Aosta / Vallée d'Aoste      ELECTR  2013     33427.0"
            ]
          },
          "metadata": {
            "tags": []
          },
          "execution_count": 19
        }
      ]
    },
    {
      "cell_type": "code",
      "metadata": {
        "id": "LzdDH8TldiLR",
        "outputId": "768266eb-bd38-487a-95b4-60a6dde1fbb8",
        "colab": {
          "base_uri": "https://localhost:8080/",
          "height": 387
        }
      },
      "source": [
        "sns.catplot(data=data11,y='Territorio',x=\"Value\")"
      ],
      "execution_count": 20,
      "outputs": [
        {
          "output_type": "execute_result",
          "data": {
            "text/plain": [
              "<seaborn.axisgrid.FacetGrid at 0x7f366a7a8438>"
            ]
          },
          "metadata": {
            "tags": []
          },
          "execution_count": 20
        },
        {
          "output_type": "display_data",
          "data": {
            "image/png": "[encoded data removed]",
            "text/plain": [
              "<Figure size 360x360 with 1 Axes>"
            ]
          },
          "metadata": {
            "tags": [],
            "needs_background": "light"
          }
        }
      ]
    },
    {
      "cell_type": "markdown",
      "metadata": {
        "id": "isEeu9h2drsQ"
      },
      "source": [
        "**Lombardia\\\n",
        "Lazio\\\n",
        "Sicilia**\n"
      ]
    },
    {
      "cell_type": "markdown",
      "metadata": {
        "id": "c8GbEWnVeErI"
      },
      "source": [
        "**METANO**"
      ]
    },
    {
      "cell_type": "code",
      "metadata": {
        "id": "xtuFXoqMeMpj",
        "outputId": "bcd6be68-ac4e-40a1-c37f-1f0fa5a0f674",
        "colab": {
          "base_uri": "https://localhost:8080/",
          "height": 698
        }
      },
      "source": [
        "datak=dataz.query(\"DOTAZIONI_A=='METAN'\")\n",
        "\n",
        "data12=datak.sort_values('Value',ascending=False)\n",
        "data13=pd.DataFrame(data12,columns=[\"Territorio\",\"DOTAZIONI_A\",\"TIME\",\"Value\"])\n",
        "data13"
      ],
      "execution_count": 23,
      "outputs": [
        {
          "output_type": "execute_result",
          "data": {
            "text/html": [
              "<div>\n",
              "<style scoped>\n",
              "    .dataframe tbody tr th:only-of-type {\n",
              "        vertical-align: middle;\n",
              "    }\n",
              "\n",
              "    .dataframe tbody tr th {\n",
              "        vertical-align: top;\n",
              "    }\n",
              "\n",
              "    .dataframe thead th {\n",
              "        text-align: right;\n",
              "    }\n",
              "</style>\n",
              "<table border=\"1\" class=\"dataframe\">\n",
              "  <thead>\n",
              "    <tr style=\"text-align: right;\">\n",
              "      <th></th>\n",
              "      <th>Territorio</th>\n",
              "      <th>DOTAZIONI_A</th>\n",
              "      <th>TIME</th>\n",
              "      <th>Value</th>\n",
              "    </tr>\n",
              "  </thead>\n",
              "  <tbody>\n",
              "    <tr>\n",
              "      <th>4</th>\n",
              "      <td>Italia</td>\n",
              "      <td>METAN</td>\n",
              "      <td>2013</td>\n",
              "      <td>21080936.0</td>\n",
              "    </tr>\n",
              "    <tr>\n",
              "      <th>54</th>\n",
              "      <td>Lombardia</td>\n",
              "      <td>METAN</td>\n",
              "      <td>2013</td>\n",
              "      <td>5097828.0</td>\n",
              "    </tr>\n",
              "    <tr>\n",
              "      <th>120</th>\n",
              "      <td>Emilia-Romagna</td>\n",
              "      <td>METAN</td>\n",
              "      <td>2013</td>\n",
              "      <td>2355461.0</td>\n",
              "    </tr>\n",
              "    <tr>\n",
              "      <th>21</th>\n",
              "      <td>Piemonte</td>\n",
              "      <td>METAN</td>\n",
              "      <td>2013</td>\n",
              "      <td>2144882.0</td>\n",
              "    </tr>\n",
              "    <tr>\n",
              "      <th>98</th>\n",
              "      <td>Veneto</td>\n",
              "      <td>METAN</td>\n",
              "      <td>2013</td>\n",
              "      <td>1988115.0</td>\n",
              "    </tr>\n",
              "    <tr>\n",
              "      <th>164</th>\n",
              "      <td>Lazio</td>\n",
              "      <td>METAN</td>\n",
              "      <td>2013</td>\n",
              "      <td>1739425.0</td>\n",
              "    </tr>\n",
              "    <tr>\n",
              "      <th>131</th>\n",
              "      <td>Toscana</td>\n",
              "      <td>METAN</td>\n",
              "      <td>2013</td>\n",
              "      <td>1394350.0</td>\n",
              "    </tr>\n",
              "    <tr>\n",
              "      <th>208</th>\n",
              "      <td>Puglia</td>\n",
              "      <td>METAN</td>\n",
              "      <td>2013</td>\n",
              "      <td>1059807.0</td>\n",
              "    </tr>\n",
              "    <tr>\n",
              "      <th>197</th>\n",
              "      <td>Campania</td>\n",
              "      <td>METAN</td>\n",
              "      <td>2013</td>\n",
              "      <td>972679.0</td>\n",
              "    </tr>\n",
              "    <tr>\n",
              "      <th>241</th>\n",
              "      <td>Sicilia</td>\n",
              "      <td>METAN</td>\n",
              "      <td>2013</td>\n",
              "      <td>897942.0</td>\n",
              "    </tr>\n",
              "    <tr>\n",
              "      <th>43</th>\n",
              "      <td>Liguria</td>\n",
              "      <td>METAN</td>\n",
              "      <td>2013</td>\n",
              "      <td>682408.0</td>\n",
              "    </tr>\n",
              "    <tr>\n",
              "      <th>153</th>\n",
              "      <td>Marche</td>\n",
              "      <td>METAN</td>\n",
              "      <td>2013</td>\n",
              "      <td>555524.0</td>\n",
              "    </tr>\n",
              "    <tr>\n",
              "      <th>109</th>\n",
              "      <td>Friuli-Venezia Giulia</td>\n",
              "      <td>METAN</td>\n",
              "      <td>2013</td>\n",
              "      <td>508491.0</td>\n",
              "    </tr>\n",
              "    <tr>\n",
              "      <th>175</th>\n",
              "      <td>Abruzzo</td>\n",
              "      <td>METAN</td>\n",
              "      <td>2013</td>\n",
              "      <td>458222.0</td>\n",
              "    </tr>\n",
              "    <tr>\n",
              "      <th>230</th>\n",
              "      <td>Calabria</td>\n",
              "      <td>METAN</td>\n",
              "      <td>2013</td>\n",
              "      <td>372022.0</td>\n",
              "    </tr>\n",
              "    <tr>\n",
              "      <th>65</th>\n",
              "      <td>Trentino Alto Adige / Südtirol</td>\n",
              "      <td>METAN</td>\n",
              "      <td>2013</td>\n",
              "      <td>293753.0</td>\n",
              "    </tr>\n",
              "    <tr>\n",
              "      <th>142</th>\n",
              "      <td>Umbria</td>\n",
              "      <td>METAN</td>\n",
              "      <td>2013</td>\n",
              "      <td>269213.0</td>\n",
              "    </tr>\n",
              "    <tr>\n",
              "      <th>87</th>\n",
              "      <td>Provincia Autonoma Trento</td>\n",
              "      <td>METAN</td>\n",
              "      <td>2013</td>\n",
              "      <td>179020.0</td>\n",
              "    </tr>\n",
              "    <tr>\n",
              "      <th>219</th>\n",
              "      <td>Basilicata</td>\n",
              "      <td>METAN</td>\n",
              "      <td>2013</td>\n",
              "      <td>159611.0</td>\n",
              "    </tr>\n",
              "    <tr>\n",
              "      <th>76</th>\n",
              "      <td>Provincia Autonoma Bolzano / Bozen</td>\n",
              "      <td>METAN</td>\n",
              "      <td>2013</td>\n",
              "      <td>114733.0</td>\n",
              "    </tr>\n",
              "    <tr>\n",
              "      <th>186</th>\n",
              "      <td>Molise</td>\n",
              "      <td>METAN</td>\n",
              "      <td>2013</td>\n",
              "      <td>104733.0</td>\n",
              "    </tr>\n",
              "    <tr>\n",
              "      <th>32</th>\n",
              "      <td>Valle d'Aosta / Vallée d'Aoste</td>\n",
              "      <td>METAN</td>\n",
              "      <td>2013</td>\n",
              "      <td>26470.0</td>\n",
              "    </tr>\n",
              "  </tbody>\n",
              "</table>\n",
              "</div>"
            ],
            "text/plain": [
              "                             Territorio DOTAZIONI_A  TIME       Value\n",
              "4                                Italia       METAN  2013  21080936.0\n",
              "54                            Lombardia       METAN  2013   5097828.0\n",
              "120                      Emilia-Romagna       METAN  2013   2355461.0\n",
              "21                             Piemonte       METAN  2013   2144882.0\n",
              "98                               Veneto       METAN  2013   1988115.0\n",
              "164                               Lazio       METAN  2013   1739425.0\n",
              "131                             Toscana       METAN  2013   1394350.0\n",
              "208                              Puglia       METAN  2013   1059807.0\n",
              "197                            Campania       METAN  2013    972679.0\n",
              "241                             Sicilia       METAN  2013    897942.0\n",
              "43                              Liguria       METAN  2013    682408.0\n",
              "153                              Marche       METAN  2013    555524.0\n",
              "109               Friuli-Venezia Giulia       METAN  2013    508491.0\n",
              "175                             Abruzzo       METAN  2013    458222.0\n",
              "230                            Calabria       METAN  2013    372022.0\n",
              "65       Trentino Alto Adige / Südtirol       METAN  2013    293753.0\n",
              "142                              Umbria       METAN  2013    269213.0\n",
              "87            Provincia Autonoma Trento       METAN  2013    179020.0\n",
              "219                          Basilicata       METAN  2013    159611.0\n",
              "76   Provincia Autonoma Bolzano / Bozen       METAN  2013    114733.0\n",
              "186                              Molise       METAN  2013    104733.0\n",
              "32       Valle d'Aosta / Vallée d'Aoste       METAN  2013     26470.0"
            ]
          },
          "metadata": {
            "tags": []
          },
          "execution_count": 23
        }
      ]
    },
    {
      "cell_type": "code",
      "metadata": {
        "id": "zWwQr-cshlYw",
        "outputId": "cf6c119b-de9c-43d9-f988-14288f60eb3f",
        "colab": {
          "base_uri": "https://localhost:8080/",
          "height": 387
        }
      },
      "source": [
        "sns.catplot(data=data13,y='Territorio',x=\"Value\")"
      ],
      "execution_count": 24,
      "outputs": [
        {
          "output_type": "execute_result",
          "data": {
            "text/plain": [
              "<seaborn.axisgrid.FacetGrid at 0x7f366a6b21d0>"
            ]
          },
          "metadata": {
            "tags": []
          },
          "execution_count": 24
        },
        {
          "output_type": "display_data",
          "data": {
            "image/png": "[encoded data removed]",
            "text/plain": [
              "<Figure size 360x360 with 1 Axes>"
            ]
          },
          "metadata": {
            "tags": [],
            "needs_background": "light"
          }
        }
      ]
    },
    {
      "cell_type": "markdown",
      "metadata": {
        "id": "xwX3w7kvhySS"
      },
      "source": [
        "**le regioni che in media consumano di più erano :**\n",
        "\n",
        "\n"
      ]
    },
    {
      "cell_type": "markdown",
      "metadata": {
        "id": "0_FbFF7jttYq"
      },
      "source": [
        "**LOMBARDIA**"
      ]
    },
    {
      "cell_type": "code",
      "metadata": {
        "id": "9MdqzjbVus8h",
        "outputId": "5e9341f7-67e6-4b6b-e12b-e43ff504273a",
        "colab": {
          "base_uri": "https://localhost:8080/"
        }
      },
      "source": [
        "#totale:\n",
        "L.query(\"DOTAZIONI_A=='ALL'\")['Value']\n",
        "\n"
      ],
      "execution_count": 83,
      "outputs": [
        {
          "output_type": "execute_result",
          "data": {
            "text/plain": [
              "50    8107385.0\n",
              "Name: Value, dtype: float64"
            ]
          },
          "metadata": {
            "tags": []
          },
          "execution_count": 83
        }
      ]
    },
    {
      "cell_type": "code",
      "metadata": {
        "id": "M0pfCM1_iY0B",
        "outputId": "e57477ca-126c-4cda-a4f9-d278da442f79",
        "colab": {
          "base_uri": "https://localhost:8080/",
          "height": 166
        }
      },
      "source": [
        "L=dataz.query(\"Territorio=='Lombardia'\")\n",
        "L1=pd.DataFrame(L,columns=['Territorio','DOTAZIONI_A','Value'])\n",
        "L2=L1.query(\"DOTAZIONI_A!='ALL'\")\n",
        "L2"
      ],
      "execution_count": 69,
      "outputs": [
        {
          "output_type": "execute_result",
          "data": {
            "text/html": [
              "<div>\n",
              "<style scoped>\n",
              "    .dataframe tbody tr th:only-of-type {\n",
              "        vertical-align: middle;\n",
              "    }\n",
              "\n",
              "    .dataframe tbody tr th {\n",
              "        vertical-align: top;\n",
              "    }\n",
              "\n",
              "    .dataframe thead th {\n",
              "        text-align: right;\n",
              "    }\n",
              "</style>\n",
              "<table border=\"1\" class=\"dataframe\">\n",
              "  <thead>\n",
              "    <tr style=\"text-align: right;\">\n",
              "      <th></th>\n",
              "      <th>Territorio</th>\n",
              "      <th>DOTAZIONI_A</th>\n",
              "      <th>Value</th>\n",
              "    </tr>\n",
              "  </thead>\n",
              "  <tbody>\n",
              "    <tr>\n",
              "      <th>51</th>\n",
              "      <td>Lombardia</td>\n",
              "      <td>H_OIL</td>\n",
              "      <td>306923.0</td>\n",
              "    </tr>\n",
              "    <tr>\n",
              "      <th>52</th>\n",
              "      <td>Lombardia</td>\n",
              "      <td>LPG</td>\n",
              "      <td>119751.0</td>\n",
              "    </tr>\n",
              "    <tr>\n",
              "      <th>53</th>\n",
              "      <td>Lombardia</td>\n",
              "      <td>ELECTR</td>\n",
              "      <td>2398897.0</td>\n",
              "    </tr>\n",
              "    <tr>\n",
              "      <th>54</th>\n",
              "      <td>Lombardia</td>\n",
              "      <td>METAN</td>\n",
              "      <td>5097828.0</td>\n",
              "    </tr>\n",
              "  </tbody>\n",
              "</table>\n",
              "</div>"
            ],
            "text/plain": [
              "   Territorio DOTAZIONI_A      Value\n",
              "51  Lombardia       H_OIL   306923.0\n",
              "52  Lombardia         LPG   119751.0\n",
              "53  Lombardia      ELECTR  2398897.0\n",
              "54  Lombardia       METAN  5097828.0"
            ]
          },
          "metadata": {
            "tags": []
          },
          "execution_count": 69
        }
      ]
    },
    {
      "cell_type": "code",
      "metadata": {
        "id": "RTii_B1ilYDp",
        "outputId": "077f237b-7677-4b22-d3e7-ac2ee2ce71ed",
        "colab": {
          "base_uri": "https://localhost:8080/",
          "height": 309
        }
      },
      "source": [
        "sns.barplot( x='DOTAZIONI_A',y='Value',data=L2)\n"
      ],
      "execution_count": 70,
      "outputs": [
        {
          "output_type": "execute_result",
          "data": {
            "text/plain": [
              "<matplotlib.axes._subplots.AxesSubplot at 0x7f365ef9f400>"
            ]
          },
          "metadata": {
            "tags": []
          },
          "execution_count": 70
        },
        {
          "output_type": "display_data",
          "data": {
            "image/png": "[encoded data removed]",
            "text/plain": [
              "<Figure size 432x288 with 1 Axes>"
            ]
          },
          "metadata": {
            "tags": [],
            "needs_background": "light"
          }
        }
      ]
    },
    {
      "cell_type": "markdown",
      "metadata": {
        "id": "P6u3Z7AUtNaY"
      },
      "source": [
        "**VENETO**"
      ]
    },
    {
      "cell_type": "code",
      "metadata": {
        "id": "jVBbnStDxWPP",
        "outputId": "9d3f6ea2-5df7-4069-9bbc-dda003749444",
        "colab": {
          "base_uri": "https://localhost:8080/"
        }
      },
      "source": [
        "#totale:\n",
        "V.query(\"DOTAZIONI_A=='ALL'\")['Value']"
      ],
      "execution_count": 74,
      "outputs": [
        {
          "output_type": "execute_result",
          "data": {
            "text/plain": [
              "94    3954097.0\n",
              "Name: Value, dtype: float64"
            ]
          },
          "metadata": {
            "tags": []
          },
          "execution_count": 74
        }
      ]
    },
    {
      "cell_type": "code",
      "metadata": {
        "id": "qsc0WZGutbBc",
        "outputId": "42ca7756-02ff-4bc4-ca01-9867ff35b392",
        "colab": {
          "base_uri": "https://localhost:8080/",
          "height": 166
        }
      },
      "source": [
        "V=dataz.query(\"Territorio=='Veneto'\")\n",
        "V1=pd.DataFrame(V,columns=['Territorio','DOTAZIONI_A','Value'])\n",
        "V2=V1.query(\"DOTAZIONI_A!='ALL'\")\n",
        "V2"
      ],
      "execution_count": 71,
      "outputs": [
        {
          "output_type": "execute_result",
          "data": {
            "text/html": [
              "<div>\n",
              "<style scoped>\n",
              "    .dataframe tbody tr th:only-of-type {\n",
              "        vertical-align: middle;\n",
              "    }\n",
              "\n",
              "    .dataframe tbody tr th {\n",
              "        vertical-align: top;\n",
              "    }\n",
              "\n",
              "    .dataframe thead th {\n",
              "        text-align: right;\n",
              "    }\n",
              "</style>\n",
              "<table border=\"1\" class=\"dataframe\">\n",
              "  <thead>\n",
              "    <tr style=\"text-align: right;\">\n",
              "      <th></th>\n",
              "      <th>Territorio</th>\n",
              "      <th>DOTAZIONI_A</th>\n",
              "      <th>Value</th>\n",
              "    </tr>\n",
              "  </thead>\n",
              "  <tbody>\n",
              "    <tr>\n",
              "      <th>95</th>\n",
              "      <td>Veneto</td>\n",
              "      <td>H_OIL</td>\n",
              "      <td>250645.0</td>\n",
              "    </tr>\n",
              "    <tr>\n",
              "      <th>96</th>\n",
              "      <td>Veneto</td>\n",
              "      <td>LPG</td>\n",
              "      <td>215412.0</td>\n",
              "    </tr>\n",
              "    <tr>\n",
              "      <th>97</th>\n",
              "      <td>Veneto</td>\n",
              "      <td>ELECTR</td>\n",
              "      <td>1284108.0</td>\n",
              "    </tr>\n",
              "    <tr>\n",
              "      <th>98</th>\n",
              "      <td>Veneto</td>\n",
              "      <td>METAN</td>\n",
              "      <td>1988115.0</td>\n",
              "    </tr>\n",
              "  </tbody>\n",
              "</table>\n",
              "</div>"
            ],
            "text/plain": [
              "   Territorio DOTAZIONI_A      Value\n",
              "95     Veneto       H_OIL   250645.0\n",
              "96     Veneto         LPG   215412.0\n",
              "97     Veneto      ELECTR  1284108.0\n",
              "98     Veneto       METAN  1988115.0"
            ]
          },
          "metadata": {
            "tags": []
          },
          "execution_count": 71
        }
      ]
    },
    {
      "cell_type": "code",
      "metadata": {
        "id": "sLthhj0FuqC9",
        "outputId": "1e44655d-0f49-4834-f9a3-a25b07b163ca",
        "colab": {
          "base_uri": "https://localhost:8080/",
          "height": 362
        }
      },
      "source": [
        "sns.barplot('DOTAZIONI_A','Value',data=V2)"
      ],
      "execution_count": 75,
      "outputs": [
        {
          "output_type": "stream",
          "text": [
            "/usr/local/lib/python3.6/dist-packages/seaborn/_decorators.py:43: FutureWarning: Pass the following variables as keyword args: x, y. From version 0.12, the only valid positional argument will be `data`, and passing other arguments without an explicit keyword will result in an error or misinterpretation.\n",
            "  FutureWarning\n"
          ],
          "name": "stderr"
        },
        {
          "output_type": "execute_result",
          "data": {
            "text/plain": [
              "<matplotlib.axes._subplots.AxesSubplot at 0x7f3660f36b00>"
            ]
          },
          "metadata": {
            "tags": []
          },
          "execution_count": 75
        },
        {
          "output_type": "display_data",
          "data": {
            "image/png": "[encoded data removed]",
            "text/plain": [
              "<Figure size 432x288 with 1 Axes>"
            ]
          },
          "metadata": {
            "tags": [],
            "needs_background": "light"
          }
        }
      ]
    },
    {
      "cell_type": "markdown",
      "metadata": {
        "id": "BB0sae3NtTDk"
      },
      "source": [
        "**EMILIA-ROMAGNA**"
      ]
    },
    {
      "cell_type": "code",
      "metadata": {
        "id": "MPJoi09Jzei6",
        "outputId": "ff728403-1d62-4f8d-dcc3-f1626c46c5d3",
        "colab": {
          "base_uri": "https://localhost:8080/"
        }
      },
      "source": [
        "#totale:\n",
        "E.query(\"DOTAZIONI_A=='ALL'\")['Value']"
      ],
      "execution_count": 78,
      "outputs": [
        {
          "output_type": "execute_result",
          "data": {
            "text/plain": [
              "116    3834384.0\n",
              "Name: Value, dtype: float64"
            ]
          },
          "metadata": {
            "tags": []
          },
          "execution_count": 78
        }
      ]
    },
    {
      "cell_type": "code",
      "metadata": {
        "id": "cRnNHeeazesA",
        "outputId": "d83708c4-5565-449a-e40a-8dccf05b2e8b",
        "colab": {
          "base_uri": "https://localhost:8080/",
          "height": 166
        }
      },
      "source": [
        "E=dataz.query(\"Territorio=='Emilia-Romagna'\")\n",
        "E1=pd.DataFrame(E,columns=['Territorio','DOTAZIONI_A','Value'])\n",
        "E2=E1.query(\"DOTAZIONI_A!='ALL'\")\n",
        "E2"
      ],
      "execution_count": 76,
      "outputs": [
        {
          "output_type": "execute_result",
          "data": {
            "text/html": [
              "<div>\n",
              "<style scoped>\n",
              "    .dataframe tbody tr th:only-of-type {\n",
              "        vertical-align: middle;\n",
              "    }\n",
              "\n",
              "    .dataframe tbody tr th {\n",
              "        vertical-align: top;\n",
              "    }\n",
              "\n",
              "    .dataframe thead th {\n",
              "        text-align: right;\n",
              "    }\n",
              "</style>\n",
              "<table border=\"1\" class=\"dataframe\">\n",
              "  <thead>\n",
              "    <tr style=\"text-align: right;\">\n",
              "      <th></th>\n",
              "      <th>Territorio</th>\n",
              "      <th>DOTAZIONI_A</th>\n",
              "      <th>Value</th>\n",
              "    </tr>\n",
              "  </thead>\n",
              "  <tbody>\n",
              "    <tr>\n",
              "      <th>117</th>\n",
              "      <td>Emilia-Romagna</td>\n",
              "      <td>H_OIL</td>\n",
              "      <td>49314.0</td>\n",
              "    </tr>\n",
              "    <tr>\n",
              "      <th>118</th>\n",
              "      <td>Emilia-Romagna</td>\n",
              "      <td>LPG</td>\n",
              "      <td>152649.0</td>\n",
              "    </tr>\n",
              "    <tr>\n",
              "      <th>119</th>\n",
              "      <td>Emilia-Romagna</td>\n",
              "      <td>ELECTR</td>\n",
              "      <td>1185561.0</td>\n",
              "    </tr>\n",
              "    <tr>\n",
              "      <th>120</th>\n",
              "      <td>Emilia-Romagna</td>\n",
              "      <td>METAN</td>\n",
              "      <td>2355461.0</td>\n",
              "    </tr>\n",
              "  </tbody>\n",
              "</table>\n",
              "</div>"
            ],
            "text/plain": [
              "         Territorio DOTAZIONI_A      Value\n",
              "117  Emilia-Romagna       H_OIL    49314.0\n",
              "118  Emilia-Romagna         LPG   152649.0\n",
              "119  Emilia-Romagna      ELECTR  1185561.0\n",
              "120  Emilia-Romagna       METAN  2355461.0"
            ]
          },
          "metadata": {
            "tags": []
          },
          "execution_count": 76
        }
      ]
    },
    {
      "cell_type": "code",
      "metadata": {
        "id": "hK3pFQuGzfDX",
        "outputId": "5fb6ffcc-84e0-4050-d7b9-1f8b7bbd57aa",
        "colab": {
          "base_uri": "https://localhost:8080/",
          "height": 362
        }
      },
      "source": [
        "sns.barplot('DOTAZIONI_A','Value',data=E2)"
      ],
      "execution_count": 84,
      "outputs": [
        {
          "output_type": "stream",
          "text": [
            "/usr/local/lib/python3.6/dist-packages/seaborn/_decorators.py:43: FutureWarning: Pass the following variables as keyword args: x, y. From version 0.12, the only valid positional argument will be `data`, and passing other arguments without an explicit keyword will result in an error or misinterpretation.\n",
            "  FutureWarning\n"
          ],
          "name": "stderr"
        },
        {
          "output_type": "execute_result",
          "data": {
            "text/plain": [
              "<matplotlib.axes._subplots.AxesSubplot at 0x7f365eecb6a0>"
            ]
          },
          "metadata": {
            "tags": []
          },
          "execution_count": 84
        },
        {
          "output_type": "display_data",
          "data": {
            "image/png": "[encoded data removed]",
            "text/plain": [
              "<Figure size 432x288 with 1 Axes>"
            ]
          },
          "metadata": {
            "tags": [],
            "needs_background": "light"
          }
        }
      ]
    },
    {
      "cell_type": "markdown",
      "metadata": {
        "id": "JGx2WQHrtTOA"
      },
      "source": [
        "**PIEMONTE**"
      ]
    },
    {
      "cell_type": "code",
      "metadata": {
        "id": "HYgwhRj124UG",
        "outputId": "7564c57a-2a7c-462a-e64a-5fcc5930df0b",
        "colab": {
          "base_uri": "https://localhost:8080/"
        }
      },
      "source": [
        "#totale:\n",
        "P.query(\"DOTAZIONI_A=='ALL'\")['Value']\n"
      ],
      "execution_count": 87,
      "outputs": [
        {
          "output_type": "execute_result",
          "data": {
            "text/plain": [
              "17    3724781.0\n",
              "Name: Value, dtype: float64"
            ]
          },
          "metadata": {
            "tags": []
          },
          "execution_count": 87
        }
      ]
    },
    {
      "cell_type": "code",
      "metadata": {
        "id": "aiKWO54t24dF",
        "outputId": "e8bad32a-b1b6-41de-e664-0830f2526446",
        "colab": {
          "base_uri": "https://localhost:8080/",
          "height": 166
        }
      },
      "source": [
        "P=dataz.query(\"Territorio=='Piemonte'\")\n",
        "P1=pd.DataFrame(P,columns=['Territorio','DOTAZIONI_A','Value'])\n",
        "P2=P1.query(\"DOTAZIONI_A!='ALL'\")\n",
        "P2"
      ],
      "execution_count": 97,
      "outputs": [
        {
          "output_type": "execute_result",
          "data": {
            "text/html": [
              "<div>\n",
              "<style scoped>\n",
              "    .dataframe tbody tr th:only-of-type {\n",
              "        vertical-align: middle;\n",
              "    }\n",
              "\n",
              "    .dataframe tbody tr th {\n",
              "        vertical-align: top;\n",
              "    }\n",
              "\n",
              "    .dataframe thead th {\n",
              "        text-align: right;\n",
              "    }\n",
              "</style>\n",
              "<table border=\"1\" class=\"dataframe\">\n",
              "  <thead>\n",
              "    <tr style=\"text-align: right;\">\n",
              "      <th></th>\n",
              "      <th>Territorio</th>\n",
              "      <th>DOTAZIONI_A</th>\n",
              "      <th>Value</th>\n",
              "    </tr>\n",
              "  </thead>\n",
              "  <tbody>\n",
              "    <tr>\n",
              "      <th>18</th>\n",
              "      <td>Piemonte</td>\n",
              "      <td>H_OIL</td>\n",
              "      <td>202441.0</td>\n",
              "    </tr>\n",
              "    <tr>\n",
              "      <th>19</th>\n",
              "      <td>Piemonte</td>\n",
              "      <td>LPG</td>\n",
              "      <td>193864.0</td>\n",
              "    </tr>\n",
              "    <tr>\n",
              "      <th>20</th>\n",
              "      <td>Piemonte</td>\n",
              "      <td>ELECTR</td>\n",
              "      <td>1037748.0</td>\n",
              "    </tr>\n",
              "    <tr>\n",
              "      <th>21</th>\n",
              "      <td>Piemonte</td>\n",
              "      <td>METAN</td>\n",
              "      <td>2144882.0</td>\n",
              "    </tr>\n",
              "  </tbody>\n",
              "</table>\n",
              "</div>"
            ],
            "text/plain": [
              "   Territorio DOTAZIONI_A      Value\n",
              "18   Piemonte       H_OIL   202441.0\n",
              "19   Piemonte         LPG   193864.0\n",
              "20   Piemonte      ELECTR  1037748.0\n",
              "21   Piemonte       METAN  2144882.0"
            ]
          },
          "metadata": {
            "tags": []
          },
          "execution_count": 97
        }
      ]
    },
    {
      "cell_type": "code",
      "metadata": {
        "id": "HJ86wpoF4MmQ",
        "outputId": "f0f12cc7-361b-4bf5-faa0-7b3c4ae0ded4",
        "colab": {
          "base_uri": "https://localhost:8080/",
          "height": 362
        }
      },
      "source": [
        "sns.barplot('DOTAZIONI_A','Value',data=P2)"
      ],
      "execution_count": 99,
      "outputs": [
        {
          "output_type": "stream",
          "text": [
            "/usr/local/lib/python3.6/dist-packages/seaborn/_decorators.py:43: FutureWarning: Pass the following variables as keyword args: x, y. From version 0.12, the only valid positional argument will be `data`, and passing other arguments without an explicit keyword will result in an error or misinterpretation.\n",
            "  FutureWarning\n"
          ],
          "name": "stderr"
        },
        {
          "output_type": "execute_result",
          "data": {
            "text/plain": [
              "<matplotlib.axes._subplots.AxesSubplot at 0x7f365edd0160>"
            ]
          },
          "metadata": {
            "tags": []
          },
          "execution_count": 99
        },
        {
          "output_type": "display_data",
          "data": {
            "image/png": "[encoded data removed]",
            "text/plain": [
              "<Figure size 432x288 with 1 Axes>"
            ]
          },
          "metadata": {
            "tags": [],
            "needs_background": "light"
          }
        }
      ]
    }
  ]
}