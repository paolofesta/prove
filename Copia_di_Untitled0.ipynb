{
  "nbformat": 4,
  "nbformat_minor": 0,
  "metadata": {
    "colab": {
      "name": "Copia di Untitled0.ipynb",
      "provenance": [],
      "authorship_tag": "ABX9TyO6Gfd/CuZBSfg/zV1YGK9f",
      "include_colab_link": true
    },
    "kernelspec": {
      "name": "python3",
      "display_name": "Python 3"
    }
  },
  "cells": [
    {
      "cell_type": "markdown",
      "metadata": {
        "id": "view-in-github",
        "colab_type": "text"
      },
      "source": [
        "<a href=\"https://colab.research.google.com/github/paolofesta/prove-Comp-Soc/blob/master/Copia_di_Untitled0.ipynb\" target=\"_parent\"><img src=\"https://colab.research.google.com/assets/colab-badge.svg\" alt=\"Open In Colab\"/></a>"
      ]
    },
    {
      "cell_type": "code",
      "metadata": {
        "id": "OgdnJ44Jtg3N"
      },
      "source": [
        "import numpy as np"
      ],
      "execution_count": 2,
      "outputs": []
    },
    {
      "cell_type": "code",
      "metadata": {
        "id": "oHKd5g8dtnlh"
      },
      "source": [
        "import pandas as pd"
      ],
      "execution_count": 3,
      "outputs": []
    },
    {
      "cell_type": "code",
      "metadata": {
        "id": "i_r1tnR6tq4I",
        "outputId": "8a574743-a38d-414e-c6fa-befdb4b9c939",
        "colab": {
          "base_uri": "https://localhost:8080/",
          "height": 402
        }
      },
      "source": [
        "\n",
        "data=pd.read_csv('/csv1')\n",
        "data"
      ],
      "execution_count": 5,
      "outputs": [
        {
          "output_type": "execute_result",
          "data": {
            "text/html": [
              "<div>\n",
              "<style scoped>\n",
              "    .dataframe tbody tr th:only-of-type {\n",
              "        vertical-align: middle;\n",
              "    }\n",
              "\n",
              "    .dataframe tbody tr th {\n",
              "        vertical-align: top;\n",
              "    }\n",
              "\n",
              "    .dataframe thead th {\n",
              "        text-align: right;\n",
              "    }\n",
              "</style>\n",
              "<table border=\"1\" class=\"dataframe\">\n",
              "  <thead>\n",
              "    <tr style=\"text-align: right;\">\n",
              "      <th></th>\n",
              "      <th>ITTER107</th>\n",
              "      <th>Territorio</th>\n",
              "      <th>TIPO_DATO_CENERG</th>\n",
              "      <th>Tipo dato</th>\n",
              "      <th>DOTAZIONI_A</th>\n",
              "      <th>Fonte alimentazione</th>\n",
              "      <th>TIME</th>\n",
              "      <th>Seleziona periodo</th>\n",
              "      <th>Value</th>\n",
              "      <th>Flag Codes</th>\n",
              "      <th>Flags</th>\n",
              "    </tr>\n",
              "  </thead>\n",
              "  <tbody>\n",
              "    <tr>\n",
              "      <th>0</th>\n",
              "      <td>IT</td>\n",
              "      <td>Italia</td>\n",
              "      <td>ENER_SOUR_EXP</td>\n",
              "      <td>spese delle famiglie per consumi energetici pe...</td>\n",
              "      <td>ALL</td>\n",
              "      <td>tutte le voci</td>\n",
              "      <td>2013</td>\n",
              "      <td>2013</td>\n",
              "      <td>42302968.0</td>\n",
              "      <td>NaN</td>\n",
              "      <td>NaN</td>\n",
              "    </tr>\n",
              "    <tr>\n",
              "      <th>1</th>\n",
              "      <td>IT</td>\n",
              "      <td>Italia</td>\n",
              "      <td>ENER_SOUR_EXP</td>\n",
              "      <td>spese delle famiglie per consumi energetici pe...</td>\n",
              "      <td>H_OIL</td>\n",
              "      <td>gasolio</td>\n",
              "      <td>2013</td>\n",
              "      <td>2013</td>\n",
              "      <td>1694455.0</td>\n",
              "      <td>NaN</td>\n",
              "      <td>NaN</td>\n",
              "    </tr>\n",
              "    <tr>\n",
              "      <th>2</th>\n",
              "      <td>IT</td>\n",
              "      <td>Italia</td>\n",
              "      <td>ENER_SOUR_EXP</td>\n",
              "      <td>spese delle famiglie per consumi energetici pe...</td>\n",
              "      <td>LPG</td>\n",
              "      <td>Gpl (Gas Petrolio Liquefatto)</td>\n",
              "      <td>2013</td>\n",
              "      <td>2013</td>\n",
              "      <td>2437978.0</td>\n",
              "      <td>NaN</td>\n",
              "      <td>NaN</td>\n",
              "    </tr>\n",
              "    <tr>\n",
              "      <th>3</th>\n",
              "      <td>IT</td>\n",
              "      <td>Italia</td>\n",
              "      <td>ENER_SOUR_EXP</td>\n",
              "      <td>spese delle famiglie per consumi energetici pe...</td>\n",
              "      <td>ELECTR</td>\n",
              "      <td>energia elettrica</td>\n",
              "      <td>2013</td>\n",
              "      <td>2013</td>\n",
              "      <td>15035032.0</td>\n",
              "      <td>NaN</td>\n",
              "      <td>NaN</td>\n",
              "    </tr>\n",
              "    <tr>\n",
              "      <th>4</th>\n",
              "      <td>IT</td>\n",
              "      <td>Italia</td>\n",
              "      <td>ENER_SOUR_EXP</td>\n",
              "      <td>spese delle famiglie per consumi energetici pe...</td>\n",
              "      <td>METAN</td>\n",
              "      <td>metano</td>\n",
              "      <td>2013</td>\n",
              "      <td>2013</td>\n",
              "      <td>21080936.0</td>\n",
              "      <td>NaN</td>\n",
              "      <td>NaN</td>\n",
              "    </tr>\n",
              "    <tr>\n",
              "      <th>...</th>\n",
              "      <td>...</td>\n",
              "      <td>...</td>\n",
              "      <td>...</td>\n",
              "      <td>...</td>\n",
              "      <td>...</td>\n",
              "      <td>...</td>\n",
              "      <td>...</td>\n",
              "      <td>...</td>\n",
              "      <td>...</td>\n",
              "      <td>...</td>\n",
              "      <td>...</td>\n",
              "    </tr>\n",
              "    <tr>\n",
              "      <th>252</th>\n",
              "      <td>ITG2</td>\n",
              "      <td>Sardegna</td>\n",
              "      <td>ENER_SOUR_EXP_AV</td>\n",
              "      <td>spesa media effettiva delle famiglie per consu...</td>\n",
              "      <td>H_OIL</td>\n",
              "      <td>gasolio</td>\n",
              "      <td>2013</td>\n",
              "      <td>2013</td>\n",
              "      <td>1137.0</td>\n",
              "      <td>NaN</td>\n",
              "      <td>NaN</td>\n",
              "    </tr>\n",
              "    <tr>\n",
              "      <th>253</th>\n",
              "      <td>ITG2</td>\n",
              "      <td>Sardegna</td>\n",
              "      <td>ENER_SOUR_EXP_AV</td>\n",
              "      <td>spesa media effettiva delle famiglie per consu...</td>\n",
              "      <td>LPG</td>\n",
              "      <td>Gpl (Gas Petrolio Liquefatto)</td>\n",
              "      <td>2013</td>\n",
              "      <td>2013</td>\n",
              "      <td>382.0</td>\n",
              "      <td>NaN</td>\n",
              "      <td>NaN</td>\n",
              "    </tr>\n",
              "    <tr>\n",
              "      <th>254</th>\n",
              "      <td>ITG2</td>\n",
              "      <td>Sardegna</td>\n",
              "      <td>ENER_SOUR_EXP_AV</td>\n",
              "      <td>spesa media effettiva delle famiglie per consu...</td>\n",
              "      <td>ELECTR</td>\n",
              "      <td>energia elettrica</td>\n",
              "      <td>2013</td>\n",
              "      <td>2013</td>\n",
              "      <td>753.0</td>\n",
              "      <td>NaN</td>\n",
              "      <td>NaN</td>\n",
              "    </tr>\n",
              "    <tr>\n",
              "      <th>255</th>\n",
              "      <td>ITG2</td>\n",
              "      <td>Sardegna</td>\n",
              "      <td>ENER_SOUR_EXP_AV</td>\n",
              "      <td>spesa media effettiva delle famiglie per consu...</td>\n",
              "      <td>FIREWOOD</td>\n",
              "      <td>legna</td>\n",
              "      <td>2013</td>\n",
              "      <td>2013</td>\n",
              "      <td>470.0</td>\n",
              "      <td>NaN</td>\n",
              "      <td>NaN</td>\n",
              "    </tr>\n",
              "    <tr>\n",
              "      <th>256</th>\n",
              "      <td>ITG2</td>\n",
              "      <td>Sardegna</td>\n",
              "      <td>ENER_SOUR_EXP_AV</td>\n",
              "      <td>spesa media effettiva delle famiglie per consu...</td>\n",
              "      <td>PELLETS</td>\n",
              "      <td>pellets</td>\n",
              "      <td>2013</td>\n",
              "      <td>2013</td>\n",
              "      <td>418.0</td>\n",
              "      <td>NaN</td>\n",
              "      <td>NaN</td>\n",
              "    </tr>\n",
              "  </tbody>\n",
              "</table>\n",
              "<p>257 rows × 11 columns</p>\n",
              "</div>"
            ],
            "text/plain": [
              "    ITTER107 Territorio  TIPO_DATO_CENERG  ...       Value Flag Codes Flags\n",
              "0         IT     Italia     ENER_SOUR_EXP  ...  42302968.0        NaN   NaN\n",
              "1         IT     Italia     ENER_SOUR_EXP  ...   1694455.0        NaN   NaN\n",
              "2         IT     Italia     ENER_SOUR_EXP  ...   2437978.0        NaN   NaN\n",
              "3         IT     Italia     ENER_SOUR_EXP  ...  15035032.0        NaN   NaN\n",
              "4         IT     Italia     ENER_SOUR_EXP  ...  21080936.0        NaN   NaN\n",
              "..       ...        ...               ...  ...         ...        ...   ...\n",
              "252     ITG2   Sardegna  ENER_SOUR_EXP_AV  ...      1137.0        NaN   NaN\n",
              "253     ITG2   Sardegna  ENER_SOUR_EXP_AV  ...       382.0        NaN   NaN\n",
              "254     ITG2   Sardegna  ENER_SOUR_EXP_AV  ...       753.0        NaN   NaN\n",
              "255     ITG2   Sardegna  ENER_SOUR_EXP_AV  ...       470.0        NaN   NaN\n",
              "256     ITG2   Sardegna  ENER_SOUR_EXP_AV  ...       418.0        NaN   NaN\n",
              "\n",
              "[257 rows x 11 columns]"
            ]
          },
          "metadata": {
            "tags": []
          },
          "execution_count": 5
        }
      ]
    },
    {
      "cell_type": "code",
      "metadata": {
        "id": "SuDP8tsBjv_l"
      },
      "source": [
        ""
      ],
      "execution_count": null,
      "outputs": []
    },
    {
      "cell_type": "markdown",
      "metadata": {
        "id": "c3PKzjIHzdGX"
      },
      "source": [
        "**l'obbiettivo è quello di misurare l'uso delle varie fonti energetiche nelle regioni italiane e osservarne la variazione negli ultimi anni**\\\n",
        "*fonte: dati Istat*"
      ]
    },
    {
      "cell_type": "code",
      "metadata": {
        "id": "cuJW4Z_p0lvP",
        "outputId": "5b16390a-84e8-4e6c-ec68-6d76fa2941c3",
        "colab": {
          "base_uri": "https://localhost:8080/",
          "height": 84
        }
      },
      "source": [
        "data.columns"
      ],
      "execution_count": 6,
      "outputs": [
        {
          "output_type": "execute_result",
          "data": {
            "text/plain": [
              "Index(['ITTER107', 'Territorio', 'TIPO_DATO_CENERG', 'Tipo dato',\n",
              "       'DOTAZIONI_A', 'Fonte alimentazione', 'TIME', 'Seleziona periodo',\n",
              "       'Value', 'Flag Codes', 'Flags'],\n",
              "      dtype='object')"
            ]
          },
          "metadata": {
            "tags": []
          },
          "execution_count": 6
        }
      ]
    },
    {
      "cell_type": "markdown",
      "metadata": {
        "id": "jU45SGfk1HbQ"
      },
      "source": [
        "'territorio': **indica la regione**\\\n",
        " 'DOTAZIONI_A': **indica la fonte energetica**\\\n",
        "'TIME': **indica il periodo**\\\n",
        "'value':**indica spese delle famiglie per consumo di energia in migliaia di euro**\n"
      ]
    },
    {
      "cell_type": "code",
      "metadata": {
        "id": "_Ghjq9Je-1O2",
        "outputId": "3246616b-5084-4095-cbae-7c4fde420d14",
        "colab": {
          "base_uri": "https://localhost:8080/",
          "height": 402
        }
      },
      "source": [
        "data1=pd.DataFrame(data,columns=[\"Territorio\",\"DOTAZIONI_A\",\"TIME\",\"Value\"])\n",
        "data1"
      ],
      "execution_count": 7,
      "outputs": [
        {
          "output_type": "execute_result",
          "data": {
            "text/html": [
              "<div>\n",
              "<style scoped>\n",
              "    .dataframe tbody tr th:only-of-type {\n",
              "        vertical-align: middle;\n",
              "    }\n",
              "\n",
              "    .dataframe tbody tr th {\n",
              "        vertical-align: top;\n",
              "    }\n",
              "\n",
              "    .dataframe thead th {\n",
              "        text-align: right;\n",
              "    }\n",
              "</style>\n",
              "<table border=\"1\" class=\"dataframe\">\n",
              "  <thead>\n",
              "    <tr style=\"text-align: right;\">\n",
              "      <th></th>\n",
              "      <th>Territorio</th>\n",
              "      <th>DOTAZIONI_A</th>\n",
              "      <th>TIME</th>\n",
              "      <th>Value</th>\n",
              "    </tr>\n",
              "  </thead>\n",
              "  <tbody>\n",
              "    <tr>\n",
              "      <th>0</th>\n",
              "      <td>Italia</td>\n",
              "      <td>ALL</td>\n",
              "      <td>2013</td>\n",
              "      <td>42302968.0</td>\n",
              "    </tr>\n",
              "    <tr>\n",
              "      <th>1</th>\n",
              "      <td>Italia</td>\n",
              "      <td>H_OIL</td>\n",
              "      <td>2013</td>\n",
              "      <td>1694455.0</td>\n",
              "    </tr>\n",
              "    <tr>\n",
              "      <th>2</th>\n",
              "      <td>Italia</td>\n",
              "      <td>LPG</td>\n",
              "      <td>2013</td>\n",
              "      <td>2437978.0</td>\n",
              "    </tr>\n",
              "    <tr>\n",
              "      <th>3</th>\n",
              "      <td>Italia</td>\n",
              "      <td>ELECTR</td>\n",
              "      <td>2013</td>\n",
              "      <td>15035032.0</td>\n",
              "    </tr>\n",
              "    <tr>\n",
              "      <th>4</th>\n",
              "      <td>Italia</td>\n",
              "      <td>METAN</td>\n",
              "      <td>2013</td>\n",
              "      <td>21080936.0</td>\n",
              "    </tr>\n",
              "    <tr>\n",
              "      <th>...</th>\n",
              "      <td>...</td>\n",
              "      <td>...</td>\n",
              "      <td>...</td>\n",
              "      <td>...</td>\n",
              "    </tr>\n",
              "    <tr>\n",
              "      <th>252</th>\n",
              "      <td>Sardegna</td>\n",
              "      <td>H_OIL</td>\n",
              "      <td>2013</td>\n",
              "      <td>1137.0</td>\n",
              "    </tr>\n",
              "    <tr>\n",
              "      <th>253</th>\n",
              "      <td>Sardegna</td>\n",
              "      <td>LPG</td>\n",
              "      <td>2013</td>\n",
              "      <td>382.0</td>\n",
              "    </tr>\n",
              "    <tr>\n",
              "      <th>254</th>\n",
              "      <td>Sardegna</td>\n",
              "      <td>ELECTR</td>\n",
              "      <td>2013</td>\n",
              "      <td>753.0</td>\n",
              "    </tr>\n",
              "    <tr>\n",
              "      <th>255</th>\n",
              "      <td>Sardegna</td>\n",
              "      <td>FIREWOOD</td>\n",
              "      <td>2013</td>\n",
              "      <td>470.0</td>\n",
              "    </tr>\n",
              "    <tr>\n",
              "      <th>256</th>\n",
              "      <td>Sardegna</td>\n",
              "      <td>PELLETS</td>\n",
              "      <td>2013</td>\n",
              "      <td>418.0</td>\n",
              "    </tr>\n",
              "  </tbody>\n",
              "</table>\n",
              "<p>257 rows × 4 columns</p>\n",
              "</div>"
            ],
            "text/plain": [
              "    Territorio DOTAZIONI_A  TIME       Value\n",
              "0       Italia         ALL  2013  42302968.0\n",
              "1       Italia       H_OIL  2013   1694455.0\n",
              "2       Italia         LPG  2013   2437978.0\n",
              "3       Italia      ELECTR  2013  15035032.0\n",
              "4       Italia       METAN  2013  21080936.0\n",
              "..         ...         ...   ...         ...\n",
              "252   Sardegna       H_OIL  2013      1137.0\n",
              "253   Sardegna         LPG  2013       382.0\n",
              "254   Sardegna      ELECTR  2013       753.0\n",
              "255   Sardegna    FIREWOOD  2013       470.0\n",
              "256   Sardegna     PELLETS  2013       418.0\n",
              "\n",
              "[257 rows x 4 columns]"
            ]
          },
          "metadata": {
            "tags": []
          },
          "execution_count": 7
        }
      ]
    },
    {
      "cell_type": "code",
      "metadata": {
        "id": "oaot8sHUErXs",
        "outputId": "000fc384-cfeb-4614-bc60-52089c8c38eb",
        "colab": {
          "base_uri": "https://localhost:8080/",
          "height": 745
        }
      },
      "source": [
        "print(\"regioni in ordine di spesa per consumi energetici\")\n",
        "datab=data1.loc[data1['DOTAZIONI_A'].str.contains('ALL')]\n",
        "data2=datab.sort_values(\"Value\",ascending=False)\n",
        "data2\n",
        "\n"
      ],
      "execution_count": 8,
      "outputs": [
        {
          "output_type": "stream",
          "text": [
            "regioni in ordine di spesa per consumi energetici\n"
          ],
          "name": "stdout"
        },
        {
          "output_type": "execute_result",
          "data": {
            "text/html": [
              "<div>\n",
              "<style scoped>\n",
              "    .dataframe tbody tr th:only-of-type {\n",
              "        vertical-align: middle;\n",
              "    }\n",
              "\n",
              "    .dataframe tbody tr th {\n",
              "        vertical-align: top;\n",
              "    }\n",
              "\n",
              "    .dataframe thead th {\n",
              "        text-align: right;\n",
              "    }\n",
              "</style>\n",
              "<table border=\"1\" class=\"dataframe\">\n",
              "  <thead>\n",
              "    <tr style=\"text-align: right;\">\n",
              "      <th></th>\n",
              "      <th>Territorio</th>\n",
              "      <th>DOTAZIONI_A</th>\n",
              "      <th>TIME</th>\n",
              "      <th>Value</th>\n",
              "    </tr>\n",
              "  </thead>\n",
              "  <tbody>\n",
              "    <tr>\n",
              "      <th>0</th>\n",
              "      <td>Italia</td>\n",
              "      <td>ALL</td>\n",
              "      <td>2013</td>\n",
              "      <td>42302968.0</td>\n",
              "    </tr>\n",
              "    <tr>\n",
              "      <th>50</th>\n",
              "      <td>Lombardia</td>\n",
              "      <td>ALL</td>\n",
              "      <td>2013</td>\n",
              "      <td>8107385.0</td>\n",
              "    </tr>\n",
              "    <tr>\n",
              "      <th>94</th>\n",
              "      <td>Veneto</td>\n",
              "      <td>ALL</td>\n",
              "      <td>2013</td>\n",
              "      <td>3954097.0</td>\n",
              "    </tr>\n",
              "    <tr>\n",
              "      <th>116</th>\n",
              "      <td>Emilia-Romagna</td>\n",
              "      <td>ALL</td>\n",
              "      <td>2013</td>\n",
              "      <td>3834384.0</td>\n",
              "    </tr>\n",
              "    <tr>\n",
              "      <th>17</th>\n",
              "      <td>Piemonte</td>\n",
              "      <td>ALL</td>\n",
              "      <td>2013</td>\n",
              "      <td>3724781.0</td>\n",
              "    </tr>\n",
              "    <tr>\n",
              "      <th>160</th>\n",
              "      <td>Lazio</td>\n",
              "      <td>ALL</td>\n",
              "      <td>2013</td>\n",
              "      <td>3693710.0</td>\n",
              "    </tr>\n",
              "    <tr>\n",
              "      <th>193</th>\n",
              "      <td>Campania</td>\n",
              "      <td>ALL</td>\n",
              "      <td>2013</td>\n",
              "      <td>2922781.0</td>\n",
              "    </tr>\n",
              "    <tr>\n",
              "      <th>127</th>\n",
              "      <td>Toscana</td>\n",
              "      <td>ALL</td>\n",
              "      <td>2013</td>\n",
              "      <td>2768507.0</td>\n",
              "    </tr>\n",
              "    <tr>\n",
              "      <th>237</th>\n",
              "      <td>Sicilia</td>\n",
              "      <td>ALL</td>\n",
              "      <td>2013</td>\n",
              "      <td>2564383.0</td>\n",
              "    </tr>\n",
              "    <tr>\n",
              "      <th>204</th>\n",
              "      <td>Puglia</td>\n",
              "      <td>ALL</td>\n",
              "      <td>2013</td>\n",
              "      <td>2212700.0</td>\n",
              "    </tr>\n",
              "    <tr>\n",
              "      <th>39</th>\n",
              "      <td>Liguria</td>\n",
              "      <td>ALL</td>\n",
              "      <td>2013</td>\n",
              "      <td>1200124.0</td>\n",
              "    </tr>\n",
              "    <tr>\n",
              "      <th>226</th>\n",
              "      <td>Calabria</td>\n",
              "      <td>ALL</td>\n",
              "      <td>2013</td>\n",
              "      <td>1161997.0</td>\n",
              "    </tr>\n",
              "    <tr>\n",
              "      <th>248</th>\n",
              "      <td>Sardegna</td>\n",
              "      <td>ALL</td>\n",
              "      <td>2013</td>\n",
              "      <td>1085349.0</td>\n",
              "    </tr>\n",
              "    <tr>\n",
              "      <th>149</th>\n",
              "      <td>Marche</td>\n",
              "      <td>ALL</td>\n",
              "      <td>2013</td>\n",
              "      <td>1059778.0</td>\n",
              "    </tr>\n",
              "    <tr>\n",
              "      <th>105</th>\n",
              "      <td>Friuli-Venezia Giulia</td>\n",
              "      <td>ALL</td>\n",
              "      <td>2013</td>\n",
              "      <td>1010154.0</td>\n",
              "    </tr>\n",
              "    <tr>\n",
              "      <th>171</th>\n",
              "      <td>Abruzzo</td>\n",
              "      <td>ALL</td>\n",
              "      <td>2013</td>\n",
              "      <td>899437.0</td>\n",
              "    </tr>\n",
              "    <tr>\n",
              "      <th>61</th>\n",
              "      <td>Trentino Alto Adige / Südtirol</td>\n",
              "      <td>ALL</td>\n",
              "      <td>2013</td>\n",
              "      <td>762760.0</td>\n",
              "    </tr>\n",
              "    <tr>\n",
              "      <th>138</th>\n",
              "      <td>Umbria</td>\n",
              "      <td>ALL</td>\n",
              "      <td>2013</td>\n",
              "      <td>651324.0</td>\n",
              "    </tr>\n",
              "    <tr>\n",
              "      <th>83</th>\n",
              "      <td>Provincia Autonoma Trento</td>\n",
              "      <td>ALL</td>\n",
              "      <td>2013</td>\n",
              "      <td>416007.0</td>\n",
              "    </tr>\n",
              "    <tr>\n",
              "      <th>72</th>\n",
              "      <td>Provincia Autonoma Bolzano / Bozen</td>\n",
              "      <td>ALL</td>\n",
              "      <td>2013</td>\n",
              "      <td>346754.0</td>\n",
              "    </tr>\n",
              "    <tr>\n",
              "      <th>215</th>\n",
              "      <td>Basilicata</td>\n",
              "      <td>ALL</td>\n",
              "      <td>2013</td>\n",
              "      <td>346481.0</td>\n",
              "    </tr>\n",
              "    <tr>\n",
              "      <th>182</th>\n",
              "      <td>Molise</td>\n",
              "      <td>ALL</td>\n",
              "      <td>2013</td>\n",
              "      <td>204048.0</td>\n",
              "    </tr>\n",
              "    <tr>\n",
              "      <th>28</th>\n",
              "      <td>Valle d'Aosta / Vallée d'Aoste</td>\n",
              "      <td>ALL</td>\n",
              "      <td>2013</td>\n",
              "      <td>127899.0</td>\n",
              "    </tr>\n",
              "  </tbody>\n",
              "</table>\n",
              "</div>"
            ],
            "text/plain": [
              "                             Territorio DOTAZIONI_A  TIME       Value\n",
              "0                                Italia         ALL  2013  42302968.0\n",
              "50                            Lombardia         ALL  2013   8107385.0\n",
              "94                               Veneto         ALL  2013   3954097.0\n",
              "116                      Emilia-Romagna         ALL  2013   3834384.0\n",
              "17                             Piemonte         ALL  2013   3724781.0\n",
              "160                               Lazio         ALL  2013   3693710.0\n",
              "193                            Campania         ALL  2013   2922781.0\n",
              "127                             Toscana         ALL  2013   2768507.0\n",
              "237                             Sicilia         ALL  2013   2564383.0\n",
              "204                              Puglia         ALL  2013   2212700.0\n",
              "39                              Liguria         ALL  2013   1200124.0\n",
              "226                            Calabria         ALL  2013   1161997.0\n",
              "248                            Sardegna         ALL  2013   1085349.0\n",
              "149                              Marche         ALL  2013   1059778.0\n",
              "105               Friuli-Venezia Giulia         ALL  2013   1010154.0\n",
              "171                             Abruzzo         ALL  2013    899437.0\n",
              "61       Trentino Alto Adige / Südtirol         ALL  2013    762760.0\n",
              "138                              Umbria         ALL  2013    651324.0\n",
              "83            Provincia Autonoma Trento         ALL  2013    416007.0\n",
              "72   Provincia Autonoma Bolzano / Bozen         ALL  2013    346754.0\n",
              "215                          Basilicata         ALL  2013    346481.0\n",
              "182                              Molise         ALL  2013    204048.0\n",
              "28       Valle d'Aosta / Vallée d'Aoste         ALL  2013    127899.0"
            ]
          },
          "metadata": {
            "tags": []
          },
          "execution_count": 8
        }
      ]
    },
    {
      "cell_type": "code",
      "metadata": {
        "id": "ThZHIm3egscN"
      },
      "source": [
        "import matplotlib as plt\n",
        "import seaborn as sns"
      ],
      "execution_count": 12,
      "outputs": []
    },
    {
      "cell_type": "code",
      "metadata": {
        "id": "2NnLZtFwgwvK",
        "outputId": "0349e352-72ef-4237-c767-19df8c0a3551",
        "colab": {
          "base_uri": "https://localhost:8080/",
          "height": 387
        }
      },
      "source": [
        "sns.catplot(data=data2,y='Territorio',x=\"Value\")"
      ],
      "execution_count": 13,
      "outputs": [
        {
          "output_type": "execute_result",
          "data": {
            "text/plain": [
              "<seaborn.axisgrid.FacetGrid at 0x7f63d41f8f98>"
            ]
          },
          "metadata": {
            "tags": []
          },
          "execution_count": 13
        },
        {
          "output_type": "display_data",
          "data": {
            "image/png": "[encoded data removed]",
            "text/plain": [
              "<Figure size 360x360 with 1 Axes>"
            ]
          },
          "metadata": {
            "tags": [],
            "needs_background": "light"
          }
        }
      ]
    },
    {
      "cell_type": "markdown",
      "metadata": {
        "id": "22iQVXGDL9t6"
      },
      "source": [
        ""
      ]
    },
    {
      "cell_type": "markdown",
      "metadata": {
        "id": "KWT9j7FYcvbN"
      },
      "source": [
        "**Lombardia\\\n",
        "Veneto\\\n",
        "Emilia-Romagna\\\n",
        "sono le regioni con maggiore spesa in consumi energetici**\n"
      ]
    },
    {
      "cell_type": "code",
      "metadata": {
        "id": "InZuxpgadaWJ",
        "outputId": "1e8637f8-8bc5-4cbd-cfac-5a7a753f8759",
        "colab": {
          "base_uri": "https://localhost:8080/",
          "height": 225
        }
      },
      "source": [
        "data4=pd.DataFrame(data,columns=['DOTAZIONI_A'])\n",
        "data5=data4[5:11]\n",
        "data5\n",
        "#le diverse fonti energetiche#"
      ],
      "execution_count": 30,
      "outputs": [
        {
          "output_type": "execute_result",
          "data": {
            "text/html": [
              "<div>\n",
              "<style scoped>\n",
              "    .dataframe tbody tr th:only-of-type {\n",
              "        vertical-align: middle;\n",
              "    }\n",
              "\n",
              "    .dataframe tbody tr th {\n",
              "        vertical-align: top;\n",
              "    }\n",
              "\n",
              "    .dataframe thead th {\n",
              "        text-align: right;\n",
              "    }\n",
              "</style>\n",
              "<table border=\"1\" class=\"dataframe\">\n",
              "  <thead>\n",
              "    <tr style=\"text-align: right;\">\n",
              "      <th></th>\n",
              "      <th>DOTAZIONI_A</th>\n",
              "    </tr>\n",
              "  </thead>\n",
              "  <tbody>\n",
              "    <tr>\n",
              "      <th>5</th>\n",
              "      <td>H_OIL</td>\n",
              "    </tr>\n",
              "    <tr>\n",
              "      <th>6</th>\n",
              "      <td>LPG</td>\n",
              "    </tr>\n",
              "    <tr>\n",
              "      <th>7</th>\n",
              "      <td>ELECTR</td>\n",
              "    </tr>\n",
              "    <tr>\n",
              "      <th>8</th>\n",
              "      <td>METAN</td>\n",
              "    </tr>\n",
              "    <tr>\n",
              "      <th>9</th>\n",
              "      <td>FIREWOOD</td>\n",
              "    </tr>\n",
              "    <tr>\n",
              "      <th>10</th>\n",
              "      <td>PELLETS</td>\n",
              "    </tr>\n",
              "  </tbody>\n",
              "</table>\n",
              "</div>"
            ],
            "text/plain": [
              "   DOTAZIONI_A\n",
              "5        H_OIL\n",
              "6          LPG\n",
              "7       ELECTR\n",
              "8        METAN\n",
              "9     FIREWOOD\n",
              "10     PELLETS"
            ]
          },
          "metadata": {
            "tags": []
          },
          "execution_count": 30
        }
      ]
    },
    {
      "cell_type": "markdown",
      "metadata": {
        "id": "pom1_usaiI_w"
      },
      "source": [
        "**GASOLIO(h_oil):**"
      ]
    },
    {
      "cell_type": "code",
      "metadata": {
        "id": "PJMrPVWAjzEa",
        "outputId": "edbee49d-8b08-4f04-f1c1-9c8d24f45365",
        "colab": {
          "base_uri": "https://localhost:8080/",
          "height": 728
        }
      },
      "source": [
        "dataz=data.loc[~data['Tipo dato'].str.contains('media')]\n",
        "datag=dataz.loc[dataz['DOTAZIONI_A'].str.contains('H_OIL')]\n",
        "\n",
        "data6=datag.sort_values('Value',ascending=False)\n",
        "data7=pd.DataFrame(data6,columns=[\"Territorio\",\"DOTAZIONI_A\",\"TIME\",\"Value\"])\n",
        "data7\n"
      ],
      "execution_count": 47,
      "outputs": [
        {
          "output_type": "execute_result",
          "data": {
            "text/html": [
              "<div>\n",
              "<style scoped>\n",
              "    .dataframe tbody tr th:only-of-type {\n",
              "        vertical-align: middle;\n",
              "    }\n",
              "\n",
              "    .dataframe tbody tr th {\n",
              "        vertical-align: top;\n",
              "    }\n",
              "\n",
              "    .dataframe thead th {\n",
              "        text-align: right;\n",
              "    }\n",
              "</style>\n",
              "<table border=\"1\" class=\"dataframe\">\n",
              "  <thead>\n",
              "    <tr style=\"text-align: right;\">\n",
              "      <th></th>\n",
              "      <th>Territorio</th>\n",
              "      <th>DOTAZIONI_A</th>\n",
              "      <th>TIME</th>\n",
              "      <th>Value</th>\n",
              "    </tr>\n",
              "  </thead>\n",
              "  <tbody>\n",
              "    <tr>\n",
              "      <th>1</th>\n",
              "      <td>Italia</td>\n",
              "      <td>H_OIL</td>\n",
              "      <td>2013</td>\n",
              "      <td>1694455.0</td>\n",
              "    </tr>\n",
              "    <tr>\n",
              "      <th>51</th>\n",
              "      <td>Lombardia</td>\n",
              "      <td>H_OIL</td>\n",
              "      <td>2013</td>\n",
              "      <td>306923.0</td>\n",
              "    </tr>\n",
              "    <tr>\n",
              "      <th>95</th>\n",
              "      <td>Veneto</td>\n",
              "      <td>H_OIL</td>\n",
              "      <td>2013</td>\n",
              "      <td>250645.0</td>\n",
              "    </tr>\n",
              "    <tr>\n",
              "      <th>18</th>\n",
              "      <td>Piemonte</td>\n",
              "      <td>H_OIL</td>\n",
              "      <td>2013</td>\n",
              "      <td>202441.0</td>\n",
              "    </tr>\n",
              "    <tr>\n",
              "      <th>249</th>\n",
              "      <td>Sardegna</td>\n",
              "      <td>H_OIL</td>\n",
              "      <td>2013</td>\n",
              "      <td>167498.0</td>\n",
              "    </tr>\n",
              "    <tr>\n",
              "      <th>62</th>\n",
              "      <td>Trentino Alto Adige / Südtirol</td>\n",
              "      <td>H_OIL</td>\n",
              "      <td>2013</td>\n",
              "      <td>141308.0</td>\n",
              "    </tr>\n",
              "    <tr>\n",
              "      <th>128</th>\n",
              "      <td>Toscana</td>\n",
              "      <td>H_OIL</td>\n",
              "      <td>2013</td>\n",
              "      <td>127180.0</td>\n",
              "    </tr>\n",
              "    <tr>\n",
              "      <th>161</th>\n",
              "      <td>Lazio</td>\n",
              "      <td>H_OIL</td>\n",
              "      <td>2013</td>\n",
              "      <td>98630.0</td>\n",
              "    </tr>\n",
              "    <tr>\n",
              "      <th>106</th>\n",
              "      <td>Friuli-Venezia Giulia</td>\n",
              "      <td>H_OIL</td>\n",
              "      <td>2013</td>\n",
              "      <td>78649.0</td>\n",
              "    </tr>\n",
              "    <tr>\n",
              "      <th>73</th>\n",
              "      <td>Provincia Autonoma Bolzano / Bozen</td>\n",
              "      <td>H_OIL</td>\n",
              "      <td>2013</td>\n",
              "      <td>72564.0</td>\n",
              "    </tr>\n",
              "    <tr>\n",
              "      <th>84</th>\n",
              "      <td>Provincia Autonoma Trento</td>\n",
              "      <td>H_OIL</td>\n",
              "      <td>2013</td>\n",
              "      <td>68744.0</td>\n",
              "    </tr>\n",
              "    <tr>\n",
              "      <th>40</th>\n",
              "      <td>Liguria</td>\n",
              "      <td>H_OIL</td>\n",
              "      <td>2013</td>\n",
              "      <td>55576.0</td>\n",
              "    </tr>\n",
              "    <tr>\n",
              "      <th>205</th>\n",
              "      <td>Puglia</td>\n",
              "      <td>H_OIL</td>\n",
              "      <td>2013</td>\n",
              "      <td>52912.0</td>\n",
              "    </tr>\n",
              "    <tr>\n",
              "      <th>117</th>\n",
              "      <td>Emilia-Romagna</td>\n",
              "      <td>H_OIL</td>\n",
              "      <td>2013</td>\n",
              "      <td>49314.0</td>\n",
              "    </tr>\n",
              "    <tr>\n",
              "      <th>194</th>\n",
              "      <td>Campania</td>\n",
              "      <td>H_OIL</td>\n",
              "      <td>2013</td>\n",
              "      <td>39411.0</td>\n",
              "    </tr>\n",
              "    <tr>\n",
              "      <th>29</th>\n",
              "      <td>Valle d'Aosta / Vallée d'Aoste</td>\n",
              "      <td>H_OIL</td>\n",
              "      <td>2013</td>\n",
              "      <td>37226.0</td>\n",
              "    </tr>\n",
              "    <tr>\n",
              "      <th>139</th>\n",
              "      <td>Umbria</td>\n",
              "      <td>H_OIL</td>\n",
              "      <td>2013</td>\n",
              "      <td>23699.0</td>\n",
              "    </tr>\n",
              "    <tr>\n",
              "      <th>238</th>\n",
              "      <td>Sicilia</td>\n",
              "      <td>H_OIL</td>\n",
              "      <td>2013</td>\n",
              "      <td>21567.0</td>\n",
              "    </tr>\n",
              "    <tr>\n",
              "      <th>150</th>\n",
              "      <td>Marche</td>\n",
              "      <td>H_OIL</td>\n",
              "      <td>2013</td>\n",
              "      <td>20561.0</td>\n",
              "    </tr>\n",
              "    <tr>\n",
              "      <th>227</th>\n",
              "      <td>Calabria</td>\n",
              "      <td>H_OIL</td>\n",
              "      <td>2013</td>\n",
              "      <td>10027.0</td>\n",
              "    </tr>\n",
              "    <tr>\n",
              "      <th>172</th>\n",
              "      <td>Abruzzo</td>\n",
              "      <td>H_OIL</td>\n",
              "      <td>2013</td>\n",
              "      <td>NaN</td>\n",
              "    </tr>\n",
              "    <tr>\n",
              "      <th>183</th>\n",
              "      <td>Molise</td>\n",
              "      <td>H_OIL</td>\n",
              "      <td>2013</td>\n",
              "      <td>NaN</td>\n",
              "    </tr>\n",
              "    <tr>\n",
              "      <th>216</th>\n",
              "      <td>Basilicata</td>\n",
              "      <td>H_OIL</td>\n",
              "      <td>2013</td>\n",
              "      <td>NaN</td>\n",
              "    </tr>\n",
              "  </tbody>\n",
              "</table>\n",
              "</div>"
            ],
            "text/plain": [
              "                             Territorio DOTAZIONI_A  TIME      Value\n",
              "1                                Italia       H_OIL  2013  1694455.0\n",
              "51                            Lombardia       H_OIL  2013   306923.0\n",
              "95                               Veneto       H_OIL  2013   250645.0\n",
              "18                             Piemonte       H_OIL  2013   202441.0\n",
              "249                            Sardegna       H_OIL  2013   167498.0\n",
              "62       Trentino Alto Adige / Südtirol       H_OIL  2013   141308.0\n",
              "128                             Toscana       H_OIL  2013   127180.0\n",
              "161                               Lazio       H_OIL  2013    98630.0\n",
              "106               Friuli-Venezia Giulia       H_OIL  2013    78649.0\n",
              "73   Provincia Autonoma Bolzano / Bozen       H_OIL  2013    72564.0\n",
              "84            Provincia Autonoma Trento       H_OIL  2013    68744.0\n",
              "40                              Liguria       H_OIL  2013    55576.0\n",
              "205                              Puglia       H_OIL  2013    52912.0\n",
              "117                      Emilia-Romagna       H_OIL  2013    49314.0\n",
              "194                            Campania       H_OIL  2013    39411.0\n",
              "29       Valle d'Aosta / Vallée d'Aoste       H_OIL  2013    37226.0\n",
              "139                              Umbria       H_OIL  2013    23699.0\n",
              "238                             Sicilia       H_OIL  2013    21567.0\n",
              "150                              Marche       H_OIL  2013    20561.0\n",
              "227                            Calabria       H_OIL  2013    10027.0\n",
              "172                             Abruzzo       H_OIL  2013        NaN\n",
              "183                              Molise       H_OIL  2013        NaN\n",
              "216                          Basilicata       H_OIL  2013        NaN"
            ]
          },
          "metadata": {
            "tags": []
          },
          "execution_count": 47
        }
      ]
    },
    {
      "cell_type": "code",
      "metadata": {
        "id": "L0SZ7ORZvAw1",
        "outputId": "14ac5ba5-31bb-438e-8b91-5917903f3c7e",
        "colab": {
          "base_uri": "https://localhost:8080/",
          "height": 307
        }
      },
      "source": [
        "sns.histplot(data7,x='Territorio',y='Value',)"
      ],
      "execution_count": 49,
      "outputs": [
        {
          "output_type": "execute_result",
          "data": {
            "text/plain": [
              "<matplotlib.axes._subplots.AxesSubplot at 0x7f63c74e9c88>"
            ]
          },
          "metadata": {
            "tags": []
          },
          "execution_count": 49
        },
        {
          "output_type": "display_data",
          "data": {
            "image/png": "[encoded data removed]",
            "text/plain": [
              "<Figure size 432x288 with 1 Axes>"
            ]
          },
          "metadata": {
            "tags": [],
            "needs_background": "light"
          }
        }
      ]
    }
  ]
}