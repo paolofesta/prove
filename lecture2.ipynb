{
  "nbformat": 4,
  "nbformat_minor": 0,
  "metadata": {
    "colab": {
      "provenance": [],
      "authorship_tag": "ABX9TyOYRnBucM6BM0aRRkxa+dVS",
      "include_colab_link": true
    },
    "kernelspec": {
      "name": "python3",
      "display_name": "Python 3"
    },
    "language_info": {
      "name": "python"
    }
  },
  "cells": [
    {
      "cell_type": "markdown",
      "metadata": {
        "id": "view-in-github",
        "colab_type": "text"
      },
      "source": [
        "<a href=\"https://colab.research.google.com/github/paolofesta/prove/blob/master/lecture2.ipynb\" target=\"_parent\"><img src=\"https://colab.research.google.com/assets/colab-badge.svg\" alt=\"Open In Colab\"/></a>"
      ]
    },
    {
      "cell_type": "markdown",
      "source": [
        "**LECTURE 2**\n"
      ],
      "metadata": {
        "id": "xjYiZ3f_0js5"
      }
    },
    {
      "cell_type": "code",
      "source": [
        "# input returns always a string. to transform:"
      ],
      "metadata": {
        "id": "aUr4Na3z0phX"
      },
      "execution_count": null,
      "outputs": []
    },
    {
      "cell_type": "code",
      "source": [
        "a= float(input(\"insert data\"))\n",
        "print(\"you entered:\",a)"
      ],
      "metadata": {
        "colab": {
          "base_uri": "https://localhost:8080/"
        },
        "id": "wzRHq-uj25JP",
        "outputId": "274c17c8-6b20-4fe0-a704-28183004c9c7"
      },
      "execution_count": null,
      "outputs": [
        {
          "output_type": "stream",
          "name": "stdout",
          "text": [
            "insert data7\n",
            "you entered: 7.0\n"
          ]
        }
      ]
    },
    {
      "cell_type": "code",
      "source": [
        "a= float(input(\"insert data\"))\n",
        "print(\"you entered:\",a)\n",
        "#the machine cannot translate"
      ],
      "metadata": {
        "colab": {
          "base_uri": "https://localhost:8080/",
          "height": 202
        },
        "id": "K0zQWZEM3qFa",
        "outputId": "146640d0-0cae-41e0-f01b-0eac2ed5d2b8"
      },
      "execution_count": null,
      "outputs": [
        {
          "name": "stdout",
          "output_type": "stream",
          "text": [
            "insert dataabc\n"
          ]
        },
        {
          "output_type": "error",
          "ename": "ValueError",
          "evalue": "ignored",
          "traceback": [
            "\u001b[0;31m---------------------------------------------------------------------------\u001b[0m",
            "\u001b[0;31mValueError\u001b[0m                                Traceback (most recent call last)",
            "\u001b[0;32m<ipython-input-7-15064e2199cb>\u001b[0m in \u001b[0;36m<module>\u001b[0;34m\u001b[0m\n\u001b[0;32m----> 1\u001b[0;31m \u001b[0ma\u001b[0m\u001b[0;34m=\u001b[0m \u001b[0mfloat\u001b[0m\u001b[0;34m(\u001b[0m\u001b[0minput\u001b[0m\u001b[0;34m(\u001b[0m\u001b[0;34m\"insert data\"\u001b[0m\u001b[0;34m)\u001b[0m\u001b[0;34m)\u001b[0m\u001b[0;34m\u001b[0m\u001b[0;34m\u001b[0m\u001b[0m\n\u001b[0m\u001b[1;32m      2\u001b[0m \u001b[0mprint\u001b[0m\u001b[0;34m(\u001b[0m\u001b[0;34m\"you entered:\"\u001b[0m\u001b[0;34m,\u001b[0m\u001b[0ma\u001b[0m\u001b[0;34m)\u001b[0m\u001b[0;34m\u001b[0m\u001b[0;34m\u001b[0m\u001b[0m\n",
            "\u001b[0;31mValueError\u001b[0m: could not convert string to float: 'abc'"
          ]
        }
      ]
    },
    {
      "cell_type": "code",
      "source": [
        "#ValueError is a type of error \n",
        "# whit try you can manage the errors\n",
        "try:\n",
        "  a= float(input(\"insert data: \"))\n",
        "except ValueError:\n",
        "  print(\"you entered wrong data type\")\n",
        "\n"
      ],
      "metadata": {
        "colab": {
          "base_uri": "https://localhost:8080/"
        },
        "id": "rICEzoo84cJM",
        "outputId": "92bd6961-c2af-4b87-8c96-ac9d93cc44ac"
      },
      "execution_count": null,
      "outputs": [
        {
          "output_type": "stream",
          "name": "stdout",
          "text": [
            "insert data: abc\n",
            "you entered wrong data type\n"
          ]
        }
      ]
    },
    {
      "cell_type": "code",
      "source": [
        "v #NameError is another type of error"
      ],
      "metadata": {
        "colab": {
          "base_uri": "https://localhost:8080/",
          "height": 179
        },
        "id": "a3Xs9SIK6iUn",
        "outputId": "71a0094b-b6fa-4e63-c8ff-5e84ee707aaf"
      },
      "execution_count": null,
      "outputs": [
        {
          "output_type": "error",
          "ename": "NameError",
          "evalue": "ignored",
          "traceback": [
            "\u001b[0;31m---------------------------------------------------------------------------\u001b[0m",
            "\u001b[0;31mNameError\u001b[0m                                 Traceback (most recent call last)",
            "\u001b[0;32m<ipython-input-23-d0aa4386ac53>\u001b[0m in \u001b[0;36m<module>\u001b[0;34m\u001b[0m\n\u001b[0;32m----> 1\u001b[0;31m \u001b[0mv\u001b[0m\u001b[0;34m\u001b[0m\u001b[0;34m\u001b[0m\u001b[0m\n\u001b[0m",
            "\u001b[0;31mNameError\u001b[0m: name 'v' is not defined"
          ]
        }
      ]
    },
    {
      "cell_type": "markdown",
      "source": [
        "#various types of errors:"
      ],
      "metadata": {
        "id": "mgxTGPKE7y2Y"
      }
    },
    {
      "cell_type": "code",
      "source": [
        "\n",
        "#LEXICAL ERRORS: statement doesen't belong to Python lexicon(vocabulary)\n",
        "pront(\"ciao\")"
      ],
      "metadata": {
        "colab": {
          "base_uri": "https://localhost:8080/",
          "height": 219
        },
        "id": "igQct8Z27UEq",
        "outputId": "38bc4c92-567f-4663-e774-2cfeb9773864"
      },
      "execution_count": null,
      "outputs": [
        {
          "output_type": "error",
          "ename": "NameError",
          "evalue": "ignored",
          "traceback": [
            "\u001b[0;31m---------------------------------------------------------------------------\u001b[0m",
            "\u001b[0;31mNameError\u001b[0m                                 Traceback (most recent call last)",
            "\u001b[0;32m<ipython-input-26-2b46c9b38430>\u001b[0m in \u001b[0;36m<module>\u001b[0;34m\u001b[0m\n\u001b[1;32m      1\u001b[0m \u001b[0;31m#various types of errorss:\u001b[0m\u001b[0;34m\u001b[0m\u001b[0;34m\u001b[0m\u001b[0;34m\u001b[0m\u001b[0m\n\u001b[1;32m      2\u001b[0m \u001b[0;31m#LEXICAL ERRORS statement doesen't belong to Python lexicon(vocabulary)\u001b[0m\u001b[0;34m\u001b[0m\u001b[0;34m\u001b[0m\u001b[0;34m\u001b[0m\u001b[0m\n\u001b[0;32m----> 3\u001b[0;31m \u001b[0mpront\u001b[0m\u001b[0;34m(\u001b[0m\u001b[0;34m\"ciao\"\u001b[0m\u001b[0;34m)\u001b[0m\u001b[0;34m\u001b[0m\u001b[0;34m\u001b[0m\u001b[0m\n\u001b[0m",
            "\u001b[0;31mNameError\u001b[0m: name 'pront' is not defined"
          ]
        }
      ]
    },
    {
      "cell_type": "code",
      "source": [
        "#SyNTAX ERRORS: you don't respect the syntax rules \n",
        "print(\"ciao')"
      ],
      "metadata": {
        "colab": {
          "base_uri": "https://localhost:8080/",
          "height": 140
        },
        "id": "5JEF8Vog76Ka",
        "outputId": "15410a32-aba4-450c-bf70-0bfeeed71724"
      },
      "execution_count": null,
      "outputs": [
        {
          "output_type": "error",
          "ename": "SyntaxError",
          "evalue": "ignored",
          "traceback": [
            "\u001b[0;36m  File \u001b[0;32m\"<ipython-input-27-ad83a50825a3>\"\u001b[0;36m, line \u001b[0;32m2\u001b[0m\n\u001b[0;31m    print(\"ciao')\u001b[0m\n\u001b[0m                 ^\u001b[0m\n\u001b[0;31mSyntaxError\u001b[0m\u001b[0;31m:\u001b[0m EOL while scanning string literal\n"
          ]
        }
      ]
    },
    {
      "cell_type": "code",
      "source": [
        "#RUN TIME ERRORS: more complicated to identify\n",
        "a=3\n",
        "b=0\n",
        "c=a/b\n",
        "#the lexicon and the syntax is correct "
      ],
      "metadata": {
        "colab": {
          "base_uri": "https://localhost:8080/",
          "height": 238
        },
        "id": "1EbmWEfd8hbX",
        "outputId": "1887aa14-e41d-4c09-a087-3680c9ee033a"
      },
      "execution_count": 31,
      "outputs": [
        {
          "output_type": "error",
          "ename": "ZeroDivisionError",
          "evalue": "ignored",
          "traceback": [
            "\u001b[0;31m---------------------------------------------------------------------------\u001b[0m",
            "\u001b[0;31mZeroDivisionError\u001b[0m                         Traceback (most recent call last)",
            "\u001b[0;32m<ipython-input-31-03f850a0be28>\u001b[0m in \u001b[0;36m<module>\u001b[0;34m\u001b[0m\n\u001b[1;32m      2\u001b[0m \u001b[0ma\u001b[0m\u001b[0;34m=\u001b[0m\u001b[0;36m3\u001b[0m\u001b[0;34m\u001b[0m\u001b[0;34m\u001b[0m\u001b[0m\n\u001b[1;32m      3\u001b[0m \u001b[0mb\u001b[0m\u001b[0;34m=\u001b[0m\u001b[0;36m0\u001b[0m\u001b[0;34m\u001b[0m\u001b[0;34m\u001b[0m\u001b[0m\n\u001b[0;32m----> 4\u001b[0;31m \u001b[0mc\u001b[0m\u001b[0;34m=\u001b[0m\u001b[0ma\u001b[0m\u001b[0;34m/\u001b[0m\u001b[0mb\u001b[0m\u001b[0;34m\u001b[0m\u001b[0;34m\u001b[0m\u001b[0m\n\u001b[0m\u001b[1;32m      5\u001b[0m \u001b[0;31m#the lexicon and the syntax is correct\u001b[0m\u001b[0;34m\u001b[0m\u001b[0;34m\u001b[0m\u001b[0;34m\u001b[0m\u001b[0m\n",
            "\u001b[0;31mZeroDivisionError\u001b[0m: division by zero"
          ]
        }
      ]
    },
    {
      "cell_type": "code",
      "source": [
        "#SEMANTIC ERROR: even more harder to identify\n",
        "square_of_a= a + a\n",
        "square_of_a\n",
        "#is not the uotput that i want, because i confused * with +"
      ],
      "metadata": {
        "colab": {
          "base_uri": "https://localhost:8080/"
        },
        "id": "vPzrqZI49Mah",
        "outputId": "f61a80ef-e024-4d25-d554-6b72f3d65d1f"
      },
      "execution_count": 34,
      "outputs": [
        {
          "output_type": "execute_result",
          "data": {
            "text/plain": [
              "6"
            ]
          },
          "metadata": {},
          "execution_count": 34
        }
      ]
    },
    {
      "cell_type": "code",
      "source": [
        "#input-->processing-->output\n",
        "radium=5\n",
        "area=3.14*radium**2\n",
        "circonference=(radium*2)*3.14\n",
        "print(\"radium:\",radium,area,circonference)\n",
        "print(\"area:\",area)\n",
        "print(\"circonference:\",circonference)\n",
        "print(\"Done, Goodbye\")"
      ],
      "metadata": {
        "colab": {
          "base_uri": "https://localhost:8080/"
        },
        "id": "RMUxu2pH98eC",
        "outputId": "86913735-cb40-45f3-cdd0-abbb3f36b926"
      },
      "execution_count": 42,
      "outputs": [
        {
          "output_type": "stream",
          "name": "stdout",
          "text": [
            "radium: 5 78.5 31.400000000000002\n",
            "area: 78.5\n",
            "circonference: 31.400000000000002\n",
            "Done, Goodbye\n"
          ]
        }
      ]
    },
    {
      "cell_type": "code",
      "source": [
        "a=float(input(\"first number: \"))\n",
        "b=float(input(\"second number: \"))\n",
        "c=a/b\n",
        "print(\"the ratio of:\",a,b,\"is: \",c)"
      ],
      "metadata": {
        "colab": {
          "base_uri": "https://localhost:8080/"
        },
        "id": "_8homquiAv7m",
        "outputId": "95164ebe-c7f4-4d6c-a2ef-774deb4322ad"
      },
      "execution_count": 53,
      "outputs": [
        {
          "output_type": "stream",
          "name": "stdout",
          "text": [
            "first number: 45\n",
            "second number: 55\n",
            "the ratio of: 45.0 55.0 is:  0.8181818181818182\n"
          ]
        }
      ]
    },
    {
      "cell_type": "code",
      "source": [
        "#if statement\n",
        "\n",
        "a=float(input(\"first number: \"))\n",
        "b=float(input(\"second number: \"))\n",
        "c= \"not possible to compute\"\n",
        "if (b !=0):\n",
        " c=a/b #is necessary to type almost 1 space at right\n",
        "print(\"the ratio of:\",a,b,\"is: \",c)\n",
        "#if b is equal to zero, c is \"no possible to compute\", if is !0 c is a/b"
      ],
      "metadata": {
        "colab": {
          "base_uri": "https://localhost:8080/"
        },
        "id": "49YRmF-ZB-wf",
        "outputId": "6ed6415f-f21e-4a3b-fc33-65b1db12c409"
      },
      "execution_count": 67,
      "outputs": [
        {
          "output_type": "stream",
          "name": "stdout",
          "text": [
            "first number: 3\n",
            "second number: 0\n",
            "the ratio of: 3.0 0.0 is:  not possible to compute\n"
          ]
        }
      ]
    },
    {
      "cell_type": "code",
      "source": [
        "a=float(input(\"first number: \"))\n",
        "b=float(input(\"second number: \"))\n",
        "c= \"not possible to compute\"\n",
        "if (b !=0):\n",
        " c=a/b #is necessary to type almost 1 space at right\n",
        "print(\"the ratio of:\",a,b,\"is: \",c)\n",
        "#if b is equal to zero, c is \"no possible to compute\", if b is !0, c is a/b2"
      ],
      "metadata": {
        "colab": {
          "base_uri": "https://localhost:8080/"
        },
        "id": "OmUij_80EZuE",
        "outputId": "c390324a-418f-4b17-91a0-9de45c2fa1f8"
      },
      "execution_count": 68,
      "outputs": [
        {
          "output_type": "stream",
          "name": "stdout",
          "text": [
            "first number: 3\n",
            "second number: 2\n",
            "the ratio of: 3.0 2.0 is:  1.5\n"
          ]
        }
      ]
    },
    {
      "cell_type": "code",
      "source": [
        "# basic operators to compare values: ==,!=,>,<,<=,>="
      ],
      "metadata": {
        "id": "c2tGd1aSE96N"
      },
      "execution_count": null,
      "outputs": []
    },
    {
      "cell_type": "code",
      "source": [
        "# else can be used when the condition is false, (if when is true). i can use if and else togheter. there is also elif that introduce a second condition"
      ],
      "metadata": {
        "id": "KzUGi3AeCAx0"
      },
      "execution_count": null,
      "outputs": []
    },
    {
      "cell_type": "code",
      "source": [
        "# logical operators: True, False, not, and, or , True and False are constant. not=negation !, and= conjunction &, or=disjunction |.\n",
        "#Boolean "
      ],
      "metadata": {
        "id": "dbXcqqyNHQUi"
      },
      "execution_count": null,
      "outputs": []
    },
    {
      "cell_type": "code",
      "source": [
        "itsraining = False\n",
        "if (itsraining=False):\n",
        "  print(\"take the umbrella\")\n",
        "  itsraining= True\n",
        "if itsraining:\n",
        "  print(\"take the umbrella\")\n",
        "  #something wrong"
      ],
      "metadata": {
        "id": "Nt4tHChHIsbd"
      },
      "execution_count": 70,
      "outputs": []
    },
    {
      "cell_type": "code",
      "source": [
        "#using \\ you can go a capo without broke the code"
      ],
      "metadata": {
        "id": "8sNzKFUkJxZi"
      },
      "execution_count": null,
      "outputs": []
    },
    {
      "cell_type": "code",
      "source": [
        "#EXERCISES: given two numbers, return the graeter"
      ],
      "metadata": {
        "id": "yMyrfV6oJ84B"
      },
      "execution_count": null,
      "outputs": []
    }
  ]
}