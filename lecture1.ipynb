{
  "nbformat": 4,
  "nbformat_minor": 0,
  "metadata": {
    "colab": {
      "provenance": [],
      "authorship_tag": "ABX9TyPrlh2qa7fE0RAlw+wcKdAc",
      "include_colab_link": true
    },
    "kernelspec": {
      "name": "python3",
      "display_name": "Python 3"
    },
    "language_info": {
      "name": "python"
    }
  },
  "cells": [
    {
      "cell_type": "markdown",
      "metadata": {
        "id": "view-in-github",
        "colab_type": "text"
      },
      "source": [
        "<a href=\"https://colab.research.google.com/github/paolofesta/prove/blob/master/lecture1.ipynb\" target=\"_parent\"><img src=\"https://colab.research.google.com/assets/colab-badge.svg\" alt=\"Open In Colab\"/></a>"
      ]
    },
    {
      "cell_type": "code",
      "execution_count": 3,
      "metadata": {
        "colab": {
          "base_uri": "https://localhost:8080/"
        },
        "id": "pBJVEy55PGU7",
        "outputId": "82eca0ba-bd22-4de4-e8d6-54f90f030296"
      },
      "outputs": [
        {
          "output_type": "stream",
          "name": "stdout",
          "text": [
            "\n",
            "Here is a list of the Python keywords.  Enter any keyword to get more help.\n",
            "\n",
            "False               class               from                or\n",
            "None                continue            global              pass\n",
            "True                def                 if                  raise\n",
            "and                 del                 import              return\n",
            "as                  elif                in                  try\n",
            "assert              else                is                  while\n",
            "async               except              lambda              with\n",
            "await               finally             nonlocal            yield\n",
            "break               for                 not                 \n",
            "\n"
          ]
        }
      ],
      "source": [
        "help('keywords')"
      ]
    },
    {
      "cell_type": "code",
      "source": [
        "help('False')"
      ],
      "metadata": {
        "colab": {
          "base_uri": "https://localhost:8080/"
        },
        "id": "tAmXAM-gPeq7",
        "outputId": "54c669af-ac42-4dc8-b880-be20ef7f21e9"
      },
      "execution_count": 6,
      "outputs": [
        {
          "output_type": "stream",
          "name": "stdout",
          "text": [
            "Help on bool object:\n",
            "\n",
            "class bool(int)\n",
            " |  bool(x) -> bool\n",
            " |  \n",
            " |  Returns True when the argument x is true, False otherwise.\n",
            " |  The builtins True and False are the only two instances of the class bool.\n",
            " |  The class bool is a subclass of the class int, and cannot be subclassed.\n",
            " |  \n",
            " |  Method resolution order:\n",
            " |      bool\n",
            " |      int\n",
            " |      object\n",
            " |  \n",
            " |  Methods defined here:\n",
            " |  \n",
            " |  __and__(self, value, /)\n",
            " |      Return self&value.\n",
            " |  \n",
            " |  __or__(self, value, /)\n",
            " |      Return self|value.\n",
            " |  \n",
            " |  __rand__(self, value, /)\n",
            " |      Return value&self.\n",
            " |  \n",
            " |  __repr__(self, /)\n",
            " |      Return repr(self).\n",
            " |  \n",
            " |  __ror__(self, value, /)\n",
            " |      Return value|self.\n",
            " |  \n",
            " |  __rxor__(self, value, /)\n",
            " |      Return value^self.\n",
            " |  \n",
            " |  __str__(self, /)\n",
            " |      Return str(self).\n",
            " |  \n",
            " |  __xor__(self, value, /)\n",
            " |      Return self^value.\n",
            " |  \n",
            " |  ----------------------------------------------------------------------\n",
            " |  Static methods defined here:\n",
            " |  \n",
            " |  __new__(*args, **kwargs) from builtins.type\n",
            " |      Create and return a new object.  See help(type) for accurate signature.\n",
            " |  \n",
            " |  ----------------------------------------------------------------------\n",
            " |  Methods inherited from int:\n",
            " |  \n",
            " |  __abs__(self, /)\n",
            " |      abs(self)\n",
            " |  \n",
            " |  __add__(self, value, /)\n",
            " |      Return self+value.\n",
            " |  \n",
            " |  __bool__(self, /)\n",
            " |      self != 0\n",
            " |  \n",
            " |  __ceil__(...)\n",
            " |      Ceiling of an Integral returns itself.\n",
            " |  \n",
            " |  __divmod__(self, value, /)\n",
            " |      Return divmod(self, value).\n",
            " |  \n",
            " |  __eq__(self, value, /)\n",
            " |      Return self==value.\n",
            " |  \n",
            " |  __float__(self, /)\n",
            " |      float(self)\n",
            " |  \n",
            " |  __floor__(...)\n",
            " |      Flooring an Integral returns itself.\n",
            " |  \n",
            " |  __floordiv__(self, value, /)\n",
            " |      Return self//value.\n",
            " |  \n",
            " |  __format__(self, format_spec, /)\n",
            " |      Default object formatter.\n",
            " |  \n",
            " |  __ge__(self, value, /)\n",
            " |      Return self>=value.\n",
            " |  \n",
            " |  __getattribute__(self, name, /)\n",
            " |      Return getattr(self, name).\n",
            " |  \n",
            " |  __getnewargs__(self, /)\n",
            " |  \n",
            " |  __gt__(self, value, /)\n",
            " |      Return self>value.\n",
            " |  \n",
            " |  __hash__(self, /)\n",
            " |      Return hash(self).\n",
            " |  \n",
            " |  __index__(self, /)\n",
            " |      Return self converted to an integer, if self is suitable for use as an index into a list.\n",
            " |  \n",
            " |  __int__(self, /)\n",
            " |      int(self)\n",
            " |  \n",
            " |  __invert__(self, /)\n",
            " |      ~self\n",
            " |  \n",
            " |  __le__(self, value, /)\n",
            " |      Return self<=value.\n",
            " |  \n",
            " |  __lshift__(self, value, /)\n",
            " |      Return self<<value.\n",
            " |  \n",
            " |  __lt__(self, value, /)\n",
            " |      Return self<value.\n",
            " |  \n",
            " |  __mod__(self, value, /)\n",
            " |      Return self%value.\n",
            " |  \n",
            " |  __mul__(self, value, /)\n",
            " |      Return self*value.\n",
            " |  \n",
            " |  __ne__(self, value, /)\n",
            " |      Return self!=value.\n",
            " |  \n",
            " |  __neg__(self, /)\n",
            " |      -self\n",
            " |  \n",
            " |  __pos__(self, /)\n",
            " |      +self\n",
            " |  \n",
            " |  __pow__(self, value, mod=None, /)\n",
            " |      Return pow(self, value, mod).\n",
            " |  \n",
            " |  __radd__(self, value, /)\n",
            " |      Return value+self.\n",
            " |  \n",
            " |  __rdivmod__(self, value, /)\n",
            " |      Return divmod(value, self).\n",
            " |  \n",
            " |  __rfloordiv__(self, value, /)\n",
            " |      Return value//self.\n",
            " |  \n",
            " |  __rlshift__(self, value, /)\n",
            " |      Return value<<self.\n",
            " |  \n",
            " |  __rmod__(self, value, /)\n",
            " |      Return value%self.\n",
            " |  \n",
            " |  __rmul__(self, value, /)\n",
            " |      Return value*self.\n",
            " |  \n",
            " |  __round__(...)\n",
            " |      Rounding an Integral returns itself.\n",
            " |      Rounding with an ndigits argument also returns an integer.\n",
            " |  \n",
            " |  __rpow__(self, value, mod=None, /)\n",
            " |      Return pow(value, self, mod).\n",
            " |  \n",
            " |  __rrshift__(self, value, /)\n",
            " |      Return value>>self.\n",
            " |  \n",
            " |  __rshift__(self, value, /)\n",
            " |      Return self>>value.\n",
            " |  \n",
            " |  __rsub__(self, value, /)\n",
            " |      Return value-self.\n",
            " |  \n",
            " |  __rtruediv__(self, value, /)\n",
            " |      Return value/self.\n",
            " |  \n",
            " |  __sizeof__(self, /)\n",
            " |      Returns size in memory, in bytes.\n",
            " |  \n",
            " |  __sub__(self, value, /)\n",
            " |      Return self-value.\n",
            " |  \n",
            " |  __truediv__(self, value, /)\n",
            " |      Return self/value.\n",
            " |  \n",
            " |  __trunc__(...)\n",
            " |      Truncating an Integral returns itself.\n",
            " |  \n",
            " |  bit_length(self, /)\n",
            " |      Number of bits necessary to represent self in binary.\n",
            " |      \n",
            " |      >>> bin(37)\n",
            " |      '0b100101'\n",
            " |      >>> (37).bit_length()\n",
            " |      6\n",
            " |  \n",
            " |  conjugate(...)\n",
            " |      Returns self, the complex conjugate of any int.\n",
            " |  \n",
            " |  to_bytes(self, /, length, byteorder, *, signed=False)\n",
            " |      Return an array of bytes representing an integer.\n",
            " |      \n",
            " |      length\n",
            " |        Length of bytes object to use.  An OverflowError is raised if the\n",
            " |        integer is not representable with the given number of bytes.\n",
            " |      byteorder\n",
            " |        The byte order used to represent the integer.  If byteorder is 'big',\n",
            " |        the most significant byte is at the beginning of the byte array.  If\n",
            " |        byteorder is 'little', the most significant byte is at the end of the\n",
            " |        byte array.  To request the native byte order of the host system, use\n",
            " |        `sys.byteorder' as the byte order value.\n",
            " |      signed\n",
            " |        Determines whether two's complement is used to represent the integer.\n",
            " |        If signed is False and a negative integer is given, an OverflowError\n",
            " |        is raised.\n",
            " |  \n",
            " |  ----------------------------------------------------------------------\n",
            " |  Class methods inherited from int:\n",
            " |  \n",
            " |  from_bytes(bytes, byteorder, *, signed=False) from builtins.type\n",
            " |      Return the integer represented by the given array of bytes.\n",
            " |      \n",
            " |      bytes\n",
            " |        Holds the array of bytes to convert.  The argument must either\n",
            " |        support the buffer protocol or be an iterable object producing bytes.\n",
            " |        Bytes and bytearray are examples of built-in objects that support the\n",
            " |        buffer protocol.\n",
            " |      byteorder\n",
            " |        The byte order used to represent the integer.  If byteorder is 'big',\n",
            " |        the most significant byte is at the beginning of the byte array.  If\n",
            " |        byteorder is 'little', the most significant byte is at the end of the\n",
            " |        byte array.  To request the native byte order of the host system, use\n",
            " |        `sys.byteorder' as the byte order value.\n",
            " |      signed\n",
            " |        Indicates whether two's complement is used to represent the integer.\n",
            " |  \n",
            " |  ----------------------------------------------------------------------\n",
            " |  Data descriptors inherited from int:\n",
            " |  \n",
            " |  denominator\n",
            " |      the denominator of a rational number in lowest terms\n",
            " |  \n",
            " |  imag\n",
            " |      the imaginary part of a complex number\n",
            " |  \n",
            " |  numerator\n",
            " |      the numerator of a rational number in lowest terms\n",
            " |  \n",
            " |  real\n",
            " |      the real part of a complex number\n",
            "\n"
          ]
        }
      ]
    },
    {
      "cell_type": "code",
      "source": [
        "help('modules')"
      ],
      "metadata": {
        "colab": {
          "base_uri": "https://localhost:8080/"
        },
        "id": "9cy988MYPrds",
        "outputId": "06945428-9490-425e-86f8-b6ef25190197"
      },
      "execution_count": 7,
      "outputs": [
        {
          "output_type": "stream",
          "name": "stdout",
          "text": [
            "\n",
            "Please wait a moment while I gather a list of all available modules...\n",
            "\n"
          ]
        },
        {
          "output_type": "stream",
          "name": "stderr",
          "text": [
            "/usr/local/lib/python3.7/dist-packages/IPython/kernel/__init__.py:13: ShimWarning: The `IPython.kernel` package has been deprecated since IPython 4.0.You should import from ipykernel or jupyter_client instead.\n",
            "  \"You should import from ipykernel or jupyter_client instead.\", ShimWarning)\n",
            "/usr/local/lib/python3.7/dist-packages/llvmlite/llvmpy/__init__.py:4: UserWarning: The module `llvmlite.llvmpy` is deprecated and will be removed in the future.\n",
            "  \"The module `llvmlite.llvmpy` is deprecated and will be removed in the \"\n",
            "/usr/local/lib/python3.7/dist-packages/llvmlite/llvmpy/core.py:9: UserWarning: The module `llvmlite.llvmpy.core` is deprecated and will be removed in the future. Equivalent functionality is provided by `llvmlite.ir`.\n",
            "  \"The module `llvmlite.llvmpy.core` is deprecated and will be removed in \"\n",
            "WARNING: AstropyDeprecationWarning: The private astropy._erfa module has been made into its own package, pyerfa, which is a dependency of astropy and can be imported directly using \"import erfa\" [astropy._erfa]\n",
            "WARNING:astropy:AstropyDeprecationWarning: The private astropy._erfa module has been made into its own package, pyerfa, which is a dependency of astropy and can be imported directly using \"import erfa\"\n",
            "/usr/local/lib/python3.7/dist-packages/caffe2/__init__.py:5: UserWarning: Caffe2 support is not fully enabled in this PyTorch build. Please enable Caffe2 by building PyTorch from source with `BUILD_CAFFE2=1` flag.\n",
            "  warnings.warn(\"Caffe2 support is not fully enabled in this PyTorch build. \"\n",
            "/usr/local/lib/python3.7/dist-packages/caffe2/proto/__init__.py:17: UserWarning: Caffe2 support is not enabled in this PyTorch build. Please enable Caffe2 by building PyTorch from source with `BUILD_CAFFE2=1` flag.\n",
            "  warnings.warn('Caffe2 support is not enabled in this PyTorch build. '\n",
            "/usr/local/lib/python3.7/dist-packages/caffe2/proto/__init__.py:17: UserWarning: Caffe2 support is not enabled in this PyTorch build. Please enable Caffe2 by building PyTorch from source with `BUILD_CAFFE2=1` flag.\n",
            "  warnings.warn('Caffe2 support is not enabled in this PyTorch build. '\n",
            "/usr/local/lib/python3.7/dist-packages/caffe2/python/__init__.py:9: UserWarning: Caffe2 support is not enabled in this PyTorch build. Please enable Caffe2 by building PyTorch from source with `BUILD_CAFFE2=1` flag.\n",
            "  warnings.warn('Caffe2 support is not enabled in this PyTorch build. '\n",
            "/usr/local/lib/python3.7/dist-packages/past/types/oldstr.py:5: DeprecationWarning:\n",
            "\n",
            "Using or importing the ABCs from 'collections' instead of from 'collections.abc' is deprecated since Python 3.3,and in 3.9 it will stop working\n",
            "\n",
            "/usr/local/lib/python3.7/dist-packages/intervaltree/intervaltree.py:37: DeprecationWarning:\n",
            "\n",
            "Using or importing the ABCs from 'collections' instead of from 'collections.abc' is deprecated since Python 3.3,and in 3.9 it will stop working\n",
            "\n",
            "/usr/local/lib/python3.7/dist-packages/jupyter_client/ssh/tunnel.py:57: DeprecationWarning:\n",
            "\n",
            "zmq.utils.strtypes is deprecated in pyzmq 23.\n",
            "\n",
            "/usr/local/lib/python3.7/dist-packages/librosa/core/constantq.py:1059: DeprecationWarning:\n",
            "\n",
            "`np.complex` is a deprecated alias for the builtin `complex`. To silence this warning, use `complex` by itself. Doing this will not modify any behavior and is safe. If you specifically wanted the numpy scalar type, use `np.complex128` here.\n",
            "Deprecated in NumPy 1.20; for more details and guidance: https://numpy.org/devdocs/release/1.20.0-notes.html#deprecations\n",
            "\n"
          ]
        },
        {
          "output_type": "stream",
          "name": "stdout",
          "text": [
            "Downloading http://dlib.net/files/shape_predictor_68_face_landmarks.dat.bz2 to /root/mlxtend_data/shape_predictor_68_face_landmarks.dat.bz2\n"
          ]
        },
        {
          "output_type": "stream",
          "name": "stderr",
          "text": [
            "/usr/local/lib/python3.7/dist-packages/nbconvert/filters/strings.py:22: DeprecationWarning:\n",
            "\n",
            "defusedxml.cElementTree is deprecated, import from defusedxml.ElementTree instead.\n",
            "\n",
            "/usr/local/lib/python3.7/dist-packages/nibabel/quaternions.py:31: DeprecationWarning:\n",
            "\n",
            "`np.float` is a deprecated alias for the builtin `float`. To silence this warning, use `float` by itself. Doing this will not modify any behavior and is safe. If you specifically wanted the numpy scalar type, use `np.float64` here.\n",
            "Deprecated in NumPy 1.20; for more details and guidance: https://numpy.org/devdocs/release/1.20.0-notes.html#deprecations\n",
            "\n",
            "/usr/lib/python3.7/pkgutil.py:92: UserWarning:\n",
            "\n",
            "The DICOM readers are highly experimental, unstable, and only work for Siemens time-series at the moment\n",
            "Please use with caution.  We would be grateful for your help in improving them\n",
            "\n",
            "/usr/local/lib/python3.7/dist-packages/nltk/twitter/__init__.py:21: UserWarning:\n",
            "\n",
            "The twython library has not been installed. Some functionality from the twitter package will not be available.\n",
            "\n",
            "/usr/local/lib/python3.7/dist-packages/pip/_vendor/packaging/version.py:130: DeprecationWarning:\n",
            "\n",
            "Creating a LegacyVersion has been deprecated and will be removed in the next major release\n",
            "\n",
            "/usr/local/lib/python3.7/dist-packages/pip/_vendor/packaging/version.py:130: DeprecationWarning:\n",
            "\n",
            "Creating a LegacyVersion has been deprecated and will be removed in the next major release\n",
            "\n",
            "/usr/lib/python3.7/pkgutil.py:92: UserWarning: Viewer requires Qt\n",
            "/usr/local/lib/python3.7/dist-packages/sphinx/websupport/__init__.py:25: RemovedInSphinx20Warning: sphinx.websupport module is now provided as sphinxcontrib-websupport. sphinx.websupport will be removed at Sphinx-2.0. Please use the package instead.\n",
            "/usr/local/lib/python3.7/dist-packages/marshmallow/fields.py:569: RemovedInMarshmallow4Warning: The 'missing' argument to fields is deprecated. Use 'load_default' instead.\n",
            "/usr/local/lib/python3.7/dist-packages/tensorboard/_vendor/html5lib/filters/sanitizer.py:29: DeprecationWarning: html5lib's sanitizer is deprecated; see https://github.com/html5lib/html5lib-python/issues/443 and please let us know if Bleach is unsuitable for your needs\n",
            "/usr/local/lib/python3.7/dist-packages/torch/distributed/_sharded_tensor/__init__.py:10: DeprecationWarning: torch.distributed._sharded_tensor will be deprecated, use torch.distributed._shard.sharded_tensor instead\n",
            "/usr/local/lib/python3.7/dist-packages/torch/distributed/_sharding_spec/__init__.py:10: DeprecationWarning: torch.distributed._sharding_spec will be deprecated, use torch.distributed._shard.sharding_spec instead\n"
          ]
        },
        {
          "output_type": "stream",
          "name": "stdout",
          "text": [
            "No CUDA runtime is found, using CUDA_HOME='/usr/local/cuda'\n",
            "Cython              collections         kapre               resource\n",
            "IPython             colorcet            keras               rlcompleter\n",
            "OpenGL              colorlover          keras_preprocessing rmagic\n",
            "PIL                 colorsys            keyword             rpy2\n",
            "ScreenResolution    community           kiwisolver          rsa\n",
            "__future__          compileall          korean_lunar_calendar runpy\n",
            "_abc                concurrent          langcodes           samples\n",
            "_ast                configparser        lib2to3             sched\n",
            "_asyncio            cons                libfuturize         scipy\n",
            "_bisect             contextlib          libpasteurize       scs\n",
            "_blake2             contextlib2         librosa             seaborn\n",
            "_bootlocale         contextvars         lightgbm            secrets\n",
            "_bz2                convertdate         linecache           select\n",
            "_cffi_backend       copy                llvmlite            selectors\n",
            "_codecs             copyreg             lmdb                send2trash\n",
            "_codecs_cn          crashtest           locale              setuptools\n",
            "_codecs_hk          crcmod              locket              setuptools_git\n",
            "_codecs_iso2022     crypt               logging             shapely\n",
            "_codecs_jp          csimdjson           lsb_release         shelve\n",
            "_codecs_kr          csv                 lunarcalendar       shlex\n",
            "_codecs_tw          ctypes              lxml                shutil\n",
            "_collections        cufflinks           lzma                signal\n",
            "_collections_abc    curses              macpath             simdjson\n",
            "_compat_pickle      cv2                 mailbox             site\n",
            "_compression        cvxopt              mailcap             sitecustomize\n",
            "_contextvars        cvxpy               markdown            six\n",
            "_crypt              cycler              markupsafe          skimage\n",
            "_csv                cymem               marshal             sklearn\n",
            "_ctypes             cython              marshmallow         sklearn_pandas\n",
            "_ctypes_test        cythonmagic         math                slugify\n",
            "_curses             daft                matplotlib          smart_open\n",
            "_curses_panel       dask                matplotlib_venn     smtpd\n",
            "_cvxcore            dataclasses         mimetypes           smtplib\n",
            "_datetime           datascience         missingno           sndhdr\n",
            "_dbm                datetime            mistune             snowballstemmer\n",
            "_decimal            dateutil            mizani              socket\n",
            "_distutils_hack     dbm                 mlxtend             socketserver\n",
            "_dlib_pybind11      dbus                mmap                socks\n",
            "_dummy_thread       debugpy             modulefinder        sockshandler\n",
            "_ecos               decimal             more_itertools      softwareproperties\n",
            "_elementtree        decorator           moviepy             sortedcontainers\n",
            "_functools          defusedxml          mpmath              soundfile\n",
            "_hashlib            descartes           msgpack             spacy\n",
            "_heapq              difflib             multidict           spacy_legacy\n",
            "_imp                dill                multipledispatch    spacy_loggers\n",
            "_io                 dis                 multiprocessing     sphinx\n",
            "_json               distributed         multitasking        spwd\n",
            "_locale             distutils           murmurhash          sql\n",
            "_lsprof             dlib                music21             sqlalchemy\n",
            "_lzma               docs                natsort             sqlite3\n",
            "_markupbase         doctest             nbconvert           sqlparse\n",
            "_md5                docutils            nbformat            sre_compile\n",
            "_multibytecodec     dopamine            netCDF4             sre_constants\n",
            "_multiprocessing    dot_parser          netrc               sre_parse\n",
            "_opcode             dummy_threading     networkx            srsly\n",
            "_operator           easydict            nibabel             ssl\n",
            "_osx_support        ecos                nis                 stan\n",
            "_pickle             editdistance        nisext              stat\n",
            "_plotly_future_     ee                  nltk                statistics\n",
            "_plotly_utils       email               nntplib             statsmodels\n",
            "_posixsubprocess    en_core_web_sm      notebook            storemagic\n",
            "_py_abc             encodings           ntpath              string\n",
            "_pydecimal          entrypoints         nturl2path          stringprep\n",
            "_pyio               enum                numba               struct\n",
            "_pyrsistent_version ephem               numbergen           subprocess\n",
            "_pytest             erfa                numbers             sunau\n",
            "_queue              errno               numexpr             symbol\n",
            "_random             et_xmlfile          numpy               sympy\n",
            "_rinterface_cffi_abi etils               oauth2client        sympyprinting\n",
            "_rinterface_cffi_api etuples             oauthlib            symtable\n",
            "_scs_direct         fa2                 ogr                 sys\n",
            "_scs_indirect       fastai              okgrade             sysconfig\n",
            "_sha1               fastcore            opcode              syslog\n",
            "_sha256             fastdownload        openpyxl            tables\n",
            "_sha3               fastdtw             operator            tabnanny\n",
            "_sha512             fastjsonschema      opt_einsum          tabulate\n",
            "_signal             fastprogress        optparse            tarfile\n",
            "_sitebuiltins       fastrlock           os                  tblib\n",
            "_socket             faulthandler        osgeo               telnetlib\n",
            "_soundfile          fcntl               osqp                tempfile\n",
            "_sqlite3            feather             osqppurepy          tenacity\n",
            "_sre                filecmp             osr                 tensorboard\n",
            "_ssl                fileinput           ossaudiodev         tensorboard_data_server\n",
            "_stat               filelock            packaging           tensorboard_plugin_wit\n",
            "_string             firebase_admin      palettable          tensorflow\n",
            "_strptime           fix_yahoo_finance   pandas              tensorflow_datasets\n",
            "_struct             flask               pandas_datareader   tensorflow_estimator\n",
            "_symtable           flatbuffers         pandas_gbq          tensorflow_gcs_config\n",
            "_sysconfigdata_m_linux_x86_64-linux-gnu fnmatch             pandas_profiling    tensorflow_hub\n",
            "_sysconfigdata_m_x86_64-linux-gnu folium              pandocfilters       tensorflow_io_gcs_filesystem\n",
            "_testbuffer         formatter           panel               tensorflow_metadata\n",
            "_testcapi           fractions           param               tensorflow_probability\n",
            "_testimportmultiple frozenlist          parser              termcolor\n",
            "_testmultiphase     fsspec              parso               terminado\n",
            "_thread             ftplib              partd               termios\n",
            "_threading_local    functools           past                test\n",
            "_tkinter            future              pasta               testpath\n",
            "_tracemalloc        gast                pastel              tests\n",
            "_warnings           gc                  pathlib             text_unidecode\n",
            "_weakref            gdal                pathy               textblob\n",
            "_weakrefset         gdalconst           patsy               textwrap\n",
            "_xxtestfuzz         gdalnumeric         pdb                 thinc\n",
            "_yaml               gdown               pep517              this\n",
            "abc                 genericpath         pexpect             threading\n",
            "absl                gensim              pickle              threadpoolctl\n",
            "aeppl               geographiclib       pickleshare         tifffile\n",
            "aesara              geopy               pickletools         time\n",
            "aifc                getopt              pip                 timeit\n",
            "aiohttp             getpass             pipes               tkinter\n",
            "aiosignal           gettext             piptools            tlz\n",
            "alabaster           gi                  pkg_resources       token\n",
            "albumentations      gin                 pkgutil             tokenize\n",
            "altair              glob                platform            toml\n",
            "antigravity         glob2               plistlib            tomli\n",
            "apiclient           gnm                 plotly              toolz\n",
            "appdirs             google_auth_httplib2 plotlywidget        torch\n",
            "apt                 google_auth_oauthlib plotnine            torchaudio\n",
            "apt_inst            google_drive_downloader pluggy              torchgen\n",
            "apt_pkg             googleapiclient     pooch               torchsummary\n",
            "aptsources          googlesearch        poplib              torchtext\n",
            "argparse            graphviz            portpicker          torchvision\n",
            "array               greenlet            posix               tornado\n",
            "arviz               gridfs              posixpath           tqdm\n",
            "ast                 grp                 pprint              trace\n",
            "astor               grpc                prefetch_generator  traceback\n",
            "astropy             gspread             preshed             tracemalloc\n",
            "astunparse          gspread_dataframe   prettytable         traitlets\n",
            "async_timeout       gym                 profile             tree\n",
            "asynchat            gym_notices         progressbar         tty\n",
            "asyncio             gzip                promise             turtle\n",
            "asyncore            h5py                prompt_toolkit      tweepy\n",
            "asynctest           hashlib             prophet             typeguard\n",
            "atari_py            heapdict            pstats              typer\n",
            "atexit              heapq               psutil              types\n",
            "atomicwrites        hijri_converter     psycopg2            typing\n",
            "attr                hmac                pty                 typing_extensions\n",
            "attrs               holidays            ptyprocess          tzlocal\n",
            "audioop             holoviews           pvectorc            ujson\n",
            "audioread           html                pwd                 unicodedata\n",
            "autograd            html5lib            py                  unification\n",
            "autoreload          http                py_compile          unittest\n",
            "babel               httpimport          pyarrow             uritemplate\n",
            "backcall            httplib2            pyasn1              urllib\n",
            "base64              httplib2shim        pyasn1_modules      urllib3\n",
            "bdb                 httpstan            pyclbr              uu\n",
            "bin                 humanize            pycocotools         uuid\n",
            "binascii            hyperopt            pycparser           vega_datasets\n",
            "binhex              idna                pyct                venv\n",
            "bisect              imageio             pydantic            vis\n",
            "bleach              imagesize           pydata_google_auth  warnings\n",
            "blis                imaplib             pydoc               wasabi\n",
            "bokeh               imblearn            pydoc_data          wave\n",
            "boost               imgaug              pydot               wcwidth\n",
            "branca              imghdr              pydot_ng            weakref\n",
            "bs4                 imp                 pydotplus           webargs\n",
            "bson                importlib           pydrive             webbrowser\n",
            "builtins            importlib_metadata  pyemd               webencodings\n",
            "bz2                 importlib_resources pyexpat             werkzeug\n",
            "cProfile            imutils             pygments            wheel\n",
            "cachecontrol        inflect             pygtkcompat         widgetsnbextension\n",
            "cached_property     inspect             pylab               wordcloud\n",
            "cachetools          intervaltree        pylev               wrapt\n",
            "caffe2              io                  pymc                wsgiref\n",
            "calendar            ipaddress           pymeeus             xarray\n",
            "catalogue           ipykernel           pymongo             xarray_einstats\n",
            "certifi             ipykernel_launcher  pymystem3           xdrlib\n",
            "cffi                ipython_genutils    pyparsing           xgboost\n",
            "cftime              ipywidgets          pyrsistent          xkit\n",
            "cgi                 isympy              pysndfile           xlrd\n",
            "cgitb               itertools           pytest              xlwt\n",
            "chardet             itsdangerous        python_utils        xml\n",
            "charset_normalizer  jax                 pytz                xmlrpc\n",
            "chess               jaxlib              pyviz_comms         xxlimited\n",
            "chunk               jieba               pywt                xxsubtype\n",
            "clang               jinja2              pyximport           yaml\n",
            "click               joblib              qdldl               yarl\n",
            "client              jpeg4py             qudida              yellowbrick\n",
            "clikit              json                queue               zict\n",
            "cloudpickle         jsonschema          quopri              zipapp\n",
            "cmake               jupyter             random              zipfile\n",
            "cmath               jupyter_client      re                  zipimport\n",
            "cmd                 jupyter_console     readline            zipp\n",
            "cmdstanpy           jupyter_core        regex               zlib\n",
            "code                jupyterlab_plotly   reprlib             zmq\n",
            "codecs              jupyterlab_widgets  requests            \n",
            "codeop              kaggle              requests_oauthlib   \n",
            "colab               kanren              resampy             \n",
            "\n",
            "Enter any module name to get more help.  Or, type \"modules spam\" to search\n",
            "for modules whose name or summary contain the string \"spam\".\n",
            "\n"
          ]
        },
        {
          "output_type": "stream",
          "name": "stderr",
          "text": [
            "/usr/lib/python3.7/pkgutil.py:107: VisibleDeprecationWarning: zmq.eventloop.minitornado is deprecated in pyzmq 14.0 and will be removed.\n",
            "    Install tornado itself to use zmq with the tornado IOLoop.\n",
            "    \n"
          ]
        }
      ]
    },
    {
      "cell_type": "markdown",
      "source": [
        "**print=**"
      ],
      "metadata": {
        "id": "PpXD-c5yRt5d"
      }
    },
    {
      "cell_type": "code",
      "source": [
        "print(3+4)"
      ],
      "metadata": {
        "colab": {
          "base_uri": "https://localhost:8080/"
        },
        "id": "ZXy7z_EDQRbx",
        "outputId": "4df34fbc-4460-4b3f-a3fb-dcda28f68d62"
      },
      "execution_count": 9,
      "outputs": [
        {
          "output_type": "stream",
          "name": "stdout",
          "text": [
            "7\n"
          ]
        }
      ]
    },
    {
      "cell_type": "code",
      "source": [
        "print('hello world')"
      ],
      "metadata": {
        "colab": {
          "base_uri": "https://localhost:8080/"
        },
        "id": "EjAFbntEQnqf",
        "outputId": "06a004c3-660d-4b02-d50e-0131a174aa8d"
      },
      "execution_count": 12,
      "outputs": [
        {
          "output_type": "stream",
          "name": "stdout",
          "text": [
            "hello world\n"
          ]
        }
      ]
    },
    {
      "cell_type": "code",
      "source": [
        "help(print)"
      ],
      "metadata": {
        "colab": {
          "base_uri": "https://localhost:8080/"
        },
        "id": "x_5wMZOQQcj7",
        "outputId": "4ebdb31d-4cee-46ba-e2a7-905ec0d66915"
      },
      "execution_count": 10,
      "outputs": [
        {
          "output_type": "stream",
          "name": "stdout",
          "text": [
            "Help on built-in function print in module builtins:\n",
            "\n",
            "print(...)\n",
            "    print(value, ..., sep=' ', end='\\n', file=sys.stdout, flush=False)\n",
            "    \n",
            "    Prints the values to a stream, or to sys.stdout by default.\n",
            "    Optional keyword arguments:\n",
            "    file:  a file-like object (stream); defaults to the current sys.stdout.\n",
            "    sep:   string inserted between values, default a space.\n",
            "    end:   string appended after the last value, default a newline.\n",
            "    flush: whether to forcibly flush the stream.\n",
            "\n"
          ]
        }
      ]
    },
    {
      "cell_type": "markdown",
      "source": [
        "print shows the output"
      ],
      "metadata": {
        "id": "-qmcH28KQgam"
      }
    },
    {
      "cell_type": "code",
      "source": [
        "print(\"cribbrio\",end=\"!\")"
      ],
      "metadata": {
        "colab": {
          "base_uri": "https://localhost:8080/"
        },
        "id": "Qt5UJPrJRJbk",
        "outputId": "7d63d971-7f93-4f62-e1a6-d80330199d69"
      },
      "execution_count": 15,
      "outputs": [
        {
          "output_type": "stream",
          "name": "stdout",
          "text": [
            "cribbrio!"
          ]
        }
      ]
    },
    {
      "cell_type": "code",
      "source": [
        "print(\"ciao\",\"come va?\")"
      ],
      "metadata": {
        "colab": {
          "base_uri": "https://localhost:8080/"
        },
        "id": "c5Gty9BMRiYv",
        "outputId": "2d2e3db4-8e4a-4e25-b461-194cfa8d05e5"
      },
      "execution_count": 16,
      "outputs": [
        {
          "output_type": "stream",
          "name": "stdout",
          "text": [
            "ciao come va?\n"
          ]
        }
      ]
    },
    {
      "cell_type": "code",
      "source": [
        "#now we are watching in-line comments"
      ],
      "metadata": {
        "id": "xhxwhjDwR0J6"
      },
      "execution_count": null,
      "outputs": []
    },
    {
      "cell_type": "code",
      "source": [
        "\"\"\"ah se? (non mi convince)\"\"\""
      ],
      "metadata": {
        "colab": {
          "base_uri": "https://localhost:8080/",
          "height": 36
        },
        "id": "LMcdeTZoSXqR",
        "outputId": "9de63fcc-ccc8-4ca0-b666-f36547984d4b"
      },
      "execution_count": 20,
      "outputs": [
        {
          "output_type": "execute_result",
          "data": {
            "text/plain": [
              "'ah se? (non mi convince)'"
            ],
            "application/vnd.google.colaboratory.intrinsic+json": {
              "type": "string"
            }
          },
          "metadata": {},
          "execution_count": 20
        }
      ]
    },
    {
      "cell_type": "code",
      "source": [
        "5/7 # MIT spostati"
      ],
      "metadata": {
        "colab": {
          "base_uri": "https://localhost:8080/"
        },
        "id": "X83QSP_sSuXb",
        "outputId": "3eca8052-fda0-4f34-ca12-0dc2ceb08daa"
      },
      "execution_count": 21,
      "outputs": [
        {
          "output_type": "execute_result",
          "data": {
            "text/plain": [
              "0.7142857142857143"
            ]
          },
          "metadata": {},
          "execution_count": 21
        }
      ]
    },
    {
      "cell_type": "code",
      "source": [
        "2*5"
      ],
      "metadata": {
        "colab": {
          "base_uri": "https://localhost:8080/"
        },
        "id": "Pg5xpJVJS2kZ",
        "outputId": "1553b0c4-c92a-4448-d82a-d512cf142179"
      },
      "execution_count": 22,
      "outputs": [
        {
          "output_type": "execute_result",
          "data": {
            "text/plain": [
              "10"
            ]
          },
          "metadata": {},
          "execution_count": 22
        }
      ]
    },
    {
      "cell_type": "code",
      "source": [
        "2**5 #2 alla quinta"
      ],
      "metadata": {
        "colab": {
          "base_uri": "https://localhost:8080/"
        },
        "id": "HF1M0EG2TBMu",
        "outputId": "c681cdbb-b749-49ce-8663-453644fb4c9b"
      },
      "execution_count": 23,
      "outputs": [
        {
          "output_type": "execute_result",
          "data": {
            "text/plain": [
              "32"
            ]
          },
          "metadata": {},
          "execution_count": 23
        }
      ]
    },
    {
      "cell_type": "markdown",
      "source": [
        "**variables**"
      ],
      "metadata": {
        "id": "9Ce-soJvTnN2"
      }
    },
    {
      "cell_type": "code",
      "source": [
        "a=5 #this is teh assignment, IS NOT AN EQUATIONNNNNN!!!\n",
        "print(a)"
      ],
      "metadata": {
        "colab": {
          "base_uri": "https://localhost:8080/"
        },
        "id": "_l2tG6Z3TtZJ",
        "outputId": "0b8f59cf-38e5-4d7d-e10a-55506e288287"
      },
      "execution_count": 24,
      "outputs": [
        {
          "output_type": "stream",
          "name": "stdout",
          "text": [
            "5\n"
          ]
        }
      ]
    },
    {
      "cell_type": "code",
      "source": [
        "b=3\n",
        "print(b+a)"
      ],
      "metadata": {
        "colab": {
          "base_uri": "https://localhost:8080/"
        },
        "id": "dudWB_XYUBbn",
        "outputId": "09a8c020-f04a-4019-8abf-af5bfe1e8789"
      },
      "execution_count": 25,
      "outputs": [
        {
          "output_type": "stream",
          "name": "stdout",
          "text": [
            "8\n"
          ]
        }
      ]
    },
    {
      "cell_type": "code",
      "source": [
        "b-1"
      ],
      "metadata": {
        "colab": {
          "base_uri": "https://localhost:8080/"
        },
        "id": "gYzHXLevT3wG",
        "outputId": "065c1159-4b95-4a90-803d-ec58b5d61332"
      },
      "execution_count": 26,
      "outputs": [
        {
          "output_type": "execute_result",
          "data": {
            "text/plain": [
              "2"
            ]
          },
          "metadata": {},
          "execution_count": 26
        }
      ]
    },
    {
      "cell_type": "code",
      "source": [
        "a=255 #now a is different\n",
        "a-b"
      ],
      "metadata": {
        "colab": {
          "base_uri": "https://localhost:8080/"
        },
        "id": "Jx1hC-GeUOhb",
        "outputId": "524bfc00-9616-4355-c719-49e8afee4179"
      },
      "execution_count": 28,
      "outputs": [
        {
          "output_type": "execute_result",
          "data": {
            "text/plain": [
              "252"
            ]
          },
          "metadata": {},
          "execution_count": 28
        }
      ]
    },
    {
      "cell_type": "code",
      "source": [
        "#upper case is different from lower case, wowo incredible\n",
        "A"
      ],
      "metadata": {
        "colab": {
          "base_uri": "https://localhost:8080/",
          "height": 189
        },
        "id": "h42lHmx-Ua2Z",
        "outputId": "5292120c-6231-43e8-c700-bacdc0669e50"
      },
      "execution_count": 29,
      "outputs": [
        {
          "output_type": "error",
          "ename": "NameError",
          "evalue": "ignored",
          "traceback": [
            "\u001b[0;31m---------------------------------------------------------------------------\u001b[0m",
            "\u001b[0;31mNameError\u001b[0m                                 Traceback (most recent call last)",
            "\u001b[0;32m<ipython-input-29-5aad8dae0e5d>\u001b[0m in \u001b[0;36m<module>\u001b[0;34m\u001b[0m\n\u001b[1;32m      1\u001b[0m \u001b[0;31m#upper case is different from lower case, wowo incredible\u001b[0m\u001b[0;34m\u001b[0m\u001b[0;34m\u001b[0m\u001b[0;34m\u001b[0m\u001b[0m\n\u001b[0;32m----> 2\u001b[0;31m \u001b[0mA\u001b[0m\u001b[0;34m\u001b[0m\u001b[0;34m\u001b[0m\u001b[0m\n\u001b[0m",
            "\u001b[0;31mNameError\u001b[0m: name 'A' is not defined"
          ]
        }
      ]
    },
    {
      "cell_type": "code",
      "source": [
        "#ASSIGNMNET= take the result of expression on right side and copy it into variable on left side"
      ],
      "metadata": {
        "id": "i_ksXCCvVLzq"
      },
      "execution_count": null,
      "outputs": []
    },
    {
      "cell_type": "code",
      "source": [
        "print(a)"
      ],
      "metadata": {
        "colab": {
          "base_uri": "https://localhost:8080/"
        },
        "id": "rP3eE-9GVukn",
        "outputId": "e49aba87-e4d4-475c-e4a1-1e38a01b9cf6"
      },
      "execution_count": 30,
      "outputs": [
        {
          "output_type": "stream",
          "name": "stdout",
          "text": [
            "255\n"
          ]
        }
      ]
    },
    {
      "cell_type": "code",
      "source": [
        "print(\"a\") #for strings and text"
      ],
      "metadata": {
        "colab": {
          "base_uri": "https://localhost:8080/"
        },
        "id": "KK0TI9STV1VR",
        "outputId": "59a18f02-9682-4097-f1e0-e4a8ae738454"
      },
      "execution_count": 31,
      "outputs": [
        {
          "output_type": "stream",
          "name": "stdout",
          "text": [
            "a\n"
          ]
        }
      ]
    },
    {
      "cell_type": "code",
      "source": [
        "print('a') # same of \"\""
      ],
      "metadata": {
        "colab": {
          "base_uri": "https://localhost:8080/"
        },
        "id": "-87zs7qIV4H3",
        "outputId": "8efdc38e-2aa6-4cc6-9f4d-93ff9ea64456"
      },
      "execution_count": 32,
      "outputs": [
        {
          "output_type": "stream",
          "name": "stdout",
          "text": [
            "a\n"
          ]
        }
      ]
    },
    {
      "cell_type": "code",
      "source": [
        "x=w=r=34\n",
        "print(x,w,r) # NEVER USE IT IS AMBIGUOS !!!!!!!!111111 e allora perchè me lo fai vedere"
      ],
      "metadata": {
        "colab": {
          "base_uri": "https://localhost:8080/"
        },
        "id": "5sBJDus7V7RG",
        "outputId": "acfdf47a-989f-41c3-9ee7-e2cc1d8f0f76"
      },
      "execution_count": 34,
      "outputs": [
        {
          "output_type": "stream",
          "name": "stdout",
          "text": [
            "34 34 34\n"
          ]
        }
      ]
    },
    {
      "cell_type": "code",
      "source": [
        "pino=45/6\n",
        "pino"
      ],
      "metadata": {
        "colab": {
          "base_uri": "https://localhost:8080/"
        },
        "id": "CeuB07RWXHen",
        "outputId": "98677520-6c33-4249-d30a-0c22b18e70f3"
      },
      "execution_count": 36,
      "outputs": [
        {
          "output_type": "execute_result",
          "data": {
            "text/plain": [
              "7.5"
            ]
          },
          "metadata": {},
          "execution_count": 36
        }
      ]
    },
    {
      "cell_type": "code",
      "source": [
        "x=x+2\n",
        "x # più runni più aumenta, interesting"
      ],
      "metadata": {
        "colab": {
          "base_uri": "https://localhost:8080/"
        },
        "id": "gmKni6WnYrFo",
        "outputId": "acb668f4-f771-4924-901a-b64f70b55051"
      },
      "execution_count": 44,
      "outputs": [
        {
          "output_type": "execute_result",
          "data": {
            "text/plain": [
              "46"
            ]
          },
          "metadata": {},
          "execution_count": 44
        }
      ]
    },
    {
      "cell_type": "code",
      "source": [
        "p=\"cicciocaputo\"\n",
        "p.dtype() #forse devi importare numpy?"
      ],
      "metadata": {
        "colab": {
          "base_uri": "https://localhost:8080/",
          "height": 189
        },
        "id": "HkLjdo5tZNr5",
        "outputId": "2ab0b27c-8f16-40f2-ff2b-cc961acff93e"
      },
      "execution_count": 50,
      "outputs": [
        {
          "output_type": "error",
          "ename": "AttributeError",
          "evalue": "ignored",
          "traceback": [
            "\u001b[0;31m---------------------------------------------------------------------------\u001b[0m",
            "\u001b[0;31mAttributeError\u001b[0m                            Traceback (most recent call last)",
            "\u001b[0;32m<ipython-input-50-b04a5d8359b7>\u001b[0m in \u001b[0;36m<module>\u001b[0;34m\u001b[0m\n\u001b[1;32m      1\u001b[0m \u001b[0mp\u001b[0m\u001b[0;34m=\u001b[0m\u001b[0;34m\"cicciocaputo\"\u001b[0m\u001b[0;34m\u001b[0m\u001b[0;34m\u001b[0m\u001b[0m\n\u001b[0;32m----> 2\u001b[0;31m \u001b[0mp\u001b[0m\u001b[0;34m.\u001b[0m\u001b[0mdtype\u001b[0m\u001b[0;34m(\u001b[0m\u001b[0;34m)\u001b[0m \u001b[0;31m#forse devi importare numpy?\u001b[0m\u001b[0;34m\u001b[0m\u001b[0;34m\u001b[0m\u001b[0m\n\u001b[0m",
            "\u001b[0;31mAttributeError\u001b[0m: 'str' object has no attribute 'dtype'"
          ]
        }
      ]
    },
    {
      "cell_type": "code",
      "source": [
        "x.real"
      ],
      "metadata": {
        "colab": {
          "base_uri": "https://localhost:8080/"
        },
        "id": "DVkXMNDVaAAu",
        "outputId": "65a55a7e-eb64-47cc-be3a-20b7b19dca21"
      },
      "execution_count": 51,
      "outputs": [
        {
          "output_type": "execute_result",
          "data": {
            "text/plain": [
              "46"
            ]
          },
          "metadata": {},
          "execution_count": 51
        }
      ]
    },
    {
      "cell_type": "code",
      "source": [
        "x.imag"
      ],
      "metadata": {
        "colab": {
          "base_uri": "https://localhost:8080/"
        },
        "id": "WMAoFW61aCBX",
        "outputId": "d8db46f4-4f1d-40a8-8867-92b7edd6116f"
      },
      "execution_count": 52,
      "outputs": [
        {
          "output_type": "execute_result",
          "data": {
            "text/plain": [
              "0"
            ]
          },
          "metadata": {},
          "execution_count": 52
        }
      ]
    },
    {
      "cell_type": "code",
      "source": [
        "#input\n",
        "a= input (\"oh una cosa nuova\")"
      ],
      "metadata": {
        "colab": {
          "base_uri": "https://localhost:8080/"
        },
        "id": "f98dIAbNaEpd",
        "outputId": "423495c7-b4d5-4e26-b420-6b5c87b9877f"
      },
      "execution_count": 57,
      "outputs": [
        {
          "name": "stdout",
          "output_type": "stream",
          "text": [
            "oh una cosa nuova66\n"
          ]
        }
      ]
    },
    {
      "cell_type": "code",
      "source": [
        "answer = input(\"give me a number\")"
      ],
      "metadata": {
        "colab": {
          "base_uri": "https://localhost:8080/"
        },
        "id": "nBlQrb8dazpS",
        "outputId": "792b6734-94e6-4f8a-b658-e3fc1ad44f0a"
      },
      "execution_count": 58,
      "outputs": [
        {
          "name": "stdout",
          "output_type": "stream",
          "text": [
            "give me a number66\n"
          ]
        }
      ]
    },
    {
      "cell_type": "code",
      "source": [
        "#casting\n",
        "a=float(input (\"inserire il primo dato: \"))\n",
        "b=int(input(\"inserire il secondo dato: \"))\n",
        "print(a,b)"
      ],
      "metadata": {
        "colab": {
          "base_uri": "https://localhost:8080/",
          "height": 261
        },
        "id": "eUMDXnwrbX5K",
        "outputId": "38cceab7-5bc1-4524-fa4c-53fd584b7b79"
      },
      "execution_count": 64,
      "outputs": [
        {
          "name": "stdout",
          "output_type": "stream",
          "text": [
            "inserire il primo dato: 77\n",
            "inserire il secondo dato: 56.6\n"
          ]
        },
        {
          "output_type": "error",
          "ename": "ValueError",
          "evalue": "ignored",
          "traceback": [
            "\u001b[0;31m---------------------------------------------------------------------------\u001b[0m",
            "\u001b[0;31mValueError\u001b[0m                                Traceback (most recent call last)",
            "\u001b[0;32m<ipython-input-64-06e2cbd58c6a>\u001b[0m in \u001b[0;36m<module>\u001b[0;34m\u001b[0m\n\u001b[1;32m      1\u001b[0m \u001b[0;31m#casting\u001b[0m\u001b[0;34m\u001b[0m\u001b[0;34m\u001b[0m\u001b[0;34m\u001b[0m\u001b[0m\n\u001b[1;32m      2\u001b[0m \u001b[0ma\u001b[0m\u001b[0;34m=\u001b[0m\u001b[0mfloat\u001b[0m\u001b[0;34m(\u001b[0m\u001b[0minput\u001b[0m \u001b[0;34m(\u001b[0m\u001b[0;34m\"inserire il primo dato: \"\u001b[0m\u001b[0;34m)\u001b[0m\u001b[0;34m)\u001b[0m\u001b[0;34m\u001b[0m\u001b[0;34m\u001b[0m\u001b[0m\n\u001b[0;32m----> 3\u001b[0;31m \u001b[0mb\u001b[0m\u001b[0;34m=\u001b[0m\u001b[0mint\u001b[0m\u001b[0;34m(\u001b[0m\u001b[0minput\u001b[0m\u001b[0;34m(\u001b[0m\u001b[0;34m\"inserire il secondo dato: \"\u001b[0m\u001b[0;34m)\u001b[0m\u001b[0;34m)\u001b[0m\u001b[0;34m\u001b[0m\u001b[0;34m\u001b[0m\u001b[0m\n\u001b[0m\u001b[1;32m      4\u001b[0m \u001b[0mprint\u001b[0m\u001b[0;34m(\u001b[0m\u001b[0ma\u001b[0m\u001b[0;34m,\u001b[0m\u001b[0mb\u001b[0m\u001b[0;34m)\u001b[0m\u001b[0;34m\u001b[0m\u001b[0;34m\u001b[0m\u001b[0m\n",
            "\u001b[0;31mValueError\u001b[0m: invalid literal for int() with base 10: '56.6'"
          ]
        }
      ]
    }
  ]
}