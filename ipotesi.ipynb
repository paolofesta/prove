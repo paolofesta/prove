{
  "nbformat": 4,
  "nbformat_minor": 0,
  "metadata": {
    "colab": {
      "name": "ipotesi.ipynb",
      "provenance": [],
      "authorship_tag": "ABX9TyM5xlGuXuW6PvaV5uzARdb1",
      "include_colab_link": true
    },
    "kernelspec": {
      "name": "python3",
      "display_name": "Python 3"
    },
    "language_info": {
      "name": "python"
    }
  },
  "cells": [
    {
      "cell_type": "markdown",
      "metadata": {
        "id": "view-in-github",
        "colab_type": "text"
      },
      "source": [
        "<a href=\"https://colab.research.google.com/github/paolofesta/prove/blob/master/ipotesi.ipynb\" target=\"_parent\"><img src=\"https://colab.research.google.com/assets/colab-badge.svg\" alt=\"Open In Colab\"/></a>"
      ]
    },
    {
      "cell_type": "code",
      "execution_count": 1,
      "metadata": {
        "id": "_527I853g1SC"
      },
      "outputs": [],
      "source": [
        "import pandas as pd"
      ]
    },
    {
      "cell_type": "code",
      "source": [
        "d=pd.read_csv('/content/OECD-AIAS-ICTWSS-CSV.csv',usecols=['country','year','NUCFs','TUM','NUM','WSEE','UD','UD_hist'])\n",
        "oecddf=d.loc[d['country']=='Italy']\n",
        "oecddf"
      ],
      "metadata": {
        "colab": {
          "base_uri": "https://localhost:8080/",
          "height": 424
        },
        "id": "lOpKectTkqQX",
        "outputId": "a5eaba2d-5c4c-4a24-99c8-c34fcf3ef9ae"
      },
      "execution_count": 60,
      "outputs": [
        {
          "output_type": "execute_result",
          "data": {
            "text/plain": [
              "     country  year  NUCFs    TUM   NUM   WSEE    UD  UD_hist\n",
              "1474   Italy  1960      3   4458  3336  11694  28.5     28.5\n",
              "1475   Italy  1961      3   4490  3451  12032  28.7     28.7\n",
              "1476   Italy  1962      3   4636  3617  12396  29.2     29.2\n",
              "1477   Italy  1963      3   4729  3794  12553  30.2     30.2\n",
              "1478   Italy  1964      3   4867  3867  12362  31.3     31.3\n",
              "...      ...   ...    ...    ...   ...    ...   ...      ...\n",
              "1530   Italy  2016      3  11361  5811  17305  33.6     33.6\n",
              "1531   Italy  2017      3  11061  5875  17676  33.2     33.2\n",
              "1532   Italy  2018      3  11016  5840  17890  32.6     32.6\n",
              "1533   Italy  2019      3  11020  5865  18043  32.5     32.5\n",
              "1534   Italy  2020    -88    -88   -88    -88 -88.0    -88.0\n",
              "\n",
              "[61 rows x 8 columns]"
            ],
            "text/html": [
              "\n",
              "  <div id=\"df-574c1a0a-7469-402c-af1d-33111e5d50c5\">\n",
              "    <div class=\"colab-df-container\">\n",
              "      <div>\n",
              "<style scoped>\n",
              "    .dataframe tbody tr th:only-of-type {\n",
              "        vertical-align: middle;\n",
              "    }\n",
              "\n",
              "    .dataframe tbody tr th {\n",
              "        vertical-align: top;\n",
              "    }\n",
              "\n",
              "    .dataframe thead th {\n",
              "        text-align: right;\n",
              "    }\n",
              "</style>\n",
              "<table border=\"1\" class=\"dataframe\">\n",
              "  <thead>\n",
              "    <tr style=\"text-align: right;\">\n",
              "      <th></th>\n",
              "      <th>country</th>\n",
              "      <th>year</th>\n",
              "      <th>NUCFs</th>\n",
              "      <th>TUM</th>\n",
              "      <th>NUM</th>\n",
              "      <th>WSEE</th>\n",
              "      <th>UD</th>\n",
              "      <th>UD_hist</th>\n",
              "    </tr>\n",
              "  </thead>\n",
              "  <tbody>\n",
              "    <tr>\n",
              "      <th>1474</th>\n",
              "      <td>Italy</td>\n",
              "      <td>1960</td>\n",
              "      <td>3</td>\n",
              "      <td>4458</td>\n",
              "      <td>3336</td>\n",
              "      <td>11694</td>\n",
              "      <td>28.5</td>\n",
              "      <td>28.5</td>\n",
              "    </tr>\n",
              "    <tr>\n",
              "      <th>1475</th>\n",
              "      <td>Italy</td>\n",
              "      <td>1961</td>\n",
              "      <td>3</td>\n",
              "      <td>4490</td>\n",
              "      <td>3451</td>\n",
              "      <td>12032</td>\n",
              "      <td>28.7</td>\n",
              "      <td>28.7</td>\n",
              "    </tr>\n",
              "    <tr>\n",
              "      <th>1476</th>\n",
              "      <td>Italy</td>\n",
              "      <td>1962</td>\n",
              "      <td>3</td>\n",
              "      <td>4636</td>\n",
              "      <td>3617</td>\n",
              "      <td>12396</td>\n",
              "      <td>29.2</td>\n",
              "      <td>29.2</td>\n",
              "    </tr>\n",
              "    <tr>\n",
              "      <th>1477</th>\n",
              "      <td>Italy</td>\n",
              "      <td>1963</td>\n",
              "      <td>3</td>\n",
              "      <td>4729</td>\n",
              "      <td>3794</td>\n",
              "      <td>12553</td>\n",
              "      <td>30.2</td>\n",
              "      <td>30.2</td>\n",
              "    </tr>\n",
              "    <tr>\n",
              "      <th>1478</th>\n",
              "      <td>Italy</td>\n",
              "      <td>1964</td>\n",
              "      <td>3</td>\n",
              "      <td>4867</td>\n",
              "      <td>3867</td>\n",
              "      <td>12362</td>\n",
              "      <td>31.3</td>\n",
              "      <td>31.3</td>\n",
              "    </tr>\n",
              "    <tr>\n",
              "      <th>...</th>\n",
              "      <td>...</td>\n",
              "      <td>...</td>\n",
              "      <td>...</td>\n",
              "      <td>...</td>\n",
              "      <td>...</td>\n",
              "      <td>...</td>\n",
              "      <td>...</td>\n",
              "      <td>...</td>\n",
              "    </tr>\n",
              "    <tr>\n",
              "      <th>1530</th>\n",
              "      <td>Italy</td>\n",
              "      <td>2016</td>\n",
              "      <td>3</td>\n",
              "      <td>11361</td>\n",
              "      <td>5811</td>\n",
              "      <td>17305</td>\n",
              "      <td>33.6</td>\n",
              "      <td>33.6</td>\n",
              "    </tr>\n",
              "    <tr>\n",
              "      <th>1531</th>\n",
              "      <td>Italy</td>\n",
              "      <td>2017</td>\n",
              "      <td>3</td>\n",
              "      <td>11061</td>\n",
              "      <td>5875</td>\n",
              "      <td>17676</td>\n",
              "      <td>33.2</td>\n",
              "      <td>33.2</td>\n",
              "    </tr>\n",
              "    <tr>\n",
              "      <th>1532</th>\n",
              "      <td>Italy</td>\n",
              "      <td>2018</td>\n",
              "      <td>3</td>\n",
              "      <td>11016</td>\n",
              "      <td>5840</td>\n",
              "      <td>17890</td>\n",
              "      <td>32.6</td>\n",
              "      <td>32.6</td>\n",
              "    </tr>\n",
              "    <tr>\n",
              "      <th>1533</th>\n",
              "      <td>Italy</td>\n",
              "      <td>2019</td>\n",
              "      <td>3</td>\n",
              "      <td>11020</td>\n",
              "      <td>5865</td>\n",
              "      <td>18043</td>\n",
              "      <td>32.5</td>\n",
              "      <td>32.5</td>\n",
              "    </tr>\n",
              "    <tr>\n",
              "      <th>1534</th>\n",
              "      <td>Italy</td>\n",
              "      <td>2020</td>\n",
              "      <td>-88</td>\n",
              "      <td>-88</td>\n",
              "      <td>-88</td>\n",
              "      <td>-88</td>\n",
              "      <td>-88.0</td>\n",
              "      <td>-88.0</td>\n",
              "    </tr>\n",
              "  </tbody>\n",
              "</table>\n",
              "<p>61 rows × 8 columns</p>\n",
              "</div>\n",
              "      <button class=\"colab-df-convert\" onclick=\"convertToInteractive('df-574c1a0a-7469-402c-af1d-33111e5d50c5')\"\n",
              "              title=\"Convert this dataframe to an interactive table.\"\n",
              "              style=\"display:none;\">\n",
              "        \n",
              "  <svg xmlns=\"http://www.w3.org/2000/svg\" height=\"24px\"viewBox=\"0 0 24 24\"\n",
              "       width=\"24px\">\n",
              "    <path d=\"M0 0h24v24H0V0z\" fill=\"none\"/>\n",
              "    <path d=\"M18.56 5.44l.94 2.06.94-2.06 2.06-.94-2.06-.94-.94-2.06-.94 2.06-2.06.94zm-11 1L8.5 8.5l.94-2.06 2.06-.94-2.06-.94L8.5 2.5l-.94 2.06-2.06.94zm10 10l.94 2.06.94-2.06 2.06-.94-2.06-.94-.94-2.06-.94 2.06-2.06.94z\"/><path d=\"M17.41 7.96l-1.37-1.37c-.4-.4-.92-.59-1.43-.59-.52 0-1.04.2-1.43.59L10.3 9.45l-7.72 7.72c-.78.78-.78 2.05 0 2.83L4 21.41c.39.39.9.59 1.41.59.51 0 1.02-.2 1.41-.59l7.78-7.78 2.81-2.81c.8-.78.8-2.07 0-2.86zM5.41 20L4 18.59l7.72-7.72 1.47 1.35L5.41 20z\"/>\n",
              "  </svg>\n",
              "      </button>\n",
              "      \n",
              "  <style>\n",
              "    .colab-df-container {\n",
              "      display:flex;\n",
              "      flex-wrap:wrap;\n",
              "      gap: 12px;\n",
              "    }\n",
              "\n",
              "    .colab-df-convert {\n",
              "      background-color: #E8F0FE;\n",
              "      border: none;\n",
              "      border-radius: 50%;\n",
              "      cursor: pointer;\n",
              "      display: none;\n",
              "      fill: #1967D2;\n",
              "      height: 32px;\n",
              "      padding: 0 0 0 0;\n",
              "      width: 32px;\n",
              "    }\n",
              "\n",
              "    .colab-df-convert:hover {\n",
              "      background-color: #E2EBFA;\n",
              "      box-shadow: 0px 1px 2px rgba(60, 64, 67, 0.3), 0px 1px 3px 1px rgba(60, 64, 67, 0.15);\n",
              "      fill: #174EA6;\n",
              "    }\n",
              "\n",
              "    [theme=dark] .colab-df-convert {\n",
              "      background-color: #3B4455;\n",
              "      fill: #D2E3FC;\n",
              "    }\n",
              "\n",
              "    [theme=dark] .colab-df-convert:hover {\n",
              "      background-color: #434B5C;\n",
              "      box-shadow: 0px 1px 3px 1px rgba(0, 0, 0, 0.15);\n",
              "      filter: drop-shadow(0px 1px 2px rgba(0, 0, 0, 0.3));\n",
              "      fill: #FFFFFF;\n",
              "    }\n",
              "  </style>\n",
              "\n",
              "      <script>\n",
              "        const buttonEl =\n",
              "          document.querySelector('#df-574c1a0a-7469-402c-af1d-33111e5d50c5 button.colab-df-convert');\n",
              "        buttonEl.style.display =\n",
              "          google.colab.kernel.accessAllowed ? 'block' : 'none';\n",
              "\n",
              "        async function convertToInteractive(key) {\n",
              "          const element = document.querySelector('#df-574c1a0a-7469-402c-af1d-33111e5d50c5');\n",
              "          const dataTable =\n",
              "            await google.colab.kernel.invokeFunction('convertToInteractive',\n",
              "                                                     [key], {});\n",
              "          if (!dataTable) return;\n",
              "\n",
              "          const docLinkHtml = 'Like what you see? Visit the ' +\n",
              "            '<a target=\"_blank\" href=https://colab.research.google.com/notebooks/data_table.ipynb>data table notebook</a>'\n",
              "            + ' to learn more about interactive tables.';\n",
              "          element.innerHTML = '';\n",
              "          dataTable['output_type'] = 'display_data';\n",
              "          await google.colab.output.renderOutput(dataTable, element);\n",
              "          const docLink = document.createElement('div');\n",
              "          docLink.innerHTML = docLinkHtml;\n",
              "          element.appendChild(docLink);\n",
              "        }\n",
              "      </script>\n",
              "    </div>\n",
              "  </div>\n",
              "  "
            ]
          },
          "metadata": {},
          "execution_count": 60
        }
      ]
    },
    {
      "cell_type": "code",
      "source": [
        "oecddf.to_csv('oecd_data',index=False)"
      ],
      "metadata": {
        "id": "vm8XxyPGq8qJ"
      },
      "execution_count": 61,
      "outputs": []
    },
    {
      "cell_type": "markdown",
      "source": [
        " European Union_small The OECD/AIAS ICTWSS database has been produced with the financial assistance of the European Union Programme for Employment and Social Innovation “EaSI” (2014-2020), VS/2019/0185. The views expressed herein can in no way be taken to reflect the official opinion of the European Union.\n",
        "\n",
        " "
      ],
      "metadata": {
        "id": "aCJnv3TVqq3E"
      }
    },
    {
      "cell_type": "markdown",
      "source": [
        "***Trade union membership and union density***\\\n",
        "\n",
        "**NUCFs:** Number of Union Confederations\n",
        "Number of confederations (very small confederations are ignored and counted as part of the independent,\n",
        "autonomous or unaffiliated union membership). As a general rule, this indicator refers only to peak-level\n",
        "trade (labour) union organisations (e.g. at cross-sectoral or sectoral level) that have affiliate unions and\n",
        "membership that exceeds 5% of total union membership at national level, or in case this information is not\n",
        "available, union confederations that are members of the main tripartite (or bipartite) institution regulating\n",
        "collective bargaining at sectoral, cross-sectoral or national level).\n",
        " 19\n",
        "OECD/AIAS ICTWSS DATABASE © OECD 2021\\\n",
        "\n",
        "**TUM:** Total Union Membership\n",
        "Total sum of trade (labour) union members (including self-employed workers and non-active union\n",
        "members, i.e. students, retirees or unemployed) at national level.\\\n",
        "\n",
        "**NUM:** Net trade (labour) Union Membership\n",
        "Trade (labour) union membership of employees derived for the total (labour) union membership (TUM)\n",
        "and adjusted, if necessary, for trade (labour) union members outside the active, dependent and employed\n",
        "labour force (i.e. retired workers, self-employed workers, students, unemployed).\\\n",
        "\n",
        "**WSEE:** Total number of employees (according to the International Classification of Status in\n",
        "Employment, ICSE-93)\n",
        "Total number of employees mainly based on national labour force surveys and referring to all employees\n",
        "living in a particular country (national concept). In some countries (Luxembourg and Switzerland), this\n",
        "indicator refers to the number of employees working in the country (domestic concept based on national\n",
        "accounts estimates) to accounting for numerous cross-border employees among employees working in\n",
        "that particular country.\\\n",
        "\n",
        "**UD:** trade Union density\n",
        "Proportion of employees who are member of a trade union (NUM) among all employees (WSEE):\n",
        "NUM/WSEE*100\\\n",
        "\n",
        "**UD_hist:** Historical trend in trade union density\n",
        "Variable combining administrative and/or survey data and describing the historical trend in trade union\n",
        "density based on UD and UD_s. Please refer to the methodological note for further details and information\n",
        "on the underlying series used.\n"
      ],
      "metadata": {
        "id": "6ZP9uLOCpPqH"
      }
    },
    {
      "cell_type": "code",
      "source": [
        "import seaborn as sns\n",
        "import matplotlib.pyplot as plt\n"
      ],
      "metadata": {
        "id": "6iCcJyHcroa6"
      },
      "execution_count": 40,
      "outputs": []
    },
    {
      "cell_type": "code",
      "source": [
        "sns.lineplot(data=oecddf,x='year',y='UD_hist').set_title('Tasso di sindacalizzazione in Italia')\n",
        "plt.ylim([20,55])\n",
        "plt.xlim([1980,2019])"
      ],
      "metadata": {
        "colab": {
          "base_uri": "https://localhost:8080/",
          "height": 313
        },
        "id": "OtLRqztRry5f",
        "outputId": "49bc20e3-bab9-4f31-98e7-6dd77d9a052a"
      },
      "execution_count": 68,
      "outputs": [
        {
          "output_type": "execute_result",
          "data": {
            "text/plain": [
              "(1980.0, 2019.0)"
            ]
          },
          "metadata": {},
          "execution_count": 68
        },
        {
          "output_type": "display_data",
          "data": {
            "text/plain": [
              "<Figure size 432x288 with 1 Axes>"
            ],
            "image/png": "[encoded data removed]"
          },
          "metadata": {
            "needs_background": "light"
          }
        }
      ]
    }
  ]
}