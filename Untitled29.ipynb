{
  "nbformat": 4,
  "nbformat_minor": 0,
  "metadata": {
    "colab": {
      "name": "Untitled29.ipynb",
      "provenance": [],
      "authorship_tag": "ABX9TyMCLqVY/YwII/msAAsGk+Hz",
      "include_colab_link": true
    },
    "kernelspec": {
      "name": "python3",
      "display_name": "Python 3"
    },
    "language_info": {
      "name": "python"
    }
  },
  "cells": [
    {
      "cell_type": "markdown",
      "metadata": {
        "id": "view-in-github",
        "colab_type": "text"
      },
      "source": [
        "<a href=\"https://colab.research.google.com/github/paolofesta/prove/blob/master/Untitled29.ipynb\" target=\"_parent\"><img src=\"https://colab.research.google.com/assets/colab-badge.svg\" alt=\"Open In Colab\"/></a>"
      ]
    },
    {
      "cell_type": "markdown",
      "source": [
        "\n",
        "\n",
        "#FUNZIONI\n",
        "**api.home_timeline()**-> tweets recenti dalla mia home \\\\\n",
        "**api.user_timeline()**->tweets recenti di un utente \\\\\n",
        "**extract_tweet_attributes()**->estrae attributi di tweet già raccolti **(TDS)**\n",
        "\n"
      ],
      "metadata": {
        "id": "8DpVxrhi-pgZ"
      }
    },
    {
      "cell_type": "markdown",
      "source": [
        "**ATTRIBUTI DEI TWEET**: \\\\\n",
        "API v1.1:\n",
        "https://developer.twitter.com/en/docs/twitter-api/v1/data-dictionary/object-model/tweet\n",
        "\n",
        "API v2\n",
        "https://developer.twitter.com/en/docs/twitter-api/data-dictionary/object-model/tweet"
      ],
      "metadata": {
        "id": "t5yAicqjDfRh"
      }
    },
    {
      "cell_type": "markdown",
      "source": [
        ""
      ],
      "metadata": {
        "id": "nGi7698OMrtV"
      }
    },
    {
      "cell_type": "code",
      "source": [
        ""
      ],
      "metadata": {
        "id": "FxyHISaC0qWl"
      },
      "execution_count": null,
      "outputs": []
    },
    {
      "cell_type": "markdown",
      "source": [
        ""
      ],
      "metadata": {
        "id": "pjTM68NODoAO"
      }
    }
  ]
}