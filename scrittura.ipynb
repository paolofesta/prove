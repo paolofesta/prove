{
  "nbformat": 4,
  "nbformat_minor": 0,
  "metadata": {
    "colab": {
      "name": "scrittura.ipynb",
      "provenance": [],
      "authorship_tag": "ABX9TyPd7CtZG4j4Zt7/vQ20O15s",
      "include_colab_link": true
    },
    "kernelspec": {
      "name": "python3",
      "display_name": "Python 3"
    },
    "language_info": {
      "name": "python"
    }
  },
  "cells": [
    {
      "cell_type": "markdown",
      "metadata": {
        "id": "view-in-github",
        "colab_type": "text"
      },
      "source": [
        "<a href=\"https://colab.research.google.com/github/paolofesta/prove/blob/master/scrittura.ipynb\" target=\"_parent\"><img src=\"https://colab.research.google.com/assets/colab-badge.svg\" alt=\"Open In Colab\"/></a>"
      ]
    },
    {
      "cell_type": "markdown",
      "source": [
        "\n",
        "### **Scelta dell’oggetto di studio**\n",
        "La scelta di utilizzare Twitter, raccogliendo tweet da analizzare, è nata da una riflessione svolta con il relatore; dal momento che questo tipo di analisi non era ancora stata affrontata nel mio percorso di studi, l’interesse verso questo tipo di ricerca era elevato, così come l’impegno richiesto. Prima ancora di decidere il target della ricerca, era indispensabile conoscere i meccanismi di raccolta dei tweet, per capire cosa si potesse ottenere. In quest’ottica è stato fondamentale il Twitter Developer Portal, tramite esso è stato creato un developer account con accesso elevato, in quanto l’accesso standard comportava limiti eccessivi. Tramite la Dashboard del Developer Portal si poteva avere accesso ai propri progetti e alle proprie app, strumenti essenziali per ottenere accesso alle API di Twitter e quindi per raccogliere i tweet. Queste informazioni e molte altre sono consultabili nella sezione Docs del portale, che si è rivelata strumento utilissimo non solo in questa fase iniziale ma per tutta la durata del progetto. Una volta compreso cosa effettivamente si poteva raccogliere, la concentrazione si è focalizzata sulla scelta dell’oggetto di studio vero e proprio. La scelta è ricaduta sull’analisi dei tweet citanti le tre maggiori sigle sindacali italiane: Cgil, Cisl e Uil. I motivi sono molteplici: Il mutamento del ruolo dei sindacati e la crisi dei tassi di sindacalizzazione è stato un fenomeno riscontrato più volte durante il percorso di studi, suscitando molto interesse; inoltre, in questo modo è stato possibile raccogliere un buon numero di tweets, circa tredicimila, condizione essenziale per poter fare un’analisi valida. L’intento era quello di svolgere una Sentiment Analysis dei tweets raccolti, ovvero identificare sentimenti ed emozioni associati ai tweets, non fermandosi ai dati generali ma andando alla ricerca di variabili in grado di cambiare questa associazione. \n",
        "### **Scelta del linguaggio di programmazione**\n",
        "Le due opzioni prese in considerazione erano Python ed R, entrambi i linguaggi di programmazione sono stati appresi durante il percorso di studi e sono da considerare come validi strumenti. La scelta è ricaduta su Python per diverse ragioni: innanzitutto, la maggiore diffusione, che porta ad una maggiore quantità di documentazione e ad una più ampia community di utilizzatori, molto utile per risolvere problemi e ricevere chiarimenti; inoltre, perché permette di utilizzare Google Colab, strumento molto comodo e versatile che permette di usare Python dal proprio browser. Per concludere, Python è stato indicato come primo nella top ten dei linguaggi di programmazione più popolari da imparare nel 2020 secondo la Northeastern Univeristy. \n",
        "\n",
        "### **Librerie utilizzate**\n",
        "NumPy è una libreria essenziale di Python, utilizzata per gestire le matrici numeriche (arrays); Pandas è invece una libreria costruita sulla base di quella precedente, che permette di gestire i dataframe, ovvero degli arrays multidimensionali in forma tabellare. Tweepy, permette di avere accesso alle API di twitter per raccogliere diverse tipologie di dati, esistono altre librerie simili, questa è però tra le più utilizzate, essendo indicata anche all’interno del Twitter Developer Portal. re e gensim sono librerie utilizzate per il topic modelling, cioè per processare il testo dei tweet prima di poter iniziare con la sentiment analisys. feel_it è una libreria tramite la quale si può utilizzare un modello che, attraverso un corpus di tweet classificati in base a quattro emozioni basiche(rabbia, paura, gioia, tristezza), permette di inferire sentimenti ed emozioni da tweet in lingua italiana. Infine, matplotlib.pyplot e seaborn, sono librerie utilizzate a fini di visualizzazione, per produrre word clouds e grafici.\n",
        "\n",
        "\n",
        "\n"
      ],
      "metadata": {
        "id": "lr9DOYL8faAz"
      }
    },
    {
      "cell_type": "code",
      "source": [
        "import numpy as np\n",
        "import pandas as pd\n",
        "import tweepy\n",
        "import re\n",
        "import gensim\n",
        "import fell-it\n",
        "import matplotlib.pyplot as plt\n",
        "import seaborn as sns"
      ],
      "metadata": {
        "id": "KdgC5B-XT1lF"
      },
      "execution_count": null,
      "outputs": []
    },
    {
      "cell_type": "markdown",
      "source": [
        "### **Accesso alle API di Twitter**\n",
        "Tramite la seguente funzione, è stato possibile connettere l'ambiente di lavoro con il Developer account, inserendo le diverse password fornite dal Developer Portal; questo aspetto è stato indispensabile per poter interagire con le API di Twitter."
      ],
      "metadata": {
        "id": "grSqZNx0mNEe"
      }
    },
    {
      "cell_type": "code",
      "source": [
        "def connect_to_twitter_OAuth():\n",
        "    auth = tweepy.OAuthHandler(CONSUMER_KEY, CONSUMER_SECRET)\n",
        "    auth.set_access_token(ACCESS_TOKEN, ACCESS_SECRET)\n",
        "\n",
        "    api = tweepy.API(auth, wait_on_rate_limit=True ,wait_on_rate_limit_notify=True)\n",
        "    return api\n",
        "    \n",
        "api = connect_to_twitter_OAuth()"
      ],
      "metadata": {
        "id": "VWwgj3AcnlGI"
      },
      "execution_count": null,
      "outputs": []
    },
    {
      "cell_type": "markdown",
      "source": [
        "### **Scraping**\n",
        "Sono stati raccolti 13 365 tweets nel cui testo venivano citati i profili delle tre maggiori sigle sindacali italiane: @cgilnazionale, @CislNazionale,@UILofficial. Durante questa fase è stata essenziale la consultazione del Developer Portal di Twitter. Le limitazioni nella raccolta di tweet imposte sono infatti molto stringenti: impongono l'obbligo di poter raccogliere esclusivamente i tweet prodotti nei sette giorni precedenti alla richiesta; a meno che non si voglia raccogliere solo i tweet di uno specifico utente, in questo caso si può raccogliere un massimo di 3000 tweets. Le limitazioni non si limitano solo alle sopracitate, esistono anche dei limiti riguardo al numero di tweet raccoglibili in un dato periodo di tempo, per questo è stato necessario utilizzare una funzione in grado di gestirle. La prima funzione riportata di seguito è stata utilizzata per la gestione delle limitazioni. \n",
        "\n",
        "\n",
        "\n",
        "\n"
      ],
      "metadata": {
        "id": "UjenSJ_Xk_aa"
      }
    },
    {
      "cell_type": "code",
      "source": [
        "def limit_handled(cursor):\n",
        "  while True:\n",
        "    try:\n",
        "      yield cursor.next()\n",
        "    except StopIteration:\n",
        "      return\n",
        "    except tweepy.RateLimitError:\n",
        "        time.sleep(15*60)"
      ],
      "metadata": {
        "id": "6WwkVd7kicCQ"
      },
      "execution_count": null,
      "outputs": []
    },
    {
      "cell_type": "markdown",
      "source": [
        "La seguente per la raccolta degli attributi dei tweet.\n"
      ],
      "metadata": {
        "id": "S5nUXTxA8MtK"
      }
    },
    {
      "cell_type": "code",
      "source": [
        "\n",
        "def extract_tweet_attributes(tweet_object):\n",
        "    tweet_list =[]\n",
        "    for tweet in tweet_object:\n",
        "        tweet_id = tweet.id \n",
        "        language= tweet.lang \n",
        "        name= tweet.user.name     \n",
        "        location= tweet.user.location\n",
        "        follower_count= tweet.user.followers_count\n",
        "        verified= tweet.user.verified\n",
        "        text = tweet.full_text \n",
        "        favorite_count = tweet.favorite_count\n",
        "        retweet_count = tweet.retweet_count\n",
        "        created_at = tweet.created_at \n",
        "        source = tweet.source \n",
        "       \n",
        "       \n",
        "        tweet_list.append({'tweet_id':tweet_id,\n",
        "                           'language':language,\n",
        "                          'text':text,\n",
        "                          'name':name,\n",
        "                          'location':location,\n",
        "                          'follower_count':follower_count,\n",
        "                          'verified': verified,\n",
        "                          'favorite_count':favorite_count,\n",
        "                          'retweet_count':retweet_count,\n",
        "                          'created_at':created_at, \n",
        "                          'source':source,})\n",
        "\n",
        "     \n",
        "    df1 = pd.DataFrame(tweet_list, columns=['tweet_id',\n",
        "                                           'text',\n",
        "                                           'language',\n",
        "                                           'name',\n",
        "                                           'follower_count',\n",
        "                                           'verified',\n",
        "                                           'location',    \n",
        "                                           'favorite_count',\n",
        "                                           'retweet_count',\n",
        "                                           'created_at',\n",
        "                                           'source'])\n",
        "    return df1\n",
        "\n",
        "\n",
        "df1 = extract_tweet_attributes(pp1)\n"
      ],
      "metadata": {
        "id": "ujBTSGucH__y"
      },
      "execution_count": null,
      "outputs": []
    },
    {
      "cell_type": "markdown",
      "source": [
        "Il numero di tweet si è poi ridotto da 13 365 a 12 560, eliminando i tweet incompatibili con la ricerca; la raccolta è avvenuta in due momenti: in data 12/5/2022 sono stati raccolti i tweet prodotti dal 6/5 al 12/5, In data 23/7/2022 sono stati raccolti i tweet prodotti dal 17/7 al 23/7, per via dei suddetti limiti. Per ogni tweet sono stati raccolti i seguenti attributi: \n",
        "*   L’ID del tweet\n",
        "*   La lingua in cui è stato scritto\n",
        "*   Il testo del tweet\n",
        "*   Il nome dell’utente che l’ha prodotto\n",
        "*   La location( qualora indicata)\n",
        "*   Il numero di follower dell’utente \n",
        "*   Lo status di verificato o meno dell’utente \n",
        "*   Il numero di favourites del tweet\n",
        "*   Il numero di retweet\n",
        "*   L’orario in cui è stato creato \n",
        "*   La fonte\\\n",
        "Arrivando ad ottenere il dataframe riportato di seguito"
      ],
      "metadata": {
        "id": "3WU6nAKAp8Kb"
      }
    },
    {
      "cell_type": "code",
      "source": [
        "#@title \n",
        "data=pd.read_csv(r'/content/data (1)').drop(\"Unnamed: 0\",axis=1)\n",
        "data.drop(\"sigla\",axis=1)"
      ],
      "metadata": {
        "id": "ucp1ApzpoEE_",
        "colab": {
          "base_uri": "https://localhost:8080/",
          "height": 835
        },
        "outputId": "4ccffa66-4c11-484c-e414-b4ec5fe1fdb7",
        "cellView": "form"
      },
      "execution_count": null,
      "outputs": [
        {
          "output_type": "execute_result",
          "data": {
            "text/plain": [
              "                  tweet_id                                               text  \\\n",
              "0      1524830657712640010  RT @kastatrof: Imaginez.. à qq heures de route...   \n",
              "1      1524824670125625345  @cgilnazionale Sembra una supercazzola... prem...   \n",
              "2      1524809559851814912  RT @kastatrof: Imaginez.. à qq heures de route...   \n",
              "3      1524804096439492612  🟥SOLO LA PACE\\n@cgilnazionale partecipa all'ac...   \n",
              "4      1524802721789972485  @fpcgil_internaz @fbunational @FpCgilVVF @EPSU...   \n",
              "...                    ...                                                ...   \n",
              "13360  1549297798784458760  @paolo_r_2012 @INL_gov @AndreaOrlandosp @MinLa...   \n",
              "13361  1549296792193441792  RT @UILofficial: La crisi di Governo è un grav...   \n",
              "13362  1549268625386766344  RT @emalombardini: #crisidigoverno , appello a...   \n",
              "13363  1549261964307734533  RT @UILofficial: La crisi di Governo è un grav...   \n",
              "13364  1549228820313640962  RT @GiovaniVenosa: https://t.co/D9DWwsqsKH\\n\\n...   \n",
              "\n",
              "      language                 name  follower_count  verified  \\\n",
              "0           fr              Gandalf             125     False   \n",
              "1           it             Patsy 🇮🇹              36     False   \n",
              "2           fr                  ivy             498     False   \n",
              "3           it  FLC CGIL Roma Lazio            1238     False   \n",
              "4          und        Sven De Guise             281     False   \n",
              "...        ...                  ...             ...       ...   \n",
              "13360       es         Sandra Zampa           12191     False   \n",
              "13361       it      Uiltec Calabria              97     False   \n",
              "13362       it     Loris Cavalletti             914     False   \n",
              "13363       it       Felice Alfonsi             657     False   \n",
              "13364      und          Felice Lioy              57     False   \n",
              "\n",
              "                      location  favorite_count  retweet_count  \\\n",
              "0                          NaN               0              7   \n",
              "1                          NaN               1              0   \n",
              "2                          NaN               0              7   \n",
              "3      Roma, Via Buonarroti 12               0              0   \n",
              "4                      Gelrode               1              0   \n",
              "...                        ...             ...            ...   \n",
              "13360                      NaN               1              1   \n",
              "13361  Lamezia Terme, Calabria               0             16   \n",
              "13362                      NaN               0              3   \n",
              "13363                      NaN               0             16   \n",
              "13364       Venosa, Basilicata               0              4   \n",
              "\n",
              "                created_at               source  \n",
              "0      2022-05-12 19:15:33  Twitter for Android  \n",
              "1      2022-05-12 18:51:45  Twitter for Android  \n",
              "2      2022-05-12 17:51:43  Twitter for Android  \n",
              "3      2022-05-12 17:30:00      Twitter Web App  \n",
              "4      2022-05-12 17:24:32      Twitter Web App  \n",
              "...                    ...                  ...  \n",
              "13360  2022-07-19 07:39:14   Twitter for iPhone  \n",
              "13361  2022-07-19 07:35:14   Twitter for iPhone  \n",
              "13362  2022-07-19 05:43:18   Twitter for iPhone  \n",
              "13363  2022-07-19 05:16:50   Twitter for iPhone  \n",
              "13364  2022-07-19 03:05:08  Twitter for Android  \n",
              "\n",
              "[13365 rows x 11 columns]"
            ],
            "text/html": [
              "\n",
              "  <div id=\"df-bbd63e37-abe5-4a66-9534-175840027349\">\n",
              "    <div class=\"colab-df-container\">\n",
              "      <div>\n",
              "<style scoped>\n",
              "    .dataframe tbody tr th:only-of-type {\n",
              "        vertical-align: middle;\n",
              "    }\n",
              "\n",
              "    .dataframe tbody tr th {\n",
              "        vertical-align: top;\n",
              "    }\n",
              "\n",
              "    .dataframe thead th {\n",
              "        text-align: right;\n",
              "    }\n",
              "</style>\n",
              "<table border=\"1\" class=\"dataframe\">\n",
              "  <thead>\n",
              "    <tr style=\"text-align: right;\">\n",
              "      <th></th>\n",
              "      <th>tweet_id</th>\n",
              "      <th>text</th>\n",
              "      <th>language</th>\n",
              "      <th>name</th>\n",
              "      <th>follower_count</th>\n",
              "      <th>verified</th>\n",
              "      <th>location</th>\n",
              "      <th>favorite_count</th>\n",
              "      <th>retweet_count</th>\n",
              "      <th>created_at</th>\n",
              "      <th>source</th>\n",
              "    </tr>\n",
              "  </thead>\n",
              "  <tbody>\n",
              "    <tr>\n",
              "      <th>0</th>\n",
              "      <td>1524830657712640010</td>\n",
              "      <td>RT @kastatrof: Imaginez.. à qq heures de route...</td>\n",
              "      <td>fr</td>\n",
              "      <td>Gandalf</td>\n",
              "      <td>125</td>\n",
              "      <td>False</td>\n",
              "      <td>NaN</td>\n",
              "      <td>0</td>\n",
              "      <td>7</td>\n",
              "      <td>2022-05-12 19:15:33</td>\n",
              "      <td>Twitter for Android</td>\n",
              "    </tr>\n",
              "    <tr>\n",
              "      <th>1</th>\n",
              "      <td>1524824670125625345</td>\n",
              "      <td>@cgilnazionale Sembra una supercazzola... prem...</td>\n",
              "      <td>it</td>\n",
              "      <td>Patsy 🇮🇹</td>\n",
              "      <td>36</td>\n",
              "      <td>False</td>\n",
              "      <td>NaN</td>\n",
              "      <td>1</td>\n",
              "      <td>0</td>\n",
              "      <td>2022-05-12 18:51:45</td>\n",
              "      <td>Twitter for Android</td>\n",
              "    </tr>\n",
              "    <tr>\n",
              "      <th>2</th>\n",
              "      <td>1524809559851814912</td>\n",
              "      <td>RT @kastatrof: Imaginez.. à qq heures de route...</td>\n",
              "      <td>fr</td>\n",
              "      <td>ivy</td>\n",
              "      <td>498</td>\n",
              "      <td>False</td>\n",
              "      <td>NaN</td>\n",
              "      <td>0</td>\n",
              "      <td>7</td>\n",
              "      <td>2022-05-12 17:51:43</td>\n",
              "      <td>Twitter for Android</td>\n",
              "    </tr>\n",
              "    <tr>\n",
              "      <th>3</th>\n",
              "      <td>1524804096439492612</td>\n",
              "      <td>🟥SOLO LA PACE\\n@cgilnazionale partecipa all'ac...</td>\n",
              "      <td>it</td>\n",
              "      <td>FLC CGIL Roma Lazio</td>\n",
              "      <td>1238</td>\n",
              "      <td>False</td>\n",
              "      <td>Roma, Via Buonarroti 12</td>\n",
              "      <td>0</td>\n",
              "      <td>0</td>\n",
              "      <td>2022-05-12 17:30:00</td>\n",
              "      <td>Twitter Web App</td>\n",
              "    </tr>\n",
              "    <tr>\n",
              "      <th>4</th>\n",
              "      <td>1524802721789972485</td>\n",
              "      <td>@fpcgil_internaz @fbunational @FpCgilVVF @EPSU...</td>\n",
              "      <td>und</td>\n",
              "      <td>Sven De Guise</td>\n",
              "      <td>281</td>\n",
              "      <td>False</td>\n",
              "      <td>Gelrode</td>\n",
              "      <td>1</td>\n",
              "      <td>0</td>\n",
              "      <td>2022-05-12 17:24:32</td>\n",
              "      <td>Twitter Web App</td>\n",
              "    </tr>\n",
              "    <tr>\n",
              "      <th>...</th>\n",
              "      <td>...</td>\n",
              "      <td>...</td>\n",
              "      <td>...</td>\n",
              "      <td>...</td>\n",
              "      <td>...</td>\n",
              "      <td>...</td>\n",
              "      <td>...</td>\n",
              "      <td>...</td>\n",
              "      <td>...</td>\n",
              "      <td>...</td>\n",
              "      <td>...</td>\n",
              "    </tr>\n",
              "    <tr>\n",
              "      <th>13360</th>\n",
              "      <td>1549297798784458760</td>\n",
              "      <td>@paolo_r_2012 @INL_gov @AndreaOrlandosp @MinLa...</td>\n",
              "      <td>es</td>\n",
              "      <td>Sandra Zampa</td>\n",
              "      <td>12191</td>\n",
              "      <td>False</td>\n",
              "      <td>NaN</td>\n",
              "      <td>1</td>\n",
              "      <td>1</td>\n",
              "      <td>2022-07-19 07:39:14</td>\n",
              "      <td>Twitter for iPhone</td>\n",
              "    </tr>\n",
              "    <tr>\n",
              "      <th>13361</th>\n",
              "      <td>1549296792193441792</td>\n",
              "      <td>RT @UILofficial: La crisi di Governo è un grav...</td>\n",
              "      <td>it</td>\n",
              "      <td>Uiltec Calabria</td>\n",
              "      <td>97</td>\n",
              "      <td>False</td>\n",
              "      <td>Lamezia Terme, Calabria</td>\n",
              "      <td>0</td>\n",
              "      <td>16</td>\n",
              "      <td>2022-07-19 07:35:14</td>\n",
              "      <td>Twitter for iPhone</td>\n",
              "    </tr>\n",
              "    <tr>\n",
              "      <th>13362</th>\n",
              "      <td>1549268625386766344</td>\n",
              "      <td>RT @emalombardini: #crisidigoverno , appello a...</td>\n",
              "      <td>it</td>\n",
              "      <td>Loris Cavalletti</td>\n",
              "      <td>914</td>\n",
              "      <td>False</td>\n",
              "      <td>NaN</td>\n",
              "      <td>0</td>\n",
              "      <td>3</td>\n",
              "      <td>2022-07-19 05:43:18</td>\n",
              "      <td>Twitter for iPhone</td>\n",
              "    </tr>\n",
              "    <tr>\n",
              "      <th>13363</th>\n",
              "      <td>1549261964307734533</td>\n",
              "      <td>RT @UILofficial: La crisi di Governo è un grav...</td>\n",
              "      <td>it</td>\n",
              "      <td>Felice Alfonsi</td>\n",
              "      <td>657</td>\n",
              "      <td>False</td>\n",
              "      <td>NaN</td>\n",
              "      <td>0</td>\n",
              "      <td>16</td>\n",
              "      <td>2022-07-19 05:16:50</td>\n",
              "      <td>Twitter for iPhone</td>\n",
              "    </tr>\n",
              "    <tr>\n",
              "      <th>13364</th>\n",
              "      <td>1549228820313640962</td>\n",
              "      <td>RT @GiovaniVenosa: https://t.co/D9DWwsqsKH\\n\\n...</td>\n",
              "      <td>und</td>\n",
              "      <td>Felice Lioy</td>\n",
              "      <td>57</td>\n",
              "      <td>False</td>\n",
              "      <td>Venosa, Basilicata</td>\n",
              "      <td>0</td>\n",
              "      <td>4</td>\n",
              "      <td>2022-07-19 03:05:08</td>\n",
              "      <td>Twitter for Android</td>\n",
              "    </tr>\n",
              "  </tbody>\n",
              "</table>\n",
              "<p>13365 rows × 11 columns</p>\n",
              "</div>\n",
              "      <button class=\"colab-df-convert\" onclick=\"convertToInteractive('df-bbd63e37-abe5-4a66-9534-175840027349')\"\n",
              "              title=\"Convert this dataframe to an interactive table.\"\n",
              "              style=\"display:none;\">\n",
              "        \n",
              "  <svg xmlns=\"http://www.w3.org/2000/svg\" height=\"24px\"viewBox=\"0 0 24 24\"\n",
              "       width=\"24px\">\n",
              "    <path d=\"M0 0h24v24H0V0z\" fill=\"none\"/>\n",
              "    <path d=\"M18.56 5.44l.94 2.06.94-2.06 2.06-.94-2.06-.94-.94-2.06-.94 2.06-2.06.94zm-11 1L8.5 8.5l.94-2.06 2.06-.94-2.06-.94L8.5 2.5l-.94 2.06-2.06.94zm10 10l.94 2.06.94-2.06 2.06-.94-2.06-.94-.94-2.06-.94 2.06-2.06.94z\"/><path d=\"M17.41 7.96l-1.37-1.37c-.4-.4-.92-.59-1.43-.59-.52 0-1.04.2-1.43.59L10.3 9.45l-7.72 7.72c-.78.78-.78 2.05 0 2.83L4 21.41c.39.39.9.59 1.41.59.51 0 1.02-.2 1.41-.59l7.78-7.78 2.81-2.81c.8-.78.8-2.07 0-2.86zM5.41 20L4 18.59l7.72-7.72 1.47 1.35L5.41 20z\"/>\n",
              "  </svg>\n",
              "      </button>\n",
              "      \n",
              "  <style>\n",
              "    .colab-df-container {\n",
              "      display:flex;\n",
              "      flex-wrap:wrap;\n",
              "      gap: 12px;\n",
              "    }\n",
              "\n",
              "    .colab-df-convert {\n",
              "      background-color: #E8F0FE;\n",
              "      border: none;\n",
              "      border-radius: 50%;\n",
              "      cursor: pointer;\n",
              "      display: none;\n",
              "      fill: #1967D2;\n",
              "      height: 32px;\n",
              "      padding: 0 0 0 0;\n",
              "      width: 32px;\n",
              "    }\n",
              "\n",
              "    .colab-df-convert:hover {\n",
              "      background-color: #E2EBFA;\n",
              "      box-shadow: 0px 1px 2px rgba(60, 64, 67, 0.3), 0px 1px 3px 1px rgba(60, 64, 67, 0.15);\n",
              "      fill: #174EA6;\n",
              "    }\n",
              "\n",
              "    [theme=dark] .colab-df-convert {\n",
              "      background-color: #3B4455;\n",
              "      fill: #D2E3FC;\n",
              "    }\n",
              "\n",
              "    [theme=dark] .colab-df-convert:hover {\n",
              "      background-color: #434B5C;\n",
              "      box-shadow: 0px 1px 3px 1px rgba(0, 0, 0, 0.15);\n",
              "      filter: drop-shadow(0px 1px 2px rgba(0, 0, 0, 0.3));\n",
              "      fill: #FFFFFF;\n",
              "    }\n",
              "  </style>\n",
              "\n",
              "      <script>\n",
              "        const buttonEl =\n",
              "          document.querySelector('#df-bbd63e37-abe5-4a66-9534-175840027349 button.colab-df-convert');\n",
              "        buttonEl.style.display =\n",
              "          google.colab.kernel.accessAllowed ? 'block' : 'none';\n",
              "\n",
              "        async function convertToInteractive(key) {\n",
              "          const element = document.querySelector('#df-bbd63e37-abe5-4a66-9534-175840027349');\n",
              "          const dataTable =\n",
              "            await google.colab.kernel.invokeFunction('convertToInteractive',\n",
              "                                                     [key], {});\n",
              "          if (!dataTable) return;\n",
              "\n",
              "          const docLinkHtml = 'Like what you see? Visit the ' +\n",
              "            '<a target=\"_blank\" href=https://colab.research.google.com/notebooks/data_table.ipynb>data table notebook</a>'\n",
              "            + ' to learn more about interactive tables.';\n",
              "          element.innerHTML = '';\n",
              "          dataTable['output_type'] = 'display_data';\n",
              "          await google.colab.output.renderOutput(dataTable, element);\n",
              "          const docLink = document.createElement('div');\n",
              "          docLink.innerHTML = docLinkHtml;\n",
              "          element.appendChild(docLink);\n",
              "        }\n",
              "      </script>\n",
              "    </div>\n",
              "  </div>\n",
              "  "
            ]
          },
          "metadata": {},
          "execution_count": 35
        }
      ]
    },
    {
      "cell_type": "markdown",
      "source": [
        "### **Analisi preliminare**\n",
        "Si è proceduto a creare una variabile, denominata “sigla”, che indicasse a quale sindacato faceva riferimento il tweet; tramite un grafico a barre si è osservato che i tweet si dividono come segue: una percentuale del 66-68% dei tweet fa riferimento al sindacato Cisl, segue Cgil con una percentuale poco sotto al 30%, Uil è ultimo con una percentuale vicina al 5%. Questi dati sono in linea con l’attività dei profili dei sindacati su Twitter; infatti, @CislNazionale è in testa con più di 100.000 tweets prodotti, @cgilnazionale segue a quota 50.000 e ,@UILofficial ne ha prodotti circa 12.000. Osservando invece le dimensioni dei profili, il primo è @cgilnazionale con più di 80.000 followers, seguito da @CislNazionale a 30.600 e @UILofficial a 12.500.                                                                                                                   "
      ],
      "metadata": {
        "id": "gLZ6A4XEtF8U"
      }
    },
    {
      "cell_type": "code",
      "source": [
        "#@title \n",
        "sns.displot(data,x=\"sigla\",stat=\"percent\",hue=\"sigla\",palette=['r','g','b'])\n",
        "plt.title('DISTRIBUZIONE DEI TWEET RACCOLTI IN BASE ALLA SIGLA CITATA')\n",
        "print()\n"
      ],
      "metadata": {
        "colab": {
          "base_uri": "https://localhost:8080/",
          "height": 403
        },
        "outputId": "96e368d0-91e6-4424-9c8a-be90bedaa7b8",
        "id": "m0FHVAFNuJ8f",
        "cellView": "form"
      },
      "execution_count": null,
      "outputs": [
        {
          "output_type": "stream",
          "name": "stdout",
          "text": [
            "\n"
          ]
        },
        {
          "output_type": "display_data",
          "data": {
            "text/plain": [
              "<Figure size 419x360 with 1 Axes>"
            ],
            "image/png": "[encoded data removed]"
          },
          "metadata": {
            "needs_background": "light"
          }
        }
      ]
    },
    {
      "cell_type": "markdown",
      "source": [
        " Successivamente, attraverso apposite funzioni, è stata creata una variabile denominata “cleaned text”, contenete il testo dei tweet pre-processato. Sono stati rimossi: la punteggiatura, i link, gli hashtag, i doppi spazi e le maiuscole. Qui viene riportato un esempio della colonna \"cleaned text\" a confronto con il testo non ancora processato.  "
      ],
      "metadata": {
        "id": "kYhi4PL3f7yW"
      }
    },
    {
      "cell_type": "code",
      "source": [
        "#@title \n",
        "df3.iloc[[11,12]]"
      ],
      "metadata": {
        "id": "R0ZVlh8blEUe",
        "outputId": "8a8be01b-8891-47ea-fb9a-d1fd166f2a6e",
        "colab": {
          "base_uri": "https://localhost:8080/",
          "height": 112
        },
        "cellView": "form"
      },
      "execution_count": null,
      "outputs": [
        {
          "output_type": "execute_result",
          "data": {
            "text/plain": [
              "                                                tweet  \\\n",
              "11  RT @cgilnazionale: Al via il @FestivalSabir. D...   \n",
              "12  A Berlino si incontrano oggi i Sindacati L7 co...   \n",
              "\n",
              "                                              cleaned  \n",
              "11   al via il da oggi fino al  maggio a matera il...  \n",
              "12  a berlino si incontrano oggi i sindacati l con...  "
            ],
            "text/html": [
              "\n",
              "  <div id=\"df-b60927b5-b4cb-4fc1-9510-d90c7e4421bc\">\n",
              "    <div class=\"colab-df-container\">\n",
              "      <div>\n",
              "<style scoped>\n",
              "    .dataframe tbody tr th:only-of-type {\n",
              "        vertical-align: middle;\n",
              "    }\n",
              "\n",
              "    .dataframe tbody tr th {\n",
              "        vertical-align: top;\n",
              "    }\n",
              "\n",
              "    .dataframe thead th {\n",
              "        text-align: right;\n",
              "    }\n",
              "</style>\n",
              "<table border=\"1\" class=\"dataframe\">\n",
              "  <thead>\n",
              "    <tr style=\"text-align: right;\">\n",
              "      <th></th>\n",
              "      <th>tweet</th>\n",
              "      <th>cleaned</th>\n",
              "    </tr>\n",
              "  </thead>\n",
              "  <tbody>\n",
              "    <tr>\n",
              "      <th>11</th>\n",
              "      <td>RT @cgilnazionale: Al via il @FestivalSabir. D...</td>\n",
              "      <td>al via il da oggi fino al  maggio a matera il...</td>\n",
              "    </tr>\n",
              "    <tr>\n",
              "      <th>12</th>\n",
              "      <td>A Berlino si incontrano oggi i Sindacati L7 co...</td>\n",
              "      <td>a berlino si incontrano oggi i sindacati l con...</td>\n",
              "    </tr>\n",
              "  </tbody>\n",
              "</table>\n",
              "</div>\n",
              "      <button class=\"colab-df-convert\" onclick=\"convertToInteractive('df-b60927b5-b4cb-4fc1-9510-d90c7e4421bc')\"\n",
              "              title=\"Convert this dataframe to an interactive table.\"\n",
              "              style=\"display:none;\">\n",
              "        \n",
              "  <svg xmlns=\"http://www.w3.org/2000/svg\" height=\"24px\"viewBox=\"0 0 24 24\"\n",
              "       width=\"24px\">\n",
              "    <path d=\"M0 0h24v24H0V0z\" fill=\"none\"/>\n",
              "    <path d=\"M18.56 5.44l.94 2.06.94-2.06 2.06-.94-2.06-.94-.94-2.06-.94 2.06-2.06.94zm-11 1L8.5 8.5l.94-2.06 2.06-.94-2.06-.94L8.5 2.5l-.94 2.06-2.06.94zm10 10l.94 2.06.94-2.06 2.06-.94-2.06-.94-.94-2.06-.94 2.06-2.06.94z\"/><path d=\"M17.41 7.96l-1.37-1.37c-.4-.4-.92-.59-1.43-.59-.52 0-1.04.2-1.43.59L10.3 9.45l-7.72 7.72c-.78.78-.78 2.05 0 2.83L4 21.41c.39.39.9.59 1.41.59.51 0 1.02-.2 1.41-.59l7.78-7.78 2.81-2.81c.8-.78.8-2.07 0-2.86zM5.41 20L4 18.59l7.72-7.72 1.47 1.35L5.41 20z\"/>\n",
              "  </svg>\n",
              "      </button>\n",
              "      \n",
              "  <style>\n",
              "    .colab-df-container {\n",
              "      display:flex;\n",
              "      flex-wrap:wrap;\n",
              "      gap: 12px;\n",
              "    }\n",
              "\n",
              "    .colab-df-convert {\n",
              "      background-color: #E8F0FE;\n",
              "      border: none;\n",
              "      border-radius: 50%;\n",
              "      cursor: pointer;\n",
              "      display: none;\n",
              "      fill: #1967D2;\n",
              "      height: 32px;\n",
              "      padding: 0 0 0 0;\n",
              "      width: 32px;\n",
              "    }\n",
              "\n",
              "    .colab-df-convert:hover {\n",
              "      background-color: #E2EBFA;\n",
              "      box-shadow: 0px 1px 2px rgba(60, 64, 67, 0.3), 0px 1px 3px 1px rgba(60, 64, 67, 0.15);\n",
              "      fill: #174EA6;\n",
              "    }\n",
              "\n",
              "    [theme=dark] .colab-df-convert {\n",
              "      background-color: #3B4455;\n",
              "      fill: #D2E3FC;\n",
              "    }\n",
              "\n",
              "    [theme=dark] .colab-df-convert:hover {\n",
              "      background-color: #434B5C;\n",
              "      box-shadow: 0px 1px 3px 1px rgba(0, 0, 0, 0.15);\n",
              "      filter: drop-shadow(0px 1px 2px rgba(0, 0, 0, 0.3));\n",
              "      fill: #FFFFFF;\n",
              "    }\n",
              "  </style>\n",
              "\n",
              "      <script>\n",
              "        const buttonEl =\n",
              "          document.querySelector('#df-b60927b5-b4cb-4fc1-9510-d90c7e4421bc button.colab-df-convert');\n",
              "        buttonEl.style.display =\n",
              "          google.colab.kernel.accessAllowed ? 'block' : 'none';\n",
              "\n",
              "        async function convertToInteractive(key) {\n",
              "          const element = document.querySelector('#df-b60927b5-b4cb-4fc1-9510-d90c7e4421bc');\n",
              "          const dataTable =\n",
              "            await google.colab.kernel.invokeFunction('convertToInteractive',\n",
              "                                                     [key], {});\n",
              "          if (!dataTable) return;\n",
              "\n",
              "          const docLinkHtml = 'Like what you see? Visit the ' +\n",
              "            '<a target=\"_blank\" href=https://colab.research.google.com/notebooks/data_table.ipynb>data table notebook</a>'\n",
              "            + ' to learn more about interactive tables.';\n",
              "          element.innerHTML = '';\n",
              "          dataTable['output_type'] = 'display_data';\n",
              "          await google.colab.output.renderOutput(dataTable, element);\n",
              "          const docLink = document.createElement('div');\n",
              "          docLink.innerHTML = docLinkHtml;\n",
              "          element.appendChild(docLink);\n",
              "        }\n",
              "      </script>\n",
              "    </div>\n",
              "  </div>\n",
              "  "
            ]
          },
          "metadata": {},
          "execution_count": 23
        }
      ]
    },
    {
      "cell_type": "markdown",
      "source": [
        "La pulizia del testo dei tweet è servita per l’utilizzo di \"FEEL-IT: Emotion and Sentiment Classification for the Italian Language\", modello pubblicato dall’Association for Computational Linguistics nel 2021. Tramite questo modello è stato possibile produrre due variabili: la variabile “sentiment”, indicante il sentimento espresso dal tweet, diviso in “positive” o “negative”; la variabile “emotion”, indicante l’emozione espressa dal tweet, divisa in “anger”,”fear”,”sadness”,”joy”. Di seguito è riportata la cella tramite cui si importanto da feel-it i due classificatori: Uno per le emozioni e uno per i sentimenti; oltre all'esempio di un tweet con le variabili sopracitate.\n"
      ],
      "metadata": {
        "id": "cQjP2ERsok2G"
      }
    },
    {
      "cell_type": "code",
      "source": [
        "from feel_it import EmotionClassifier\n",
        "emotion_classifier = EmotionClassifier()\n",
        "from feel_it import SentimentClassifier\n",
        "sentiment_classifier = SentimentClassifier()"
      ],
      "metadata": {
        "id": "FRQD8Rifksod"
      },
      "execution_count": null,
      "outputs": []
    },
    {
      "cell_type": "code",
      "source": [
        "#@title \n",
        "datasent=pd.read_csv(r'/content/datasent').drop([\"follower_count\",\"favorite_count\",\"retweet_count\",\"sigla\",\"tweet_id\",\"Unnamed: 0\",\"language\",\"created_at\",\"source\",\"location\",\"verified\"],axis=1)\n",
        "datasent.loc[datasent[\"name\"]==\"Patsy 🇮🇹\"].drop(\"name\",axis=1)\n"
      ],
      "metadata": {
        "cellView": "form",
        "id": "Sj0PMMGnrlWD",
        "outputId": "340de437-dbee-4bb5-c4cf-a2bbd4aa72e3",
        "colab": {
          "base_uri": "https://localhost:8080/",
          "height": 81
        }
      },
      "execution_count": null,
      "outputs": [
        {
          "output_type": "execute_result",
          "data": {
            "text/plain": [
              "  sentiment emotion                                       cleaned_text\n",
              "0  negative   anger   sembra una supercazzola prematurata con scapp..."
            ],
            "text/html": [
              "\n",
              "  <div id=\"df-1dd33e2d-4d4b-4065-ad66-9d4161d935d5\">\n",
              "    <div class=\"colab-df-container\">\n",
              "      <div>\n",
              "<style scoped>\n",
              "    .dataframe tbody tr th:only-of-type {\n",
              "        vertical-align: middle;\n",
              "    }\n",
              "\n",
              "    .dataframe tbody tr th {\n",
              "        vertical-align: top;\n",
              "    }\n",
              "\n",
              "    .dataframe thead th {\n",
              "        text-align: right;\n",
              "    }\n",
              "</style>\n",
              "<table border=\"1\" class=\"dataframe\">\n",
              "  <thead>\n",
              "    <tr style=\"text-align: right;\">\n",
              "      <th></th>\n",
              "      <th>sentiment</th>\n",
              "      <th>emotion</th>\n",
              "      <th>cleaned_text</th>\n",
              "    </tr>\n",
              "  </thead>\n",
              "  <tbody>\n",
              "    <tr>\n",
              "      <th>0</th>\n",
              "      <td>negative</td>\n",
              "      <td>anger</td>\n",
              "      <td>sembra una supercazzola prematurata con scapp...</td>\n",
              "    </tr>\n",
              "  </tbody>\n",
              "</table>\n",
              "</div>\n",
              "      <button class=\"colab-df-convert\" onclick=\"convertToInteractive('df-1dd33e2d-4d4b-4065-ad66-9d4161d935d5')\"\n",
              "              title=\"Convert this dataframe to an interactive table.\"\n",
              "              style=\"display:none;\">\n",
              "        \n",
              "  <svg xmlns=\"http://www.w3.org/2000/svg\" height=\"24px\"viewBox=\"0 0 24 24\"\n",
              "       width=\"24px\">\n",
              "    <path d=\"M0 0h24v24H0V0z\" fill=\"none\"/>\n",
              "    <path d=\"M18.56 5.44l.94 2.06.94-2.06 2.06-.94-2.06-.94-.94-2.06-.94 2.06-2.06.94zm-11 1L8.5 8.5l.94-2.06 2.06-.94-2.06-.94L8.5 2.5l-.94 2.06-2.06.94zm10 10l.94 2.06.94-2.06 2.06-.94-2.06-.94-.94-2.06-.94 2.06-2.06.94z\"/><path d=\"M17.41 7.96l-1.37-1.37c-.4-.4-.92-.59-1.43-.59-.52 0-1.04.2-1.43.59L10.3 9.45l-7.72 7.72c-.78.78-.78 2.05 0 2.83L4 21.41c.39.39.9.59 1.41.59.51 0 1.02-.2 1.41-.59l7.78-7.78 2.81-2.81c.8-.78.8-2.07 0-2.86zM5.41 20L4 18.59l7.72-7.72 1.47 1.35L5.41 20z\"/>\n",
              "  </svg>\n",
              "      </button>\n",
              "      \n",
              "  <style>\n",
              "    .colab-df-container {\n",
              "      display:flex;\n",
              "      flex-wrap:wrap;\n",
              "      gap: 12px;\n",
              "    }\n",
              "\n",
              "    .colab-df-convert {\n",
              "      background-color: #E8F0FE;\n",
              "      border: none;\n",
              "      border-radius: 50%;\n",
              "      cursor: pointer;\n",
              "      display: none;\n",
              "      fill: #1967D2;\n",
              "      height: 32px;\n",
              "      padding: 0 0 0 0;\n",
              "      width: 32px;\n",
              "    }\n",
              "\n",
              "    .colab-df-convert:hover {\n",
              "      background-color: #E2EBFA;\n",
              "      box-shadow: 0px 1px 2px rgba(60, 64, 67, 0.3), 0px 1px 3px 1px rgba(60, 64, 67, 0.15);\n",
              "      fill: #174EA6;\n",
              "    }\n",
              "\n",
              "    [theme=dark] .colab-df-convert {\n",
              "      background-color: #3B4455;\n",
              "      fill: #D2E3FC;\n",
              "    }\n",
              "\n",
              "    [theme=dark] .colab-df-convert:hover {\n",
              "      background-color: #434B5C;\n",
              "      box-shadow: 0px 1px 3px 1px rgba(0, 0, 0, 0.15);\n",
              "      filter: drop-shadow(0px 1px 2px rgba(0, 0, 0, 0.3));\n",
              "      fill: #FFFFFF;\n",
              "    }\n",
              "  </style>\n",
              "\n",
              "      <script>\n",
              "        const buttonEl =\n",
              "          document.querySelector('#df-1dd33e2d-4d4b-4065-ad66-9d4161d935d5 button.colab-df-convert');\n",
              "        buttonEl.style.display =\n",
              "          google.colab.kernel.accessAllowed ? 'block' : 'none';\n",
              "\n",
              "        async function convertToInteractive(key) {\n",
              "          const element = document.querySelector('#df-1dd33e2d-4d4b-4065-ad66-9d4161d935d5');\n",
              "          const dataTable =\n",
              "            await google.colab.kernel.invokeFunction('convertToInteractive',\n",
              "                                                     [key], {});\n",
              "          if (!dataTable) return;\n",
              "\n",
              "          const docLinkHtml = 'Like what you see? Visit the ' +\n",
              "            '<a target=\"_blank\" href=https://colab.research.google.com/notebooks/data_table.ipynb>data table notebook</a>'\n",
              "            + ' to learn more about interactive tables.';\n",
              "          element.innerHTML = '';\n",
              "          dataTable['output_type'] = 'display_data';\n",
              "          await google.colab.output.renderOutput(dataTable, element);\n",
              "          const docLink = document.createElement('div');\n",
              "          docLink.innerHTML = docLinkHtml;\n",
              "          element.appendChild(docLink);\n",
              "        }\n",
              "      </script>\n",
              "    </div>\n",
              "  </div>\n",
              "  "
            ]
          },
          "metadata": {},
          "execution_count": 61
        }
      ]
    },
    {
      "cell_type": "markdown",
      "source": [
        "Una volta ottenuti questi dati, è stata svolta un’analisi generale. Tramite un grafico a barre si è osservato che la distribuzione dei sentimenti è composta come segue: circa il 70% dei tweet è associato al valore “negative”, mentre solo il 30% ha valore “positive”. Lo stesso quadro si palesa anche osservando la distribuzione delle emozioni: considerando “joy” come emozione positiva e aggregando le altre tre come negative si ritrova una percentuale molto simile a quella del precedente grafico. Si può quindi affermare che quando si producono tweet citando un sindacato, la  tendenza sia quella di produrre tweet negativi. I motivi possono essere molteplici: insoddisfazione riguardo all’operato del sindacato, insoddisfazione legata a fattori esterni al sindacato o che lo riguardano indirettamente, oppure, questa tendenza potrebbe derivare dal tono con cui ci si esprime su Twitter, indipendentemente dall'argomento. \n"
      ],
      "metadata": {
        "id": "lgHVY_x5pv5W"
      }
    },
    {
      "cell_type": "code",
      "source": [
        "#@title\n",
        "sns.barplot(data=df,x='sentiment',y='percent',palette=['r','g']).set_title('DISTRIBUZIONE GENERALE DEI SENTIMENTI') \n",
        "print()"
      ],
      "metadata": {
        "outputId": "709a2024-cdde-4b27-ee9b-1d17c8e6f75f",
        "colab": {
          "base_uri": "https://localhost:8080/",
          "height": 313
        },
        "id": "snth9xHIqpji",
        "cellView": "form"
      },
      "execution_count": null,
      "outputs": [
        {
          "output_type": "stream",
          "name": "stdout",
          "text": [
            "\n"
          ]
        },
        {
          "output_type": "display_data",
          "data": {
            "text/plain": [
              "<Figure size 432x288 with 1 Axes>"
            ],
            "image/png": "[encoded data removed]"
          },
          "metadata": {
            "needs_background": "light"
          }
        }
      ]
    },
    {
      "cell_type": "code",
      "source": [
        "#@title \n",
        "sns.histplot(datasent,y='emotion',stat='percent',hue='emotion',palette=['r','b','g','y']).set_title('DISTRIBUZIONE GENERALE DELLE EMOZIONI ') \n",
        "print()"
      ],
      "metadata": {
        "id": "kUDm0F427ddc",
        "outputId": "a78cbbda-605f-474b-b73d-2e78a3f28877",
        "colab": {
          "base_uri": "https://localhost:8080/",
          "height": 313
        },
        "cellView": "form"
      },
      "execution_count": null,
      "outputs": [
        {
          "output_type": "stream",
          "name": "stdout",
          "text": [
            "\n"
          ]
        },
        {
          "output_type": "display_data",
          "data": {
            "text/plain": [
              "<Figure size 432x288 with 1 Axes>"
            ],
            "image/png": "[encoded data removed]"
          },
          "metadata": {
            "needs_background": "light"
          }
        }
      ]
    },
    {
      "cell_type": "markdown",
      "source": [
        "### **Prima variabile: Sigla sindacale citata**                                                                         \n",
        "Dopo aver svolto l’analisi preliminare, per comprendere più a fondo il fenomeno è stato necessario focalizzarsi su nuove variabili. In primis si è osservato il cambiamento dei sentimenti espressi nei tweet in relazione alla sigla sindacale citata: i tweet citanti la sigla Cisl, hanno una percentuale di “sentiment” negativi pari a circa il 65% e positivi pari al 35%, sono i tweet in cui la differenza tra sentimenti positivi e negativi è minore. I tweet citanti Cgil sono quelli in cui si riscontrano le percentuali più estreme: I tweet negativi superano l’80%; I tweet citanti Uil invece, si collocano approssimativamente a metà tra gli altri due valori.\n"
      ],
      "metadata": {
        "id": "_Y0RanaWtYP7"
      }
    },
    {
      "cell_type": "code",
      "source": [
        "#@title \n",
        "sns.barplot(data=df1,x='sigla',y='percent',hue='sentiment',palette=['r','g']).set_title('DISTRIBUZIONE DEI SENTIMENTI DEI TWEET IN BASE AL SINDACATO CITATO') \n",
        "print()"
      ],
      "metadata": {
        "id": "lHcZGneLg0cf",
        "outputId": "429701cb-6511-4c07-c093-d9c18e73dee0",
        "colab": {
          "base_uri": "https://localhost:8080/",
          "height": 313
        },
        "cellView": "form"
      },
      "execution_count": null,
      "outputs": [
        {
          "output_type": "stream",
          "name": "stdout",
          "text": [
            "\n"
          ]
        },
        {
          "output_type": "display_data",
          "data": {
            "text/plain": [
              "<Figure size 432x288 with 1 Axes>"
            ],
            "image/png": "[encoded data removed]"
          },
          "metadata": {
            "needs_background": "light"
          }
        }
      ]
    },
    {
      "cell_type": "markdown",
      "source": [
        "### **Seconda variabile: Relazione con il sindacato**                                                                                                                                                                                                                           \n",
        "Un’altra variabile importante è legata alla relazione che l’utente che produce il tweet ha con il sindacato. Analizzando i nomi degli utenti, si nota la presenza di utenti che hanno stretti legami con i sindacati; infatti, pur essendo stati rimossi nella fase iniziale i tweet prodotti dai profili delle tre sigle, sono rimasti i tweet delle sezioni locali dei sindacati, che naturalmente influenzano i risultati. Si è quindi proceduto a pre-processare i nomi degli utenti, rendendo minuscoli tutti i caratteri; in modo da poter filtrare i nomi senza errori e creare la variabile “articolazione”, che può produrre come risultato “SI” o “NO”, in base alla relazione dell’utente con il sindacato. Di seguito viene riportato un'esempio: "
      ],
      "metadata": {
        "id": "1xStd1aXvKzC"
      }
    },
    {
      "cell_type": "code",
      "source": [
        "#@title \n",
        "d=data.drop([\"follower_count\",\"favorite_count\",\"retweet_count\",\"sigla\",\"tweet_id\",\"Unnamed: 0\",\"language\",\"created_at\",\"source\",\"location\",\"verified\"],axis=1)\n",
        "d.iloc[[7,9999]]\n"
      ],
      "metadata": {
        "cellView": "form",
        "colab": {
          "base_uri": "https://localhost:8080/",
          "height": 112
        },
        "id": "USbpJB3vzpgv",
        "outputId": "e96ca89b-fa3c-4034-f419-76af80369f03"
      },
      "execution_count": null,
      "outputs": [
        {
          "output_type": "execute_result",
          "data": {
            "text/plain": [
              "     sentiment  emotion                                       cleaned_text  \\\n",
              "36    negative  sadness   si è chiuso l avviso pubblico del piano di ri...   \n",
              "9516  negative    anger   “quanto sta accadendo in italia è incommentab...   \n",
              "\n",
              "                  low_name articolazione  \n",
              "36             cgil modena            SI  \n",
              "9516  salvatore montalbano            NO  "
            ],
            "text/html": [
              "\n",
              "  <div id=\"df-bbff2294-6e69-4599-a361-e55e43c7f282\">\n",
              "    <div class=\"colab-df-container\">\n",
              "      <div>\n",
              "<style scoped>\n",
              "    .dataframe tbody tr th:only-of-type {\n",
              "        vertical-align: middle;\n",
              "    }\n",
              "\n",
              "    .dataframe tbody tr th {\n",
              "        vertical-align: top;\n",
              "    }\n",
              "\n",
              "    .dataframe thead th {\n",
              "        text-align: right;\n",
              "    }\n",
              "</style>\n",
              "<table border=\"1\" class=\"dataframe\">\n",
              "  <thead>\n",
              "    <tr style=\"text-align: right;\">\n",
              "      <th></th>\n",
              "      <th>sentiment</th>\n",
              "      <th>emotion</th>\n",
              "      <th>cleaned_text</th>\n",
              "      <th>low_name</th>\n",
              "      <th>articolazione</th>\n",
              "    </tr>\n",
              "  </thead>\n",
              "  <tbody>\n",
              "    <tr>\n",
              "      <th>36</th>\n",
              "      <td>negative</td>\n",
              "      <td>sadness</td>\n",
              "      <td>si è chiuso l avviso pubblico del piano di ri...</td>\n",
              "      <td>cgil modena</td>\n",
              "      <td>SI</td>\n",
              "    </tr>\n",
              "    <tr>\n",
              "      <th>9516</th>\n",
              "      <td>negative</td>\n",
              "      <td>anger</td>\n",
              "      <td>“quanto sta accadendo in italia è incommentab...</td>\n",
              "      <td>salvatore montalbano</td>\n",
              "      <td>NO</td>\n",
              "    </tr>\n",
              "  </tbody>\n",
              "</table>\n",
              "</div>\n",
              "      <button class=\"colab-df-convert\" onclick=\"convertToInteractive('df-bbff2294-6e69-4599-a361-e55e43c7f282')\"\n",
              "              title=\"Convert this dataframe to an interactive table.\"\n",
              "              style=\"display:none;\">\n",
              "        \n",
              "  <svg xmlns=\"http://www.w3.org/2000/svg\" height=\"24px\"viewBox=\"0 0 24 24\"\n",
              "       width=\"24px\">\n",
              "    <path d=\"M0 0h24v24H0V0z\" fill=\"none\"/>\n",
              "    <path d=\"M18.56 5.44l.94 2.06.94-2.06 2.06-.94-2.06-.94-.94-2.06-.94 2.06-2.06.94zm-11 1L8.5 8.5l.94-2.06 2.06-.94-2.06-.94L8.5 2.5l-.94 2.06-2.06.94zm10 10l.94 2.06.94-2.06 2.06-.94-2.06-.94-.94-2.06-.94 2.06-2.06.94z\"/><path d=\"M17.41 7.96l-1.37-1.37c-.4-.4-.92-.59-1.43-.59-.52 0-1.04.2-1.43.59L10.3 9.45l-7.72 7.72c-.78.78-.78 2.05 0 2.83L4 21.41c.39.39.9.59 1.41.59.51 0 1.02-.2 1.41-.59l7.78-7.78 2.81-2.81c.8-.78.8-2.07 0-2.86zM5.41 20L4 18.59l7.72-7.72 1.47 1.35L5.41 20z\"/>\n",
              "  </svg>\n",
              "      </button>\n",
              "      \n",
              "  <style>\n",
              "    .colab-df-container {\n",
              "      display:flex;\n",
              "      flex-wrap:wrap;\n",
              "      gap: 12px;\n",
              "    }\n",
              "\n",
              "    .colab-df-convert {\n",
              "      background-color: #E8F0FE;\n",
              "      border: none;\n",
              "      border-radius: 50%;\n",
              "      cursor: pointer;\n",
              "      display: none;\n",
              "      fill: #1967D2;\n",
              "      height: 32px;\n",
              "      padding: 0 0 0 0;\n",
              "      width: 32px;\n",
              "    }\n",
              "\n",
              "    .colab-df-convert:hover {\n",
              "      background-color: #E2EBFA;\n",
              "      box-shadow: 0px 1px 2px rgba(60, 64, 67, 0.3), 0px 1px 3px 1px rgba(60, 64, 67, 0.15);\n",
              "      fill: #174EA6;\n",
              "    }\n",
              "\n",
              "    [theme=dark] .colab-df-convert {\n",
              "      background-color: #3B4455;\n",
              "      fill: #D2E3FC;\n",
              "    }\n",
              "\n",
              "    [theme=dark] .colab-df-convert:hover {\n",
              "      background-color: #434B5C;\n",
              "      box-shadow: 0px 1px 3px 1px rgba(0, 0, 0, 0.15);\n",
              "      filter: drop-shadow(0px 1px 2px rgba(0, 0, 0, 0.3));\n",
              "      fill: #FFFFFF;\n",
              "    }\n",
              "  </style>\n",
              "\n",
              "      <script>\n",
              "        const buttonEl =\n",
              "          document.querySelector('#df-bbff2294-6e69-4599-a361-e55e43c7f282 button.colab-df-convert');\n",
              "        buttonEl.style.display =\n",
              "          google.colab.kernel.accessAllowed ? 'block' : 'none';\n",
              "\n",
              "        async function convertToInteractive(key) {\n",
              "          const element = document.querySelector('#df-bbff2294-6e69-4599-a361-e55e43c7f282');\n",
              "          const dataTable =\n",
              "            await google.colab.kernel.invokeFunction('convertToInteractive',\n",
              "                                                     [key], {});\n",
              "          if (!dataTable) return;\n",
              "\n",
              "          const docLinkHtml = 'Like what you see? Visit the ' +\n",
              "            '<a target=\"_blank\" href=https://colab.research.google.com/notebooks/data_table.ipynb>data table notebook</a>'\n",
              "            + ' to learn more about interactive tables.';\n",
              "          element.innerHTML = '';\n",
              "          dataTable['output_type'] = 'display_data';\n",
              "          await google.colab.output.renderOutput(dataTable, element);\n",
              "          const docLink = document.createElement('div');\n",
              "          docLink.innerHTML = docLinkHtml;\n",
              "          element.appendChild(docLink);\n",
              "        }\n",
              "      </script>\n",
              "    </div>\n",
              "  </div>\n",
              "  "
            ]
          },
          "metadata": {},
          "execution_count": 34
        }
      ]
    },
    {
      "cell_type": "markdown",
      "source": [
        "La suddivisione degli utenti ha portato a concludere che: il 20% degli utenti raccolti è un’articolazione dei sindacati mentre il restante 80% è composto da utenti autonomi. \n"
      ],
      "metadata": {
        "id": "nqDM4Uc7yqx8"
      }
    },
    {
      "cell_type": "code",
      "source": [
        "#@title \n",
        "sns.displot(data,x='articolazione',kind='hist',aspect=.5,stat=\"percent\")\n",
        "plt.title(\"DISTRIBUZIONE DEGLI UTENTI TRA ARTICOLAZIONI DEI SINDACATI E AUTONOMI\")\n",
        "plt.ylim()\n",
        "print()"
      ],
      "metadata": {
        "outputId": "cd3aa8d7-5538-467b-bc23-4cb94384ab96",
        "colab": {
          "base_uri": "https://localhost:8080/",
          "height": 403
        },
        "id": "a_er0k0w2qVw",
        "cellView": "form"
      },
      "execution_count": null,
      "outputs": [
        {
          "output_type": "stream",
          "name": "stdout",
          "text": [
            "\n"
          ]
        },
        {
          "output_type": "display_data",
          "data": {
            "text/plain": [
              "<Figure size 180x360 with 1 Axes>"
            ],
            "image/png": "[encoded data removed]"
          },
          "metadata": {
            "needs_background": "light"
          }
        }
      ]
    },
    {
      "cell_type": "markdown",
      "source": [
        "Consultando i risultati della distribuzione dei sentimenti dei tweet in relazione alla nuova variabile emerge che i tweet degli utenti considerati come articolazioni hanno percentuali di tweet negativi pari al 65% e positivi pari al 35%, mentre i tweet degli utenti autonomi hanno percentuali diverse , anche se non eccessivamente, pari a poco più del 70% per quelli negativi e poco meno del 30% per quelli positivi."
      ],
      "metadata": {
        "id": "DsezWfoV3-Av"
      }
    },
    {
      "cell_type": "code",
      "source": [
        "#@title \n",
        "sns.barplot(data=df,x='articolazione',y='percent',hue='sentiment',palette=['r','g']).set_title('DISTRIBUZIONE DEI SENTIMENTI DEI TWEET IN BASE ALLA RELAZIONE CON I SINDACATI ') \n",
        "print()"
      ],
      "metadata": {
        "outputId": "46a6cece-f31d-47b1-9237-eec34c7edcf0",
        "colab": {
          "base_uri": "https://localhost:8080/",
          "height": 313
        },
        "id": "9Mi9ySmhF2EC",
        "cellView": "form"
      },
      "execution_count": null,
      "outputs": [
        {
          "output_type": "stream",
          "name": "stdout",
          "text": [
            "\n"
          ]
        },
        {
          "output_type": "display_data",
          "data": {
            "text/plain": [
              "<Figure size 432x288 with 1 Axes>"
            ],
            "image/png": "[encoded data removed]"
          },
          "metadata": {
            "needs_background": "light"
          }
        }
      ]
    },
    {
      "cell_type": "markdown",
      "source": [
        " Una differenza rilevante si ritrova invece nella distribuzione delle emozioni: Per i tweet prodotti dalle articolazioni dei sindacati la percentuale di rabbia espressa è pari solo al 25%, inferiore rispetto a tristezza(28%) e gioia( 38-39%); per quanto riguarda invece i tweet degli utenti autonomi, la rabbia è l’emozione maggioritaria, con una percentuale di poco al di sotto del 40%."
      ],
      "metadata": {
        "id": "bhuLagrE4UW7"
      }
    },
    {
      "cell_type": "code",
      "source": [
        "#@title \n",
        "sns.catplot(data=df1,x='emotion',y='percent',hue='articolazione',kind='bar', dodge=True)\n",
        "plt.title('DISTRIBUZIONE DELLE EMOZIONI DEI TWEET IN BASE ALLA RELAZIONE CON I SINDACATI ') \n",
        "print()\n",
        "\n"
      ],
      "metadata": {
        "colab": {
          "base_uri": "https://localhost:8080/",
          "height": 403
        },
        "id": "qIvbJobaf2GN",
        "outputId": "7ae562a1-410f-4649-f948-6862e3121c76",
        "cellView": "form"
      },
      "execution_count": null,
      "outputs": [
        {
          "output_type": "stream",
          "name": "stdout",
          "text": [
            "\n"
          ]
        },
        {
          "output_type": "display_data",
          "data": {
            "text/plain": [
              "<Figure size 432x360 with 1 Axes>"
            ],
            "image/png": "[encoded data removed]"
          },
          "metadata": {
            "needs_background": "light"
          }
        }
      ]
    },
    {
      "cell_type": "markdown",
      "source": [
        "### **Terza variabile: Numero di followers**\n",
        "Successivamente si è ricercata una correlazione tra le opinioni espresse dai tweet e il numero di followers degli utenti. È stata prodotta la variabile “followers” che, a differenza della già esistente “followers count”, non indica semplicemente il numero di followers di ogni utente ma divide gli utenti in quartili. Di seguito sono riportati il procedimento ed un esempio dell'output. "
      ],
      "metadata": {
        "id": "KXMp04j-5FbF"
      }
    },
    {
      "cell_type": "code",
      "source": [
        "quartili=pd.DataFrame(datasent['follower_count'].quantile(np.linspace(0.0,1.0,num=5)))\n",
        "quartili"
      ],
      "metadata": {
        "id": "Uv88edJ01osg",
        "outputId": "57409db5-cc51-4941-812f-004bd7e6874c",
        "colab": {
          "base_uri": "https://localhost:8080/",
          "height": 206
        }
      },
      "execution_count": null,
      "outputs": [
        {
          "output_type": "execute_result",
          "data": {
            "text/plain": [
              "      follower_count\n",
              "0.00             0.0\n",
              "0.25           168.0\n",
              "0.50           497.0\n",
              "0.75          1483.0\n",
              "1.00       3413809.0"
            ],
            "text/html": [
              "\n",
              "  <div id=\"df-759f4d1c-3fea-4117-a7c8-0d2fbbfe3ef8\">\n",
              "    <div class=\"colab-df-container\">\n",
              "      <div>\n",
              "<style scoped>\n",
              "    .dataframe tbody tr th:only-of-type {\n",
              "        vertical-align: middle;\n",
              "    }\n",
              "\n",
              "    .dataframe tbody tr th {\n",
              "        vertical-align: top;\n",
              "    }\n",
              "\n",
              "    .dataframe thead th {\n",
              "        text-align: right;\n",
              "    }\n",
              "</style>\n",
              "<table border=\"1\" class=\"dataframe\">\n",
              "  <thead>\n",
              "    <tr style=\"text-align: right;\">\n",
              "      <th></th>\n",
              "      <th>follower_count</th>\n",
              "    </tr>\n",
              "  </thead>\n",
              "  <tbody>\n",
              "    <tr>\n",
              "      <th>0.00</th>\n",
              "      <td>0.0</td>\n",
              "    </tr>\n",
              "    <tr>\n",
              "      <th>0.25</th>\n",
              "      <td>168.0</td>\n",
              "    </tr>\n",
              "    <tr>\n",
              "      <th>0.50</th>\n",
              "      <td>497.0</td>\n",
              "    </tr>\n",
              "    <tr>\n",
              "      <th>0.75</th>\n",
              "      <td>1483.0</td>\n",
              "    </tr>\n",
              "    <tr>\n",
              "      <th>1.00</th>\n",
              "      <td>3413809.0</td>\n",
              "    </tr>\n",
              "  </tbody>\n",
              "</table>\n",
              "</div>\n",
              "      <button class=\"colab-df-convert\" onclick=\"convertToInteractive('df-759f4d1c-3fea-4117-a7c8-0d2fbbfe3ef8')\"\n",
              "              title=\"Convert this dataframe to an interactive table.\"\n",
              "              style=\"display:none;\">\n",
              "        \n",
              "  <svg xmlns=\"http://www.w3.org/2000/svg\" height=\"24px\"viewBox=\"0 0 24 24\"\n",
              "       width=\"24px\">\n",
              "    <path d=\"M0 0h24v24H0V0z\" fill=\"none\"/>\n",
              "    <path d=\"M18.56 5.44l.94 2.06.94-2.06 2.06-.94-2.06-.94-.94-2.06-.94 2.06-2.06.94zm-11 1L8.5 8.5l.94-2.06 2.06-.94-2.06-.94L8.5 2.5l-.94 2.06-2.06.94zm10 10l.94 2.06.94-2.06 2.06-.94-2.06-.94-.94-2.06-.94 2.06-2.06.94z\"/><path d=\"M17.41 7.96l-1.37-1.37c-.4-.4-.92-.59-1.43-.59-.52 0-1.04.2-1.43.59L10.3 9.45l-7.72 7.72c-.78.78-.78 2.05 0 2.83L4 21.41c.39.39.9.59 1.41.59.51 0 1.02-.2 1.41-.59l7.78-7.78 2.81-2.81c.8-.78.8-2.07 0-2.86zM5.41 20L4 18.59l7.72-7.72 1.47 1.35L5.41 20z\"/>\n",
              "  </svg>\n",
              "      </button>\n",
              "      \n",
              "  <style>\n",
              "    .colab-df-container {\n",
              "      display:flex;\n",
              "      flex-wrap:wrap;\n",
              "      gap: 12px;\n",
              "    }\n",
              "\n",
              "    .colab-df-convert {\n",
              "      background-color: #E8F0FE;\n",
              "      border: none;\n",
              "      border-radius: 50%;\n",
              "      cursor: pointer;\n",
              "      display: none;\n",
              "      fill: #1967D2;\n",
              "      height: 32px;\n",
              "      padding: 0 0 0 0;\n",
              "      width: 32px;\n",
              "    }\n",
              "\n",
              "    .colab-df-convert:hover {\n",
              "      background-color: #E2EBFA;\n",
              "      box-shadow: 0px 1px 2px rgba(60, 64, 67, 0.3), 0px 1px 3px 1px rgba(60, 64, 67, 0.15);\n",
              "      fill: #174EA6;\n",
              "    }\n",
              "\n",
              "    [theme=dark] .colab-df-convert {\n",
              "      background-color: #3B4455;\n",
              "      fill: #D2E3FC;\n",
              "    }\n",
              "\n",
              "    [theme=dark] .colab-df-convert:hover {\n",
              "      background-color: #434B5C;\n",
              "      box-shadow: 0px 1px 3px 1px rgba(0, 0, 0, 0.15);\n",
              "      filter: drop-shadow(0px 1px 2px rgba(0, 0, 0, 0.3));\n",
              "      fill: #FFFFFF;\n",
              "    }\n",
              "  </style>\n",
              "\n",
              "      <script>\n",
              "        const buttonEl =\n",
              "          document.querySelector('#df-759f4d1c-3fea-4117-a7c8-0d2fbbfe3ef8 button.colab-df-convert');\n",
              "        buttonEl.style.display =\n",
              "          google.colab.kernel.accessAllowed ? 'block' : 'none';\n",
              "\n",
              "        async function convertToInteractive(key) {\n",
              "          const element = document.querySelector('#df-759f4d1c-3fea-4117-a7c8-0d2fbbfe3ef8');\n",
              "          const dataTable =\n",
              "            await google.colab.kernel.invokeFunction('convertToInteractive',\n",
              "                                                     [key], {});\n",
              "          if (!dataTable) return;\n",
              "\n",
              "          const docLinkHtml = 'Like what you see? Visit the ' +\n",
              "            '<a target=\"_blank\" href=https://colab.research.google.com/notebooks/data_table.ipynb>data table notebook</a>'\n",
              "            + ' to learn more about interactive tables.';\n",
              "          element.innerHTML = '';\n",
              "          dataTable['output_type'] = 'display_data';\n",
              "          await google.colab.output.renderOutput(dataTable, element);\n",
              "          const docLink = document.createElement('div');\n",
              "          docLink.innerHTML = docLinkHtml;\n",
              "          element.appendChild(docLink);\n",
              "        }\n",
              "      </script>\n",
              "    </div>\n",
              "  </div>\n",
              "  "
            ]
          },
          "metadata": {},
          "execution_count": 54
        }
      ]
    },
    {
      "cell_type": "code",
      "source": [
        "d1=data.loc[data['follower_count']<=168]\n",
        "d1['followers']='(Q1) 0-168'\n",
        "d2=data.loc[(data['follower_count']>168)&(data['follower_count']<=497)]\n",
        "d2['followers']='(Q2) 169-497'\n",
        "d3=data.loc[(data['follower_count']>497)&(data['follower_count']<=1483)]\n",
        "d3['followers']='(Q3) 498-1483'\n",
        "d4=data.loc[(data['follower_count']>1483)&(data['follower_count']<=3413809)]\n",
        "d4['followers']='(Q4) 1484-3413809'\n",
        "df=pd.concat([d1,d2,d3,d4])\n",
        "df\n",
        "\n",
        "\n"
      ],
      "metadata": {
        "id": "o7Nxsuy97Phy"
      },
      "execution_count": null,
      "outputs": []
    },
    {
      "cell_type": "code",
      "source": [
        "#@title \n",
        "d=df.drop([\"month\",\"favorite_count\",\"retweet_count\",\"sigla\",\"tweet_id\",\"Unnamed: 0\",\"language\",\"created_at\",\"source\",\"location\",\"verified\"],axis=1)\n",
        "d.iloc[[999]]"
      ],
      "metadata": {
        "id": "klGpforOte3p",
        "outputId": "4415ddc2-07a8-411a-f6c3-ce0f790c75a1",
        "colab": {
          "base_uri": "https://localhost:8080/",
          "height": 81
        },
        "cellView": "form"
      },
      "execution_count": null,
      "outputs": [
        {
          "output_type": "execute_result",
          "data": {
            "text/plain": [
              "        name  follower_count sentiment  emotion  \\\n",
              "4668  Aradia              53  negative  sadness   \n",
              "\n",
              "                                           cleaned_text   followers  \n",
              "4668   c è già il durissimo comunicato che ci si asp...  (Q1) 0-168  "
            ],
            "text/html": [
              "\n",
              "  <div id=\"df-1c117722-49ef-4ffb-b7a3-45564a7898a9\">\n",
              "    <div class=\"colab-df-container\">\n",
              "      <div>\n",
              "<style scoped>\n",
              "    .dataframe tbody tr th:only-of-type {\n",
              "        vertical-align: middle;\n",
              "    }\n",
              "\n",
              "    .dataframe tbody tr th {\n",
              "        vertical-align: top;\n",
              "    }\n",
              "\n",
              "    .dataframe thead th {\n",
              "        text-align: right;\n",
              "    }\n",
              "</style>\n",
              "<table border=\"1\" class=\"dataframe\">\n",
              "  <thead>\n",
              "    <tr style=\"text-align: right;\">\n",
              "      <th></th>\n",
              "      <th>name</th>\n",
              "      <th>follower_count</th>\n",
              "      <th>sentiment</th>\n",
              "      <th>emotion</th>\n",
              "      <th>cleaned_text</th>\n",
              "      <th>followers</th>\n",
              "    </tr>\n",
              "  </thead>\n",
              "  <tbody>\n",
              "    <tr>\n",
              "      <th>4668</th>\n",
              "      <td>Aradia</td>\n",
              "      <td>53</td>\n",
              "      <td>negative</td>\n",
              "      <td>sadness</td>\n",
              "      <td>c è già il durissimo comunicato che ci si asp...</td>\n",
              "      <td>(Q1) 0-168</td>\n",
              "    </tr>\n",
              "  </tbody>\n",
              "</table>\n",
              "</div>\n",
              "      <button class=\"colab-df-convert\" onclick=\"convertToInteractive('df-1c117722-49ef-4ffb-b7a3-45564a7898a9')\"\n",
              "              title=\"Convert this dataframe to an interactive table.\"\n",
              "              style=\"display:none;\">\n",
              "        \n",
              "  <svg xmlns=\"http://www.w3.org/2000/svg\" height=\"24px\"viewBox=\"0 0 24 24\"\n",
              "       width=\"24px\">\n",
              "    <path d=\"M0 0h24v24H0V0z\" fill=\"none\"/>\n",
              "    <path d=\"M18.56 5.44l.94 2.06.94-2.06 2.06-.94-2.06-.94-.94-2.06-.94 2.06-2.06.94zm-11 1L8.5 8.5l.94-2.06 2.06-.94-2.06-.94L8.5 2.5l-.94 2.06-2.06.94zm10 10l.94 2.06.94-2.06 2.06-.94-2.06-.94-.94-2.06-.94 2.06-2.06.94z\"/><path d=\"M17.41 7.96l-1.37-1.37c-.4-.4-.92-.59-1.43-.59-.52 0-1.04.2-1.43.59L10.3 9.45l-7.72 7.72c-.78.78-.78 2.05 0 2.83L4 21.41c.39.39.9.59 1.41.59.51 0 1.02-.2 1.41-.59l7.78-7.78 2.81-2.81c.8-.78.8-2.07 0-2.86zM5.41 20L4 18.59l7.72-7.72 1.47 1.35L5.41 20z\"/>\n",
              "  </svg>\n",
              "      </button>\n",
              "      \n",
              "  <style>\n",
              "    .colab-df-container {\n",
              "      display:flex;\n",
              "      flex-wrap:wrap;\n",
              "      gap: 12px;\n",
              "    }\n",
              "\n",
              "    .colab-df-convert {\n",
              "      background-color: #E8F0FE;\n",
              "      border: none;\n",
              "      border-radius: 50%;\n",
              "      cursor: pointer;\n",
              "      display: none;\n",
              "      fill: #1967D2;\n",
              "      height: 32px;\n",
              "      padding: 0 0 0 0;\n",
              "      width: 32px;\n",
              "    }\n",
              "\n",
              "    .colab-df-convert:hover {\n",
              "      background-color: #E2EBFA;\n",
              "      box-shadow: 0px 1px 2px rgba(60, 64, 67, 0.3), 0px 1px 3px 1px rgba(60, 64, 67, 0.15);\n",
              "      fill: #174EA6;\n",
              "    }\n",
              "\n",
              "    [theme=dark] .colab-df-convert {\n",
              "      background-color: #3B4455;\n",
              "      fill: #D2E3FC;\n",
              "    }\n",
              "\n",
              "    [theme=dark] .colab-df-convert:hover {\n",
              "      background-color: #434B5C;\n",
              "      box-shadow: 0px 1px 3px 1px rgba(0, 0, 0, 0.15);\n",
              "      filter: drop-shadow(0px 1px 2px rgba(0, 0, 0, 0.3));\n",
              "      fill: #FFFFFF;\n",
              "    }\n",
              "  </style>\n",
              "\n",
              "      <script>\n",
              "        const buttonEl =\n",
              "          document.querySelector('#df-1c117722-49ef-4ffb-b7a3-45564a7898a9 button.colab-df-convert');\n",
              "        buttonEl.style.display =\n",
              "          google.colab.kernel.accessAllowed ? 'block' : 'none';\n",
              "\n",
              "        async function convertToInteractive(key) {\n",
              "          const element = document.querySelector('#df-1c117722-49ef-4ffb-b7a3-45564a7898a9');\n",
              "          const dataTable =\n",
              "            await google.colab.kernel.invokeFunction('convertToInteractive',\n",
              "                                                     [key], {});\n",
              "          if (!dataTable) return;\n",
              "\n",
              "          const docLinkHtml = 'Like what you see? Visit the ' +\n",
              "            '<a target=\"_blank\" href=https://colab.research.google.com/notebooks/data_table.ipynb>data table notebook</a>'\n",
              "            + ' to learn more about interactive tables.';\n",
              "          element.innerHTML = '';\n",
              "          dataTable['output_type'] = 'display_data';\n",
              "          await google.colab.output.renderOutput(dataTable, element);\n",
              "          const docLink = document.createElement('div');\n",
              "          docLink.innerHTML = docLinkHtml;\n",
              "          element.appendChild(docLink);\n",
              "        }\n",
              "      </script>\n",
              "    </div>\n",
              "  </div>\n",
              "  "
            ]
          },
          "metadata": {},
          "execution_count": 13
        }
      ]
    },
    {
      "cell_type": "markdown",
      "source": [
        "Si è potuto così osservare che i quartili due , tre e quattro hanno percentuali pressoché uguali, mentre il primo quartile, quello degli utenti che hanno da 0 a 138 followers, ha valori maggiori di tweet negativi e minori di tweet positivi. La peculiarità del primo quartile si riscontra anche osservando le emozioni dei tweet, la rabbia è espressa in maniera significativamente maggiore nei tweet degli utenti del primo quartile, mentre la gioia si attesta su percentuali più basse. "
      ],
      "metadata": {
        "id": "2Tzxov3CHA4P"
      }
    },
    {
      "cell_type": "code",
      "source": [
        "#@title \n",
        "sns.catplot(data=df1,x='followers',y='percent',hue='sentiment',palette=['r','g'],kind=\"bar\",aspect=1.5)\n",
        "plt.title('DISTRIBUZIONE DEI SENTIMENTI DEI TWEET IN BASE AL NUMERO DEI FOLLOWERS DEGLI UTENTI ') \n",
        "\n",
        "print()"
      ],
      "metadata": {
        "outputId": "1277e89f-d3b7-48aa-cff6-b772cf285dfb",
        "colab": {
          "base_uri": "https://localhost:8080/",
          "height": 403
        },
        "id": "O7ObQHR1Ov2h",
        "cellView": "form"
      },
      "execution_count": null,
      "outputs": [
        {
          "output_type": "stream",
          "name": "stdout",
          "text": [
            "\n"
          ]
        },
        {
          "output_type": "display_data",
          "data": {
            "text/plain": [
              "<Figure size 619.75x360 with 1 Axes>"
            ],
            "image/png": "[encoded data removed]"
          },
          "metadata": {
            "needs_background": "light"
          }
        }
      ]
    },
    {
      "cell_type": "code",
      "source": [
        "#@title\n",
        "sns.catplot(data=df1,x='followers',y='percent',hue='emotion',kind='bar', dodge=True,palette=[\"b\",\"y\",\"r\",\"g\"],height=6)\n",
        "plt.title('') \n",
        "print()"
      ],
      "metadata": {
        "id": "lylreRF3PCtG",
        "outputId": "9fcc3c65-df51-40cd-c3d5-b13c10021a1f",
        "colab": {
          "base_uri": "https://localhost:8080/",
          "height": 459
        },
        "cellView": "form"
      },
      "execution_count": null,
      "outputs": [
        {
          "output_type": "stream",
          "name": "stdout",
          "text": [
            "\n"
          ]
        },
        {
          "output_type": "display_data",
          "data": {
            "text/plain": [
              "<Figure size 508.75x432 with 1 Axes>"
            ],
            "image/png": "[encoded data removed]"
          },
          "metadata": {
            "needs_background": "light"
          }
        }
      ]
    },
    {
      "cell_type": "markdown",
      "source": [
        "Alla luce di questi risultati, si è considerato opportuno affinare ulteriormente l’analisi, sostituendo la divisione in quartili con una in decili. Si è potuto così comprendere che le variazioni del primo quartile non dipendevano da tutti gli utenti che ne facevano parte, ma solo dal primo decile, quello riguardante gli utenti con un numero di followers da 0 a 37. "
      ],
      "metadata": {
        "id": "V0rtTesesAUv"
      }
    },
    {
      "cell_type": "code",
      "source": [
        "#@title \n",
        "sns.catplot(data=df1,x='followers',y='percent',hue='sentiment',palette=['r','g'],kind=\"bar\",aspect=1.5)\n",
        "plt.title('DISTRIBUZIONE DEI SENTIMENTI DEI TWEET IN BASE AL NUMERO DEI FOLLOWERS DEGLI UTENTI ') \n",
        "plt.xticks(rotation=45)\n",
        "print()"
      ],
      "metadata": {
        "outputId": "b532fbf1-a36f-48ba-83bb-2237d2134117",
        "colab": {
          "base_uri": "https://localhost:8080/",
          "height": 468
        },
        "id": "TDE_wLzjgaf8",
        "cellView": "form"
      },
      "execution_count": null,
      "outputs": [
        {
          "output_type": "stream",
          "name": "stdout",
          "text": [
            "\n"
          ]
        },
        {
          "output_type": "display_data",
          "data": {
            "text/plain": [
              "<Figure size 619.75x360 with 1 Axes>"
            ],
            "image/png": "[encoded data removed]"
          },
          "metadata": {
            "needs_background": "light"
          }
        }
      ]
    },
    {
      "cell_type": "markdown",
      "source": [
        "Osservando la Word Cloud di questi utenti e mettendole in relazione con la Word Cloud di tutti gli utenti con un numero maggiore di follower, si osserva una differenza nei contenuti e nei toni di espressione.\n"
      ],
      "metadata": {
        "id": "9OHiOezOsyfW"
      }
    },
    {
      "cell_type": "code",
      "source": [
        "#@title \n",
        "wordcloud = WordCloud(width=1600, stopwords=stopwords,height=800,max_font_size=100,max_words=20,collocations=False, background_color='white').generate(words)\n",
        "plt.figure(figsize=(10,10))\n",
        "plt.imshow(wordcloud, interpolation=\"bilinear\")\n",
        "plt.axis(\"off\")\n",
        "plt.title('WORD CLOUD DEI TWEET DEGLI UTENTI CON 0-37 FOLLOWERS ')\n",
        "print()   "
      ],
      "metadata": {
        "colab": {
          "base_uri": "https://localhost:8080/",
          "height": 344
        },
        "outputId": "c008cc1e-af5d-41d1-c069-f6b5efda2c32",
        "id": "hlfnmbtCiX0M",
        "cellView": "form"
      },
      "execution_count": null,
      "outputs": [
        {
          "output_type": "stream",
          "name": "stdout",
          "text": [
            "\n"
          ]
        },
        {
          "output_type": "display_data",
          "data": {
            "text/plain": [
              "<Figure size 720x720 with 1 Axes>"
            ],
            "image/png": "[encoded data removed]"
          },
          "metadata": {
            "needs_background": "light"
          }
        }
      ]
    },
    {
      "cell_type": "code",
      "source": [
        "#@title \n",
        "wordcloud = WordCloud(width=1600, stopwords=stopwords,height=800,max_font_size=100,max_words=20,collocations=False, background_color='white').generate(words1)\n",
        "plt.figure(figsize=(10,10))\n",
        "plt.imshow(wordcloud, interpolation=\"bilinear\")\n",
        "plt.axis(\"off\")\n",
        "plt.title('WORD CLOUD DEI TWEET DEGLI UTENTI CON PIÙ DI 37 FOLLOWERS ')\n",
        "print() "
      ],
      "metadata": {
        "colab": {
          "base_uri": "https://localhost:8080/",
          "height": 344
        },
        "outputId": "8146e4c5-4652-47b9-c531-e9d98d7f88b9",
        "id": "TqVgIriGjQV4",
        "cellView": "form"
      },
      "execution_count": null,
      "outputs": [
        {
          "output_type": "stream",
          "name": "stdout",
          "text": [
            "\n"
          ]
        },
        {
          "output_type": "display_data",
          "data": {
            "text/plain": [
              "<Figure size 720x720 with 1 Axes>"
            ],
            "image/png": "[encoded data removed]"
          },
          "metadata": {
            "needs_background": "light"
          }
        }
      ]
    },
    {
      "cell_type": "markdown",
      "source": [
        "### **Quarta variabile: Periodo** \n",
        " All’interno delle Word Cloud si ritrovano anche dei vocaboli che fanno intuire la presenza di un fattore esogeno, non dipendente dai sindacati, che può influenzare i risultati in termini di sentimenti ed emozioni espressi nei tweet. È il caso dei vocaboli “governo”, ”draghi”, ”crisi”.  Il fenomeno in questione è quello della crisi di governo, verificatasi nel mese di luglio. Si è quindi proceduto ad isolare questo fenomeno, creando una variabile che dividesse i tweet in base al mese di raccolta. "
      ],
      "metadata": {
        "id": "t2Goh0X4vbqf"
      }
    },
    {
      "cell_type": "code",
      "source": [
        "d1=datasent.loc[datasent['Unnamed: 0'].isna()]\n",
        "d1['month']=\"june\"\n",
        "d2=datasent.loc[datasent['Unnamed: 0'].notna()]\n",
        "d2['month']=\"May\"\n",
        "datamonth=pd.concat([d1,d2])"
      ],
      "metadata": {
        "id": "C4Ee-ctnwAyJ"
      },
      "execution_count": null,
      "outputs": []
    },
    {
      "cell_type": "code",
      "source": [
        "#@title \n",
        "datamonth=pd.read_csv(\"/content/datamonth\")\n",
        "d=datamonth.drop([\"follower_count\",\"favorite_count\",\"retweet_count\",\"sigla\",\"tweet_id\",\"Unnamed: 0\",\"language\",\"created_at\",\"source\",\"location\",\"verified\"],axis=1)\n",
        "d.iloc[[1]]"
      ],
      "metadata": {
        "cellView": "form",
        "id": "XHPCCVtcwJ0e",
        "outputId": "c945057b-d22e-4ca8-c17c-fa1ef7d4254f",
        "colab": {
          "base_uri": "https://localhost:8080/",
          "height": 81
        }
      },
      "execution_count": null,
      "outputs": [
        {
          "output_type": "execute_result",
          "data": {
            "text/plain": [
              "             name sentiment emotion  \\\n",
              "1  Andrea Tafaria  negative   anger   \n",
              "\n",
              "                                        cleaned_text month  \n",
              "1   “nel rispetto dell’autonomia delle forze poli...  june  "
            ],
            "text/html": [
              "\n",
              "  <div id=\"df-df2f38d5-8256-41d2-94c1-9cc210870223\">\n",
              "    <div class=\"colab-df-container\">\n",
              "      <div>\n",
              "<style scoped>\n",
              "    .dataframe tbody tr th:only-of-type {\n",
              "        vertical-align: middle;\n",
              "    }\n",
              "\n",
              "    .dataframe tbody tr th {\n",
              "        vertical-align: top;\n",
              "    }\n",
              "\n",
              "    .dataframe thead th {\n",
              "        text-align: right;\n",
              "    }\n",
              "</style>\n",
              "<table border=\"1\" class=\"dataframe\">\n",
              "  <thead>\n",
              "    <tr style=\"text-align: right;\">\n",
              "      <th></th>\n",
              "      <th>name</th>\n",
              "      <th>sentiment</th>\n",
              "      <th>emotion</th>\n",
              "      <th>cleaned_text</th>\n",
              "      <th>month</th>\n",
              "    </tr>\n",
              "  </thead>\n",
              "  <tbody>\n",
              "    <tr>\n",
              "      <th>1</th>\n",
              "      <td>Andrea Tafaria</td>\n",
              "      <td>negative</td>\n",
              "      <td>anger</td>\n",
              "      <td>“nel rispetto dell’autonomia delle forze poli...</td>\n",
              "      <td>june</td>\n",
              "    </tr>\n",
              "  </tbody>\n",
              "</table>\n",
              "</div>\n",
              "      <button class=\"colab-df-convert\" onclick=\"convertToInteractive('df-df2f38d5-8256-41d2-94c1-9cc210870223')\"\n",
              "              title=\"Convert this dataframe to an interactive table.\"\n",
              "              style=\"display:none;\">\n",
              "        \n",
              "  <svg xmlns=\"http://www.w3.org/2000/svg\" height=\"24px\"viewBox=\"0 0 24 24\"\n",
              "       width=\"24px\">\n",
              "    <path d=\"M0 0h24v24H0V0z\" fill=\"none\"/>\n",
              "    <path d=\"M18.56 5.44l.94 2.06.94-2.06 2.06-.94-2.06-.94-.94-2.06-.94 2.06-2.06.94zm-11 1L8.5 8.5l.94-2.06 2.06-.94-2.06-.94L8.5 2.5l-.94 2.06-2.06.94zm10 10l.94 2.06.94-2.06 2.06-.94-2.06-.94-.94-2.06-.94 2.06-2.06.94z\"/><path d=\"M17.41 7.96l-1.37-1.37c-.4-.4-.92-.59-1.43-.59-.52 0-1.04.2-1.43.59L10.3 9.45l-7.72 7.72c-.78.78-.78 2.05 0 2.83L4 21.41c.39.39.9.59 1.41.59.51 0 1.02-.2 1.41-.59l7.78-7.78 2.81-2.81c.8-.78.8-2.07 0-2.86zM5.41 20L4 18.59l7.72-7.72 1.47 1.35L5.41 20z\"/>\n",
              "  </svg>\n",
              "      </button>\n",
              "      \n",
              "  <style>\n",
              "    .colab-df-container {\n",
              "      display:flex;\n",
              "      flex-wrap:wrap;\n",
              "      gap: 12px;\n",
              "    }\n",
              "\n",
              "    .colab-df-convert {\n",
              "      background-color: #E8F0FE;\n",
              "      border: none;\n",
              "      border-radius: 50%;\n",
              "      cursor: pointer;\n",
              "      display: none;\n",
              "      fill: #1967D2;\n",
              "      height: 32px;\n",
              "      padding: 0 0 0 0;\n",
              "      width: 32px;\n",
              "    }\n",
              "\n",
              "    .colab-df-convert:hover {\n",
              "      background-color: #E2EBFA;\n",
              "      box-shadow: 0px 1px 2px rgba(60, 64, 67, 0.3), 0px 1px 3px 1px rgba(60, 64, 67, 0.15);\n",
              "      fill: #174EA6;\n",
              "    }\n",
              "\n",
              "    [theme=dark] .colab-df-convert {\n",
              "      background-color: #3B4455;\n",
              "      fill: #D2E3FC;\n",
              "    }\n",
              "\n",
              "    [theme=dark] .colab-df-convert:hover {\n",
              "      background-color: #434B5C;\n",
              "      box-shadow: 0px 1px 3px 1px rgba(0, 0, 0, 0.15);\n",
              "      filter: drop-shadow(0px 1px 2px rgba(0, 0, 0, 0.3));\n",
              "      fill: #FFFFFF;\n",
              "    }\n",
              "  </style>\n",
              "\n",
              "      <script>\n",
              "        const buttonEl =\n",
              "          document.querySelector('#df-df2f38d5-8256-41d2-94c1-9cc210870223 button.colab-df-convert');\n",
              "        buttonEl.style.display =\n",
              "          google.colab.kernel.accessAllowed ? 'block' : 'none';\n",
              "\n",
              "        async function convertToInteractive(key) {\n",
              "          const element = document.querySelector('#df-df2f38d5-8256-41d2-94c1-9cc210870223');\n",
              "          const dataTable =\n",
              "            await google.colab.kernel.invokeFunction('convertToInteractive',\n",
              "                                                     [key], {});\n",
              "          if (!dataTable) return;\n",
              "\n",
              "          const docLinkHtml = 'Like what you see? Visit the ' +\n",
              "            '<a target=\"_blank\" href=https://colab.research.google.com/notebooks/data_table.ipynb>data table notebook</a>'\n",
              "            + ' to learn more about interactive tables.';\n",
              "          element.innerHTML = '';\n",
              "          dataTable['output_type'] = 'display_data';\n",
              "          await google.colab.output.renderOutput(dataTable, element);\n",
              "          const docLink = document.createElement('div');\n",
              "          docLink.innerHTML = docLinkHtml;\n",
              "          element.appendChild(docLink);\n",
              "        }\n",
              "      </script>\n",
              "    </div>\n",
              "  </div>\n",
              "  "
            ]
          },
          "metadata": {},
          "execution_count": 3
        }
      ]
    },
    {
      "cell_type": "markdown",
      "source": [
        "Attraverso dei grafici a barre viene evidenziata la variazione dei sentimenti e delle emozioni espresse nei tweet al variare del periodo di raccolta, denotando un generale peggioramento: oltre ad un aumento percentuale dei tweet manifestanti sentimenti negativi e conseguentemente una riduzione di quelli positivi, risalta l’aumento dei tweet esprimenti tristezza. "
      ],
      "metadata": {
        "id": "pk07y4vvvuou"
      }
    },
    {
      "cell_type": "code",
      "source": [
        "#@title \n",
        "sns.barplot(data=df,x='sentiment',y='percent',hue='month').set_title('DISTRIBUZIONE DEI SENTIMENTI DEI TWEET IN BASE AL PERIODO DI RACCOLTA') \n",
        "print()"
      ],
      "metadata": {
        "outputId": "32bb4cfd-67c2-41cf-fab1-248d1ba2032b",
        "colab": {
          "base_uri": "https://localhost:8080/",
          "height": 313
        },
        "id": "pkC3KUxMNUNx",
        "cellView": "form"
      },
      "execution_count": null,
      "outputs": [
        {
          "output_type": "stream",
          "name": "stdout",
          "text": [
            "\n"
          ]
        },
        {
          "output_type": "display_data",
          "data": {
            "text/plain": [
              "<Figure size 432x288 with 1 Axes>"
            ],
            "image/png": "[encoded data removed]"
          },
          "metadata": {
            "needs_background": "light"
          }
        }
      ]
    },
    {
      "cell_type": "code",
      "source": [
        "#@title \n",
        "sns.catplot(data=df1,x='emotion',y='percent',hue='month',kind='bar', dodge=True)\n",
        "plt.title('DISTRIBUZIONE DELLE EMOZIONI DEI TWEET IN BASE AL PERIODO DI RACCOLTA') \n",
        "print()\n",
        "\n"
      ],
      "metadata": {
        "colab": {
          "base_uri": "https://localhost:8080/",
          "height": 403
        },
        "outputId": "0824ffd2-5ec9-41b3-8d51-c829787839e7",
        "id": "4rU-4DE1vlGD",
        "cellView": "form"
      },
      "execution_count": null,
      "outputs": [
        {
          "output_type": "stream",
          "name": "stdout",
          "text": [
            "\n"
          ]
        },
        {
          "output_type": "display_data",
          "data": {
            "text/plain": [
              "<Figure size 417.75x360 with 1 Axes>"
            ],
            "image/png": "[encoded data removed]"
          },
          "metadata": {
            "needs_background": "light"
          }
        }
      ]
    },
    {
      "cell_type": "markdown",
      "source": [
        "È stato implementato poi il grafico sopracitato, indicante la variazione dei sentimenti espressi al variare del numero di followers diviso in quartili, aggiungendo la divisione in base al mese tramite il faceting. Si è potuto così osservare come la differenza tra il primo quartile e gli altri esistesse anche prima dell’avvento della crisi di governo. "
      ],
      "metadata": {
        "id": "BBzFcp2dxNfx"
      }
    },
    {
      "cell_type": "code",
      "source": [
        "#@title \n",
        "sns.catplot(data=df,x='followers',y='percent',hue='sentiment',palette=['r','g'],kind=\"bar\",col=\"month\",aspect=1.1,col_wrap=2)\n",
        "print()"
      ],
      "metadata": {
        "outputId": "3443a69a-1b53-4208-ed21-7c61409fbfd4",
        "colab": {
          "base_uri": "https://localhost:8080/",
          "height": 387
        },
        "id": "o4LRLKCh8PsE",
        "cellView": "form"
      },
      "execution_count": null,
      "outputs": [
        {
          "output_type": "stream",
          "name": "stdout",
          "text": [
            "\n"
          ]
        },
        {
          "output_type": "display_data",
          "data": {
            "text/plain": [
              "<Figure size 871.75x360 with 2 Axes>"
            ],
            "image/png": "[encoded data removed]"
          },
          "metadata": {
            "needs_background": "light"
          }
        }
      ]
    },
    {
      "cell_type": "markdown",
      "source": [
        "Si è voluto poi quantificare l’impatto della crisi sulla mutazione dei sentimenti dei tweet, suddividendo i tweet contenenti il vocabolo “crisi” in base al mese in cui erano stati prodotti: soltanto poco più del 25% di questi tweet sono stati prodotti a maggio, mentre il restante 75% è stato prodotto a giugno. Sommando questa informazione al fatto che è risultato che il 100% di questi tweet siano associati a sentimenti negativi, si può affermare che la variazione osservata trovi nella crisi di governo la sua spiegazione.\n"
      ],
      "metadata": {
        "id": "vs6vrVHwx80b"
      }
    },
    {
      "cell_type": "code",
      "source": [
        "#@title \n",
        "dfcrisi=datamonth.loc[datamonth['cleaned_text'].str.contains('crisi')]\n",
        "sns.displot(dfcrisi,x=\"month\",stat=\"percent\",aspect=.5)\n",
        "plt.title('DISTRIBUZIONE DEI TWEET CONTENENTI LA PAROLA \"CRISI\"')\n",
        "print()"
      ],
      "metadata": {
        "colab": {
          "base_uri": "https://localhost:8080/",
          "height": 403
        },
        "id": "P5g6enEfAePF",
        "outputId": "7ad39101-5a3a-46bf-dc8e-6a2c5bef6645",
        "cellView": "form"
      },
      "execution_count": null,
      "outputs": [
        {
          "output_type": "stream",
          "name": "stdout",
          "text": [
            "\n"
          ]
        },
        {
          "output_type": "display_data",
          "data": {
            "text/plain": [
              "<Figure size 180x360 with 1 Axes>"
            ],
            "image/png": "[encoded data removed]"
          },
          "metadata": {
            "needs_background": "light"
          }
        }
      ]
    },
    {
      "cell_type": "code",
      "source": [
        "#@title \n",
        "sns.displot(dfcrisi,x=\"sentiment\",stat=\"percent\",aspect=.5)\n",
        "plt.title('SENTIMENTI DEI TWEET CONTENENTI LA PAROLA \"CRISI\"')\n",
        "print()"
      ],
      "metadata": {
        "colab": {
          "base_uri": "https://localhost:8080/",
          "height": 403
        },
        "id": "o1gH-gTGBflH",
        "outputId": "c34ef8b6-9259-463f-d901-844147854aeb",
        "cellView": "form"
      },
      "execution_count": null,
      "outputs": [
        {
          "output_type": "stream",
          "name": "stdout",
          "text": [
            "\n"
          ]
        },
        {
          "output_type": "display_data",
          "data": {
            "text/plain": [
              "<Figure size 180x360 with 1 Axes>"
            ],
            "image/png": "[encoded data removed]"
          },
          "metadata": {
            "needs_background": "light"
          }
        }
      ]
    },
    {
      "cell_type": "markdown",
      "source": [
        "### **Quinta variabile: Numero di retweets**\n",
        "Dopo aver compreso questo aspetto, si è potuto riprendere ad analizzare le metriche, focalizzandosi sui retweet. Si è proceduto a suddividere i tweet in quartili, in questo caso non in base al numero di followers degli utenti che li scrivevano ma in base al numero di retweet ricevuti, arrivando alle seguenti conclusioni: gli estremi, ovvero il primo quartile (0-5 retweets) e il quarto(79-298), avevano valori praticamente uguali e lo stesso si poteva affermare anche per il secondo e terzo quartile (6-35 e 36-78 retweet). La prima coppia di quartili aveva valori vicini all’80% di tweet manifestanti sentimenti negativi e al 20%  sentimenti positivi, mentre la seconda coppia aveva valori vicini al 60% per i tweet negativi e 40% per quelli positivi. "
      ],
      "metadata": {
        "id": "mPcduAUjzYng"
      }
    },
    {
      "cell_type": "code",
      "source": [
        "#@title \n",
        "\n",
        "d=df.drop([\"month\",\"favorite_count\",\"follower_count\",\"sigla\",\"tweet_id\",\"Unnamed: 0\",\"language\",\"created_at\",\"source\",\"location\",\"verified\"],axis=1)\n",
        "d.iloc[[77]]"
      ],
      "metadata": {
        "id": "FMVJLXdh0HCz",
        "outputId": "bde68701-de55-4fa9-c25f-74e699dd72aa",
        "colab": {
          "base_uri": "https://localhost:8080/",
          "height": 81
        },
        "cellView": "form"
      },
      "execution_count": null,
      "outputs": [
        {
          "output_type": "execute_result",
          "data": {
            "text/plain": [
              "                name  retweet_count sentiment emotion  \\\n",
              "528  Patrizia Grasso              4  negative    fear   \n",
              "\n",
              "                                          cleaned_text   retweet  \n",
              "528   lavoro sette infortuni al giorno è allarme ba...  (Q1) 0-5  "
            ],
            "text/html": [
              "\n",
              "  <div id=\"df-b7fce79e-3914-4a82-888e-d70335c296bd\">\n",
              "    <div class=\"colab-df-container\">\n",
              "      <div>\n",
              "<style scoped>\n",
              "    .dataframe tbody tr th:only-of-type {\n",
              "        vertical-align: middle;\n",
              "    }\n",
              "\n",
              "    .dataframe tbody tr th {\n",
              "        vertical-align: top;\n",
              "    }\n",
              "\n",
              "    .dataframe thead th {\n",
              "        text-align: right;\n",
              "    }\n",
              "</style>\n",
              "<table border=\"1\" class=\"dataframe\">\n",
              "  <thead>\n",
              "    <tr style=\"text-align: right;\">\n",
              "      <th></th>\n",
              "      <th>name</th>\n",
              "      <th>retweet_count</th>\n",
              "      <th>sentiment</th>\n",
              "      <th>emotion</th>\n",
              "      <th>cleaned_text</th>\n",
              "      <th>retweet</th>\n",
              "    </tr>\n",
              "  </thead>\n",
              "  <tbody>\n",
              "    <tr>\n",
              "      <th>528</th>\n",
              "      <td>Patrizia Grasso</td>\n",
              "      <td>4</td>\n",
              "      <td>negative</td>\n",
              "      <td>fear</td>\n",
              "      <td>lavoro sette infortuni al giorno è allarme ba...</td>\n",
              "      <td>(Q1) 0-5</td>\n",
              "    </tr>\n",
              "  </tbody>\n",
              "</table>\n",
              "</div>\n",
              "      <button class=\"colab-df-convert\" onclick=\"convertToInteractive('df-b7fce79e-3914-4a82-888e-d70335c296bd')\"\n",
              "              title=\"Convert this dataframe to an interactive table.\"\n",
              "              style=\"display:none;\">\n",
              "        \n",
              "  <svg xmlns=\"http://www.w3.org/2000/svg\" height=\"24px\"viewBox=\"0 0 24 24\"\n",
              "       width=\"24px\">\n",
              "    <path d=\"M0 0h24v24H0V0z\" fill=\"none\"/>\n",
              "    <path d=\"M18.56 5.44l.94 2.06.94-2.06 2.06-.94-2.06-.94-.94-2.06-.94 2.06-2.06.94zm-11 1L8.5 8.5l.94-2.06 2.06-.94-2.06-.94L8.5 2.5l-.94 2.06-2.06.94zm10 10l.94 2.06.94-2.06 2.06-.94-2.06-.94-.94-2.06-.94 2.06-2.06.94z\"/><path d=\"M17.41 7.96l-1.37-1.37c-.4-.4-.92-.59-1.43-.59-.52 0-1.04.2-1.43.59L10.3 9.45l-7.72 7.72c-.78.78-.78 2.05 0 2.83L4 21.41c.39.39.9.59 1.41.59.51 0 1.02-.2 1.41-.59l7.78-7.78 2.81-2.81c.8-.78.8-2.07 0-2.86zM5.41 20L4 18.59l7.72-7.72 1.47 1.35L5.41 20z\"/>\n",
              "  </svg>\n",
              "      </button>\n",
              "      \n",
              "  <style>\n",
              "    .colab-df-container {\n",
              "      display:flex;\n",
              "      flex-wrap:wrap;\n",
              "      gap: 12px;\n",
              "    }\n",
              "\n",
              "    .colab-df-convert {\n",
              "      background-color: #E8F0FE;\n",
              "      border: none;\n",
              "      border-radius: 50%;\n",
              "      cursor: pointer;\n",
              "      display: none;\n",
              "      fill: #1967D2;\n",
              "      height: 32px;\n",
              "      padding: 0 0 0 0;\n",
              "      width: 32px;\n",
              "    }\n",
              "\n",
              "    .colab-df-convert:hover {\n",
              "      background-color: #E2EBFA;\n",
              "      box-shadow: 0px 1px 2px rgba(60, 64, 67, 0.3), 0px 1px 3px 1px rgba(60, 64, 67, 0.15);\n",
              "      fill: #174EA6;\n",
              "    }\n",
              "\n",
              "    [theme=dark] .colab-df-convert {\n",
              "      background-color: #3B4455;\n",
              "      fill: #D2E3FC;\n",
              "    }\n",
              "\n",
              "    [theme=dark] .colab-df-convert:hover {\n",
              "      background-color: #434B5C;\n",
              "      box-shadow: 0px 1px 3px 1px rgba(0, 0, 0, 0.15);\n",
              "      filter: drop-shadow(0px 1px 2px rgba(0, 0, 0, 0.3));\n",
              "      fill: #FFFFFF;\n",
              "    }\n",
              "  </style>\n",
              "\n",
              "      <script>\n",
              "        const buttonEl =\n",
              "          document.querySelector('#df-b7fce79e-3914-4a82-888e-d70335c296bd button.colab-df-convert');\n",
              "        buttonEl.style.display =\n",
              "          google.colab.kernel.accessAllowed ? 'block' : 'none';\n",
              "\n",
              "        async function convertToInteractive(key) {\n",
              "          const element = document.querySelector('#df-b7fce79e-3914-4a82-888e-d70335c296bd');\n",
              "          const dataTable =\n",
              "            await google.colab.kernel.invokeFunction('convertToInteractive',\n",
              "                                                     [key], {});\n",
              "          if (!dataTable) return;\n",
              "\n",
              "          const docLinkHtml = 'Like what you see? Visit the ' +\n",
              "            '<a target=\"_blank\" href=https://colab.research.google.com/notebooks/data_table.ipynb>data table notebook</a>'\n",
              "            + ' to learn more about interactive tables.';\n",
              "          element.innerHTML = '';\n",
              "          dataTable['output_type'] = 'display_data';\n",
              "          await google.colab.output.renderOutput(dataTable, element);\n",
              "          const docLink = document.createElement('div');\n",
              "          docLink.innerHTML = docLinkHtml;\n",
              "          element.appendChild(docLink);\n",
              "        }\n",
              "      </script>\n",
              "    </div>\n",
              "  </div>\n",
              "  "
            ]
          },
          "metadata": {},
          "execution_count": 21
        }
      ]
    },
    {
      "cell_type": "code",
      "source": [
        "#@title \n",
        "sns.catplot(data=df1,x='retweet',y='percent',hue='sentiment',palette=['r','g'],kind=\"bar\",aspect=1.5)\n",
        "plt.title('DISTRIBUZIONE DEI SENTIMENTI DEI TWEET IN BASE AL NUMERO DI RETWEET ') \n",
        "\n",
        "print()"
      ],
      "metadata": {
        "outputId": "284da40b-4534-4131-f205-02893bfbd9cf",
        "colab": {
          "base_uri": "https://localhost:8080/",
          "height": 403
        },
        "id": "tof2q9r3i2kv",
        "cellView": "form"
      },
      "execution_count": null,
      "outputs": [
        {
          "output_type": "stream",
          "name": "stdout",
          "text": [
            "\n"
          ]
        },
        {
          "output_type": "display_data",
          "data": {
            "text/plain": [
              "<Figure size 619.75x360 with 1 Axes>"
            ],
            "image/png": "[encoded data removed]"
          },
          "metadata": {
            "needs_background": "light"
          }
        }
      ]
    },
    {
      "cell_type": "markdown",
      "source": [
        "Osservando il medesimo grafico, stavolta indicante le emozioni, si comprende che il primo e il quarto quartile, che sembravano molto simili, hanno in realtà delle differenze: il primo ha altissime percentuali di tweet manifestanti rabbia, vicine al 60%, mentre quelli manifestanti gioia non arrivano al 20%; il quarto ha percentuali simili tra loro per rabbia e gioia, 30% e 28%,  i tweet manifestanti tristezza invece si attestano per poco al di sotto del 40%, mentre i corrispettivi del primo quartile non arrivano al 15%. Si può riassumere quindi che pur essendo entrambi spostati verso sentimenti negativi, la composizione dei due quartili sia sostanzialmente diversa.\n"
      ],
      "metadata": {
        "id": "lPI831uVz9dY"
      }
    },
    {
      "cell_type": "code",
      "source": [
        "#@title \n",
        "sns.catplot(data=df1,x='retweet',y='percent',hue='emotion',kind='bar', dodge=True,palette=[\"b\",\"y\",\"r\",\"g\"],height=6)\n",
        "plt.title('DISTRIBUZIONE DELLE EMOZIONI DEI TWEET IN BASE AL NUMERO DI RETWEET ') \n",
        "print()"
      ],
      "metadata": {
        "outputId": "41ce6908-77ce-47f4-942e-1cfa7356d1e9",
        "colab": {
          "base_uri": "https://localhost:8080/",
          "height": 475
        },
        "id": "x18273CBAhf7",
        "cellView": "form"
      },
      "execution_count": null,
      "outputs": [
        {
          "output_type": "stream",
          "name": "stdout",
          "text": [
            "\n"
          ]
        },
        {
          "output_type": "display_data",
          "data": {
            "text/plain": [
              "<Figure size 508.75x432 with 1 Axes>"
            ],
            "image/png": "[encoded data removed]"
          },
          "metadata": {
            "needs_background": "light"
          }
        }
      ]
    },
    {
      "cell_type": "markdown",
      "source": [
        "### **Risultati comparati: Numero di followers e di retweets**\n",
        "Per mettere in relazione le due variabili “followers” e “retweet”, è stato prodotto un violin plot; gli spunti che fornisce sono molteplici: Dal grafico si apprende innanzitutto un’informazione controintuitiva, non sono gli utenti con più followers a ricevere più retweet. Tra i vari utenti, quelli appartenenti all’ultimo quartile sono quelli con il picco di retweet più basso, mentre il più alto è raggiunto dagli utenti del primo quartile. Si può osservare inoltre una tendenza generale, non influenzata dal sentimento espresso dal tweet e nemmeno dal numero di follower: la maggior parte dei tweet ha un numero estremamente basso di retweet, vicino allo zero; questo sta ad indicare il fatto che raramente questi tweet diventano virali, limitando il raggio d’azione ad una nicchia di utenti. Un’altra tendenza che si nota è quella per cui i tweet associati a sentimenti positivi si distribuiscono maggiormente rispetto a quelli negativi nell’intervallo di retweet che va dai 20-25 retweet ai 100-120, mentre i picchi di retweet sono raggiunti esclusivamente da tweet associati a sentimenti negativi, evidenziando la maggiore facilità che questi hanno nel essere condivisi.\n"
      ],
      "metadata": {
        "id": "y1gKIrAn1SNC"
      }
    },
    {
      "cell_type": "code",
      "source": [
        "#@title \n",
        "sns.violinplot(data=datacomb,x=\"followers\",y=\"retweet_count\",hue=\"sentiment\",split='True',palette=[\"r\",\"g\"],inner=\"quartile\", width=1,linewidth=0.2,order=[\"(Q1) 0-168\",\"(Q2) 169-497\",\"(Q3) 498-1483\",\"(Q4) 1484-3413809\"])\n",
        "plt.title('DISTRIBUZIONE DEL NUMERO DI RETWEET IN BASE AL NUMERO DI FOLLOWER E AL SENTIMENTO ESPRESSO ')\n",
        "plt.xticks(rotation=45)\n",
        "print()\n",
        "#sistemare ordine asse x"
      ],
      "metadata": {
        "colab": {
          "base_uri": "https://localhost:8080/",
          "height": 379
        },
        "id": "ZDWzrYDi1gZC",
        "outputId": "0ece7c30-5992-468f-c5c3-11a42c8e6197",
        "cellView": "form"
      },
      "execution_count": null,
      "outputs": [
        {
          "output_type": "stream",
          "name": "stdout",
          "text": [
            "\n"
          ]
        },
        {
          "output_type": "display_data",
          "data": {
            "text/plain": [
              "<Figure size 432x288 with 1 Axes>"
            ],
            "image/png": "[encoded data removed]"
          },
          "metadata": {
            "needs_background": "light"
          }
        }
      ]
    },
    {
      "cell_type": "markdown",
      "source": [
        "### **Sesta variabile: Numero di tweet**\n",
        "Un ulteriore aspetto interessante riguarda l’eventuale cambiamento derivante dall’attività degli utenti, ovvero dal numero di loro tweet presenti tra quelli raccolti. Si è proceduto raggruppando gli utenti in base al  numero di tweet prodotti; arrivando a produrre due datasets: Uno indicante il numero di tweet prodotti da ciascun utente e i relativi sentimenti, l'altro con la medesima funzione ma indicante le emozioni. di seguito sono riportati due esempi."
      ],
      "metadata": {
        "id": "_e65MX_Vs_cn"
      }
    },
    {
      "cell_type": "code",
      "source": [
        "#@title \n",
        "datanum.iloc[[589]]"
      ],
      "metadata": {
        "id": "0AEptEvv8Xkd",
        "outputId": "08ee0191-25fc-4465-e1d7-8e2165930ac8",
        "colab": {
          "base_uri": "https://localhost:8080/",
          "height": 81
        },
        "cellView": "form"
      },
      "execution_count": null,
      "outputs": [
        {
          "output_type": "execute_result",
          "data": {
            "text/plain": [
              "                name  numtweet  negative  positive\n",
              "589  Valerio Doriano         4       3.0       1.0"
            ],
            "text/html": [
              "\n",
              "  <div id=\"df-772701f1-7384-4ec8-8fc4-ab4e183bb194\">\n",
              "    <div class=\"colab-df-container\">\n",
              "      <div>\n",
              "<style scoped>\n",
              "    .dataframe tbody tr th:only-of-type {\n",
              "        vertical-align: middle;\n",
              "    }\n",
              "\n",
              "    .dataframe tbody tr th {\n",
              "        vertical-align: top;\n",
              "    }\n",
              "\n",
              "    .dataframe thead th {\n",
              "        text-align: right;\n",
              "    }\n",
              "</style>\n",
              "<table border=\"1\" class=\"dataframe\">\n",
              "  <thead>\n",
              "    <tr style=\"text-align: right;\">\n",
              "      <th></th>\n",
              "      <th>name</th>\n",
              "      <th>numtweet</th>\n",
              "      <th>negative</th>\n",
              "      <th>positive</th>\n",
              "    </tr>\n",
              "  </thead>\n",
              "  <tbody>\n",
              "    <tr>\n",
              "      <th>589</th>\n",
              "      <td>Valerio Doriano</td>\n",
              "      <td>4</td>\n",
              "      <td>3.0</td>\n",
              "      <td>1.0</td>\n",
              "    </tr>\n",
              "  </tbody>\n",
              "</table>\n",
              "</div>\n",
              "      <button class=\"colab-df-convert\" onclick=\"convertToInteractive('df-772701f1-7384-4ec8-8fc4-ab4e183bb194')\"\n",
              "              title=\"Convert this dataframe to an interactive table.\"\n",
              "              style=\"display:none;\">\n",
              "        \n",
              "  <svg xmlns=\"http://www.w3.org/2000/svg\" height=\"24px\"viewBox=\"0 0 24 24\"\n",
              "       width=\"24px\">\n",
              "    <path d=\"M0 0h24v24H0V0z\" fill=\"none\"/>\n",
              "    <path d=\"M18.56 5.44l.94 2.06.94-2.06 2.06-.94-2.06-.94-.94-2.06-.94 2.06-2.06.94zm-11 1L8.5 8.5l.94-2.06 2.06-.94-2.06-.94L8.5 2.5l-.94 2.06-2.06.94zm10 10l.94 2.06.94-2.06 2.06-.94-2.06-.94-.94-2.06-.94 2.06-2.06.94z\"/><path d=\"M17.41 7.96l-1.37-1.37c-.4-.4-.92-.59-1.43-.59-.52 0-1.04.2-1.43.59L10.3 9.45l-7.72 7.72c-.78.78-.78 2.05 0 2.83L4 21.41c.39.39.9.59 1.41.59.51 0 1.02-.2 1.41-.59l7.78-7.78 2.81-2.81c.8-.78.8-2.07 0-2.86zM5.41 20L4 18.59l7.72-7.72 1.47 1.35L5.41 20z\"/>\n",
              "  </svg>\n",
              "      </button>\n",
              "      \n",
              "  <style>\n",
              "    .colab-df-container {\n",
              "      display:flex;\n",
              "      flex-wrap:wrap;\n",
              "      gap: 12px;\n",
              "    }\n",
              "\n",
              "    .colab-df-convert {\n",
              "      background-color: #E8F0FE;\n",
              "      border: none;\n",
              "      border-radius: 50%;\n",
              "      cursor: pointer;\n",
              "      display: none;\n",
              "      fill: #1967D2;\n",
              "      height: 32px;\n",
              "      padding: 0 0 0 0;\n",
              "      width: 32px;\n",
              "    }\n",
              "\n",
              "    .colab-df-convert:hover {\n",
              "      background-color: #E2EBFA;\n",
              "      box-shadow: 0px 1px 2px rgba(60, 64, 67, 0.3), 0px 1px 3px 1px rgba(60, 64, 67, 0.15);\n",
              "      fill: #174EA6;\n",
              "    }\n",
              "\n",
              "    [theme=dark] .colab-df-convert {\n",
              "      background-color: #3B4455;\n",
              "      fill: #D2E3FC;\n",
              "    }\n",
              "\n",
              "    [theme=dark] .colab-df-convert:hover {\n",
              "      background-color: #434B5C;\n",
              "      box-shadow: 0px 1px 3px 1px rgba(0, 0, 0, 0.15);\n",
              "      filter: drop-shadow(0px 1px 2px rgba(0, 0, 0, 0.3));\n",
              "      fill: #FFFFFF;\n",
              "    }\n",
              "  </style>\n",
              "\n",
              "      <script>\n",
              "        const buttonEl =\n",
              "          document.querySelector('#df-772701f1-7384-4ec8-8fc4-ab4e183bb194 button.colab-df-convert');\n",
              "        buttonEl.style.display =\n",
              "          google.colab.kernel.accessAllowed ? 'block' : 'none';\n",
              "\n",
              "        async function convertToInteractive(key) {\n",
              "          const element = document.querySelector('#df-772701f1-7384-4ec8-8fc4-ab4e183bb194');\n",
              "          const dataTable =\n",
              "            await google.colab.kernel.invokeFunction('convertToInteractive',\n",
              "                                                     [key], {});\n",
              "          if (!dataTable) return;\n",
              "\n",
              "          const docLinkHtml = 'Like what you see? Visit the ' +\n",
              "            '<a target=\"_blank\" href=https://colab.research.google.com/notebooks/data_table.ipynb>data table notebook</a>'\n",
              "            + ' to learn more about interactive tables.';\n",
              "          element.innerHTML = '';\n",
              "          dataTable['output_type'] = 'display_data';\n",
              "          await google.colab.output.renderOutput(dataTable, element);\n",
              "          const docLink = document.createElement('div');\n",
              "          docLink.innerHTML = docLinkHtml;\n",
              "          element.appendChild(docLink);\n",
              "        }\n",
              "      </script>\n",
              "    </div>\n",
              "  </div>\n",
              "  "
            ]
          },
          "metadata": {},
          "execution_count": 32
        }
      ]
    },
    {
      "cell_type": "code",
      "source": [
        "#@title\n",
        "datanum2.iloc[[1000]]"
      ],
      "metadata": {
        "colab": {
          "base_uri": "https://localhost:8080/",
          "height": 81
        },
        "outputId": "4d2eb601-b9c5-4bba-d696-142e36ad403b",
        "cellView": "form",
        "id": "h4QDrISs9kc0"
      },
      "execution_count": null,
      "outputs": [
        {
          "output_type": "execute_result",
          "data": {
            "text/plain": [
              "                name  numtweet  anger  fear  joy  sadness\n",
              "1000  Pietro Seritti         7    0.0   2.0  4.0      1.0"
            ],
            "text/html": [
              "\n",
              "  <div id=\"df-4ca2013b-a49c-4dbe-afa2-b224e1cdd472\">\n",
              "    <div class=\"colab-df-container\">\n",
              "      <div>\n",
              "<style scoped>\n",
              "    .dataframe tbody tr th:only-of-type {\n",
              "        vertical-align: middle;\n",
              "    }\n",
              "\n",
              "    .dataframe tbody tr th {\n",
              "        vertical-align: top;\n",
              "    }\n",
              "\n",
              "    .dataframe thead th {\n",
              "        text-align: right;\n",
              "    }\n",
              "</style>\n",
              "<table border=\"1\" class=\"dataframe\">\n",
              "  <thead>\n",
              "    <tr style=\"text-align: right;\">\n",
              "      <th></th>\n",
              "      <th>name</th>\n",
              "      <th>numtweet</th>\n",
              "      <th>anger</th>\n",
              "      <th>fear</th>\n",
              "      <th>joy</th>\n",
              "      <th>sadness</th>\n",
              "    </tr>\n",
              "  </thead>\n",
              "  <tbody>\n",
              "    <tr>\n",
              "      <th>1000</th>\n",
              "      <td>Pietro Seritti</td>\n",
              "      <td>7</td>\n",
              "      <td>0.0</td>\n",
              "      <td>2.0</td>\n",
              "      <td>4.0</td>\n",
              "      <td>1.0</td>\n",
              "    </tr>\n",
              "  </tbody>\n",
              "</table>\n",
              "</div>\n",
              "      <button class=\"colab-df-convert\" onclick=\"convertToInteractive('df-4ca2013b-a49c-4dbe-afa2-b224e1cdd472')\"\n",
              "              title=\"Convert this dataframe to an interactive table.\"\n",
              "              style=\"display:none;\">\n",
              "        \n",
              "  <svg xmlns=\"http://www.w3.org/2000/svg\" height=\"24px\"viewBox=\"0 0 24 24\"\n",
              "       width=\"24px\">\n",
              "    <path d=\"M0 0h24v24H0V0z\" fill=\"none\"/>\n",
              "    <path d=\"M18.56 5.44l.94 2.06.94-2.06 2.06-.94-2.06-.94-.94-2.06-.94 2.06-2.06.94zm-11 1L8.5 8.5l.94-2.06 2.06-.94-2.06-.94L8.5 2.5l-.94 2.06-2.06.94zm10 10l.94 2.06.94-2.06 2.06-.94-2.06-.94-.94-2.06-.94 2.06-2.06.94z\"/><path d=\"M17.41 7.96l-1.37-1.37c-.4-.4-.92-.59-1.43-.59-.52 0-1.04.2-1.43.59L10.3 9.45l-7.72 7.72c-.78.78-.78 2.05 0 2.83L4 21.41c.39.39.9.59 1.41.59.51 0 1.02-.2 1.41-.59l7.78-7.78 2.81-2.81c.8-.78.8-2.07 0-2.86zM5.41 20L4 18.59l7.72-7.72 1.47 1.35L5.41 20z\"/>\n",
              "  </svg>\n",
              "      </button>\n",
              "      \n",
              "  <style>\n",
              "    .colab-df-container {\n",
              "      display:flex;\n",
              "      flex-wrap:wrap;\n",
              "      gap: 12px;\n",
              "    }\n",
              "\n",
              "    .colab-df-convert {\n",
              "      background-color: #E8F0FE;\n",
              "      border: none;\n",
              "      border-radius: 50%;\n",
              "      cursor: pointer;\n",
              "      display: none;\n",
              "      fill: #1967D2;\n",
              "      height: 32px;\n",
              "      padding: 0 0 0 0;\n",
              "      width: 32px;\n",
              "    }\n",
              "\n",
              "    .colab-df-convert:hover {\n",
              "      background-color: #E2EBFA;\n",
              "      box-shadow: 0px 1px 2px rgba(60, 64, 67, 0.3), 0px 1px 3px 1px rgba(60, 64, 67, 0.15);\n",
              "      fill: #174EA6;\n",
              "    }\n",
              "\n",
              "    [theme=dark] .colab-df-convert {\n",
              "      background-color: #3B4455;\n",
              "      fill: #D2E3FC;\n",
              "    }\n",
              "\n",
              "    [theme=dark] .colab-df-convert:hover {\n",
              "      background-color: #434B5C;\n",
              "      box-shadow: 0px 1px 3px 1px rgba(0, 0, 0, 0.15);\n",
              "      filter: drop-shadow(0px 1px 2px rgba(0, 0, 0, 0.3));\n",
              "      fill: #FFFFFF;\n",
              "    }\n",
              "  </style>\n",
              "\n",
              "      <script>\n",
              "        const buttonEl =\n",
              "          document.querySelector('#df-4ca2013b-a49c-4dbe-afa2-b224e1cdd472 button.colab-df-convert');\n",
              "        buttonEl.style.display =\n",
              "          google.colab.kernel.accessAllowed ? 'block' : 'none';\n",
              "\n",
              "        async function convertToInteractive(key) {\n",
              "          const element = document.querySelector('#df-4ca2013b-a49c-4dbe-afa2-b224e1cdd472');\n",
              "          const dataTable =\n",
              "            await google.colab.kernel.invokeFunction('convertToInteractive',\n",
              "                                                     [key], {});\n",
              "          if (!dataTable) return;\n",
              "\n",
              "          const docLinkHtml = 'Like what you see? Visit the ' +\n",
              "            '<a target=\"_blank\" href=https://colab.research.google.com/notebooks/data_table.ipynb>data table notebook</a>'\n",
              "            + ' to learn more about interactive tables.';\n",
              "          element.innerHTML = '';\n",
              "          dataTable['output_type'] = 'display_data';\n",
              "          await google.colab.output.renderOutput(dataTable, element);\n",
              "          const docLink = document.createElement('div');\n",
              "          docLink.innerHTML = docLinkHtml;\n",
              "          element.appendChild(docLink);\n",
              "        }\n",
              "      </script>\n",
              "    </div>\n",
              "  </div>\n",
              "  "
            ]
          },
          "metadata": {},
          "execution_count": 34
        }
      ]
    },
    {
      "cell_type": "markdown",
      "source": [
        "Si è poi scoperto che la metà degli utenti aveva prodotto soltanto un tweet, viene qui riportata la distribuzione percentuale del numero di tweet per utente."
      ],
      "metadata": {
        "id": "BOknjIoP81LK"
      }
    },
    {
      "cell_type": "code",
      "source": [
        "#@title \n",
        "decili=pd.DataFrame(datanum['numtweet'].quantile(np.linspace(0.0,1.0,num=9)))\n",
        "decili\n",
        "# circa la metà degli utenti ha fatto un solo tweet, ma non confonderti perchè la maggior parte dei tweet sono fattida utenti che ne hanno fatti più di uno\n",
        "#questo df è importante "
      ],
      "metadata": {
        "outputId": "7d343a80-9f49-427b-d8d6-f4bbbdc629d0",
        "colab": {
          "base_uri": "https://localhost:8080/",
          "height": 332
        },
        "id": "KBzn7JMi-C4F",
        "cellView": "form"
      },
      "execution_count": null,
      "outputs": [
        {
          "output_type": "execute_result",
          "data": {
            "text/plain": [
              "       numtweet\n",
              "0.000       1.0\n",
              "0.125       1.0\n",
              "0.250       1.0\n",
              "0.375       1.0\n",
              "0.500       1.0\n",
              "0.625       2.0\n",
              "0.750       4.0\n",
              "0.875       7.0\n",
              "1.000     135.0"
            ],
            "text/html": [
              "\n",
              "  <div id=\"df-08b1c2dd-70c6-45d4-9f97-5db332ceb0f6\">\n",
              "    <div class=\"colab-df-container\">\n",
              "      <div>\n",
              "<style scoped>\n",
              "    .dataframe tbody tr th:only-of-type {\n",
              "        vertical-align: middle;\n",
              "    }\n",
              "\n",
              "    .dataframe tbody tr th {\n",
              "        vertical-align: top;\n",
              "    }\n",
              "\n",
              "    .dataframe thead th {\n",
              "        text-align: right;\n",
              "    }\n",
              "</style>\n",
              "<table border=\"1\" class=\"dataframe\">\n",
              "  <thead>\n",
              "    <tr style=\"text-align: right;\">\n",
              "      <th></th>\n",
              "      <th>numtweet</th>\n",
              "    </tr>\n",
              "  </thead>\n",
              "  <tbody>\n",
              "    <tr>\n",
              "      <th>0.000</th>\n",
              "      <td>1.0</td>\n",
              "    </tr>\n",
              "    <tr>\n",
              "      <th>0.125</th>\n",
              "      <td>1.0</td>\n",
              "    </tr>\n",
              "    <tr>\n",
              "      <th>0.250</th>\n",
              "      <td>1.0</td>\n",
              "    </tr>\n",
              "    <tr>\n",
              "      <th>0.375</th>\n",
              "      <td>1.0</td>\n",
              "    </tr>\n",
              "    <tr>\n",
              "      <th>0.500</th>\n",
              "      <td>1.0</td>\n",
              "    </tr>\n",
              "    <tr>\n",
              "      <th>0.625</th>\n",
              "      <td>2.0</td>\n",
              "    </tr>\n",
              "    <tr>\n",
              "      <th>0.750</th>\n",
              "      <td>4.0</td>\n",
              "    </tr>\n",
              "    <tr>\n",
              "      <th>0.875</th>\n",
              "      <td>7.0</td>\n",
              "    </tr>\n",
              "    <tr>\n",
              "      <th>1.000</th>\n",
              "      <td>135.0</td>\n",
              "    </tr>\n",
              "  </tbody>\n",
              "</table>\n",
              "</div>\n",
              "      <button class=\"colab-df-convert\" onclick=\"convertToInteractive('df-08b1c2dd-70c6-45d4-9f97-5db332ceb0f6')\"\n",
              "              title=\"Convert this dataframe to an interactive table.\"\n",
              "              style=\"display:none;\">\n",
              "        \n",
              "  <svg xmlns=\"http://www.w3.org/2000/svg\" height=\"24px\"viewBox=\"0 0 24 24\"\n",
              "       width=\"24px\">\n",
              "    <path d=\"M0 0h24v24H0V0z\" fill=\"none\"/>\n",
              "    <path d=\"M18.56 5.44l.94 2.06.94-2.06 2.06-.94-2.06-.94-.94-2.06-.94 2.06-2.06.94zm-11 1L8.5 8.5l.94-2.06 2.06-.94-2.06-.94L8.5 2.5l-.94 2.06-2.06.94zm10 10l.94 2.06.94-2.06 2.06-.94-2.06-.94-.94-2.06-.94 2.06-2.06.94z\"/><path d=\"M17.41 7.96l-1.37-1.37c-.4-.4-.92-.59-1.43-.59-.52 0-1.04.2-1.43.59L10.3 9.45l-7.72 7.72c-.78.78-.78 2.05 0 2.83L4 21.41c.39.39.9.59 1.41.59.51 0 1.02-.2 1.41-.59l7.78-7.78 2.81-2.81c.8-.78.8-2.07 0-2.86zM5.41 20L4 18.59l7.72-7.72 1.47 1.35L5.41 20z\"/>\n",
              "  </svg>\n",
              "      </button>\n",
              "      \n",
              "  <style>\n",
              "    .colab-df-container {\n",
              "      display:flex;\n",
              "      flex-wrap:wrap;\n",
              "      gap: 12px;\n",
              "    }\n",
              "\n",
              "    .colab-df-convert {\n",
              "      background-color: #E8F0FE;\n",
              "      border: none;\n",
              "      border-radius: 50%;\n",
              "      cursor: pointer;\n",
              "      display: none;\n",
              "      fill: #1967D2;\n",
              "      height: 32px;\n",
              "      padding: 0 0 0 0;\n",
              "      width: 32px;\n",
              "    }\n",
              "\n",
              "    .colab-df-convert:hover {\n",
              "      background-color: #E2EBFA;\n",
              "      box-shadow: 0px 1px 2px rgba(60, 64, 67, 0.3), 0px 1px 3px 1px rgba(60, 64, 67, 0.15);\n",
              "      fill: #174EA6;\n",
              "    }\n",
              "\n",
              "    [theme=dark] .colab-df-convert {\n",
              "      background-color: #3B4455;\n",
              "      fill: #D2E3FC;\n",
              "    }\n",
              "\n",
              "    [theme=dark] .colab-df-convert:hover {\n",
              "      background-color: #434B5C;\n",
              "      box-shadow: 0px 1px 3px 1px rgba(0, 0, 0, 0.15);\n",
              "      filter: drop-shadow(0px 1px 2px rgba(0, 0, 0, 0.3));\n",
              "      fill: #FFFFFF;\n",
              "    }\n",
              "  </style>\n",
              "\n",
              "      <script>\n",
              "        const buttonEl =\n",
              "          document.querySelector('#df-08b1c2dd-70c6-45d4-9f97-5db332ceb0f6 button.colab-df-convert');\n",
              "        buttonEl.style.display =\n",
              "          google.colab.kernel.accessAllowed ? 'block' : 'none';\n",
              "\n",
              "        async function convertToInteractive(key) {\n",
              "          const element = document.querySelector('#df-08b1c2dd-70c6-45d4-9f97-5db332ceb0f6');\n",
              "          const dataTable =\n",
              "            await google.colab.kernel.invokeFunction('convertToInteractive',\n",
              "                                                     [key], {});\n",
              "          if (!dataTable) return;\n",
              "\n",
              "          const docLinkHtml = 'Like what you see? Visit the ' +\n",
              "            '<a target=\"_blank\" href=https://colab.research.google.com/notebooks/data_table.ipynb>data table notebook</a>'\n",
              "            + ' to learn more about interactive tables.';\n",
              "          element.innerHTML = '';\n",
              "          dataTable['output_type'] = 'display_data';\n",
              "          await google.colab.output.renderOutput(dataTable, element);\n",
              "          const docLink = document.createElement('div');\n",
              "          docLink.innerHTML = docLinkHtml;\n",
              "          element.appendChild(docLink);\n",
              "        }\n",
              "      </script>\n",
              "    </div>\n",
              "  </div>\n",
              "  "
            ]
          },
          "metadata": {},
          "execution_count": 28
        }
      ]
    },
    {
      "cell_type": "markdown",
      "source": [
        "Si è così deciso di suddividere gli utenti in due classi: una composta da chi aveva prodotto un solo tweet, l’altra dagli utenti più attivi. Dai grafici prodotti sì è giunti alle seguenti conclusioni: i tweet della seconda classe hanno percentuali molto simili a quelle viste nell’analisi preliminare, quelli della prima classe invece, hanno percentuali maggiori di sentimenti ed emozioni negativi. "
      ],
      "metadata": {
        "id": "wsP1K2u38F6J"
      }
    },
    {
      "cell_type": "code",
      "source": [
        "#@title \n",
        "sns.catplot(data=df1,x='sentiment',y='percent',kind='bar', dodge=True, palette=[\"r\",\"g\"],col=\"tweet_prodotti\",aspect=.7)\n",
        " \n",
        "print()\n",
        "\n"
      ],
      "metadata": {
        "colab": {
          "base_uri": "https://localhost:8080/",
          "height": 387
        },
        "outputId": "23fb95da-47f2-4ba4-9c2f-d0aa5ef324b3",
        "id": "DlfxYJVmUCFM",
        "cellView": "form"
      },
      "execution_count": null,
      "outputs": [
        {
          "output_type": "stream",
          "name": "stdout",
          "text": [
            "\n"
          ]
        },
        {
          "output_type": "display_data",
          "data": {
            "text/plain": [
              "<Figure size 504x360 with 2 Axes>"
            ],
            "image/png": "[encoded data removed]"
          },
          "metadata": {
            "needs_background": "light"
          }
        }
      ]
    },
    {
      "cell_type": "code",
      "source": [
        "#@title\n",
        "sns.catplot(data=df1,x='sentiment',y='percent',kind='bar', dodge=True, palette=[\"r\",\"y\",\"g\",\"b\"],col=\"tweet_prodotti\",aspect=.7)\n",
        " \n",
        "print()\n",
        "\n"
      ],
      "metadata": {
        "colab": {
          "base_uri": "https://localhost:8080/",
          "height": 387
        },
        "outputId": "3a4eb098-4f4d-4ffe-fb18-56bc86148f10",
        "id": "Rmx4lNW7q5oH",
        "cellView": "form"
      },
      "execution_count": null,
      "outputs": [
        {
          "output_type": "stream",
          "name": "stdout",
          "text": [
            "\n"
          ]
        },
        {
          "output_type": "display_data",
          "data": {
            "text/plain": [
              "<Figure size 504x360 with 2 Axes>"
            ],
            "image/png": "[encoded data removed]"
          },
          "metadata": {
            "needs_background": "light"
          }
        }
      ]
    },
    {
      "cell_type": "markdown",
      "source": [
        "Dati i risultati ottenuti, si è deciso di indagare la composizione degli utenti che avevano twittato un'unica volta. È stato prodotto un dataset indicante il numero di tweet prodotti dall'utente e il suo numero di followers, di seguito viene riportato un esempio."
      ],
      "metadata": {
        "id": "iDd8RdkzpkXt"
      }
    },
    {
      "cell_type": "code",
      "source": [
        "#@title \n",
        "datanumcomb.iloc[[5]]"
      ],
      "metadata": {
        "id": "DohzEQbKqSDl",
        "outputId": "302c25a8-ec48-4f4e-e29a-a8bd749cc1bf",
        "colab": {
          "base_uri": "https://localhost:8080/",
          "height": 81
        },
        "cellView": "form"
      },
      "execution_count": null,
      "outputs": [
        {
          "output_type": "execute_result",
          "data": {
            "text/plain": [
              "             name    followers  numtweet  negative  positive\n",
              "5  💛❤️🐺SMarco🐺💛❤️  (P2) 38-131         1       1.0       0.0"
            ],
            "text/html": [
              "\n",
              "  <div id=\"df-0c51ef14-f0fb-4662-b418-592d723cb118\">\n",
              "    <div class=\"colab-df-container\">\n",
              "      <div>\n",
              "<style scoped>\n",
              "    .dataframe tbody tr th:only-of-type {\n",
              "        vertical-align: middle;\n",
              "    }\n",
              "\n",
              "    .dataframe tbody tr th {\n",
              "        vertical-align: top;\n",
              "    }\n",
              "\n",
              "    .dataframe thead th {\n",
              "        text-align: right;\n",
              "    }\n",
              "</style>\n",
              "<table border=\"1\" class=\"dataframe\">\n",
              "  <thead>\n",
              "    <tr style=\"text-align: right;\">\n",
              "      <th></th>\n",
              "      <th>name</th>\n",
              "      <th>followers</th>\n",
              "      <th>numtweet</th>\n",
              "      <th>negative</th>\n",
              "      <th>positive</th>\n",
              "    </tr>\n",
              "  </thead>\n",
              "  <tbody>\n",
              "    <tr>\n",
              "      <th>5</th>\n",
              "      <td>💛❤️🐺SMarco🐺💛❤️</td>\n",
              "      <td>(P2) 38-131</td>\n",
              "      <td>1</td>\n",
              "      <td>1.0</td>\n",
              "      <td>0.0</td>\n",
              "    </tr>\n",
              "  </tbody>\n",
              "</table>\n",
              "</div>\n",
              "      <button class=\"colab-df-convert\" onclick=\"convertToInteractive('df-0c51ef14-f0fb-4662-b418-592d723cb118')\"\n",
              "              title=\"Convert this dataframe to an interactive table.\"\n",
              "              style=\"display:none;\">\n",
              "        \n",
              "  <svg xmlns=\"http://www.w3.org/2000/svg\" height=\"24px\"viewBox=\"0 0 24 24\"\n",
              "       width=\"24px\">\n",
              "    <path d=\"M0 0h24v24H0V0z\" fill=\"none\"/>\n",
              "    <path d=\"M18.56 5.44l.94 2.06.94-2.06 2.06-.94-2.06-.94-.94-2.06-.94 2.06-2.06.94zm-11 1L8.5 8.5l.94-2.06 2.06-.94-2.06-.94L8.5 2.5l-.94 2.06-2.06.94zm10 10l.94 2.06.94-2.06 2.06-.94-2.06-.94-.94-2.06-.94 2.06-2.06.94z\"/><path d=\"M17.41 7.96l-1.37-1.37c-.4-.4-.92-.59-1.43-.59-.52 0-1.04.2-1.43.59L10.3 9.45l-7.72 7.72c-.78.78-.78 2.05 0 2.83L4 21.41c.39.39.9.59 1.41.59.51 0 1.02-.2 1.41-.59l7.78-7.78 2.81-2.81c.8-.78.8-2.07 0-2.86zM5.41 20L4 18.59l7.72-7.72 1.47 1.35L5.41 20z\"/>\n",
              "  </svg>\n",
              "      </button>\n",
              "      \n",
              "  <style>\n",
              "    .colab-df-container {\n",
              "      display:flex;\n",
              "      flex-wrap:wrap;\n",
              "      gap: 12px;\n",
              "    }\n",
              "\n",
              "    .colab-df-convert {\n",
              "      background-color: #E8F0FE;\n",
              "      border: none;\n",
              "      border-radius: 50%;\n",
              "      cursor: pointer;\n",
              "      display: none;\n",
              "      fill: #1967D2;\n",
              "      height: 32px;\n",
              "      padding: 0 0 0 0;\n",
              "      width: 32px;\n",
              "    }\n",
              "\n",
              "    .colab-df-convert:hover {\n",
              "      background-color: #E2EBFA;\n",
              "      box-shadow: 0px 1px 2px rgba(60, 64, 67, 0.3), 0px 1px 3px 1px rgba(60, 64, 67, 0.15);\n",
              "      fill: #174EA6;\n",
              "    }\n",
              "\n",
              "    [theme=dark] .colab-df-convert {\n",
              "      background-color: #3B4455;\n",
              "      fill: #D2E3FC;\n",
              "    }\n",
              "\n",
              "    [theme=dark] .colab-df-convert:hover {\n",
              "      background-color: #434B5C;\n",
              "      box-shadow: 0px 1px 3px 1px rgba(0, 0, 0, 0.15);\n",
              "      filter: drop-shadow(0px 1px 2px rgba(0, 0, 0, 0.3));\n",
              "      fill: #FFFFFF;\n",
              "    }\n",
              "  </style>\n",
              "\n",
              "      <script>\n",
              "        const buttonEl =\n",
              "          document.querySelector('#df-0c51ef14-f0fb-4662-b418-592d723cb118 button.colab-df-convert');\n",
              "        buttonEl.style.display =\n",
              "          google.colab.kernel.accessAllowed ? 'block' : 'none';\n",
              "\n",
              "        async function convertToInteractive(key) {\n",
              "          const element = document.querySelector('#df-0c51ef14-f0fb-4662-b418-592d723cb118');\n",
              "          const dataTable =\n",
              "            await google.colab.kernel.invokeFunction('convertToInteractive',\n",
              "                                                     [key], {});\n",
              "          if (!dataTable) return;\n",
              "\n",
              "          const docLinkHtml = 'Like what you see? Visit the ' +\n",
              "            '<a target=\"_blank\" href=https://colab.research.google.com/notebooks/data_table.ipynb>data table notebook</a>'\n",
              "            + ' to learn more about interactive tables.';\n",
              "          element.innerHTML = '';\n",
              "          dataTable['output_type'] = 'display_data';\n",
              "          await google.colab.output.renderOutput(dataTable, element);\n",
              "          const docLink = document.createElement('div');\n",
              "          docLink.innerHTML = docLinkHtml;\n",
              "          element.appendChild(docLink);\n",
              "        }\n",
              "      </script>\n",
              "    </div>\n",
              "  </div>\n",
              "  "
            ]
          },
          "metadata": {},
          "execution_count": 61
        }
      ]
    },
    {
      "cell_type": "markdown",
      "source": [
        "Attraverso il seguente grafico si è poi potuto osservare la distribuzione degli utenti produttori di un unico tweet.Il suddetto grafico dimostra l'esistenza di una classe di utenti caratterizzati da pochi followers e bassa partecipazione attiva, che, come è stato precedentemente evidenziato, tendono ad esprimersi con toni più negativi ed aggressivi rispetto alla media."
      ],
      "metadata": {
        "id": "mXu5FnpQsFmL"
      }
    },
    {
      "cell_type": "code",
      "source": [
        "#@title \n",
        "sns.displot(datauno4,x=\"followers\",stat=\"percent\",aspect=1.3,kde=True,alpha=.06)\n",
        "plt.xticks(rotation=45)\n",
        "plt.title(\"DISTRIBUZIONE DEGLI UTENTI PRODUTTORI DI UN UNICO TWEET IN BASE AL NUMERO DI FOLLOWERS\")\n",
        "print()"
      ],
      "metadata": {
        "colab": {
          "base_uri": "https://localhost:8080/",
          "height": 468
        },
        "id": "VRh2F5_YVacv",
        "outputId": "d968722c-e245-41f8-ab5b-c386bd4f8430",
        "cellView": "form"
      },
      "execution_count": null,
      "outputs": [
        {
          "output_type": "stream",
          "name": "stdout",
          "text": [
            "\n"
          ]
        },
        {
          "output_type": "display_data",
          "data": {
            "text/plain": [
              "<Figure size 468x360 with 1 Axes>"
            ],
            "image/png": "[encoded data removed]"
          },
          "metadata": {
            "needs_background": "light"
          }
        }
      ]
    }
  ]
}