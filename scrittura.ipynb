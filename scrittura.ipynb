{
  "nbformat": 4,
  "nbformat_minor": 0,
  "metadata": {
    "colab": {
      "name": "scrittura.ipynb",
      "provenance": [],
      "authorship_tag": "ABX9TyODUnQblmQDR8CPBmyeYS0i",
      "include_colab_link": true
    },
    "kernelspec": {
      "name": "python3",
      "display_name": "Python 3"
    },
    "language_info": {
      "name": "python"
    }
  },
  "cells": [
    {
      "cell_type": "markdown",
      "metadata": {
        "id": "view-in-github",
        "colab_type": "text"
      },
      "source": [
        "<a href=\"https://colab.research.google.com/github/paolofesta/prove/blob/master/scrittura.ipynb\" target=\"_parent\"><img src=\"https://colab.research.google.com/assets/colab-badge.svg\" alt=\"Open In Colab\"/></a>"
      ]
    },
    {
      "cell_type": "markdown",
      "source": [
        "\n",
        "### **Scelta dell’oggetto di studio**\n",
        "La scelta di utilizzare Twitter, raccogliendo tweet da analizzare, è nata da una riflessione svolta con il relatore; dal momento che questo tipo di analisi non era ancora stata affrontata nel mio percorso di studi, l’interesse verso questo tipo di ricerca era elevato, proprio come l’impegno richiesto. Prima ancora di decidere il target della ricerca, era indispensabile conoscere i meccanismi di raccolta dei tweet, per capire cosa si potesse ottenere. In quest’ottica è stato fondamentale il Twitter Developer Portal, tramite esso è stato creato un developer account con accesso elevato, in quanto l’accesso standard comportava limiti eccessivi. Tramite la Dashboard del Developer Portal si poteva avere accesso ai propri progetti e alle proprie app, strumenti essenziali per ottenere accesso alle API di Twitter e quindi per raccogliere i tweet. Queste informazioni e molte altre sono consultabili nella sezione Docs del portale, che si è rivelata strumento utilissimo non solo in questa fase iniziale ma per tutta la durata del progetto. Una volta compreso cosa effettivamente si poteva raccogliere, la concentrazione si è focalizzata sulla scelta dell’oggetto di studio vero e proprio. La scelta è ricaduta sull’analisi dei tweet citanti le tre maggiori sigle sindacali italiane: Cgil, Cisl e Uil. I motivi sono molteplici: Il mutamento del ruolo dei sindacati e la crisi dei tassi di sindacalizzazione è stato un fenomeno riscontrato più volte durante il percorso di studi, suscitando molto interesse; inoltre, in questo modo è stato possibile raccogliere un buon numero di tweets, circa tredicimila, condizione essenziale per poter fare un’analisi valida. L’intento era quello di svolgere una Sentiment Analysis dei tweets raccolti, ovvero identificare sentimenti ed emozioni associati ai tweets, non fermandosi ai dati generali ma andando alla ricerca di variabili in grado di cambiare questa associazione. \n",
        "### **Scelta del linguaggio di programmazione**\n",
        "Le due opzioni prese in considerazione erano Python e R studio, entrambi i linguaggi di programmazione sono stati appresi durante il percorso di studi e sono da considerare come validi strumenti. La scelta è ricaduta su Python per diverse ragioni: innanzitutto, la maggiore diffusione, che porta ad una maggiore quantità di documentazione e ad una più ampia community di utilizzatori, molto utile per risolvere problemi e ricevere chiarimenti; inoltre, perché permette di utilizzare Google Colab, strumento molto comodo e versatile che permette di usare Python dal proprio browser. Per concludere, Python è stato indicato come primo nella top ten dei linguaggi di programmazione più popolari da imparare nel 2020 secondo la Northeastern Univeristy. \n",
        "\n",
        "### **Librerie utilizzate**\n",
        "NumPy è una libreria essenziale di Python, utilizzata per gestire le matrici numeriche (arrays); Pandas è invece una libreria costruita sulla base di quella precedente, che permette di gestire i dataframe, ovvero degli arrays multidimensionali in forma tabellare. Tweepy, permette di avere accesso alle API di twitter per raccogliere diverse tipologie di dati, esistono altre librerie simili, questa è però tra le più utilizzate, essendo indicata anche all’interno del Twitter Developer Portal. re e gensim sono librerie utilizzate per il topic modelling, cioè per processare il testo dei tweet prima di poter iniziare con la sentiment analisys. feel_it è una libreria tramite la quale si può utilizzare un modello che, attraverso un corpus di tweet classificati in base a quattro emozioni basiche(rabbia, paura, gioia, tristezza), permette di inferire sentimenti ed emozioni da tweet in lingua italiana. Infine, matplotlib.pyplot e seaborn, sono librerie utilizzate a fini di visualizzazione, per produrre word clouds e grafici.\n",
        "\n",
        "\n",
        "\n"
      ],
      "metadata": {
        "id": "lr9DOYL8faAz"
      }
    },
    {
      "cell_type": "code",
      "source": [
        "import numpy as np\n",
        "import pandas as pd\n",
        "import tweepy\n",
        "import re\n",
        "import gensim\n",
        "import fell-it\n",
        "import matplotlib.pyplot as plt\n",
        "import seaborn as sns"
      ],
      "metadata": {
        "id": "KdgC5B-XT1lF"
      },
      "execution_count": 27,
      "outputs": []
    },
    {
      "cell_type": "markdown",
      "source": [
        "### **Accesso alle API di Twitter**\n",
        "Tramite la seguente funzione, è stato possibile connettere l'ambiente di lavoro con il Developer account, inserendo le diverse password fornite dal Developer Portal; questo aspetto è stato indispensabile per poter interagire con le API di Twitter."
      ],
      "metadata": {
        "id": "grSqZNx0mNEe"
      }
    },
    {
      "cell_type": "code",
      "source": [
        "def connect_to_twitter_OAuth():\n",
        "    auth = tweepy.OAuthHandler(CONSUMER_KEY, CONSUMER_SECRET)\n",
        "    auth.set_access_token(ACCESS_TOKEN, ACCESS_SECRET)\n",
        "\n",
        "    api = tweepy.API(auth, wait_on_rate_limit=True ,wait_on_rate_limit_notify=True)\n",
        "    return api\n",
        "    \n",
        "api = connect_to_twitter_OAuth()"
      ],
      "metadata": {
        "id": "VWwgj3AcnlGI"
      },
      "execution_count": null,
      "outputs": []
    },
    {
      "cell_type": "markdown",
      "source": [
        "### **Scraping**\n",
        "Sono stati raccolti 13 365 tweets nel cui testo venivano citati i profili delle tre maggiori sigle sindacali italiane: @cgilnazionale, @CislNazionale,@UILofficial. Durante questa fase è stata essenziale la consultazione del Developer Portal di Twitter. Le limitazioni nella raccolta di tweet imposte sono infatti molto stringenti: impongono l'obbligo di poter raccogliere esclusivamente i tweet prodotti nei sette giorni precedenti alla richiesta; a meno che non si voglia raccogliere solo i tweet di uno specifico utente, in questo caso si può raccogliere un massimo di 3000 tweets. Le limitazioni non si limitano solo alle sopracitate, esistono anche dei limiti riguardo al numero di tweet raccoglibili in un dato periodo di tempo, per questo è stato necessario utilizzare una funzione in grado di gestirle. La prima funzione riportata di seguito è stata utilizzata per la gestione delle limitazioni. \n",
        "\n",
        "\n",
        "\n",
        "\n"
      ],
      "metadata": {
        "id": "UjenSJ_Xk_aa"
      }
    },
    {
      "cell_type": "code",
      "source": [
        "def limit_handled(cursor):\n",
        "  while True:\n",
        "    try:\n",
        "      yield cursor.next()\n",
        "    except StopIteration:\n",
        "      return\n",
        "    except tweepy.RateLimitError:\n",
        "        time.sleep(15*60)"
      ],
      "metadata": {
        "id": "6WwkVd7kicCQ"
      },
      "execution_count": null,
      "outputs": []
    },
    {
      "cell_type": "markdown",
      "source": [
        "La seguente per la raccolta degli attributi dei tweet.\n"
      ],
      "metadata": {
        "id": "S5nUXTxA8MtK"
      }
    },
    {
      "cell_type": "code",
      "source": [
        "\n",
        "def extract_tweet_attributes(tweet_object):\n",
        "    tweet_list =[]\n",
        "    for tweet in tweet_object:\n",
        "        tweet_id = tweet.id \n",
        "        language= tweet.lang \n",
        "        name= tweet.user.name     \n",
        "        location= tweet.user.location\n",
        "        follower_count= tweet.user.followers_count\n",
        "        verified= tweet.user.verified\n",
        "        text = tweet.full_text \n",
        "        favorite_count = tweet.favorite_count\n",
        "        retweet_count = tweet.retweet_count\n",
        "        created_at = tweet.created_at \n",
        "        source = tweet.source \n",
        "       \n",
        "       \n",
        "        tweet_list.append({'tweet_id':tweet_id,\n",
        "                           'language':language,\n",
        "                          'text':text,\n",
        "                          'name':name,\n",
        "                          'location':location,\n",
        "                          'follower_count':follower_count,\n",
        "                          'verified': verified,\n",
        "                          'favorite_count':favorite_count,\n",
        "                          'retweet_count':retweet_count,\n",
        "                          'created_at':created_at, \n",
        "                          'source':source,})\n",
        "\n",
        "     \n",
        "    df1 = pd.DataFrame(tweet_list, columns=['tweet_id',\n",
        "                                           'text',\n",
        "                                           'language',\n",
        "                                           'name',\n",
        "                                           'follower_count',\n",
        "                                           'verified',\n",
        "                                           'location',    \n",
        "                                           'favorite_count',\n",
        "                                           'retweet_count',\n",
        "                                           'created_at',\n",
        "                                           'source'])\n",
        "    return df1\n",
        "\n",
        "\n",
        "df1 = extract_tweet_attributes(pp1)\n"
      ],
      "metadata": {
        "id": "ujBTSGucH__y"
      },
      "execution_count": null,
      "outputs": []
    },
    {
      "cell_type": "markdown",
      "source": [
        "Il numero di tweet si è poi ridotto da 13 365 a 12 560, eliminando i tweet incompatibili con la ricerca; la raccolta è avvenuta in due momenti: in data 12/5/2022 sono stati raccolti i tweet prodotti dal 6/5 al 12/5, In data 23/7/2022 sono stati raccolti i tweet prodotti dal 17/7 al 23/7, per via dei suddetti limiti. Per ogni tweet sono stati raccolti i seguenti attributi: \n",
        "*   L’ID del tweet\n",
        "*   La lingua in cui è stato scritto\n",
        "*   Il testo del tweet\n",
        "*   Il nome dell’utente che l’ha prodotto\n",
        "*   La location( qualora indicata)\n",
        "*   Il numero di follower dell’utente \n",
        "*   Lo status di verificato o meno dell’utente \n",
        "*   Il numero di favourites del tweet\n",
        "*   Il numero di retweet\n",
        "*   L’orario in cui è stato creato \n",
        "*   La fonte\n"
      ],
      "metadata": {
        "id": "3WU6nAKAp8Kb"
      }
    },
    {
      "cell_type": "code",
      "source": [
        "#@title \n",
        "data=pd.read_csv(r'/content/data (1)').drop(\"Unnamed: 0\",axis=1)\n",
        "data.drop(\"sigla\",axis=1)"
      ],
      "metadata": {
        "id": "ucp1ApzpoEE_",
        "colab": {
          "base_uri": "https://localhost:8080/",
          "height": 835
        },
        "outputId": "4ccffa66-4c11-484c-e414-b4ec5fe1fdb7",
        "cellView": "form"
      },
      "execution_count": 35,
      "outputs": [
        {
          "output_type": "execute_result",
          "data": {
            "text/plain": [
              "                  tweet_id                                               text  \\\n",
              "0      1524830657712640010  RT @kastatrof: Imaginez.. à qq heures de route...   \n",
              "1      1524824670125625345  @cgilnazionale Sembra una supercazzola... prem...   \n",
              "2      1524809559851814912  RT @kastatrof: Imaginez.. à qq heures de route...   \n",
              "3      1524804096439492612  🟥SOLO LA PACE\\n@cgilnazionale partecipa all'ac...   \n",
              "4      1524802721789972485  @fpcgil_internaz @fbunational @FpCgilVVF @EPSU...   \n",
              "...                    ...                                                ...   \n",
              "13360  1549297798784458760  @paolo_r_2012 @INL_gov @AndreaOrlandosp @MinLa...   \n",
              "13361  1549296792193441792  RT @UILofficial: La crisi di Governo è un grav...   \n",
              "13362  1549268625386766344  RT @emalombardini: #crisidigoverno , appello a...   \n",
              "13363  1549261964307734533  RT @UILofficial: La crisi di Governo è un grav...   \n",
              "13364  1549228820313640962  RT @GiovaniVenosa: https://t.co/D9DWwsqsKH\\n\\n...   \n",
              "\n",
              "      language                 name  follower_count  verified  \\\n",
              "0           fr              Gandalf             125     False   \n",
              "1           it             Patsy 🇮🇹              36     False   \n",
              "2           fr                  ivy             498     False   \n",
              "3           it  FLC CGIL Roma Lazio            1238     False   \n",
              "4          und        Sven De Guise             281     False   \n",
              "...        ...                  ...             ...       ...   \n",
              "13360       es         Sandra Zampa           12191     False   \n",
              "13361       it      Uiltec Calabria              97     False   \n",
              "13362       it     Loris Cavalletti             914     False   \n",
              "13363       it       Felice Alfonsi             657     False   \n",
              "13364      und          Felice Lioy              57     False   \n",
              "\n",
              "                      location  favorite_count  retweet_count  \\\n",
              "0                          NaN               0              7   \n",
              "1                          NaN               1              0   \n",
              "2                          NaN               0              7   \n",
              "3      Roma, Via Buonarroti 12               0              0   \n",
              "4                      Gelrode               1              0   \n",
              "...                        ...             ...            ...   \n",
              "13360                      NaN               1              1   \n",
              "13361  Lamezia Terme, Calabria               0             16   \n",
              "13362                      NaN               0              3   \n",
              "13363                      NaN               0             16   \n",
              "13364       Venosa, Basilicata               0              4   \n",
              "\n",
              "                created_at               source  \n",
              "0      2022-05-12 19:15:33  Twitter for Android  \n",
              "1      2022-05-12 18:51:45  Twitter for Android  \n",
              "2      2022-05-12 17:51:43  Twitter for Android  \n",
              "3      2022-05-12 17:30:00      Twitter Web App  \n",
              "4      2022-05-12 17:24:32      Twitter Web App  \n",
              "...                    ...                  ...  \n",
              "13360  2022-07-19 07:39:14   Twitter for iPhone  \n",
              "13361  2022-07-19 07:35:14   Twitter for iPhone  \n",
              "13362  2022-07-19 05:43:18   Twitter for iPhone  \n",
              "13363  2022-07-19 05:16:50   Twitter for iPhone  \n",
              "13364  2022-07-19 03:05:08  Twitter for Android  \n",
              "\n",
              "[13365 rows x 11 columns]"
            ],
            "text/html": [
              "\n",
              "  <div id=\"df-bbd63e37-abe5-4a66-9534-175840027349\">\n",
              "    <div class=\"colab-df-container\">\n",
              "      <div>\n",
              "<style scoped>\n",
              "    .dataframe tbody tr th:only-of-type {\n",
              "        vertical-align: middle;\n",
              "    }\n",
              "\n",
              "    .dataframe tbody tr th {\n",
              "        vertical-align: top;\n",
              "    }\n",
              "\n",
              "    .dataframe thead th {\n",
              "        text-align: right;\n",
              "    }\n",
              "</style>\n",
              "<table border=\"1\" class=\"dataframe\">\n",
              "  <thead>\n",
              "    <tr style=\"text-align: right;\">\n",
              "      <th></th>\n",
              "      <th>tweet_id</th>\n",
              "      <th>text</th>\n",
              "      <th>language</th>\n",
              "      <th>name</th>\n",
              "      <th>follower_count</th>\n",
              "      <th>verified</th>\n",
              "      <th>location</th>\n",
              "      <th>favorite_count</th>\n",
              "      <th>retweet_count</th>\n",
              "      <th>created_at</th>\n",
              "      <th>source</th>\n",
              "    </tr>\n",
              "  </thead>\n",
              "  <tbody>\n",
              "    <tr>\n",
              "      <th>0</th>\n",
              "      <td>1524830657712640010</td>\n",
              "      <td>RT @kastatrof: Imaginez.. à qq heures de route...</td>\n",
              "      <td>fr</td>\n",
              "      <td>Gandalf</td>\n",
              "      <td>125</td>\n",
              "      <td>False</td>\n",
              "      <td>NaN</td>\n",
              "      <td>0</td>\n",
              "      <td>7</td>\n",
              "      <td>2022-05-12 19:15:33</td>\n",
              "      <td>Twitter for Android</td>\n",
              "    </tr>\n",
              "    <tr>\n",
              "      <th>1</th>\n",
              "      <td>1524824670125625345</td>\n",
              "      <td>@cgilnazionale Sembra una supercazzola... prem...</td>\n",
              "      <td>it</td>\n",
              "      <td>Patsy 🇮🇹</td>\n",
              "      <td>36</td>\n",
              "      <td>False</td>\n",
              "      <td>NaN</td>\n",
              "      <td>1</td>\n",
              "      <td>0</td>\n",
              "      <td>2022-05-12 18:51:45</td>\n",
              "      <td>Twitter for Android</td>\n",
              "    </tr>\n",
              "    <tr>\n",
              "      <th>2</th>\n",
              "      <td>1524809559851814912</td>\n",
              "      <td>RT @kastatrof: Imaginez.. à qq heures de route...</td>\n",
              "      <td>fr</td>\n",
              "      <td>ivy</td>\n",
              "      <td>498</td>\n",
              "      <td>False</td>\n",
              "      <td>NaN</td>\n",
              "      <td>0</td>\n",
              "      <td>7</td>\n",
              "      <td>2022-05-12 17:51:43</td>\n",
              "      <td>Twitter for Android</td>\n",
              "    </tr>\n",
              "    <tr>\n",
              "      <th>3</th>\n",
              "      <td>1524804096439492612</td>\n",
              "      <td>🟥SOLO LA PACE\\n@cgilnazionale partecipa all'ac...</td>\n",
              "      <td>it</td>\n",
              "      <td>FLC CGIL Roma Lazio</td>\n",
              "      <td>1238</td>\n",
              "      <td>False</td>\n",
              "      <td>Roma, Via Buonarroti 12</td>\n",
              "      <td>0</td>\n",
              "      <td>0</td>\n",
              "      <td>2022-05-12 17:30:00</td>\n",
              "      <td>Twitter Web App</td>\n",
              "    </tr>\n",
              "    <tr>\n",
              "      <th>4</th>\n",
              "      <td>1524802721789972485</td>\n",
              "      <td>@fpcgil_internaz @fbunational @FpCgilVVF @EPSU...</td>\n",
              "      <td>und</td>\n",
              "      <td>Sven De Guise</td>\n",
              "      <td>281</td>\n",
              "      <td>False</td>\n",
              "      <td>Gelrode</td>\n",
              "      <td>1</td>\n",
              "      <td>0</td>\n",
              "      <td>2022-05-12 17:24:32</td>\n",
              "      <td>Twitter Web App</td>\n",
              "    </tr>\n",
              "    <tr>\n",
              "      <th>...</th>\n",
              "      <td>...</td>\n",
              "      <td>...</td>\n",
              "      <td>...</td>\n",
              "      <td>...</td>\n",
              "      <td>...</td>\n",
              "      <td>...</td>\n",
              "      <td>...</td>\n",
              "      <td>...</td>\n",
              "      <td>...</td>\n",
              "      <td>...</td>\n",
              "      <td>...</td>\n",
              "    </tr>\n",
              "    <tr>\n",
              "      <th>13360</th>\n",
              "      <td>1549297798784458760</td>\n",
              "      <td>@paolo_r_2012 @INL_gov @AndreaOrlandosp @MinLa...</td>\n",
              "      <td>es</td>\n",
              "      <td>Sandra Zampa</td>\n",
              "      <td>12191</td>\n",
              "      <td>False</td>\n",
              "      <td>NaN</td>\n",
              "      <td>1</td>\n",
              "      <td>1</td>\n",
              "      <td>2022-07-19 07:39:14</td>\n",
              "      <td>Twitter for iPhone</td>\n",
              "    </tr>\n",
              "    <tr>\n",
              "      <th>13361</th>\n",
              "      <td>1549296792193441792</td>\n",
              "      <td>RT @UILofficial: La crisi di Governo è un grav...</td>\n",
              "      <td>it</td>\n",
              "      <td>Uiltec Calabria</td>\n",
              "      <td>97</td>\n",
              "      <td>False</td>\n",
              "      <td>Lamezia Terme, Calabria</td>\n",
              "      <td>0</td>\n",
              "      <td>16</td>\n",
              "      <td>2022-07-19 07:35:14</td>\n",
              "      <td>Twitter for iPhone</td>\n",
              "    </tr>\n",
              "    <tr>\n",
              "      <th>13362</th>\n",
              "      <td>1549268625386766344</td>\n",
              "      <td>RT @emalombardini: #crisidigoverno , appello a...</td>\n",
              "      <td>it</td>\n",
              "      <td>Loris Cavalletti</td>\n",
              "      <td>914</td>\n",
              "      <td>False</td>\n",
              "      <td>NaN</td>\n",
              "      <td>0</td>\n",
              "      <td>3</td>\n",
              "      <td>2022-07-19 05:43:18</td>\n",
              "      <td>Twitter for iPhone</td>\n",
              "    </tr>\n",
              "    <tr>\n",
              "      <th>13363</th>\n",
              "      <td>1549261964307734533</td>\n",
              "      <td>RT @UILofficial: La crisi di Governo è un grav...</td>\n",
              "      <td>it</td>\n",
              "      <td>Felice Alfonsi</td>\n",
              "      <td>657</td>\n",
              "      <td>False</td>\n",
              "      <td>NaN</td>\n",
              "      <td>0</td>\n",
              "      <td>16</td>\n",
              "      <td>2022-07-19 05:16:50</td>\n",
              "      <td>Twitter for iPhone</td>\n",
              "    </tr>\n",
              "    <tr>\n",
              "      <th>13364</th>\n",
              "      <td>1549228820313640962</td>\n",
              "      <td>RT @GiovaniVenosa: https://t.co/D9DWwsqsKH\\n\\n...</td>\n",
              "      <td>und</td>\n",
              "      <td>Felice Lioy</td>\n",
              "      <td>57</td>\n",
              "      <td>False</td>\n",
              "      <td>Venosa, Basilicata</td>\n",
              "      <td>0</td>\n",
              "      <td>4</td>\n",
              "      <td>2022-07-19 03:05:08</td>\n",
              "      <td>Twitter for Android</td>\n",
              "    </tr>\n",
              "  </tbody>\n",
              "</table>\n",
              "<p>13365 rows × 11 columns</p>\n",
              "</div>\n",
              "      <button class=\"colab-df-convert\" onclick=\"convertToInteractive('df-bbd63e37-abe5-4a66-9534-175840027349')\"\n",
              "              title=\"Convert this dataframe to an interactive table.\"\n",
              "              style=\"display:none;\">\n",
              "        \n",
              "  <svg xmlns=\"http://www.w3.org/2000/svg\" height=\"24px\"viewBox=\"0 0 24 24\"\n",
              "       width=\"24px\">\n",
              "    <path d=\"M0 0h24v24H0V0z\" fill=\"none\"/>\n",
              "    <path d=\"M18.56 5.44l.94 2.06.94-2.06 2.06-.94-2.06-.94-.94-2.06-.94 2.06-2.06.94zm-11 1L8.5 8.5l.94-2.06 2.06-.94-2.06-.94L8.5 2.5l-.94 2.06-2.06.94zm10 10l.94 2.06.94-2.06 2.06-.94-2.06-.94-.94-2.06-.94 2.06-2.06.94z\"/><path d=\"M17.41 7.96l-1.37-1.37c-.4-.4-.92-.59-1.43-.59-.52 0-1.04.2-1.43.59L10.3 9.45l-7.72 7.72c-.78.78-.78 2.05 0 2.83L4 21.41c.39.39.9.59 1.41.59.51 0 1.02-.2 1.41-.59l7.78-7.78 2.81-2.81c.8-.78.8-2.07 0-2.86zM5.41 20L4 18.59l7.72-7.72 1.47 1.35L5.41 20z\"/>\n",
              "  </svg>\n",
              "      </button>\n",
              "      \n",
              "  <style>\n",
              "    .colab-df-container {\n",
              "      display:flex;\n",
              "      flex-wrap:wrap;\n",
              "      gap: 12px;\n",
              "    }\n",
              "\n",
              "    .colab-df-convert {\n",
              "      background-color: #E8F0FE;\n",
              "      border: none;\n",
              "      border-radius: 50%;\n",
              "      cursor: pointer;\n",
              "      display: none;\n",
              "      fill: #1967D2;\n",
              "      height: 32px;\n",
              "      padding: 0 0 0 0;\n",
              "      width: 32px;\n",
              "    }\n",
              "\n",
              "    .colab-df-convert:hover {\n",
              "      background-color: #E2EBFA;\n",
              "      box-shadow: 0px 1px 2px rgba(60, 64, 67, 0.3), 0px 1px 3px 1px rgba(60, 64, 67, 0.15);\n",
              "      fill: #174EA6;\n",
              "    }\n",
              "\n",
              "    [theme=dark] .colab-df-convert {\n",
              "      background-color: #3B4455;\n",
              "      fill: #D2E3FC;\n",
              "    }\n",
              "\n",
              "    [theme=dark] .colab-df-convert:hover {\n",
              "      background-color: #434B5C;\n",
              "      box-shadow: 0px 1px 3px 1px rgba(0, 0, 0, 0.15);\n",
              "      filter: drop-shadow(0px 1px 2px rgba(0, 0, 0, 0.3));\n",
              "      fill: #FFFFFF;\n",
              "    }\n",
              "  </style>\n",
              "\n",
              "      <script>\n",
              "        const buttonEl =\n",
              "          document.querySelector('#df-bbd63e37-abe5-4a66-9534-175840027349 button.colab-df-convert');\n",
              "        buttonEl.style.display =\n",
              "          google.colab.kernel.accessAllowed ? 'block' : 'none';\n",
              "\n",
              "        async function convertToInteractive(key) {\n",
              "          const element = document.querySelector('#df-bbd63e37-abe5-4a66-9534-175840027349');\n",
              "          const dataTable =\n",
              "            await google.colab.kernel.invokeFunction('convertToInteractive',\n",
              "                                                     [key], {});\n",
              "          if (!dataTable) return;\n",
              "\n",
              "          const docLinkHtml = 'Like what you see? Visit the ' +\n",
              "            '<a target=\"_blank\" href=https://colab.research.google.com/notebooks/data_table.ipynb>data table notebook</a>'\n",
              "            + ' to learn more about interactive tables.';\n",
              "          element.innerHTML = '';\n",
              "          dataTable['output_type'] = 'display_data';\n",
              "          await google.colab.output.renderOutput(dataTable, element);\n",
              "          const docLink = document.createElement('div');\n",
              "          docLink.innerHTML = docLinkHtml;\n",
              "          element.appendChild(docLink);\n",
              "        }\n",
              "      </script>\n",
              "    </div>\n",
              "  </div>\n",
              "  "
            ]
          },
          "metadata": {},
          "execution_count": 35
        }
      ]
    },
    {
      "cell_type": "markdown",
      "source": [
        "### **Analisi preliminare**\n",
        "Si è proceduto a creare una variabile, denominata “sigla”, che indicasse a quale sindacato faceva riferimento il tweet; tramite un grafico a barre si è osservato che i tweet si dividono come segue: una percentuale del 66-68% dei tweet fa riferimento al sindacato Cisl, segue Cgil con una percentuale poco sotto al 30%, Uil è ultimo con una percentuale vicina al 5%. Questi dati sono in linea con l’attività dei profili dei sindacati su Twitter; infatti, @CislNazionale è in testa con più di 100.000 tweets prodotti, @cgilnazionale segue a quota 50.000 e ,@UILofficial ne ha prodotti circa 12.000. Osservando invece le dimensioni dei profili, il primo è @cgilnazionale con più di 80.000 followers, seguito da @CislNazionale a 30.600 e @UILofficial a 12.500.                                                                                                                   "
      ],
      "metadata": {
        "id": "gLZ6A4XEtF8U"
      }
    },
    {
      "cell_type": "code",
      "source": [
        "#@title \n",
        "sns.displot(data,x=\"sigla\",stat=\"percent\",hue=\"sigla\",palette=['r','g','b'])\n",
        "plt.title('DISTRIBUZIONE DEI TWEET RACCOLTI IN BASE ALLA SIGLA CITATA')\n",
        "print()\n"
      ],
      "metadata": {
        "colab": {
          "base_uri": "https://localhost:8080/",
          "height": 403
        },
        "outputId": "96e368d0-91e6-4424-9c8a-be90bedaa7b8",
        "id": "m0FHVAFNuJ8f"
      },
      "execution_count": null,
      "outputs": [
        {
          "output_type": "stream",
          "name": "stdout",
          "text": [
            "\n"
          ]
        },
        {
          "output_type": "display_data",
          "data": {
            "text/plain": [
              "<Figure size 419x360 with 1 Axes>"
            ],
            "image/png": "[encoded data removed]"
          },
          "metadata": {
            "needs_background": "light"
          }
        }
      ]
    },
    {
      "cell_type": "markdown",
      "source": [
        " Successivamente, attraverso apposite funzioni, è stata creata una variabile denominata “cleaned text”, contenete il testo dei tweet pre-processato. La pulizia del testo dei tweet è servita per l’utilizzo di \"FEEL-IT: Emotion and Sentiment Classification for the Italian Language\", modello pubblicato dall’Association for Computational Linguistics nel 2021. Tramite questo modello è stato possibile produrre due variabili: la variabile “sentiment”, indicante il sentimento espresso dal tweet, diviso in “positive” o “negative”; la variabile “emotion”, indicante l’emozione espressa dal tweet, divisa in “anger”,”fear”,”sadness”,”joy”.\n",
        "Una volta ottenuti questi dati, è stata svolta un’analisi generale. Tramite un grafico a barre si è osservato che la distribuzione dei sentimenti è composta come segue: circa il 70% dei tweet è associato al valore “negative”, mentre solo il 30% ha valore “positive”. Lo stesso quadro si palesa anche osservando la distribuzione delle emozioni: considerando “joy” come emozione positiva e aggregando le altre tre come negative si ritrova una percentuale molto simile a quella del precedente grafico. Si può quindi affermare che quando si producono tweet citando un sindacato, la  tendenza sia quella di produrre tweet negativi. I motivi possono essere molteplici: insoddisfazione riguardo all’operato del sindacato, insoddisfazione legata a fattori esterni al sindacato o che lo riguardano indirettamente, oppure, questa tendenza potrebbe derivare dal tono con cui ci si esprime su Twitter. \n"
      ],
      "metadata": {
        "id": "kYhi4PL3f7yW"
      }
    }
  ]
}